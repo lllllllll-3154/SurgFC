{
 "cells": [
  {
   "cell_type": "code",
   "execution_count": 1,
   "metadata": {},
   "outputs": [],
   "source": [
    "import json \n",
    "import os\n",
    "import numpy as np\n",
    "import pandas as pd\n"
   ]
  },
  {
   "cell_type": "code",
   "execution_count": 16,
   "metadata": {},
   "outputs": [],
   "source": [
    "prompt = \"\"\"\n",
    "## Character\n",
    "You are a surgical AI visual assistant, and you are seeing an endoscopic {image_video} from a {surgery_type} {image_video}. \n",
    "## Tool description\n",
    "The tool you have is a \"{tool_name}\" tool. {tool_description}\n",
    "## Tool return value\n",
    "After you call the function, you will have an answer like this\n",
    "\n",
    "    ```json\n",
    "\t{tool_return_value}\n",
    "    ```\n",
    "## Task\n",
    "Based on the information, your task is to generate one question and answer by calling a function of the external expert model and answer the question using the information given back from the function in the following example's format, no other content is needed. \n",
    "\n",
    "### Few Examples\n",
    "    Example 1: {example_1}\n",
    "   \tExample 2: {example_2}\n",
    "    Example 3: {example_3}\n",
    "## Constraints\n",
    "    - You can ask questions with diversity.\n",
    "    - The only information you have is the tool return value, please generate the question only based on this value.\n",
    "    -Remember, all the questions can be clearly answered based on the given information. \n",
    "    - Please strictly follow the dictionary format in the example.\n",
    "\n",
    "\"\"\""
   ]
  },
  {
   "cell_type": "code",
   "execution_count": 17,
   "metadata": {},
   "outputs": [],
   "source": [
    "example_1 = {\n",
    "    \"question\": \"Can you identify the instruments being used in the surgery and describe their actions?\",\n",
    "    \"model_output\": \"[{'instrument':'rongeur','action':'manipulate','tissue':'packing material'},{'instrument':'suction tube','action':'manipulate','tissue':'packing material'}]\",\n",
    "    \"thoughts\": \"The utilization of triplet detect model could be highly beneficial, the tool helps in understanding the specific roles and actions of these instruments during the procedure.\",\n",
    "    \"answer\": \"Certainly! There are two instruments identified in the surgical procedure:\\n1. A 'rongeur' is being used to manipulate the packing material. This instrument is typically used for grasping, pulling, and removing bone and tissue.\\n2. A 'suction tube' is also used to manipulate the packing material, likely assisting in keeping the operative field clear by removing excess fluids or small debris.\\nBoth instruments play crucial roles in ensuring the surgery is performed efficiently and safely.\"\n",
    "}\n",
    "\n",
    "example_2 = {\n",
    "    \"question\": \"Can you identify the surgical instruments being used in the video and describe their actions?\",\n",
    "    \"model_output\": \"[{'instrument':'monopolar electrode','action':'manipulate','tissue':'tissue'},{'instrument':'rongeur','action':'manipulate','tissue':'tissue'}]\",\n",
    "    \"thoughts\": \"Leveraging an triplet detect model to recognize the target object could be beneficial. The trplet detect tool states the instrument and its action, which should provide a direct answer to the question regarding the surgical procedure.\",\n",
    "    \"answer\": \"Certainly! In the video, two different surgical instruments are being utilized:\\n- A 'monopolar electrode' is being used to manipulate tissue. This tool is typically employed for precise tissue dissection and cauterization, aiding in minimizing bleeding and ensuring clean surgical fields.\\n- A 'rongeur' is also being used to manipulate tissue. Rongeurs are strong, plier-like instruments used in neurosurgery for removing bone and tough tissue, often essential in accessing deeper structures during surgeries like pituitary adenoma resection.\"\n",
    "}\n",
    "\n",
    "example_3 = {\n",
    "    \"question\": \"What surgical instrument is being used to manipulate blood in the endoscopic video of the transsphenoidal pituitary adenoma resection surgery?\",\n",
    "    \"model_output\": \"[{'instrument':'suction tube','action':'manipulate','target':'blood'}]\",\n",
    "    \"thoughts\": \"Harnessing an triplet detect model to detect the existence of the target object would be of great advantage.\",\n",
    "    \"answer\": \"A suction tube is being used to manipulate blood during the transsphenoidal pituitary adenoma resection surgery. The suction tube helps in clearing the surgical field by removing excess blood, thus providing better visibility and precision for the surgical procedure.\"\n",
    "}"
   ]
  },
  {
   "cell_type": "code",
   "execution_count": 18,
   "metadata": {},
   "outputs": [],
   "source": [
    "info_dict = {\n",
    "    \"image_video\":\"video\",\n",
    "    \"surgery_type\":\"transsphenoidal pituitary adenoma\",\n",
    "    \"tool_name\":\"triplet_detect\",\n",
    "    \"tool_description\":\"The triplet detect tool will return a triplet list containing several dictionaries, each dictionary illustrates a triplet (surgical instrument, verb, target)\",\n",
    "    \"tool_return_value\":[{\"instrument\":\"suction tube\",\"action\":\"manipulate\",\"suction\":\"blood\",}],\n",
    "    \"example_1\":example_1,\n",
    "    \"example_2\":example_2,\n",
    "    \"example_3\":example_3,\n",
    "}"
   ]
  },
  {
   "cell_type": "code",
   "execution_count": 19,
   "metadata": {},
   "outputs": [],
   "source": [
    "def extract_triplets(data_dict):\n",
    "    # 初始化结果列表\n",
    "    triplets = []\n",
    "    \n",
    "    # 遍历可能的索引，这里假设最多有4组\n",
    "    for i in range(1, 5):\n",
    "        # 构建键名\n",
    "        tool_key = f'tool_{i}'\n",
    "        action_key = f'action_{i}'\n",
    "        tissue_key = f'tissue_{i}'\n",
    "        \n",
    "        # 检查这些键是否在字典中且不为NaN\n",
    "        if tool_key in data_dict and data_dict[tool_key] != 'NaN' and data_dict[tool_key] is not None and not pd.isnull(data_dict[tool_key]):\n",
    "            tool = data_dict[tool_key]\n",
    "        else:\n",
    "            tool = None\n",
    "        \n",
    "        if action_key in data_dict and data_dict[action_key] != 'NaN' and data_dict[action_key] is not None and not pd.isnull(data_dict[tool_key]):\n",
    "            action = data_dict[action_key]\n",
    "        else:\n",
    "            action = None\n",
    "        \n",
    "        if tissue_key in data_dict and data_dict[tissue_key] != 'NaN' and data_dict[tissue_key] is not None and not pd.isnull(data_dict[tool_key]):\n",
    "            tissue = data_dict[tissue_key]\n",
    "        else:\n",
    "            tissue = None\n",
    "\n",
    "        # 如果三个都非None，则加入到结果列表中\n",
    "        if tool and action and tissue:\n",
    "            triplets.append((tool, action, tissue))\n",
    "\n",
    "    return triplets"
   ]
  },
  {
   "cell_type": "code",
   "execution_count": 9,
   "metadata": {},
   "outputs": [],
   "source": [
    "dir_path = \"/mnt/xingjian_luo/dataset/surgFC/dataset/triplet/annotation-upload\"\n",
    "file_path = os.listdir(dir_path)\n",
    "total_list = []\n",
    "for i in file_path:\n",
    "    path = os.path.join(dir_path,i)\n",
    "    annotation = pd.read_csv(path,sep=\";\")\n",
    "    for j in range(len(annotation)):\n",
    "        temp_dict = {}\n",
    "        record = annotation.iloc[j]\n",
    "        if record[\"folder\"] is not np.nan:\n",
    "            video_path = os.path.join(str(record[\"folder\"]),str(record[\"filename\"]))\n",
    "            temp_dict[\"video_path\"] = video_path\n",
    "            triplet = extract_triplets(record)\n",
    "            temp_dict[\"triplet\"] = triplet\n",
    "            total_list.append(temp_dict)\n",
    "            \n",
    "\n"
   ]
  },
  {
   "cell_type": "code",
   "execution_count": 13,
   "metadata": {},
   "outputs": [],
   "source": [
    "with open(\"/mnt/xingjian_luo/dataset/surgFC/dataset/triplet/annotation.json\",\"w\") as f:\n",
    "    f.write(json.dumps(total_list,indent=2))"
   ]
  },
  {
   "cell_type": "code",
   "execution_count": 14,
   "metadata": {},
   "outputs": [],
   "source": [
    "import argparse\n",
    "import json\n",
    "import os\n",
    "\n",
    "import openai\n",
    "import time\n",
    "\n",
    "NUM_SECONDS_TO_SLEEP = 0.5\n",
    "import os\n",
    "from openai import OpenAI\n",
    "from tqdm import tqdm\n",
    "\n",
    "client = OpenAI(api_key=\"sk-WVJp2orFuuvPTf5P5dD936B1De78421b9eEa2c99D70b8a06\", \n",
    "                base_url=\"https://vip.yi-zhan.top/v1\")\n",
    "\n",
    "\n",
    "def get_result(prompt):\n",
    "    response = client.chat.completions.create(\n",
    "        model=\"gpt-4o\",\n",
    "        messages=[\n",
    "            {\"role\": \"system\", \"content\": \"You are a helpful assistant\"},\n",
    "            {\"role\": \"user\", \"content\": prompt},\n",
    "        ],\n",
    "        stream=False,\n",
    "        temperature=0.01\n",
    "    )\n",
    "    return response.choices[0].message.content\n",
    "    "
   ]
  },
  {
   "cell_type": "code",
   "execution_count": null,
   "metadata": {},
   "outputs": [],
   "source": [
    "info_dict = {\n",
    "    \"image_video\":\"video\",\n",
    "    \"surgery_type\":\"transsphenoidal pituitary adenoma\",\n",
    "    \"tool_name\":\"triplet_detect\",\n",
    "    \"tool_description\":\"The triplet detect tool will return a triplet list containing several dictionaries, each dictionary illustrates a triplet (surgical instrument, verb, target)\",\n",
    "    \"tool_return_value\":[{\"instrument\":\"suction tube\",\"action\":\"manipulate\",\"suction\":\"blood\",}],\n",
    "    \"example_1\":example_1,\n",
    "    \"example_2\":example_2,\n",
    "    \"example_3\":example_3,\n",
    "}"
   ]
  },
  {
   "cell_type": "code",
   "execution_count": 22,
   "metadata": {},
   "outputs": [],
   "source": [
    "selected = total_list[:5000]"
   ]
  },
  {
   "cell_type": "code",
   "execution_count": 20,
   "metadata": {},
   "outputs": [
    {
     "name": "stdout",
     "output_type": "stream",
     "text": [
      "```json\n",
      "{'question': 'What surgical instrument is being used to manipulate tissue in the endoscopic video from the transsphenoidal pituitary adenoma surgery?', 'model_output': \"[{'instrument':'suction tube','action':'manipulate','tissue':'tissue'}]\", 'thoughts': 'Utilizing the triplet detect model enables clear identification of which instrument is used and how, in the surgery.', 'answer': \"A suction tube is being used to manipulate tissue during the transsphenoidal pituitary adenoma surgery. Suction tubes are essential in such procedures to remove fluids and small debris, thus clearing the view and allowing precise manipulation of tissue.\"}\n",
      "```\n"
     ]
    }
   ],
   "source": [
    "answer_list = []\n",
    "for i in tqdm(selected):\n",
    "    info_dict[\"tool_return_value\"] = i[\"triplet\"]\n",
    "    result = get_result(prompt.format(**info_dict))\n",
    "    temp_dict = {}\n",
    "    temp_dict[\"video_path\"] = i[\"video_path\"]\n",
    "    temp_dict[\"triplet\"] = i[\"triplet\"]\n",
    "    temp_dict[\"result\"] = result\n",
    "    answer_list.append(temp_dict)\n",
    "    "
   ]
  },
  {
   "cell_type": "code",
   "execution_count": 23,
   "metadata": {},
   "outputs": [
    {
     "data": {
      "text/plain": [
       "{'video_path': '2020-10-17_092038/2020-10-17_092038_VID001_60_90.mp4',\n",
       " 'triplet': [('suction tube', 'manipulate', 'tissue')]}"
      ]
     },
     "execution_count": 23,
     "metadata": {},
     "output_type": "execute_result"
    }
   ],
   "source": [
    "i"
   ]
  },
  {
   "cell_type": "code",
   "execution_count": null,
   "metadata": {},
   "outputs": [],
   "source": []
  },
  {
   "cell_type": "code",
   "execution_count": null,
   "metadata": {},
   "outputs": [],
   "source": []
  }
 ],
 "metadata": {
  "kernelspec": {
   "display_name": "surgfc",
   "language": "python",
   "name": "python3"
  },
  "language_info": {
   "codemirror_mode": {
    "name": "ipython",
    "version": 3
   },
   "file_extension": ".py",
   "mimetype": "text/x-python",
   "name": "python",
   "nbconvert_exporter": "python",
   "pygments_lexer": "ipython3",
   "version": "3.10.14"
  }
 },
 "nbformat": 4,
 "nbformat_minor": 2
}
