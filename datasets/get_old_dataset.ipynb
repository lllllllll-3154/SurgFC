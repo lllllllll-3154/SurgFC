{
 "cells": [
  {
   "cell_type": "code",
   "execution_count": 2,
   "metadata": {},
   "outputs": [],
   "source": [
    "# import json \n",
    "# with open(\"/mnt/xingjian_luo/dataset/llava_plus_dataset/json_dataset_modified/tool_origin_20000.json\",\"r\") as f:\n",
    "#     dataset = json.load(f)\n",
    "\n",
    "# with open(\"/mnt/xingjian_luo/dataset/datasets--LLaVA-VL--llava-plus-data/tool_70k_coco.json\",\"r\") as f:\n",
    "#     dataset = json.load(f)\n",
    "# use_tool_thoughts_list = []\n",
    "# for i in dataset:\n",
    "#     if len(i[\"conversations\"][1][\"actions\"])>0:\n",
    "#         use_tool_thoughts = i[\"conversations\"][1][\"thoughts\"]\n",
    "#         use_tool_thoughts_list.append(use_tool_thoughts)\n",
    "\n",
    "# with open(\"use_tools_thought_list.json\",\"w\") as f:\n",
    "#     f.write(json.dumps(use_tool_thoughts_list,indent=2))\n",
    "# len(use_tool_thoughts_list)\n"
   ]
  },
  {
   "cell_type": "code",
   "execution_count": 33,
   "metadata": {},
   "outputs": [],
   "source": [
    "import os\n",
    "import json\n",
    "import numpy as np\n"
   ]
  },
  {
   "cell_type": "code",
   "execution_count": 43,
   "metadata": {},
   "outputs": [],
   "source": [
    "files = os.listdir(\"/mnt/xingjian_luo/dataset/CholecT50/videos\")\n",
    "np.random.seed(42)\n",
    "np.random.shuffle(files)\n",
    "train_len = int(0.8*len(files))\n",
    "\n",
    "train_split = files[0:train_len]\n",
    "test_split = files[train_len:]"
   ]
  },
  {
   "cell_type": "code",
   "execution_count": 44,
   "metadata": {},
   "outputs": [
    {
     "data": {
      "text/plain": [
       "['VID23',\n",
       " 'VID56',\n",
       " 'VID12',\n",
       " 'VID13',\n",
       " 'VID52',\n",
       " 'VID25',\n",
       " 'VID103',\n",
       " 'VID66',\n",
       " 'VID35',\n",
       " 'VID74']"
      ]
     },
     "execution_count": 44,
     "metadata": {},
     "output_type": "execute_result"
    }
   ],
   "source": [
    "test_split"
   ]
  },
  {
   "cell_type": "code",
   "execution_count": 20,
   "metadata": {},
   "outputs": [],
   "source": [
    "with open(\"/mnt/xingjian_luo/dataset/llava_plus_dataset/json_dataset_modified/detect_segment_01.json\",\"r\") as f:\n",
    "    anno_1 = json.load(f)\n",
    "\n",
    "with open(\"/mnt/xingjian_luo/dataset/llava_plus_dataset/json_dataset_modified/detect_segment_02.json\",\"r\") as f:\n",
    "    anno_2 = json.load(f)"
   ]
  },
  {
   "cell_type": "code",
   "execution_count": 21,
   "metadata": {},
   "outputs": [],
   "source": [
    "ano_seg = []\n",
    "ano_det = []\n",
    "\n",
    "for i in anno_1:\n",
    "    if i[\"conversations\"][1][\"actions\"][0][\"API_name\"] == \"detect_model\":\n",
    "        ano_det.append(i)\n",
    "    else:\n",
    "        ano_seg.append(i)\n",
    "\n",
    "for i in anno_2:\n",
    "    if i[\"conversations\"][1][\"actions\"][0][\"API_name\"] == \"detect_model\":\n",
    "        ano_det.append(i)\n",
    "    else:\n",
    "        ano_seg.append(i)"
   ]
  },
  {
   "cell_type": "code",
   "execution_count": 28,
   "metadata": {},
   "outputs": [],
   "source": [
    "with open(\"/mnt/xingjian_luo/dataset/surgFC/dataset/ano_seg/ano_seg.json\",\"w\") as f:\n",
    "    f.write(json.dumps(ano_seg,indent=2))\n",
    "with open(\"/mnt/xingjian_luo/dataset/surgFC/dataset/ano_det/ano_det.json\",\"w\") as f:\n",
    "    f.write(json.dumps(ano_det,indent=2))    "
   ]
  },
  {
   "cell_type": "code",
   "execution_count": null,
   "metadata": {},
   "outputs": [],
   "source": []
  },
  {
   "cell_type": "code",
   "execution_count": null,
   "metadata": {},
   "outputs": [],
   "source": []
  },
  {
   "cell_type": "code",
   "execution_count": null,
   "metadata": {},
   "outputs": [],
   "source": []
  },
  {
   "cell_type": "code",
   "execution_count": null,
   "metadata": {},
   "outputs": [],
   "source": []
  },
  {
   "cell_type": "code",
   "execution_count": null,
   "metadata": {},
   "outputs": [],
   "source": []
  },
  {
   "cell_type": "code",
   "execution_count": null,
   "metadata": {},
   "outputs": [],
   "source": []
  },
  {
   "cell_type": "code",
   "execution_count": null,
   "metadata": {},
   "outputs": [],
   "source": []
  },
  {
   "cell_type": "code",
   "execution_count": 9,
   "metadata": {},
   "outputs": [
    {
     "data": {
      "text/plain": [
       "126"
      ]
     },
     "execution_count": 9,
     "metadata": {},
     "output_type": "execute_result"
    }
   ],
   "source": [
    "import os\n",
    "\n",
    "len(os.listdir(\"/mnt/xingjian_luo/dataset/coco_xiehe_segment/labels/val\"))"
   ]
  },
  {
   "cell_type": "code",
   "execution_count": 5,
   "metadata": {},
   "outputs": [],
   "source": [
    "import os\n",
    "import json\n",
    "import time\n",
    "from tqdm import tqdm\n",
    "import fire\n",
    "\n",
    "from openai import OpenAI\n",
    "\n",
    "import concurrent.futures\n",
    "import random\n",
    "import json\n",
    "import time\n",
    "from collections import Counter\n",
    "from functools import partial\n",
    "\n",
    "from pycocotools.coco import COCO\n",
    "\n",
    "import requests\n",
    "from PIL import Image\n",
    "import base64\n",
    "import json\n",
    "import time\n",
    "from io import BytesIO\n",
    "\n",
    "import torchvision.transforms.functional as F\n",
    "\n",
    "client = OpenAI(api_key=\"sk-sqilImjoPeMWLosGC7EbB5Dc215d4320BbDa49C59f73Eb85\", \n",
    "                base_url=\"https://vip.yi-zhan.top/v1\")"
   ]
  },
  {
   "cell_type": "code",
   "execution_count": null,
   "metadata": {},
   "outputs": [],
   "source": []
  },
  {
   "cell_type": "code",
   "execution_count": 7,
   "metadata": {},
   "outputs": [],
   "source": [
    "def ask_gpt(prompt):\n",
    "    response = client.chat.completions.create(\n",
    "        model=\"gpt-4o\",\n",
    "        messages=[\n",
    "            {\"role\": \"system\", \"content\": \"You are a helpful assistant\"},\n",
    "            {\"role\": \"user\", \"content\": prompt},\n",
    "        ],\n",
    "        stream=False,\n",
    "        temperature=1.25\n",
    "    )\n",
    "    return response.choices[0].message.content"
   ]
  },
  {
   "cell_type": "code",
   "execution_count": null,
   "metadata": {},
   "outputs": [],
   "source": [
    "def generate_worker(captions_strs, objects_strs, examples, sample, image_dir):\n",
    "    # 1. captions_strs + objects_strs -> questions\n",
    "    # 2. questions -> grounding dino input\n",
    "    # 3. grounding dino input -> grounding dino output\n",
    "    # 4. captions_strs + objects_strs + questions + grounding dino output -> answer\n",
    "\n",
    "    # 1. captions_strs + objects_strs -> questions\n",
    "    messages = [\n",
    "        {'role': 'system', 'content': \"\"\"You are an AI visual assistant that can analyze a single image. You receive five sentences, each describing the same image you are observing. In addition, specific object locations within the image are given, along with detailed coordinates. These coordinates are in the form of bounding boxes, represented as (x1, y1, x2, y2) with floating numbers ranging from 0 to 1. These values correspond to the top left x, top left y, bottom right x, and bottom right y.\n",
    "Generate a question that users may be interested to ask about the image. The question should ask the AI to detect some objects in the image. The question should be answerable by the given sentences and the given object locations.\n",
    "The question should ask the AI to detect some objects in the image.\"\"\"},\n",
    "    {\"role\": \"user\", \"content\": examples[0]['captions']+'\\n'+examples[0]['objects']},\n",
    "    {\"role\": \"assistant\", \"content\": examples[0]['question']},\n",
    "    {\"role\": \"user\", \"content\": examples[1]['captions']+'\\n'+examples[1]['objects']},\n",
    "    {\"role\": \"assistant\", \"content\": examples[1]['question']},\n",
    "    {\"role\": \"user\", \"content\": captions_strs + '\\n' + objects_strs}\n",
    "    ]\n",
    "    question = ask_gpt(messages, temperature=0.9, top_p=0.95)\n",
    "    if question is None:\n",
    "        print(\"question is None, return None\")\n",
    "        return None\n",
    "\n",
    "    # 2. questions -> grounding dino input\n",
    "    messages = [\n",
    "        {'role': 'system', 'content': \"\"\"You are an AI visual assistant that can help to extract information from an a sentence. \n",
    "You will be given a question about detecting something in an image. Please extract the main object name from the question. Using '.' to concat multiple object names.\"\"\"},\n",
    "    {\"role\": \"user\", \"content\": examples[0]['question']},\n",
    "    {\"role\": \"assistant\", \"content\": examples[0]['grounding_dino_input']},\n",
    "    {\"role\": \"user\", \"content\": examples[1]['question']},\n",
    "    {\"role\": \"assistant\", \"content\": examples[1]['grounding_dino_input']},\n",
    "    {\"role\": \"user\", \"content\": \"Please detect the green car in the image.\"},\n",
    "    {\"role\": \"assistant\", \"content\": \"green car\"},\n",
    "    {\"role\": \"user\", \"content\": question}\n",
    "    ]\n",
    "    grounding_dino_input = ask_gpt(messages, temperature=0.9, top_p=0.95)\n",
    "    if grounding_dino_input is None:\n",
    "        print(\"grounding_dino_input is None, return None\")\n",
    "        return None\n",
    "\n",
    "    # 3. grounding dino input -> grounding dino output\n",
    "    # get grounding dino output\n",
    "    \n",
    "    worker_addr = get_worker_addr(controller_address, model_name)\n",
    "    headers = {\"User-Agent\": \"GSAM Client\"}\n",
    "    # img_path = os.path.join(args.image_dir, image['image_id'])\n",
    "    img_path = os.path.join(image_dir, sample['file_name'])\n",
    "    img = load_image(img_path)\n",
    "    img_arg = encode(img)\n",
    "    ret = requests.post(\n",
    "            worker_addr + \"/worker_generate\",\n",
    "            json={\n",
    "                \"image\": img_arg,\n",
    "                \"caption\": grounding_dino_input,\n",
    "                \"box_threshold\": 0.3,\n",
    "                \"text_threshold\": 0.25,\n",
    "            },\n",
    "            headers=headers,\n",
    "        ).json()\n",
    "    if os.getenv('DEBUG_PRINT'):\n",
    "        print(ret)\n",
    "    ret.pop(\"size\")\n",
    "    grounding_dino_output = ret\n",
    "\n",
    "    # 4. captions_strs + objects_strs + questions + grounding dino output -> answer\n",
    "    q_temp = \"caption: {cap}\\ngrounding dino input: {gdin}\\ngrounding dino output: {gdout}\\nquestion: {q}\\n\"\n",
    "    messages = [\n",
    "        {'role': 'system', 'content': \"\"\"You are an AI visual assistant that can analyze a single image. \n",
    "You receive five sentences, each describing the same image you are observing. \n",
    "Then you receive the output of the grounding dino model, with its corresponding input of grounding dino. The output is a list of objects detected in the image, with their corresponding bounding boxes. These coordinates are in the form of bounding boxes, represented as (x1, y1, x2, y2) with floating numbers ranging from 0 to 1. These values correspond to the top left x, top left y, bottom right x, and bottom right y.\n",
    "Then you receive the question asked by the user. \n",
    "Answer the question based on the given information with your best. \n",
    "Do not reveal the input information of the image. DO NOT say that you are given the captions and the objects in the image, JUST answer the question as if you are seeing the image for the first time.\"\"\"},\n",
    "        {'role': 'user', 'content': q_temp.format(cap=examples[0]['captions'], gdin=examples[0]['grounding_dino_input'], gdout=examples[0]['grounding_dino_output'], q=examples[0]['question'])},\n",
    "        {'role': 'assistant', 'content': examples[0]['answer']},\n",
    "        {'role': 'user', 'content': q_temp.format(cap=examples[1]['captions'], gdin=examples[1]['grounding_dino_input'], gdout=examples[1]['grounding_dino_output'], q=examples[1]['question'])},\n",
    "        {'role': 'assistant', 'content': examples[1]['answer']},\n",
    "        {'role': 'user', 'content': q_temp.format(cap=captions_strs, gdin=grounding_dino_input, gdout=grounding_dino_output, q=question)},\n",
    "    ]\n",
    "    answer = ask_gpt(messages, temperature=0.9, top_p=0.95)\n",
    "    if answer is None:\n",
    "        print(\"answer is None, return None\")\n",
    "        return None\n",
    "\n",
    "    # return\n",
    "    return {\n",
    "        \"unique_id\": str(time.time()) + '_' + str(sample['id']),\n",
    "        \"image_id\": sample['id'],\n",
    "        \"image_file_name\": sample['file_name'],\n",
    "        \"image_path\": os.path.join(image_dir, sample['file_name']),\n",
    "        \"captions\": captions_strs,\n",
    "        \"objects\": objects_strs,\n",
    "        \"question\": question,\n",
    "        \"grounding_dino_input\": grounding_dino_input,\n",
    "        \"grounding_dino_output\": grounding_dino_output,\n",
    "        \"answer\": answer,\n",
    "    }\n",
    "\n"
   ]
  },
  {
   "cell_type": "code",
   "execution_count": null,
   "metadata": {},
   "outputs": [],
   "source": []
  },
  {
   "cell_type": "code",
   "execution_count": null,
   "metadata": {},
   "outputs": [],
   "source": []
  },
  {
   "cell_type": "code",
   "execution_count": null,
   "metadata": {},
   "outputs": [],
   "source": []
  },
  {
   "cell_type": "code",
   "execution_count": null,
   "metadata": {},
   "outputs": [],
   "source": []
  }
 ],
 "metadata": {
  "kernelspec": {
   "display_name": "surgfc",
   "language": "python",
   "name": "python3"
  },
  "language_info": {
   "codemirror_mode": {
    "name": "ipython",
    "version": 3
   },
   "file_extension": ".py",
   "mimetype": "text/x-python",
   "name": "python",
   "nbconvert_exporter": "python",
   "pygments_lexer": "ipython3",
   "version": "3.10.14"
  }
 },
 "nbformat": 4,
 "nbformat_minor": 2
}
