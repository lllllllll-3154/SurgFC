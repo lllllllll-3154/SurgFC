{
 "cells": [
  {
   "cell_type": "code",
   "execution_count": 73,
   "metadata": {},
   "outputs": [],
   "source": [
    "import pandas as pd\n",
    "import numpy as np\n",
    "import json\n",
    "import os\n",
    "import time\n",
    "import openai\n",
    "from tqdm import tqdm\n"
   ]
  },
  {
   "cell_type": "code",
   "execution_count": 6,
   "metadata": {},
   "outputs": [],
   "source": [
    "openai.api_key='1f6c65a6a30b4a60ae2c377ba944d3a8'\n",
    "openai.api_base='https://cairllm2.openai.azure.com/'\n",
    "openai.api_type='azure'\n",
    "openai.api_version='2023-07-01-preview'\n",
    "#openai.azure_endpoint = \"https://operationllm.openai.azure.com/\"\n",
    "engine=\"gpt-4\"\n",
    "azure_endpoint = \"https://operationllm.openai.azure.com/\""
   ]
  },
  {
   "cell_type": "code",
   "execution_count": 7,
   "metadata": {},
   "outputs": [],
   "source": [
    "anno_dir = \"/home/lxj/dataset/Wales_anno_4604/annotation-upload\"\n",
    "anno_files = os.listdir(anno_dir)\n",
    "flag = True\n",
    "for file in anno_files:\n",
    "    file_path = os.path.join(anno_dir,file)\n",
    "    csv_file = pd.read_csv(file_path,sep=\";\")\n",
    "    if flag:\n",
    "        dataset = csv_file\n",
    "        flag=False\n",
    "    else:\n",
    "        dataset = pd.concat([dataset,csv_file])\n",
    "dataset = dataset.dropna(axis=0,how=\"all\")\n",
    "dataset = dataset.dropna(axis=1,how=\"all\")\n",
    "dataset = dataset[['video', 'folder', 'filename', 'stage', 'tool-1', 'action-1',\n",
    "       'tissue-1', 'tool-2', 'action-2', 'tissue-2', 'tool-3', 'action-3',\n",
    "       'tissue-3', 'tool-4', 'action-4', 'tissue-4' ]]"
   ]
  },
  {
   "cell_type": "code",
   "execution_count": 36,
   "metadata": {},
   "outputs": [
    {
     "data": {
      "text/html": [
       "<div>\n",
       "<style scoped>\n",
       "    .dataframe tbody tr th:only-of-type {\n",
       "        vertical-align: middle;\n",
       "    }\n",
       "\n",
       "    .dataframe tbody tr th {\n",
       "        vertical-align: top;\n",
       "    }\n",
       "\n",
       "    .dataframe thead th {\n",
       "        text-align: right;\n",
       "    }\n",
       "</style>\n",
       "<table border=\"1\" class=\"dataframe\">\n",
       "  <thead>\n",
       "    <tr style=\"text-align: right;\">\n",
       "      <th></th>\n",
       "      <th>video</th>\n",
       "      <th>folder</th>\n",
       "      <th>filename</th>\n",
       "      <th>stage</th>\n",
       "      <th>tool-1</th>\n",
       "      <th>action-1</th>\n",
       "      <th>tissue-1</th>\n",
       "      <th>tool-2</th>\n",
       "      <th>action-2</th>\n",
       "      <th>tissue-2</th>\n",
       "      <th>tool-3</th>\n",
       "      <th>action-3</th>\n",
       "      <th>tissue-3</th>\n",
       "      <th>tool-4</th>\n",
       "      <th>action-4</th>\n",
       "      <th>tissue-4</th>\n",
       "      <th>unique_id_1</th>\n",
       "      <th>unique_id_2</th>\n",
       "    </tr>\n",
       "  </thead>\n",
       "  <tbody>\n",
       "    <tr>\n",
       "      <th>0</th>\n",
       "      <td>87.0</td>\n",
       "      <td>2021-03-13_100428</td>\n",
       "      <td>2021-03-13_100428_VID001_0_30.mp4</td>\n",
       "      <td>L</td>\n",
       "      <td>suction tube</td>\n",
       "      <td>manipulate</td>\n",
       "      <td>packing material</td>\n",
       "      <td>NaN</td>\n",
       "      <td>NaN</td>\n",
       "      <td>NaN</td>\n",
       "      <td>NaN</td>\n",
       "      <td>NaN</td>\n",
       "      <td>NaN</td>\n",
       "      <td>NaN</td>\n",
       "      <td>NaN</td>\n",
       "      <td>NaN</td>\n",
       "      <td>2021-03-13_1004282021-03-13_100428_VID001_0_30</td>\n",
       "      <td>2021-03-13_100428_VID001_0_30</td>\n",
       "    </tr>\n",
       "    <tr>\n",
       "      <th>1</th>\n",
       "      <td>87.0</td>\n",
       "      <td>2021-03-13_100428</td>\n",
       "      <td>2021-03-13_100428_VID001_30_60.mp4</td>\n",
       "      <td>L</td>\n",
       "      <td>suction tube</td>\n",
       "      <td>manipulate</td>\n",
       "      <td>packing material</td>\n",
       "      <td>NaN</td>\n",
       "      <td>NaN</td>\n",
       "      <td>NaN</td>\n",
       "      <td>NaN</td>\n",
       "      <td>NaN</td>\n",
       "      <td>NaN</td>\n",
       "      <td>NaN</td>\n",
       "      <td>NaN</td>\n",
       "      <td>NaN</td>\n",
       "      <td>2021-03-13_1004282021-03-13_100428_VID001_30_60</td>\n",
       "      <td>2021-03-13_100428_VID001_30_60</td>\n",
       "    </tr>\n",
       "    <tr>\n",
       "      <th>2</th>\n",
       "      <td>87.0</td>\n",
       "      <td>2021-03-13_100428</td>\n",
       "      <td>2021-03-13_100428_VID001_60_90.mp4</td>\n",
       "      <td>-1</td>\n",
       "      <td>suction tube</td>\n",
       "      <td>manipulate</td>\n",
       "      <td>tissue</td>\n",
       "      <td>freer</td>\n",
       "      <td>manipulate</td>\n",
       "      <td>tissue</td>\n",
       "      <td>NaN</td>\n",
       "      <td>NaN</td>\n",
       "      <td>NaN</td>\n",
       "      <td>NaN</td>\n",
       "      <td>NaN</td>\n",
       "      <td>NaN</td>\n",
       "      <td>2021-03-13_1004282021-03-13_100428_VID001_60_90</td>\n",
       "      <td>2021-03-13_100428_VID001_60_90</td>\n",
       "    </tr>\n",
       "    <tr>\n",
       "      <th>3</th>\n",
       "      <td>87.0</td>\n",
       "      <td>2021-03-13_100428</td>\n",
       "      <td>2021-03-13_100428_VID001_120_150.mp4</td>\n",
       "      <td>L</td>\n",
       "      <td>freer</td>\n",
       "      <td>manipulate</td>\n",
       "      <td>tissue</td>\n",
       "      <td>NaN</td>\n",
       "      <td>NaN</td>\n",
       "      <td>NaN</td>\n",
       "      <td>NaN</td>\n",
       "      <td>NaN</td>\n",
       "      <td>NaN</td>\n",
       "      <td>NaN</td>\n",
       "      <td>NaN</td>\n",
       "      <td>NaN</td>\n",
       "      <td>2021-03-13_1004282021-03-13_100428_VID001_120_150</td>\n",
       "      <td>2021-03-13_100428_VID001_120_150</td>\n",
       "    </tr>\n",
       "    <tr>\n",
       "      <th>4</th>\n",
       "      <td>87.0</td>\n",
       "      <td>2021-03-13_100428</td>\n",
       "      <td>2021-03-13_100428_VID001_180_210.mp4</td>\n",
       "      <td>L</td>\n",
       "      <td>suction tube</td>\n",
       "      <td>manipulate</td>\n",
       "      <td>packing material</td>\n",
       "      <td>NaN</td>\n",
       "      <td>NaN</td>\n",
       "      <td>NaN</td>\n",
       "      <td>NaN</td>\n",
       "      <td>NaN</td>\n",
       "      <td>NaN</td>\n",
       "      <td>NaN</td>\n",
       "      <td>NaN</td>\n",
       "      <td>NaN</td>\n",
       "      <td>2021-03-13_1004282021-03-13_100428_VID001_180_210</td>\n",
       "      <td>2021-03-13_100428_VID001_180_210</td>\n",
       "    </tr>\n",
       "    <tr>\n",
       "      <th>...</th>\n",
       "      <td>...</td>\n",
       "      <td>...</td>\n",
       "      <td>...</td>\n",
       "      <td>...</td>\n",
       "      <td>...</td>\n",
       "      <td>...</td>\n",
       "      <td>...</td>\n",
       "      <td>...</td>\n",
       "      <td>...</td>\n",
       "      <td>...</td>\n",
       "      <td>...</td>\n",
       "      <td>...</td>\n",
       "      <td>...</td>\n",
       "      <td>...</td>\n",
       "      <td>...</td>\n",
       "      <td>...</td>\n",
       "      <td>...</td>\n",
       "      <td>...</td>\n",
       "    </tr>\n",
       "    <tr>\n",
       "      <th>269</th>\n",
       "      <td>33.0</td>\n",
       "      <td>20210709 hn21091970_092400</td>\n",
       "      <td>VID001_O_180_210.mp4</td>\n",
       "      <td>Z</td>\n",
       "      <td>rongeur</td>\n",
       "      <td>manipulate</td>\n",
       "      <td>packing material</td>\n",
       "      <td>NaN</td>\n",
       "      <td>NaN</td>\n",
       "      <td>NaN</td>\n",
       "      <td>NaN</td>\n",
       "      <td>NaN</td>\n",
       "      <td>NaN</td>\n",
       "      <td>NaN</td>\n",
       "      <td>NaN</td>\n",
       "      <td>NaN</td>\n",
       "      <td>20210709_hn21091970_092400VID001_O_180_210</td>\n",
       "      <td>VID001_O_180_210</td>\n",
       "    </tr>\n",
       "    <tr>\n",
       "      <th>270</th>\n",
       "      <td>33.0</td>\n",
       "      <td>20210709 hn21091970_092400</td>\n",
       "      <td>VID001_O_210_240.mp4</td>\n",
       "      <td>-1</td>\n",
       "      <td>rongeur</td>\n",
       "      <td>manipulate</td>\n",
       "      <td>packing material</td>\n",
       "      <td>freer</td>\n",
       "      <td>manipulate</td>\n",
       "      <td>tissue</td>\n",
       "      <td>NaN</td>\n",
       "      <td>NaN</td>\n",
       "      <td>NaN</td>\n",
       "      <td>NaN</td>\n",
       "      <td>NaN</td>\n",
       "      <td>NaN</td>\n",
       "      <td>20210709_hn21091970_092400VID001_O_210_240</td>\n",
       "      <td>VID001_O_210_240</td>\n",
       "    </tr>\n",
       "    <tr>\n",
       "      <th>271</th>\n",
       "      <td>33.0</td>\n",
       "      <td>20210709 hn21091970_092400</td>\n",
       "      <td>VID001_O_240_263.mp4</td>\n",
       "      <td>K</td>\n",
       "      <td>freer</td>\n",
       "      <td>manipulate</td>\n",
       "      <td>tissue</td>\n",
       "      <td>NaN</td>\n",
       "      <td>NaN</td>\n",
       "      <td>NaN</td>\n",
       "      <td>NaN</td>\n",
       "      <td>NaN</td>\n",
       "      <td>NaN</td>\n",
       "      <td>NaN</td>\n",
       "      <td>NaN</td>\n",
       "      <td>NaN</td>\n",
       "      <td>20210709_hn21091970_092400VID001_O_240_263</td>\n",
       "      <td>VID001_O_240_263</td>\n",
       "    </tr>\n",
       "    <tr>\n",
       "      <th>272</th>\n",
       "      <td>33.0</td>\n",
       "      <td>20210709 hn21091970_092400</td>\n",
       "      <td>VID002_0_30.mp4</td>\n",
       "      <td>Z</td>\n",
       "      <td>rongeur</td>\n",
       "      <td>manipulate</td>\n",
       "      <td>tissue</td>\n",
       "      <td>rongeur</td>\n",
       "      <td>manipulate</td>\n",
       "      <td>packing material</td>\n",
       "      <td>NaN</td>\n",
       "      <td>NaN</td>\n",
       "      <td>NaN</td>\n",
       "      <td>NaN</td>\n",
       "      <td>NaN</td>\n",
       "      <td>NaN</td>\n",
       "      <td>20210709_hn21091970_092400VID002_0_30</td>\n",
       "      <td>VID002_0_30</td>\n",
       "    </tr>\n",
       "    <tr>\n",
       "      <th>273</th>\n",
       "      <td>33.0</td>\n",
       "      <td>20210709 hn21091970_092400</td>\n",
       "      <td>VID002_30_60.mp4</td>\n",
       "      <td>Z</td>\n",
       "      <td>rongeur</td>\n",
       "      <td>manipulate</td>\n",
       "      <td>packing material</td>\n",
       "      <td>suction tube</td>\n",
       "      <td>suction</td>\n",
       "      <td>tissue</td>\n",
       "      <td>NaN</td>\n",
       "      <td>NaN</td>\n",
       "      <td>NaN</td>\n",
       "      <td>NaN</td>\n",
       "      <td>NaN</td>\n",
       "      <td>NaN</td>\n",
       "      <td>20210709_hn21091970_092400VID002_30_60</td>\n",
       "      <td>VID002_30_60</td>\n",
       "    </tr>\n",
       "  </tbody>\n",
       "</table>\n",
       "<p>11222 rows × 18 columns</p>\n",
       "</div>"
      ],
      "text/plain": [
       "     video                      folder                              filename  \\\n",
       "0     87.0           2021-03-13_100428     2021-03-13_100428_VID001_0_30.mp4   \n",
       "1     87.0           2021-03-13_100428    2021-03-13_100428_VID001_30_60.mp4   \n",
       "2     87.0           2021-03-13_100428    2021-03-13_100428_VID001_60_90.mp4   \n",
       "3     87.0           2021-03-13_100428  2021-03-13_100428_VID001_120_150.mp4   \n",
       "4     87.0           2021-03-13_100428  2021-03-13_100428_VID001_180_210.mp4   \n",
       "..     ...                         ...                                   ...   \n",
       "269   33.0  20210709 hn21091970_092400                  VID001_O_180_210.mp4   \n",
       "270   33.0  20210709 hn21091970_092400                  VID001_O_210_240.mp4   \n",
       "271   33.0  20210709 hn21091970_092400                  VID001_O_240_263.mp4   \n",
       "272   33.0  20210709 hn21091970_092400                       VID002_0_30.mp4   \n",
       "273   33.0  20210709 hn21091970_092400                      VID002_30_60.mp4   \n",
       "\n",
       "    stage        tool-1    action-1          tissue-1        tool-2  \\\n",
       "0       L  suction tube  manipulate  packing material           NaN   \n",
       "1       L  suction tube  manipulate  packing material           NaN   \n",
       "2      -1  suction tube  manipulate            tissue         freer   \n",
       "3       L         freer  manipulate            tissue           NaN   \n",
       "4       L  suction tube  manipulate  packing material           NaN   \n",
       "..    ...           ...         ...               ...           ...   \n",
       "269     Z       rongeur  manipulate  packing material           NaN   \n",
       "270    -1       rongeur  manipulate  packing material         freer   \n",
       "271     K         freer  manipulate            tissue           NaN   \n",
       "272     Z       rongeur  manipulate            tissue       rongeur   \n",
       "273     Z       rongeur  manipulate  packing material  suction tube   \n",
       "\n",
       "       action-2          tissue-2 tool-3 action-3 tissue-3 tool-4 action-4  \\\n",
       "0           NaN               NaN    NaN      NaN      NaN    NaN      NaN   \n",
       "1           NaN               NaN    NaN      NaN      NaN    NaN      NaN   \n",
       "2    manipulate            tissue    NaN      NaN      NaN    NaN      NaN   \n",
       "3           NaN               NaN    NaN      NaN      NaN    NaN      NaN   \n",
       "4           NaN               NaN    NaN      NaN      NaN    NaN      NaN   \n",
       "..          ...               ...    ...      ...      ...    ...      ...   \n",
       "269         NaN               NaN    NaN      NaN      NaN    NaN      NaN   \n",
       "270  manipulate            tissue    NaN      NaN      NaN    NaN      NaN   \n",
       "271         NaN               NaN    NaN      NaN      NaN    NaN      NaN   \n",
       "272  manipulate  packing material    NaN      NaN      NaN    NaN      NaN   \n",
       "273     suction            tissue    NaN      NaN      NaN    NaN      NaN   \n",
       "\n",
       "    tissue-4                                        unique_id_1  \\\n",
       "0        NaN     2021-03-13_1004282021-03-13_100428_VID001_0_30   \n",
       "1        NaN    2021-03-13_1004282021-03-13_100428_VID001_30_60   \n",
       "2        NaN    2021-03-13_1004282021-03-13_100428_VID001_60_90   \n",
       "3        NaN  2021-03-13_1004282021-03-13_100428_VID001_120_150   \n",
       "4        NaN  2021-03-13_1004282021-03-13_100428_VID001_180_210   \n",
       "..       ...                                                ...   \n",
       "269      NaN         20210709_hn21091970_092400VID001_O_180_210   \n",
       "270      NaN         20210709_hn21091970_092400VID001_O_210_240   \n",
       "271      NaN         20210709_hn21091970_092400VID001_O_240_263   \n",
       "272      NaN              20210709_hn21091970_092400VID002_0_30   \n",
       "273      NaN             20210709_hn21091970_092400VID002_30_60   \n",
       "\n",
       "                          unique_id_2  \n",
       "0       2021-03-13_100428_VID001_0_30  \n",
       "1      2021-03-13_100428_VID001_30_60  \n",
       "2      2021-03-13_100428_VID001_60_90  \n",
       "3    2021-03-13_100428_VID001_120_150  \n",
       "4    2021-03-13_100428_VID001_180_210  \n",
       "..                                ...  \n",
       "269                  VID001_O_180_210  \n",
       "270                  VID001_O_210_240  \n",
       "271                  VID001_O_240_263  \n",
       "272                       VID002_0_30  \n",
       "273                      VID002_30_60  \n",
       "\n",
       "[11222 rows x 18 columns]"
      ]
     },
     "execution_count": 36,
     "metadata": {},
     "output_type": "execute_result"
    }
   ],
   "source": [
    "dataset"
   ]
  },
  {
   "cell_type": "code",
   "execution_count": 75,
   "metadata": {},
   "outputs": [],
   "source": [
    "def ask_gpt(messages, max_retries=35, temperature=0, top_p=0.9, max_tokens=512):\n",
    "    if isinstance(messages, str):\n",
    "        messages = [{\"role\": \"user\", \"content\": messages}]\n",
    "    #print(messages)\n",
    "    for i in range(max_retries):\n",
    "        try:\n",
    "            response = openai.ChatCompletion.create(\n",
    "            engine=\"gpt-4\", # engine = \"deployment_name\".\n",
    "                messages=messages\n",
    ")\n",
    "            if os.getenv('DEBUG_PRINT'):\n",
    "                print(response['choices'][0]['message']['content'])\n",
    "            return response['choices'][0]['message']['content']\n",
    "        except Exception as e:\n",
    "            if type(e) in [openai.error.InvalidRequestError, KeyError]:\n",
    "                print(type(e), e)\n",
    "                return None\n",
    "            print(type(e), e)\n",
    "            time.sleep(2)\n",
    "            continue    "
   ]
  },
  {
   "cell_type": "code",
   "execution_count": 96,
   "metadata": {},
   "outputs": [
    {
     "data": {
      "text/html": [
       "<div>\n",
       "<style scoped>\n",
       "    .dataframe tbody tr th:only-of-type {\n",
       "        vertical-align: middle;\n",
       "    }\n",
       "\n",
       "    .dataframe tbody tr th {\n",
       "        vertical-align: top;\n",
       "    }\n",
       "\n",
       "    .dataframe thead th {\n",
       "        text-align: right;\n",
       "    }\n",
       "</style>\n",
       "<table border=\"1\" class=\"dataframe\">\n",
       "  <thead>\n",
       "    <tr style=\"text-align: right;\">\n",
       "      <th></th>\n",
       "      <th>video</th>\n",
       "      <th>folder</th>\n",
       "      <th>filename</th>\n",
       "      <th>stage</th>\n",
       "      <th>tool-1</th>\n",
       "      <th>action-1</th>\n",
       "      <th>tissue-1</th>\n",
       "      <th>tool-2</th>\n",
       "      <th>action-2</th>\n",
       "      <th>tissue-2</th>\n",
       "      <th>tool-3</th>\n",
       "      <th>action-3</th>\n",
       "      <th>tissue-3</th>\n",
       "      <th>tool-4</th>\n",
       "      <th>action-4</th>\n",
       "      <th>tissue-4</th>\n",
       "      <th>unique_id_1</th>\n",
       "      <th>unique_id_2</th>\n",
       "    </tr>\n",
       "  </thead>\n",
       "  <tbody>\n",
       "    <tr>\n",
       "      <th>76</th>\n",
       "      <td>58.0</td>\n",
       "      <td>20220121 hn22009508_</td>\n",
       "      <td>VID001_D_510_540.mp4</td>\n",
       "      <td>Z</td>\n",
       "      <td>driller</td>\n",
       "      <td>drill</td>\n",
       "      <td>bone</td>\n",
       "      <td>suction tube</td>\n",
       "      <td>suction</td>\n",
       "      <td>blood</td>\n",
       "      <td>NaN</td>\n",
       "      <td>NaN</td>\n",
       "      <td>NaN</td>\n",
       "      <td>NaN</td>\n",
       "      <td>NaN</td>\n",
       "      <td>NaN</td>\n",
       "      <td>20220121_hn22009508_VID001_D_510_540</td>\n",
       "      <td>VID001_D_510_540</td>\n",
       "    </tr>\n",
       "    <tr>\n",
       "      <th>72</th>\n",
       "      <td>46.0</td>\n",
       "      <td>20211029 hn21149741_092000</td>\n",
       "      <td>VID001_D_510_540.mp4</td>\n",
       "      <td>NaN</td>\n",
       "      <td>suction tube</td>\n",
       "      <td>suction</td>\n",
       "      <td>blood</td>\n",
       "      <td>NaN</td>\n",
       "      <td>NaN</td>\n",
       "      <td>NaN</td>\n",
       "      <td>NaN</td>\n",
       "      <td>NaN</td>\n",
       "      <td>NaN</td>\n",
       "      <td>NaN</td>\n",
       "      <td>NaN</td>\n",
       "      <td>NaN</td>\n",
       "      <td>20211029_hn21149741_092000VID001_D_510_540</td>\n",
       "      <td>VID001_D_510_540</td>\n",
       "    </tr>\n",
       "    <tr>\n",
       "      <th>64</th>\n",
       "      <td>40.0</td>\n",
       "      <td>20210903 HN21121139U__093255</td>\n",
       "      <td>VID001_D_510_540.mp4</td>\n",
       "      <td>NaN</td>\n",
       "      <td>suction tube</td>\n",
       "      <td>suction</td>\n",
       "      <td>blood</td>\n",
       "      <td>rongeur</td>\n",
       "      <td>remove</td>\n",
       "      <td>bone</td>\n",
       "      <td>NaN</td>\n",
       "      <td>NaN</td>\n",
       "      <td>NaN</td>\n",
       "      <td>NaN</td>\n",
       "      <td>NaN</td>\n",
       "      <td>NaN</td>\n",
       "      <td>20210903_HN21121139U__093255VID001_D_510_540</td>\n",
       "      <td>VID001_D_510_540</td>\n",
       "    </tr>\n",
       "    <tr>\n",
       "      <th>72</th>\n",
       "      <td>45.0</td>\n",
       "      <td>20211028 hn21149021_091645 ICG+</td>\n",
       "      <td>VID001_D_510_540.mp4</td>\n",
       "      <td>NaN</td>\n",
       "      <td>rongeur</td>\n",
       "      <td>remove</td>\n",
       "      <td>tissue</td>\n",
       "      <td>suction tube</td>\n",
       "      <td>suction</td>\n",
       "      <td>blood</td>\n",
       "      <td>NaN</td>\n",
       "      <td>NaN</td>\n",
       "      <td>NaN</td>\n",
       "      <td>NaN</td>\n",
       "      <td>NaN</td>\n",
       "      <td>NaN</td>\n",
       "      <td>20211028_hn21149021_091645_ICG+VID001_D_510_540</td>\n",
       "      <td>VID001_D_510_540</td>\n",
       "    </tr>\n",
       "    <tr>\n",
       "      <th>58</th>\n",
       "      <td>34.0</td>\n",
       "      <td>20210717 hn21096170_092019</td>\n",
       "      <td>VID001_D_510_540.mp4</td>\n",
       "      <td>-1</td>\n",
       "      <td>freer</td>\n",
       "      <td>manipulate</td>\n",
       "      <td>tissue</td>\n",
       "      <td>suction tube</td>\n",
       "      <td>suction</td>\n",
       "      <td>blood</td>\n",
       "      <td>rongeur</td>\n",
       "      <td>remove</td>\n",
       "      <td>bone</td>\n",
       "      <td>NaN</td>\n",
       "      <td>NaN</td>\n",
       "      <td>NaN</td>\n",
       "      <td>20210717_hn21096170_092019VID001_D_510_540</td>\n",
       "      <td>VID001_D_510_540</td>\n",
       "    </tr>\n",
       "    <tr>\n",
       "      <th>70</th>\n",
       "      <td>31.0</td>\n",
       "      <td>20210619 hn21082069_093022</td>\n",
       "      <td>VID001_D_510_540.mp4</td>\n",
       "      <td>NaN</td>\n",
       "      <td>suction tube</td>\n",
       "      <td>suction</td>\n",
       "      <td>blood</td>\n",
       "      <td>NaN</td>\n",
       "      <td>NaN</td>\n",
       "      <td>NaN</td>\n",
       "      <td>NaN</td>\n",
       "      <td>NaN</td>\n",
       "      <td>NaN</td>\n",
       "      <td>NaN</td>\n",
       "      <td>NaN</td>\n",
       "      <td>NaN</td>\n",
       "      <td>20210619_hn21082069_093022VID001_D_510_540</td>\n",
       "      <td>VID001_D_510_540</td>\n",
       "    </tr>\n",
       "    <tr>\n",
       "      <th>71</th>\n",
       "      <td>32.0</td>\n",
       "      <td>20210703 hn21088951_093430</td>\n",
       "      <td>VID001_D_510_540.mp4</td>\n",
       "      <td>D</td>\n",
       "      <td>suction tube</td>\n",
       "      <td>remove</td>\n",
       "      <td>bone</td>\n",
       "      <td>rongeur</td>\n",
       "      <td>cut</td>\n",
       "      <td>tissue</td>\n",
       "      <td>NaN</td>\n",
       "      <td>NaN</td>\n",
       "      <td>NaN</td>\n",
       "      <td>NaN</td>\n",
       "      <td>NaN</td>\n",
       "      <td>NaN</td>\n",
       "      <td>20210703_hn21088951_093430VID001_D_510_540</td>\n",
       "      <td>VID001_D_510_540</td>\n",
       "    </tr>\n",
       "    <tr>\n",
       "      <th>68</th>\n",
       "      <td>39.0</td>\n",
       "      <td>20210821 hn21114591__094301</td>\n",
       "      <td>VID001_D_510_540.mp4</td>\n",
       "      <td>NaN</td>\n",
       "      <td>suction tube</td>\n",
       "      <td>suction</td>\n",
       "      <td>blood</td>\n",
       "      <td>rongeur</td>\n",
       "      <td>remove</td>\n",
       "      <td>bone</td>\n",
       "      <td>NaN</td>\n",
       "      <td>NaN</td>\n",
       "      <td>NaN</td>\n",
       "      <td>NaN</td>\n",
       "      <td>NaN</td>\n",
       "      <td>NaN</td>\n",
       "      <td>20210821_hn21114591__094301VID001_D_510_540</td>\n",
       "      <td>VID001_D_510_540</td>\n",
       "    </tr>\n",
       "    <tr>\n",
       "      <th>71</th>\n",
       "      <td>56.0</td>\n",
       "      <td>20210522 hn21068096P_093120</td>\n",
       "      <td>VID001_D_510_540.mp4</td>\n",
       "      <td>-1</td>\n",
       "      <td>freer</td>\n",
       "      <td>manipulate</td>\n",
       "      <td>tissue</td>\n",
       "      <td>rongeur</td>\n",
       "      <td>manipulate</td>\n",
       "      <td>tissue</td>\n",
       "      <td>NaN</td>\n",
       "      <td>NaN</td>\n",
       "      <td>NaN</td>\n",
       "      <td>NaN</td>\n",
       "      <td>NaN</td>\n",
       "      <td>NaN</td>\n",
       "      <td>20210522_hn21068096P_093120VID001_D_510_540</td>\n",
       "      <td>VID001_D_510_540</td>\n",
       "    </tr>\n",
       "    <tr>\n",
       "      <th>74</th>\n",
       "      <td>59.0</td>\n",
       "      <td>20220423 hn22045397_093745</td>\n",
       "      <td>VID001_D_510_540.mp4</td>\n",
       "      <td>D</td>\n",
       "      <td>suction tube</td>\n",
       "      <td>suction</td>\n",
       "      <td>blood</td>\n",
       "      <td>cup forcep</td>\n",
       "      <td>remove</td>\n",
       "      <td>bone</td>\n",
       "      <td>NaN</td>\n",
       "      <td>NaN</td>\n",
       "      <td>NaN</td>\n",
       "      <td>NaN</td>\n",
       "      <td>NaN</td>\n",
       "      <td>NaN</td>\n",
       "      <td>20220423_hn22045397_093745VID001_D_510_540</td>\n",
       "      <td>VID001_D_510_540</td>\n",
       "    </tr>\n",
       "    <tr>\n",
       "      <th>61</th>\n",
       "      <td>57.0</td>\n",
       "      <td>20210607 hn21075138M_093131</td>\n",
       "      <td>VID001_D_510_540.mp4</td>\n",
       "      <td>-1</td>\n",
       "      <td>freer</td>\n",
       "      <td>manipulate</td>\n",
       "      <td>tissue</td>\n",
       "      <td>suction tube</td>\n",
       "      <td>suction</td>\n",
       "      <td>blood</td>\n",
       "      <td>NaN</td>\n",
       "      <td>NaN</td>\n",
       "      <td>NaN</td>\n",
       "      <td>NaN</td>\n",
       "      <td>NaN</td>\n",
       "      <td>NaN</td>\n",
       "      <td>20210607_hn21075138M_093131VID001_D_510_540</td>\n",
       "      <td>VID001_D_510_540</td>\n",
       "    </tr>\n",
       "    <tr>\n",
       "      <th>66</th>\n",
       "      <td>35.0</td>\n",
       "      <td>20210723 HN21099553_092225</td>\n",
       "      <td>VID001_D_510_540.mp4</td>\n",
       "      <td>D</td>\n",
       "      <td>rongeur</td>\n",
       "      <td>manipulate</td>\n",
       "      <td>tissue</td>\n",
       "      <td>suction tube</td>\n",
       "      <td>manipulate</td>\n",
       "      <td>tissue</td>\n",
       "      <td>NaN</td>\n",
       "      <td>NaN</td>\n",
       "      <td>NaN</td>\n",
       "      <td>NaN</td>\n",
       "      <td>NaN</td>\n",
       "      <td>NaN</td>\n",
       "      <td>20210723_HN21099553_092225VID001_D_510_540</td>\n",
       "      <td>VID001_D_510_540</td>\n",
       "    </tr>\n",
       "    <tr>\n",
       "      <th>67</th>\n",
       "      <td>37.0</td>\n",
       "      <td>20210813 hn21110250_091904_2</td>\n",
       "      <td>VID001_D_510_540.mp4</td>\n",
       "      <td>NaN</td>\n",
       "      <td>ultrasound probe</td>\n",
       "      <td>sense</td>\n",
       "      <td>vessel</td>\n",
       "      <td>suction tube</td>\n",
       "      <td>suction</td>\n",
       "      <td>blood</td>\n",
       "      <td>NaN</td>\n",
       "      <td>NaN</td>\n",
       "      <td>NaN</td>\n",
       "      <td>NaN</td>\n",
       "      <td>NaN</td>\n",
       "      <td>NaN</td>\n",
       "      <td>20210813_hn21110250_091904_2VID001_D_510_540</td>\n",
       "      <td>VID001_D_510_540</td>\n",
       "    </tr>\n",
       "    <tr>\n",
       "      <th>76</th>\n",
       "      <td>38.0</td>\n",
       "      <td>20210814 hn21110907_095022</td>\n",
       "      <td>VID001_D_510_540.mp4</td>\n",
       "      <td>NaN</td>\n",
       "      <td>suction tube</td>\n",
       "      <td>suction</td>\n",
       "      <td>blood</td>\n",
       "      <td>rongeur</td>\n",
       "      <td>remove</td>\n",
       "      <td>bone</td>\n",
       "      <td>NaN</td>\n",
       "      <td>NaN</td>\n",
       "      <td>NaN</td>\n",
       "      <td>NaN</td>\n",
       "      <td>NaN</td>\n",
       "      <td>NaN</td>\n",
       "      <td>20210814_hn21110907_095022VID001_D_510_540</td>\n",
       "      <td>VID001_D_510_540</td>\n",
       "    </tr>\n",
       "    <tr>\n",
       "      <th>70</th>\n",
       "      <td>36.0</td>\n",
       "      <td>20210731 hn21103510_</td>\n",
       "      <td>VID001_D_510_540.mp4</td>\n",
       "      <td>Z</td>\n",
       "      <td>suction tube</td>\n",
       "      <td>suction</td>\n",
       "      <td>blood</td>\n",
       "      <td>NaN</td>\n",
       "      <td>NaN</td>\n",
       "      <td>NaN</td>\n",
       "      <td>NaN</td>\n",
       "      <td>NaN</td>\n",
       "      <td>NaN</td>\n",
       "      <td>NaN</td>\n",
       "      <td>NaN</td>\n",
       "      <td>NaN</td>\n",
       "      <td>20210731_hn21103510_VID001_D_510_540</td>\n",
       "      <td>VID001_D_510_540</td>\n",
       "    </tr>\n",
       "    <tr>\n",
       "      <th>64</th>\n",
       "      <td>43.0</td>\n",
       "      <td>20210928 HN21131521R_145520 ICG +</td>\n",
       "      <td>VID001_D_510_540.mp4</td>\n",
       "      <td>NaN</td>\n",
       "      <td>rongeur</td>\n",
       "      <td>remove</td>\n",
       "      <td>bone</td>\n",
       "      <td>NaN</td>\n",
       "      <td>NaN</td>\n",
       "      <td>NaN</td>\n",
       "      <td>NaN</td>\n",
       "      <td>NaN</td>\n",
       "      <td>NaN</td>\n",
       "      <td>NaN</td>\n",
       "      <td>NaN</td>\n",
       "      <td>NaN</td>\n",
       "      <td>20210928_HN21131521R_145520_ICG_+VID001_D_510_540</td>\n",
       "      <td>VID001_D_510_540</td>\n",
       "    </tr>\n",
       "    <tr>\n",
       "      <th>64</th>\n",
       "      <td>33.0</td>\n",
       "      <td>20210709 hn21091970_092400</td>\n",
       "      <td>VID001_D_510_540.mp4</td>\n",
       "      <td>-1</td>\n",
       "      <td>navigation probe</td>\n",
       "      <td>sense</td>\n",
       "      <td>tissue</td>\n",
       "      <td>monopolar electrode</td>\n",
       "      <td>suction</td>\n",
       "      <td>blood</td>\n",
       "      <td>monopolar electrode</td>\n",
       "      <td>cauterize</td>\n",
       "      <td>tissue</td>\n",
       "      <td>NaN</td>\n",
       "      <td>NaN</td>\n",
       "      <td>NaN</td>\n",
       "      <td>20210709_hn21091970_092400VID001_D_510_540</td>\n",
       "      <td>VID001_D_510_540</td>\n",
       "    </tr>\n",
       "  </tbody>\n",
       "</table>\n",
       "</div>"
      ],
      "text/plain": [
       "    video                             folder              filename stage  \\\n",
       "76   58.0               20220121 hn22009508_  VID001_D_510_540.mp4     Z   \n",
       "72   46.0         20211029 hn21149741_092000  VID001_D_510_540.mp4   NaN   \n",
       "64   40.0       20210903 HN21121139U__093255  VID001_D_510_540.mp4   NaN   \n",
       "72   45.0    20211028 hn21149021_091645 ICG+  VID001_D_510_540.mp4   NaN   \n",
       "58   34.0         20210717 hn21096170_092019  VID001_D_510_540.mp4    -1   \n",
       "70   31.0         20210619 hn21082069_093022  VID001_D_510_540.mp4   NaN   \n",
       "71   32.0         20210703 hn21088951_093430  VID001_D_510_540.mp4     D   \n",
       "68   39.0        20210821 hn21114591__094301  VID001_D_510_540.mp4   NaN   \n",
       "71   56.0        20210522 hn21068096P_093120  VID001_D_510_540.mp4    -1   \n",
       "74   59.0         20220423 hn22045397_093745  VID001_D_510_540.mp4     D   \n",
       "61   57.0        20210607 hn21075138M_093131  VID001_D_510_540.mp4    -1   \n",
       "66   35.0         20210723 HN21099553_092225  VID001_D_510_540.mp4     D   \n",
       "67   37.0       20210813 hn21110250_091904_2  VID001_D_510_540.mp4   NaN   \n",
       "76   38.0         20210814 hn21110907_095022  VID001_D_510_540.mp4   NaN   \n",
       "70   36.0               20210731 hn21103510_  VID001_D_510_540.mp4     Z   \n",
       "64   43.0  20210928 HN21131521R_145520 ICG +  VID001_D_510_540.mp4   NaN   \n",
       "64   33.0         20210709 hn21091970_092400  VID001_D_510_540.mp4    -1   \n",
       "\n",
       "              tool-1    action-1 tissue-1               tool-2    action-2  \\\n",
       "76           driller       drill     bone         suction tube     suction   \n",
       "72      suction tube     suction    blood                  NaN         NaN   \n",
       "64      suction tube     suction    blood              rongeur      remove   \n",
       "72           rongeur      remove   tissue         suction tube     suction   \n",
       "58             freer  manipulate   tissue         suction tube     suction   \n",
       "70      suction tube     suction    blood                  NaN         NaN   \n",
       "71      suction tube      remove     bone              rongeur         cut   \n",
       "68      suction tube     suction    blood              rongeur      remove   \n",
       "71             freer  manipulate   tissue              rongeur  manipulate   \n",
       "74      suction tube     suction    blood           cup forcep      remove   \n",
       "61             freer  manipulate   tissue         suction tube     suction   \n",
       "66           rongeur  manipulate   tissue         suction tube  manipulate   \n",
       "67  ultrasound probe       sense   vessel         suction tube     suction   \n",
       "76      suction tube     suction    blood              rongeur      remove   \n",
       "70      suction tube     suction    blood                  NaN         NaN   \n",
       "64           rongeur      remove     bone                  NaN         NaN   \n",
       "64  navigation probe       sense   tissue  monopolar electrode     suction   \n",
       "\n",
       "   tissue-2               tool-3   action-3 tissue-3 tool-4 action-4 tissue-4  \\\n",
       "76    blood                  NaN        NaN      NaN    NaN      NaN      NaN   \n",
       "72      NaN                  NaN        NaN      NaN    NaN      NaN      NaN   \n",
       "64     bone                  NaN        NaN      NaN    NaN      NaN      NaN   \n",
       "72    blood                  NaN        NaN      NaN    NaN      NaN      NaN   \n",
       "58    blood              rongeur     remove     bone    NaN      NaN      NaN   \n",
       "70      NaN                  NaN        NaN      NaN    NaN      NaN      NaN   \n",
       "71   tissue                  NaN        NaN      NaN    NaN      NaN      NaN   \n",
       "68     bone                  NaN        NaN      NaN    NaN      NaN      NaN   \n",
       "71   tissue                  NaN        NaN      NaN    NaN      NaN      NaN   \n",
       "74     bone                  NaN        NaN      NaN    NaN      NaN      NaN   \n",
       "61    blood                  NaN        NaN      NaN    NaN      NaN      NaN   \n",
       "66   tissue                  NaN        NaN      NaN    NaN      NaN      NaN   \n",
       "67    blood                  NaN        NaN      NaN    NaN      NaN      NaN   \n",
       "76     bone                  NaN        NaN      NaN    NaN      NaN      NaN   \n",
       "70      NaN                  NaN        NaN      NaN    NaN      NaN      NaN   \n",
       "64      NaN                  NaN        NaN      NaN    NaN      NaN      NaN   \n",
       "64    blood  monopolar electrode  cauterize   tissue    NaN      NaN      NaN   \n",
       "\n",
       "                                          unique_id_1       unique_id_2  \n",
       "76               20220121_hn22009508_VID001_D_510_540  VID001_D_510_540  \n",
       "72         20211029_hn21149741_092000VID001_D_510_540  VID001_D_510_540  \n",
       "64       20210903_HN21121139U__093255VID001_D_510_540  VID001_D_510_540  \n",
       "72    20211028_hn21149021_091645_ICG+VID001_D_510_540  VID001_D_510_540  \n",
       "58         20210717_hn21096170_092019VID001_D_510_540  VID001_D_510_540  \n",
       "70         20210619_hn21082069_093022VID001_D_510_540  VID001_D_510_540  \n",
       "71         20210703_hn21088951_093430VID001_D_510_540  VID001_D_510_540  \n",
       "68        20210821_hn21114591__094301VID001_D_510_540  VID001_D_510_540  \n",
       "71        20210522_hn21068096P_093120VID001_D_510_540  VID001_D_510_540  \n",
       "74         20220423_hn22045397_093745VID001_D_510_540  VID001_D_510_540  \n",
       "61        20210607_hn21075138M_093131VID001_D_510_540  VID001_D_510_540  \n",
       "66         20210723_HN21099553_092225VID001_D_510_540  VID001_D_510_540  \n",
       "67       20210813_hn21110250_091904_2VID001_D_510_540  VID001_D_510_540  \n",
       "76         20210814_hn21110907_095022VID001_D_510_540  VID001_D_510_540  \n",
       "70               20210731_hn21103510_VID001_D_510_540  VID001_D_510_540  \n",
       "64  20210928_HN21131521R_145520_ICG_+VID001_D_510_540  VID001_D_510_540  \n",
       "64         20210709_hn21091970_092400VID001_D_510_540  VID001_D_510_540  "
      ]
     },
     "execution_count": 96,
     "metadata": {},
     "output_type": "execute_result"
    }
   ],
   "source": [
    "dataset[dataset[\"unique_id_2\"]==\"VID001_D_510_540\"]"
   ]
  },
  {
   "cell_type": "code",
   "execution_count": 97,
   "metadata": {},
   "outputs": [],
   "source": [
    "def get_caption(row):\n",
    "    tuples = []\n",
    "    for i in range(1,5):\n",
    "        tool = \"tool-\"+str(i)\n",
    "        action = \"action-\"+str(i)\n",
    "        tissue = \"tissue-\"+str(i)\n",
    "        single_tuple = []\n",
    "        #print(row[tool])\n",
    "        if not pd.isnull(row[tool].values):\n",
    "            single_tuple.append(row[tool].values[0])\n",
    "        if not pd.isnull(row[action].values):\n",
    "            single_tuple.append(row[action].values[0])\n",
    "        if not pd.isnull(row[tissue].values):\n",
    "            single_tuple.append(row[tissue].values[0])\n",
    "        if len(single_tuple)>0:\n",
    "            tuples.append(single_tuple)\n",
    "    if len(tuples)>0:\n",
    "        prompt = \"You are going to describe a Transsphenoidal pituitary adenoma resection surgery image in few words, the information you have is a tool's name, what kind of action the tool is doing, and what target the tool is operating on, the given tuple is {}. Please do not use any other information that did not mentioned in the tuple and describe in short. If receive more than one tuple, describe each tuple and concatenate normally. You can make the sentence more diverse with the same meaning.\"\n",
    "        print(tuples)\n",
    "        messages = prompt.format(str(tuples))\n",
    "        return ask_gpt(messages)\n",
    "    else:\n",
    "        print(\"no tuple selected\")\n",
    "        return None"
   ]
  },
  {
   "cell_type": "code",
   "execution_count": 9,
   "metadata": {},
   "outputs": [],
   "source": [
    "example_json_path = \"/home/lxj/dataset/llava_plus_dataset/json_dataset/no_tool_origin_20000.json\"\n",
    "with open(example_json_path,\"r\") as f:\n",
    "    example_json = json.load(f)\n",
    "thought_list = []\n",
    "for i in example_json:\n",
    "    thought_list.append(i[\"conversations\"][1][\"thoughts\"])"
   ]
  },
  {
   "cell_type": "code",
   "execution_count": 10,
   "metadata": {},
   "outputs": [],
   "source": [
    "anno_file_path = dataset[\"folder\"].astype(str)+dataset[\"filename\"]"
   ]
  },
  {
   "cell_type": "code",
   "execution_count": 11,
   "metadata": {},
   "outputs": [],
   "source": [
    "anno_file_paths = [i.split(\".\")[0] for i in anno_file_path]\n"
   ]
  },
  {
   "cell_type": "code",
   "execution_count": 12,
   "metadata": {},
   "outputs": [],
   "source": [
    "anno_file_paths = [i.replace(\" \",\"_\") for i in anno_file_paths]\n",
    "\n"
   ]
  },
  {
   "cell_type": "code",
   "execution_count": 78,
   "metadata": {},
   "outputs": [],
   "source": [
    "#anno_file_paths.sort()"
   ]
  },
  {
   "cell_type": "code",
   "execution_count": 13,
   "metadata": {},
   "outputs": [],
   "source": [
    "img_folder = \"/home/lxj/dataset/Wales_anno_4604/train/input\"\n",
    "imgs = os.listdir(img_folder)"
   ]
  },
  {
   "cell_type": "code",
   "execution_count": 119,
   "metadata": {},
   "outputs": [],
   "source": [
    "#imgs = [\"_\".join(i.split(\".\")[0].split(\"_\")[:-1]) for i in imgs]"
   ]
  },
  {
   "cell_type": "code",
   "execution_count": 14,
   "metadata": {},
   "outputs": [],
   "source": [
    "anno_file_path_2 = dataset[\"filename\"]\n",
    "anno_file_paths_2 = [i.split(\".\")[0] for i in anno_file_path_2]\n",
    "anno_file_paths_2 = [i.replace(\" \",\"_\") for i in anno_file_paths_2]\n"
   ]
  },
  {
   "cell_type": "code",
   "execution_count": 15,
   "metadata": {},
   "outputs": [],
   "source": [
    "dataset[\"unique_id_1\"] = anno_file_paths\n",
    "dataset[\"unique_id_2\"] = anno_file_paths_2"
   ]
  },
  {
   "cell_type": "code",
   "execution_count": 47,
   "metadata": {},
   "outputs": [
    {
     "name": "stdout",
     "output_type": "stream",
     "text": [
      "802\n"
     ]
    }
   ],
   "source": [
    "#用folder+filename组合查找img是否有annotation\n",
    "count = 0\n",
    "img_with_anno = []\n",
    "for i in imgs:\n",
    "    unique_id = \"_\".join(i.split(\".\")[0].split(\"_\")[:-1])\n",
    "    if unique_id in anno_file_paths:\n",
    "        count+=1\n",
    "        img_with_anno.append(i)\n",
    "print(count)"
   ]
  },
  {
   "cell_type": "code",
   "execution_count": 48,
   "metadata": {},
   "outputs": [
    {
     "name": "stdout",
     "output_type": "stream",
     "text": [
      "379\n"
     ]
    }
   ],
   "source": [
    "#用filename查找img是否有annotation\n",
    "count = 0\n",
    "img_with_anno_2 = []\n",
    "for i in imgs:\n",
    "    unique_id = \"_\".join(i.split(\".\")[0].split(\"_\")[:-1])\n",
    "    if unique_id in anno_file_paths_2:\n",
    "        count+=1\n",
    "        img_with_anno_2.append(i)\n",
    "print(count)"
   ]
  },
  {
   "cell_type": "code",
   "execution_count": 50,
   "metadata": {},
   "outputs": [],
   "source": [
    "example_questions = [\n",
    "    \"Can you explain this image?\",\n",
    "    \"Please explain this image\",\n",
    "    \"Tell me about this image\",\n",
    "    \"What is this image about?\"\n",
    "    \"What is shown in this image?\",\n",
    "    \"What is this image?\",\n",
    "    \"Can you describe this image?\",\n",
    "    \"What can you see in the image?\"\n",
    "    \"Can you explain what this image depicts?\",\n",
    "    \"What's the content of this picture?\",\n",
    "    \"Provide a description of this image, please.\",\n",
    "    \"What do you see in this image?\",\n",
    "    \"Could you detail what's in this photo?\",\n",
    "    \"What's illustrated in this photograph?\",\n",
    "    \"Tell me about what this image shows.\",\n",
    "    \"What is the subject of this image?\",\n",
    "    \"How would you describe this picture?\",\n",
    "    \"What's going on in this image?\",\n",
    "    \"Can you give me details about this picture?\",\n",
    "    \"What is featured in this photograph?\",\n",
    "    \"Can you interpret this image for me?\",\n",
    "    \"Describe what's pictured here.\",\n",
    "    \"What does this image show?\",\n",
    "    \"Could you give a brief overview of this image?\",\n",
    "    \"What's captured in this photograph?\",\n",
    "    \"Can you provide some context for this image?\",\n",
    "    \"What are we looking at in this picture?\",\n",
    "    \"Please provide a detailed description of the image.\",\n",
    "    \"Elaborate on the details you observe in this image.\",\n",
    "    \"Give a comprehensive description of everything shown in the image.\",\n",
    "    \"Describe in detail the various elements present in the photograph.\",\n",
    "    \"Offer a thorough explanation of what this image depicts.\",\n",
    "    \"Examine the image closely and describe it in detail.\",\n",
    "    \"Detail all the aspects of the image from foreground to background.\",\n",
    "    \"Convey in depth the contents of this picture.\",\n",
    "    \"Paint a vivid picture through words of what you see in this image.\",\n",
    "    \"Break down the image into its components and describe each one in detail.\",\n",
    "    \"Narrate the story that this image tells, focusing on specific details.\",\n",
    "    \"Catalog every item and feature you can identify in the image.\",\n",
    "    \"Provide an in-depth analysis of the visual elements in this photograph.\",\n",
    "    \"Discuss the color, texture, and elements in the image with great detail.\",\n",
    "    \"Give a blow-by-blow account of the scene depicted in this image.\",\n",
    "    \"Craft a rich and detailed description of the image as if explaining to someone who cannot see it.\",\n",
    "    \"Share a minute description of the image, including mood, tone, and style.\",\n",
    "    \"Render a detailed narrative that captures the essence of the image.\",\n",
    "    \"Express in vivid detail each component and its placement within the image.\",\n",
    "    \"Conduct a detailed visual inspection of the image and report on your findings.\",\n",
    "    \"Can you describe the image in detail, including colors, shapes, and textures?\",\n",
    "    \"Could you provide a thorough description of what's happening in this picture?\",\n",
    "    \"What detailed features can you identify in this photograph?\",\n",
    "    \"Would you mind elaborating on the specific elements within this image?\",\n",
    "    \"How would you detail the composition and subjects of this image?\",\n",
    "    \"Can you give an in-depth description of the mood and atmosphere in this picture?\",\n",
    "    \"What intricate details stand out to you in this image?\",\n",
    "    \"Could you dissect the image and describe each component you see?\",\n",
    "    \"In what detail can you describe the setting and characters depicted in this image?\",\n",
    "    \"Can you capture the essence of this image through a detailed verbal depiction?\",\n",
    "    \"What are the detailed visual elements that tell the story in this photograph?\",\n",
    "    \"Could you provide a granular description of the textures and patterns in this image?\",\n",
    "    \"How would you describe the interplay of light and shadow in this image in detail?\",\n",
    "    \"Can you describe in fine detail the expressions and emotions captured in this image?\",\n",
    "    \"What specific details in this image give context to its overall theme?\",\n",
    "    \"Can you walk me through the finer details that might be overlooked in this image?\",\n",
    "    \"How would you describe the stylistic details of the objects or subjects in this photograph?\",\n",
    "    \"Could you detail the foreground, middleground, and background of this image?\",\n",
    "    \"What elements of this image are crucial for a detailed understanding of its message?\",\n",
    "    \"Can you analyze and describe the intricate details that contribute to the overall impact of this image?\",\n",
    "    \"Are you able to depict the contents of this surgical image in words?\",\n",
    "    \"Could you provide an explanation of what's shown in this surgical photo?\",\n",
    "    \"Is it possible for you to detail what this surgical image is displaying?\",\n",
    "    \"May you offer a description of what is captured in this surgical picture?\",\n",
    "    \"Would you mind giving a narrative of this image from the surgery?\",\n",
    "    \"Can you illustrate what's going on in this image of the surgical procedure?\",\n",
    "    \"Are you capable of outlining the features in this surgical operation snapshot?\",\n",
    "    \"Could you verbalize the specifics seen in this image of a surgical setting?\",\n",
    "    \"Might you convey what is represented in this surgical image?\",\n",
    "    \"Can you present a clear depiction of the elements in this surgical photo?\",\n",
    "    \"Is it possible for you to explicate the scene shown in this surgical image?\",\n",
    "    \"Would you be able to offer a visual description of this surgery-related image?\",\n",
    "    \"Could you give your interpretation of what this surgical image shows?\",\n",
    "    \"Can you provide a comprehensive description of what is pictured here in this surgery image?\",\n",
    "    \"Is it possible for you to articulate the details of this surgical photograph?\",\n",
    "    \"May you explain the scene depicted in this image from a surgical environment?\",\n",
    "    \"Would you be able to delineate the components of this surgical image?\",\n",
    "    \"Can you narrate the activities shown in this image from a surgical procedure?\",\n",
    "    \"Are you equipped to describe the specifics of this surgical technique as shown in the image?\",\n",
    "    \"Might you provide a detailed account of the surgical scene in this image?\"\n",
    "\n",
    "]"
   ]
  },
  {
   "cell_type": "code",
   "execution_count": 77,
   "metadata": {},
   "outputs": [
    {
     "name": "stderr",
     "output_type": "stream",
     "text": [
      "  0%|          | 0/802 [00:00<?, ?it/s]"
     ]
    },
    {
     "name": "stdout",
     "output_type": "stream",
     "text": [
      "[['rongeur', 'manipulate', 'tissue']]\n"
     ]
    },
    {
     "name": "stderr",
     "output_type": "stream",
     "text": [
      "  0%|          | 1/802 [00:01<22:32,  1.69s/it]"
     ]
    },
    {
     "name": "stdout",
     "output_type": "stream",
     "text": [
      "The image depicts the manipulation of tissue with a rongeur during a Transsphenoidal pituitary adenoma resection surgery.\n",
      "[['suction tube', 'suction', 'tumor'], ['bipolar electrode', 'cauterize', 'tissue']]\n"
     ]
    },
    {
     "name": "stderr",
     "output_type": "stream",
     "text": [
      "  0%|          | 2/802 [00:04<31:04,  2.33s/it]"
     ]
    },
    {
     "name": "stdout",
     "output_type": "stream",
     "text": [
      "An image showcases a suction tube being employed to suction a tumor during a Transsphenoidal pituitary adenoma resection surgery. Concurrently, a bipolar electrode is utilized to cauterize the tissue in the same operation.\n",
      "[['rongeur', 'manipulate', 'packing material'], ['suction tube', 'suction', 'tumor']]\n"
     ]
    },
    {
     "name": "stderr",
     "output_type": "stream",
     "text": [
      "  0%|          | 3/802 [00:06<27:15,  2.05s/it]"
     ]
    },
    {
     "name": "stdout",
     "output_type": "stream",
     "text": [
      "The image depicts a rongeur being used to manipulate the packing material during a Transsphenoidal pituitary adenoma resection surgery. Additionally, a suction tube is visibly being employed to suction the tumor.\n",
      "[['monopolar electrode', 'manipulate', 'tissue'], ['curette', 'scoop', 'tumor']]\n"
     ]
    },
    {
     "name": "stderr",
     "output_type": "stream",
     "text": [
      "  0%|          | 4/802 [00:09<34:50,  2.62s/it]"
     ]
    },
    {
     "name": "stdout",
     "output_type": "stream",
     "text": [
      "The image illustrates the use of a monopolar electrode to manipulate the tissue during transsphenoidal pituitary adenoma resection surgery. Simultaneously, a curette is being utilized to scoop out the tumor.\n",
      "[['monopolar electrode', 'suction', 'blood'], ['monopolar electrode', 'cauterize', 'tissue']]\n"
     ]
    },
    {
     "name": "stderr",
     "output_type": "stream",
     "text": [
      "  1%|          | 5/802 [00:13<38:18,  2.88s/it]"
     ]
    },
    {
     "name": "stdout",
     "output_type": "stream",
     "text": [
      "The image shows a monopolar electrode being used to suction blood during a transsphenoidal pituitary adenoma resection surgery. Following this, the same monopolar electrode is seen as it is being utilized to cauterize tissue within the same procedure.\n",
      "[['navigation probe', 'sense', 'tissue']]\n"
     ]
    },
    {
     "name": "stderr",
     "output_type": "stream",
     "text": [
      "  1%|          | 6/802 [00:14<30:05,  2.27s/it]"
     ]
    },
    {
     "name": "stdout",
     "output_type": "stream",
     "text": [
      "The navigation probe is sensing the tissue during the Transsphenoidal pituitary adenoma resection surgery.\n",
      "[['ultrasound probe', 'sense', 'vessel']]\n"
     ]
    },
    {
     "name": "stderr",
     "output_type": "stream",
     "text": [
      "  1%|          | 7/802 [00:15<25:52,  1.95s/it]"
     ]
    },
    {
     "name": "stdout",
     "output_type": "stream",
     "text": [
      "The ultrasound probe is being used to sense a vessel during a Transsphenoidal pituitary adenoma resection surgery.\n",
      "[['monopolar electrode', 'suction', 'blood'], ['monopolar electrode', 'cauterize', 'tissue']]\n"
     ]
    },
    {
     "name": "stderr",
     "output_type": "stream",
     "text": [
      "  1%|          | 8/802 [00:17<26:27,  2.00s/it]"
     ]
    },
    {
     "name": "stdout",
     "output_type": "stream",
     "text": [
      "A monopolar electrode is utilized to suction blood, proceeding then to cauterize the tissue with the same tool in a Transsphenoidal pituitary adenoma resection surgery.\n",
      "[['suction tube', 'manipulate', 'tissue'], ['driller', 'drill', 'bone']]\n"
     ]
    },
    {
     "name": "stderr",
     "output_type": "stream",
     "text": [
      "  1%|          | 9/802 [00:19<27:59,  2.12s/it]"
     ]
    },
    {
     "name": "stdout",
     "output_type": "stream",
     "text": [
      "The image showcases a suction tube manipulating tissue, along with a driller drilling into bone during a Transsphenoidal pituitary adenoma resection surgery.\n",
      "[['ultrasound probe', 'sense', 'vessel']]\n"
     ]
    },
    {
     "name": "stderr",
     "output_type": "stream",
     "text": [
      "  1%|          | 10/802 [00:21<25:36,  1.94s/it]"
     ]
    },
    {
     "name": "stdout",
     "output_type": "stream",
     "text": [
      "The ultrasound probe is being utilized to sense a vessel during the Transsphenoidal pituitary adenoma resection surgery.\n",
      "[['cutting forcep', 'manipulate', 'tissue']]\n"
     ]
    },
    {
     "name": "stderr",
     "output_type": "stream",
     "text": [
      "  1%|▏         | 11/802 [00:23<26:12,  1.99s/it]"
     ]
    },
    {
     "name": "stdout",
     "output_type": "stream",
     "text": [
      "The image shows the usage of a cutting forcep to manipulate the tissue during a Transsphenoidal pituitary adenoma resection surgery.\n",
      "[['cutting forcep', 'remove', 'tissue']]\n"
     ]
    },
    {
     "name": "stderr",
     "output_type": "stream",
     "text": [
      "  1%|▏         | 12/802 [00:24<23:22,  1.77s/it]"
     ]
    },
    {
     "name": "stdout",
     "output_type": "stream",
     "text": [
      "The image depicts a cutting forcep being employed to remove tissue during a Transsphenoidal pituitary adenoma resection surgery.\n",
      "[['suction tube', 'manipulate', 'tissue'], ['monopolar electrode', 'idle', 'tissue']]\n"
     ]
    },
    {
     "name": "stderr",
     "output_type": "stream",
     "text": [
      "  2%|▏         | 13/802 [00:27<25:19,  1.93s/it]"
     ]
    },
    {
     "name": "stdout",
     "output_type": "stream",
     "text": [
      "The image portrays the use of a suction tube in the manipulation of tissue during transsphenoidal pituitary adenoma resection surgery. In contrast, a monopolar electrode is depicted as idle but still in proximity to the tissue.\n",
      "[['suction tube', 'suction', 'blood'], ['rongeur', 'remove', 'bone']]\n"
     ]
    },
    {
     "name": "stderr",
     "output_type": "stream",
     "text": [
      "  2%|▏         | 14/802 [00:29<28:29,  2.17s/it]"
     ]
    },
    {
     "name": "stdout",
     "output_type": "stream",
     "text": [
      "The picture illustrates the use of a suction tube, which is utilized to suction out blood, and also a rongeur, which is employed to remove bone during a Transsphenoidal pituitary adenoma resection surgery.\n",
      "[['suction tube', 'suction', 'blood'], ['rongeur', 'remove', 'bone']]\n"
     ]
    },
    {
     "name": "stderr",
     "output_type": "stream",
     "text": [
      "  2%|▏         | 15/802 [00:31<24:55,  1.90s/it]"
     ]
    },
    {
     "name": "stdout",
     "output_type": "stream",
     "text": [
      "The image shows a suction tube being employed to suction blood. Additionally, a rongeur is being used to remove bone.\n",
      "[['suction tube', 'suction', 'blood'], ['injector', 'inject', 'glue']]\n"
     ]
    },
    {
     "name": "stderr",
     "output_type": "stream",
     "text": [
      "  2%|▏         | 16/802 [00:33<27:52,  2.13s/it]"
     ]
    },
    {
     "name": "stdout",
     "output_type": "stream",
     "text": [
      "A suction tube is being used to suction blood in an image of a Transsphenoidal pituitary adenoma resection surgery. In the same image, an injector is also observed to inject glue.\n",
      "[['scalpel', 'cut', 'tumor']]\n"
     ]
    },
    {
     "name": "stderr",
     "output_type": "stream",
     "text": [
      "  2%|▏         | 17/802 [00:35<24:42,  1.89s/it]"
     ]
    },
    {
     "name": "stdout",
     "output_type": "stream",
     "text": [
      "The scalpel is being used to cut the tumor in the Transsphenoidal pituitary adenoma resection surgery.\n",
      "[['suction tube', 'suction', 'blood'], ['navigation probe', 'sense', 'tissue']]\n"
     ]
    },
    {
     "name": "stderr",
     "output_type": "stream",
     "text": [
      "  2%|▏         | 18/802 [00:37<26:12,  2.01s/it]"
     ]
    },
    {
     "name": "stdout",
     "output_type": "stream",
     "text": [
      "The image displays a suction tube being employed to suction blood during a Transsphenoidal pituitary adenoma resection surgery. Furthermore, it also shows a navigation probe being used to sense tissue in the course of the operation.\n",
      "[['ultrasound probe', 'sense', 'vessel']]\n"
     ]
    },
    {
     "name": "stderr",
     "output_type": "stream",
     "text": [
      "  2%|▏         | 19/802 [00:39<25:44,  1.97s/it]"
     ]
    },
    {
     "name": "stdout",
     "output_type": "stream",
     "text": [
      "An ultrasound probe is being used to sense a vessel during a Transsphenoidal pituitary adenoma resection surgery.\n",
      "[['rongeur', 'remove', 'bone']]\n"
     ]
    },
    {
     "name": "stderr",
     "output_type": "stream",
     "text": [
      "  2%|▏         | 20/802 [00:41<27:55,  2.14s/it]"
     ]
    },
    {
     "name": "stdout",
     "output_type": "stream",
     "text": [
      "The image shows a rongeur being used to remove a bone during a Transsphenoidal pituitary adenoma resection surgery.\n",
      "[['suction tube', 'suction', 'blood'], ['navigation probe', 'sense', 'tissue']]\n"
     ]
    },
    {
     "name": "stderr",
     "output_type": "stream",
     "text": [
      "  3%|▎         | 21/802 [00:45<35:55,  2.76s/it]"
     ]
    },
    {
     "name": "stdout",
     "output_type": "stream",
     "text": [
      "A suction tube is utilized in a Transsphenoidal pituitary adenoma resection surgery image to suction blood. Concurrently, a navigation probe is engaged to sense tissue.\n",
      "[['suction tube', 'suction', 'tumor'], ['curette', 'scoop', 'tumor']]\n"
     ]
    },
    {
     "name": "stderr",
     "output_type": "stream",
     "text": [
      "  3%|▎         | 22/802 [00:48<33:23,  2.57s/it]"
     ]
    },
    {
     "name": "stdout",
     "output_type": "stream",
     "text": [
      "A suction tube is being used to suction the tumor in a Transsphenoidal pituitary adenoma resection surgery. Additionally, a curette is employed to scoop out the tumor.\n",
      "[['injector', 'inject', 'glue']]\n"
     ]
    },
    {
     "name": "stderr",
     "output_type": "stream",
     "text": [
      "  3%|▎         | 23/802 [00:49<29:13,  2.25s/it]"
     ]
    },
    {
     "name": "stdout",
     "output_type": "stream",
     "text": [
      "The image shows an injector being utilized to inject glue during a Transsphenoidal pituitary adenoma resection surgery.\n",
      "[['suction tube', 'suction', 'blood'], ['navigation probe', 'sense', 'tissue']]\n"
     ]
    },
    {
     "name": "stderr",
     "output_type": "stream",
     "text": [
      "  3%|▎         | 24/802 [00:53<35:10,  2.71s/it]"
     ]
    },
    {
     "name": "stdout",
     "output_type": "stream",
     "text": [
      "An image depicting a Transsphenoidal pituitary adenoma resection surgery wherein a suction tube is being used to suction blood. Concurrently, a navigation probe is utilized to sense the tissue.\n",
      "[['navigation probe', 'sense', 'tissue']]\n"
     ]
    },
    {
     "name": "stderr",
     "output_type": "stream",
     "text": [
      "  3%|▎         | 25/802 [00:55<31:51,  2.46s/it]"
     ]
    },
    {
     "name": "stdout",
     "output_type": "stream",
     "text": [
      "The image depicts the use of a navigation probe to sense the tissue during a Transsphenoidal pituitary adenoma resection surgery.\n",
      "[['suction tube', 'suction', 'blood'], ['rongeur', 'remove', 'bone']]\n"
     ]
    },
    {
     "name": "stderr",
     "output_type": "stream",
     "text": [
      "  3%|▎         | 26/802 [00:57<29:31,  2.28s/it]"
     ]
    },
    {
     "name": "stdout",
     "output_type": "stream",
     "text": [
      "The image depicts the use of a suction tube employed to suction blood during a Transsphenoidal pituitary adenoma resection surgery. Additionally, a rongeur tool is visibly utilised to remove bone.\n",
      "[['monopolar electrode', 'cauterize', 'tissue']]\n"
     ]
    },
    {
     "name": "stderr",
     "output_type": "stream",
     "text": [
      "  3%|▎         | 27/802 [00:58<26:35,  2.06s/it]"
     ]
    },
    {
     "name": "stdout",
     "output_type": "stream",
     "text": [
      "The image shows a monopolar electrode being used to cauterize tissue during a Transsphenoidal pituitary adenoma resection surgery.\n",
      "[['navigation probe', 'sense', 'tissue']]\n"
     ]
    },
    {
     "name": "stderr",
     "output_type": "stream",
     "text": [
      "  3%|▎         | 28/802 [00:59<22:40,  1.76s/it]"
     ]
    },
    {
     "name": "stdout",
     "output_type": "stream",
     "text": [
      "The navigation probe is sensing the tissue during the Transsphenoidal pituitary adenoma resection surgery.\n",
      "[['navigation probe', 'sense', 'tissue'], ['suction tube', 'suction', 'blood']]\n"
     ]
    },
    {
     "name": "stderr",
     "output_type": "stream",
     "text": [
      "  4%|▎         | 29/802 [01:02<28:03,  2.18s/it]"
     ]
    },
    {
     "name": "stdout",
     "output_type": "stream",
     "text": [
      "The image displays the usage of a navigation probe to sense the tissue during the Transsphenoidal pituitary adenoma resection surgery. Additionally, a suction tube is being utilized to suction blood.\n",
      "[['freer', 'manipulate', 'tissue'], ['cup forcep', 'manipulate', 'tissue']]\n"
     ]
    },
    {
     "name": "stderr",
     "output_type": "stream",
     "text": [
      "  4%|▎         | 30/802 [01:07<35:26,  2.75s/it]"
     ]
    },
    {
     "name": "stdout",
     "output_type": "stream",
     "text": [
      "The image visualizes a surgical scene where a 'freer' is being used to manipulate tissue during a Transsphenoidal pituitary adenoma resection procedure. Additionally, a 'cup forcep' is also applied to manipulate the tissue in the operation.\n",
      "[['rongeur', 'remove', 'bone'], ['suction tube', 'suction', 'blood']]\n"
     ]
    },
    {
     "name": "stderr",
     "output_type": "stream",
     "text": [
      "  4%|▍         | 31/802 [01:10<37:27,  2.91s/it]"
     ]
    },
    {
     "name": "stdout",
     "output_type": "stream",
     "text": [
      "The image reveals a rongueur being utilized to remove bone in a Transsphenoidal pituitary adenoma resection surgery. It also displays a suction tube performing the act of suctioning blood.\n",
      "[['suction tube', 'manipulate', 'tissue'], ['monopolar electrode', 'cauterize', 'tissue']]\n"
     ]
    },
    {
     "name": "stderr",
     "output_type": "stream",
     "text": [
      "  4%|▍         | 32/802 [01:12<34:29,  2.69s/it]"
     ]
    },
    {
     "name": "stdout",
     "output_type": "stream",
     "text": [
      "The image depicts the utilization of a suction tube to manipulate the tissue during a Transsphenoidal pituitary adenoma resection surgery. Additionally, a monopolar electrode is incorporated to cauterize the tissue.\n",
      "[['suction tube', 'suction', 'blood'], ['bipolar electrode', 'cauterize', 'tissue']]\n"
     ]
    },
    {
     "name": "stderr",
     "output_type": "stream",
     "text": [
      "  4%|▍         | 33/802 [01:15<34:52,  2.72s/it]"
     ]
    },
    {
     "name": "stdout",
     "output_type": "stream",
     "text": [
      "The image showcases a suction tube being utilized to suction blood, as well as a bipolar electrode being used to cauterize tissue during Transsphenoidal pituitary adenoma resection surgery.\n",
      "[['suction tube', 'suction', 'blood'], ['navigation probe', 'sense', 'tissue']]\n"
     ]
    },
    {
     "name": "stderr",
     "output_type": "stream",
     "text": [
      "  4%|▍         | 34/802 [01:18<35:52,  2.80s/it]"
     ]
    },
    {
     "name": "stdout",
     "output_type": "stream",
     "text": [
      "The image illustrates the utilization of a suction tube, performing the function of blood suction. It also depicts the use of a navigation probe, employed to sense the tissue during a Transsphenoidal pituitary adenoma resection surgery.\n",
      "[['scissor', 'cut', 'tissue']]\n"
     ]
    },
    {
     "name": "stderr",
     "output_type": "stream",
     "text": [
      "  4%|▍         | 35/802 [01:19<31:34,  2.47s/it]"
     ]
    },
    {
     "name": "stdout",
     "output_type": "stream",
     "text": [
      "The image depicts a pair of scissors being utilized to cut tissue during a Transsphenoidal pituitary adenoma resection surgery.\n",
      "[['rongeur', 'remove', 'bone'], ['suction tube', 'suction', 'blood']]\n"
     ]
    },
    {
     "name": "stderr",
     "output_type": "stream",
     "text": [
      "  4%|▍         | 36/802 [01:21<29:20,  2.30s/it]"
     ]
    },
    {
     "name": "stdout",
     "output_type": "stream",
     "text": [
      "The image depicts a rongeur being used to excise a bone during a Transsphenoidal pituitary adenoma resection surgery. In the same operation, a suction tube is visible, employed to aspirate blood.\n",
      "[['suction tube', 'suction', 'blood'], ['rongeur', 'remove', 'bone']]\n"
     ]
    },
    {
     "name": "stderr",
     "output_type": "stream",
     "text": [
      "  5%|▍         | 37/802 [01:25<32:54,  2.58s/it]"
     ]
    },
    {
     "name": "stdout",
     "output_type": "stream",
     "text": [
      "The image portrays the utilization of a suction tube, which is actively engaged in the process of suctioning off blood during the surgery. In the same vein, a rongeur is depicted, being used to remove bones in the process of the transsphenoidal pituitary adenoma resection surgery.\n",
      "[['monopolar electrode', 'cauterize', 'tissue']]\n"
     ]
    },
    {
     "name": "stderr",
     "output_type": "stream",
     "text": [
      "  5%|▍         | 38/802 [01:26<28:47,  2.26s/it]"
     ]
    },
    {
     "name": "stdout",
     "output_type": "stream",
     "text": [
      "The image depicts a monopolar electrode being used to cauterize tissue during a transsphenoidal pituitary adenoma resection surgery.\n",
      "[['ultrasound probe', 'sense', 'vessel']]\n"
     ]
    },
    {
     "name": "stderr",
     "output_type": "stream",
     "text": [
      "  5%|▍         | 39/802 [01:28<26:07,  2.05s/it]"
     ]
    },
    {
     "name": "stdout",
     "output_type": "stream",
     "text": [
      "The ultrasound probe is used to sense the vessel in the Transsphenoidal pituitary adenoma resection surgery.\n",
      "[['driller', 'idle', 'idle']]\n"
     ]
    },
    {
     "name": "stderr",
     "output_type": "stream",
     "text": [
      "  5%|▍         | 40/802 [01:29<23:07,  1.82s/it]"
     ]
    },
    {
     "name": "stdout",
     "output_type": "stream",
     "text": [
      "The driller is currently idle during the Transsphenoidal pituitary adenoma resection surgery.\n",
      "[['rongeur', 'remove', 'bone'], ['suction tube', 'suction', 'blood']]\n"
     ]
    },
    {
     "name": "stderr",
     "output_type": "stream",
     "text": [
      "  5%|▌         | 41/802 [01:32<28:20,  2.23s/it]"
     ]
    },
    {
     "name": "stdout",
     "output_type": "stream",
     "text": [
      "The image depicts a rongeur being used to remove bone in a transsphenoidal pituitary adenoma resection surgery. Additionally, a suction tube is seen suctioning blood during the procedure.\n",
      "[['monopolar electrode', 'suction', 'blood'], ['rongeur', 'remove', 'bone']]\n"
     ]
    },
    {
     "name": "stderr",
     "output_type": "stream",
     "text": [
      "  5%|▌         | 42/802 [01:34<27:42,  2.19s/it]"
     ]
    },
    {
     "name": "stdout",
     "output_type": "stream",
     "text": [
      "The image depicts the use of a monopolar electrode to suction blood during Transsphenoidal pituitary adenoma resection. It also shows a rongeur being utilized to remove bone in the procedure.\n",
      "[['navigation probe', 'sense', 'tissue']]\n"
     ]
    },
    {
     "name": "stderr",
     "output_type": "stream",
     "text": [
      "  5%|▌         | 43/802 [01:36<25:30,  2.02s/it]"
     ]
    },
    {
     "name": "stdout",
     "output_type": "stream",
     "text": [
      "The navigation probe is being used to sense the tissue in the Transsphenoidal pituitary adenoma resection surgery.\n",
      "[['scissor', 'cut', 'tissue'], ['scalpel', 'cut', 'tissue']]\n"
     ]
    },
    {
     "name": "stderr",
     "output_type": "stream",
     "text": [
      "  5%|▌         | 44/802 [01:38<25:04,  1.99s/it]"
     ]
    },
    {
     "name": "stdout",
     "output_type": "stream",
     "text": [
      "The image reveals scissors being utilized to cut tissue during the transsphenoidal pituitary adenoma resection surgery. Similarly, a scalpel is also depicted, performing the same operation on the tissue.\n",
      "[['suction tube', 'suction', 'blood'], ['navigation probe', 'sense', 'tissue']]\n"
     ]
    },
    {
     "name": "stderr",
     "output_type": "stream",
     "text": [
      "  6%|▌         | 45/802 [01:41<28:09,  2.23s/it]"
     ]
    },
    {
     "name": "stdout",
     "output_type": "stream",
     "text": [
      "A suction tube is employed to suck away the blood in the surgical area. Then, a navigation probe is utilized to detect the tissue, aiding in operation navigation.\n",
      "[['suction tube', 'manipulate', 'tissue'], ['driller', 'drill', 'bone']]\n"
     ]
    },
    {
     "name": "stderr",
     "output_type": "stream",
     "text": [
      "  6%|▌         | 46/802 [01:46<38:37,  3.07s/it]"
     ]
    },
    {
     "name": "stdout",
     "output_type": "stream",
     "text": [
      "The image reveals a suction tube being utilised to manipulate tissue within the surgical space. In another part of the same operation, a driller is being used to penetrate bone structure.\n",
      "[['suction tube', 'manipulate', 'tissue'], ['bipolar electrode', 'cauterize', 'tissue']]\n"
     ]
    },
    {
     "name": "stderr",
     "output_type": "stream",
     "text": [
      "  6%|▌         | 47/802 [01:49<41:05,  3.27s/it]"
     ]
    },
    {
     "name": "stdout",
     "output_type": "stream",
     "text": [
      "The image depicts the use of a suction tube to manipulate tissue during a Transsphenoidal pituitary adenoma resection surgery. Additionally, a bipolar electrode is employed to cauterize tissue in the same procedure.\n",
      "[['driller', 'idle', 'idle']]\n"
     ]
    },
    {
     "name": "stderr",
     "output_type": "stream",
     "text": [
      "  6%|▌         | 48/802 [01:51<33:31,  2.67s/it]"
     ]
    },
    {
     "name": "stdout",
     "output_type": "stream",
     "text": [
      "The driller is currently idle and not operating on any target in the Transsphenoidal pituitary adenoma resection surgery.\n",
      "[['cup forcep', 'manipulate', 'packing material']]\n"
     ]
    },
    {
     "name": "stderr",
     "output_type": "stream",
     "text": [
      "  6%|▌         | 49/802 [01:52<29:59,  2.39s/it]"
     ]
    },
    {
     "name": "stdout",
     "output_type": "stream",
     "text": [
      "The image shows a cup forcep manipulating the packing material during a Transsphenoidal pituitary adenoma resection surgery.\n",
      "[['monopolar electrode', 'manipulate', 'tissue'], ['scalpel', 'cut', 'tumor']]\n"
     ]
    },
    {
     "name": "stderr",
     "output_type": "stream",
     "text": [
      "  6%|▌         | 50/802 [01:54<25:47,  2.06s/it]"
     ]
    },
    {
     "name": "stdout",
     "output_type": "stream",
     "text": [
      "The image showcases a monopolar electrode manipulating tissue during a transsphenoidal pituitary adenoma resection surgery. Additionally, a scalpel is visibly cutting the tumor.\n",
      "[['suction tube', 'manipulate', 'tissue'], ['freer', 'manipulate', 'tissue'], ['suction tube', 'manipulate', 'packing material']]\n"
     ]
    },
    {
     "name": "stderr",
     "output_type": "stream",
     "text": [
      "  6%|▋         | 51/802 [01:56<25:22,  2.03s/it]"
     ]
    },
    {
     "name": "stdout",
     "output_type": "stream",
     "text": [
      "The image depicts a suction tube being used to manipulate tissue during a transsphenoidal pituitary adenoma resection. It also illustrates a freer being employed to manipulate tissue within the same surgical procedure. Furthermore, the image portrays the use of a suction tube in manipulating packing material in the operation.\n",
      "[['suction tube', 'suction', 'blood'], ['navigation probe', 'sense', 'tissue']]\n"
     ]
    },
    {
     "name": "stderr",
     "output_type": "stream",
     "text": [
      "  6%|▋         | 52/802 [01:58<28:22,  2.27s/it]"
     ]
    },
    {
     "name": "stdout",
     "output_type": "stream",
     "text": [
      "The suction tube is used to suction away blood during the Transsphenoidal pituitary adenoma resection surgery. Additionally, a navigation probe is utilized to sense the tissue in the operation.\n",
      "[['suction tube', 'manipulate', 'tissue'], ['monopolar electrode', 'cauterize', 'tissue']]\n"
     ]
    },
    {
     "name": "stderr",
     "output_type": "stream",
     "text": [
      "  7%|▋         | 53/802 [02:00<26:28,  2.12s/it]"
     ]
    },
    {
     "name": "stdout",
     "output_type": "stream",
     "text": [
      "The image depicts the use of a suction tube to manipulate tissue during a Transsphenoidal pituitary adenoma resection surgery. Additionally, a monopolar electrode is shown cauterizing tissue.\n",
      "[['navigation probe', 'sense', 'tissue']]\n"
     ]
    },
    {
     "name": "stderr",
     "output_type": "stream",
     "text": [
      "  7%|▋         | 54/802 [02:02<23:44,  1.90s/it]"
     ]
    },
    {
     "name": "stdout",
     "output_type": "stream",
     "text": [
      "The image depicts a navigation probe sensing the tissue during a transsphenoidal pituitary adenoma resection surgery.\n",
      "[['suction tube', 'suction', 'blood'], ['cutting forcep', 'remove', 'bone']]\n"
     ]
    },
    {
     "name": "stderr",
     "output_type": "stream",
     "text": [
      "  7%|▋         | 55/802 [02:05<28:50,  2.32s/it]"
     ]
    },
    {
     "name": "stdout",
     "output_type": "stream",
     "text": [
      "A suction tube is being used to suction blood during the Transsphenoidal pituitary adenoma resection surgery. Concurrently, a cutting forcep is employed to remove bone.\n",
      "[['ultrasound probe', 'sense', 'vessel']]\n"
     ]
    },
    {
     "name": "stderr",
     "output_type": "stream",
     "text": [
      "  7%|▋         | 56/802 [02:06<25:16,  2.03s/it]"
     ]
    },
    {
     "name": "stdout",
     "output_type": "stream",
     "text": [
      "An ultrasound probe is being used to sense a vessel during a Transsphenoidal pituitary adenoma resection surgery.\n",
      "[['suction tube', 'suction', 'blood'], ['rongeur', 'manipulate', 'bone'], ['navigation probe', 'sense', 'tissue']]\n"
     ]
    },
    {
     "name": "stderr",
     "output_type": "stream",
     "text": [
      "  7%|▋         | 57/802 [02:09<28:46,  2.32s/it]"
     ]
    },
    {
     "name": "stdout",
     "output_type": "stream",
     "text": [
      "The image showcases a suction tube being used to suction off the blood during a Transsphenoidal pituitary adenoma resection surgery. Also visible is a rongeur, which is being utilized to manipulate the bone. Additionally, a navigation probe is being utilized to sense the tissue.\n",
      "[['cutting forcep', 'remove', 'bone'], ['freer', 'manipulate', 'tissue']]\n"
     ]
    },
    {
     "name": "stderr",
     "output_type": "stream",
     "text": [
      "  7%|▋         | 58/802 [02:14<37:32,  3.03s/it]"
     ]
    },
    {
     "name": "stdout",
     "output_type": "stream",
     "text": [
      "The image shows a cutting forcep being used to remove a bone during a transsphenoidal pituitary adenoma resection surgery. It also displays a freer being utilized to manipulate tissue in the same operation.\n",
      "[['suction tube', 'suction', 'blood'], ['rongeur', 'remove', 'bone']]\n"
     ]
    },
    {
     "name": "stderr",
     "output_type": "stream",
     "text": [
      "  7%|▋         | 59/802 [02:17<36:27,  2.94s/it]"
     ]
    },
    {
     "name": "stdout",
     "output_type": "stream",
     "text": [
      "The image exhibits a suction tube being employed to extract blood. The image also showcases the use of a rongeur to eliminate bone during the Transsphenoidal pituitary adenoma resection surgery.\n",
      "[['ultrasound probe', 'sense', 'vessel']]\n"
     ]
    },
    {
     "name": "stderr",
     "output_type": "stream",
     "text": [
      "  7%|▋         | 60/802 [02:19<32:31,  2.63s/it]"
     ]
    },
    {
     "name": "stdout",
     "output_type": "stream",
     "text": [
      "The ultrasound probe is being used to sense a vessel during a Transsphenoidal pituitary adenoma resection surgery.\n",
      "[['suction tube', 'suction', 'blood'], ['scalpel', 'cut', 'tumor']]\n"
     ]
    },
    {
     "name": "stderr",
     "output_type": "stream",
     "text": [
      "  8%|▊         | 61/802 [02:21<31:49,  2.58s/it]"
     ]
    },
    {
     "name": "stdout",
     "output_type": "stream",
     "text": [
      "A suction tube is being used to suction blood, while a scalpel is utilized to cut the tumor in a Transsphenoidal pituitary adenoma resection surgery.\n",
      "[['cutting forcep', 'remove', 'bone'], ['rongeur', 'remove', 'bone']]\n"
     ]
    },
    {
     "name": "stderr",
     "output_type": "stream",
     "text": [
      "  8%|▊         | 62/802 [02:23<29:58,  2.43s/it]"
     ]
    },
    {
     "name": "stdout",
     "output_type": "stream",
     "text": [
      "The image showcases a cutting forcep being utilized to remove a bone during a transsphenoidal pituitary adenoma resection surgery. In another scene, a rongeur is also being used for the purpose of bone removal.\n",
      "[['navigation probe', 'sense', 'tissue']]\n"
     ]
    },
    {
     "name": "stderr",
     "output_type": "stream",
     "text": [
      "  8%|▊         | 63/802 [02:25<28:01,  2.28s/it]"
     ]
    },
    {
     "name": "stdout",
     "output_type": "stream",
     "text": [
      "The navigation probe is being used to sense the tissue in the Transsphenoidal pituitary adenoma resection surgery.\n",
      "[['ultrasound probe', 'sense', 'vessel']]\n"
     ]
    },
    {
     "name": "stderr",
     "output_type": "stream",
     "text": [
      "  8%|▊         | 64/802 [02:26<23:36,  1.92s/it]"
     ]
    },
    {
     "name": "stdout",
     "output_type": "stream",
     "text": [
      "The ultrasound probe is sensing the vessel during the Transsphenoidal pituitary adenoma resection surgery.\n",
      "[['navigation probe', 'sense', 'tissue']]\n"
     ]
    },
    {
     "name": "stderr",
     "output_type": "stream",
     "text": [
      "  8%|▊         | 65/802 [02:28<22:10,  1.81s/it]"
     ]
    },
    {
     "name": "stdout",
     "output_type": "stream",
     "text": [
      "The navigation probe is sensing the tissue during the Transsphenoidal pituitary adenoma resection surgery.\n",
      "[['monopolar electrode', 'manipulate', 'tissue'], ['scalpel', 'cut', 'tumor']]\n"
     ]
    },
    {
     "name": "stderr",
     "output_type": "stream",
     "text": [
      "  8%|▊         | 66/802 [02:30<25:36,  2.09s/it]"
     ]
    },
    {
     "name": "stdout",
     "output_type": "stream",
     "text": [
      "The image illustrates the use of a monopolar electrode to manipulate the tissue during a transsphenoidal pituitary adenoma resection surgery. It further showcases the utilization of a scalpel to cut out the tumor in the procedure.\n",
      "[['suction tube', 'manipulate', 'tissue'], ['bipolar electrode', 'cauterize', 'tissue']]\n"
     ]
    },
    {
     "name": "stderr",
     "output_type": "stream",
     "text": [
      "  8%|▊         | 67/802 [02:33<29:25,  2.40s/it]"
     ]
    },
    {
     "name": "stdout",
     "output_type": "stream",
     "text": [
      "The image depicts the usage of a suction tube to manipulate the tissue during a Transsphenoidal pituitary adenoma resection surgery. Also, a bipolar electrode is seen used to cauterize the tissue in the same operation.\n",
      "[['suction tube', 'suction', 'blood'], ['rongeur', 'remove', 'bone']]\n"
     ]
    },
    {
     "name": "stderr",
     "output_type": "stream",
     "text": [
      "  8%|▊         | 68/802 [02:36<31:11,  2.55s/it]"
     ]
    },
    {
     "name": "stdout",
     "output_type": "stream",
     "text": [
      "A suction tube is being used to suction blood while a rongeur is employed to remove bone in a transsphenoidal pituitary adenoma resection surgery.\n",
      "[['scalpel', 'cut', 'tumor']]\n"
     ]
    },
    {
     "name": "stderr",
     "output_type": "stream",
     "text": [
      "  9%|▊         | 69/802 [02:39<30:40,  2.51s/it]"
     ]
    },
    {
     "name": "stdout",
     "output_type": "stream",
     "text": [
      "The scalpel is being used to cut the tumor in a Transsphenoidal pituitary adenoma resection surgery.\n",
      "[['navigation probe', 'sense', 'tissue']]\n"
     ]
    },
    {
     "name": "stderr",
     "output_type": "stream",
     "text": [
      "  9%|▊         | 70/802 [02:40<26:36,  2.18s/it]"
     ]
    },
    {
     "name": "stdout",
     "output_type": "stream",
     "text": [
      "A navigation probe is being utilized to sense the tissue during a Transsphenoidal pituitary adenoma resection surgery.\n",
      "[['suction tube', 'suction', 'blood'], ['rongeur', 'remove', 'bone']]\n"
     ]
    },
    {
     "name": "stderr",
     "output_type": "stream",
     "text": [
      "  9%|▉         | 71/802 [02:42<25:07,  2.06s/it]"
     ]
    },
    {
     "name": "stdout",
     "output_type": "stream",
     "text": [
      "The image depicts a suction tube being utilized to suck up blood during the operation. Additionally, a tool called a rongeur is being used to eradicate bone.\n",
      "[['suction tube', 'suction', 'blood'], ['injector', 'inject', 'glue']]\n"
     ]
    },
    {
     "name": "stderr",
     "output_type": "stream",
     "text": [
      "  9%|▉         | 72/802 [02:45<29:12,  2.40s/it]"
     ]
    },
    {
     "name": "stdout",
     "output_type": "stream",
     "text": [
      "In the image, a suction tube is being used to remove blood during a transsphenoidal pituitary adenoma resection surgery. Additionally, an injector is being applied to introduce glue into the operation site.\n",
      "[['scalpel', 'cut', 'tumor']]\n"
     ]
    },
    {
     "name": "stderr",
     "output_type": "stream",
     "text": [
      "  9%|▉         | 73/802 [02:46<25:05,  2.07s/it]"
     ]
    },
    {
     "name": "stdout",
     "output_type": "stream",
     "text": [
      "The image depicts a scalpel being used to cut a tumor during a Transsphenoidal pituitary adenoma resection surgery.\n",
      "[['suction tube', 'manipulate', 'tissue'], ['suction tube', 'suction', 'blood'], ['driller', 'drill', 'bone']]\n"
     ]
    },
    {
     "name": "stderr",
     "output_type": "stream",
     "text": [
      "  9%|▉         | 74/802 [02:50<31:15,  2.58s/it]"
     ]
    },
    {
     "name": "stdout",
     "output_type": "stream",
     "text": [
      "The image depicts a surgical tool known as a suction tube, manipulating tissue during a Transsphenoidal pituitary adenoma resection surgery. Additionally, the suction tube is also being used to suction out blood. A tool called a driller is also shown in the image, being used to drill through bone.\n",
      "[['suction tube', 'manipulate', 'tissue'], ['suction tube', 'manipulate', 'tumor'], ['bipolar electrode', 'idle', 'idle']]\n"
     ]
    },
    {
     "name": "stderr",
     "output_type": "stream",
     "text": [
      "  9%|▉         | 75/802 [02:55<37:35,  3.10s/it]"
     ]
    },
    {
     "name": "stdout",
     "output_type": "stream",
     "text": [
      "The image shows a suction tube being used to manipulate tissue during a Transsphenoidal pituitary adenoma resection surgery. The same suction tube is also used to manipulate the tumor. In addition, a bipolar electrode is seen in the picture but it is currently idle and not engaged in any action.\n",
      "[['suction tube', 'suction', 'blood'], ['cutting forcep', 'remove', 'bone']]\n"
     ]
    },
    {
     "name": "stderr",
     "output_type": "stream",
     "text": [
      "  9%|▉         | 76/802 [02:57<34:46,  2.87s/it]"
     ]
    },
    {
     "name": "stdout",
     "output_type": "stream",
     "text": [
      "The image portrays the usage of a suction tube to aspirate blood during a Transsphenoidal pituitary adenoma resection surgery. Concurrently, a cutting forcep is seen removing bone within the same surgical framework.\n",
      "[['driller', 'idle', 'idle']]\n"
     ]
    },
    {
     "name": "stderr",
     "output_type": "stream",
     "text": [
      " 10%|▉         | 77/802 [02:58<29:36,  2.45s/it]"
     ]
    },
    {
     "name": "stdout",
     "output_type": "stream",
     "text": [
      "The driller is currently idle and not in operation during the Transsphenoidal pituitary adenoma resection surgery.\n",
      "[['navigation probe', 'sense', 'tissue']]\n"
     ]
    },
    {
     "name": "stderr",
     "output_type": "stream",
     "text": [
      " 10%|▉         | 78/802 [03:00<27:24,  2.27s/it]"
     ]
    },
    {
     "name": "stdout",
     "output_type": "stream",
     "text": [
      "The navigation probe is sensing the tissue during a Transsphenoidal pituitary adenoma resection surgery.\n",
      "[['cutting forcep', 'manipulate', 'tissue']]\n"
     ]
    },
    {
     "name": "stderr",
     "output_type": "stream",
     "text": [
      " 10%|▉         | 79/802 [03:02<25:27,  2.11s/it]"
     ]
    },
    {
     "name": "stdout",
     "output_type": "stream",
     "text": [
      "The image depicts the use of a cutting forcep to manipulate tissue during a Transsphenoidal pituitary adenoma resection surgery.\n",
      "[['monopolar electrode', 'suction', 'blood'], ['monopolar electrode', 'cauterize', 'tissue']]\n"
     ]
    },
    {
     "name": "stderr",
     "output_type": "stream",
     "text": [
      " 10%|▉         | 80/802 [03:07<34:55,  2.90s/it]"
     ]
    },
    {
     "name": "stdout",
     "output_type": "stream",
     "text": [
      "The image shows a monopolar electrode being used to suction blood. Additionally, the same device is depicted cauterizing tissue during the transsphenoidal pituitary adenoma resection surgery.\n",
      "[['navigation probe', 'sense', 'tissue'], ['suction tube', 'suction', 'blood']]\n"
     ]
    },
    {
     "name": "stderr",
     "output_type": "stream",
     "text": [
      " 10%|█         | 81/802 [03:09<32:25,  2.70s/it]"
     ]
    },
    {
     "name": "stdout",
     "output_type": "stream",
     "text": [
      "The image depicts a navigation probe being utilized to sense the tissue during a Transsphenoidal pituitary adenoma resection surgery. Also, a suction tube is implemented to remove blood from the surgical site.\n",
      "[['suction tube', 'suction', 'tumor'], ['bipolar electrode', 'idle', 'idle']]\n"
     ]
    },
    {
     "name": "stderr",
     "output_type": "stream",
     "text": [
      " 10%|█         | 82/802 [03:11<28:21,  2.36s/it]"
     ]
    },
    {
     "name": "stdout",
     "output_type": "stream",
     "text": [
      "The image features a suction tube being used to extract the tumor during a transsphenoidal pituitary adenoma resection surgery. In addition, a bipolar electrode is present, but it's currently idle.\n",
      "[['injector', 'inject', 'glue']]\n"
     ]
    },
    {
     "name": "stderr",
     "output_type": "stream",
     "text": [
      " 10%|█         | 83/802 [03:12<24:23,  2.03s/it]"
     ]
    },
    {
     "name": "stdout",
     "output_type": "stream",
     "text": [
      "An injector is being used to inject glue in a Transsphenoidal pituitary adenoma resection surgery.\n",
      "[['monopolar electrode', 'cauterize', 'tissue']]\n"
     ]
    },
    {
     "name": "stderr",
     "output_type": "stream",
     "text": [
      " 10%|█         | 84/802 [03:14<24:47,  2.07s/it]"
     ]
    },
    {
     "name": "stdout",
     "output_type": "stream",
     "text": [
      "The monopolar electrode is used to cauterize the tissue in transsphenoidal pituitary adenoma resection surgery.\n",
      "[['navigation probe', 'sense', 'tissue']]\n"
     ]
    },
    {
     "name": "stderr",
     "output_type": "stream",
     "text": [
      " 11%|█         | 85/802 [03:16<23:22,  1.96s/it]"
     ]
    },
    {
     "name": "stdout",
     "output_type": "stream",
     "text": [
      "The image shows a navigation probe being used to sense tissue during a Transsphenoidal pituitary adenoma resection surgery.\n",
      "[['suction tube', 'suction', 'blood']]\n"
     ]
    },
    {
     "name": "stderr",
     "output_type": "stream",
     "text": [
      " 11%|█         | 86/802 [03:17<20:54,  1.75s/it]"
     ]
    },
    {
     "name": "stdout",
     "output_type": "stream",
     "text": [
      "The image displays a suction tube being utilized to suction blood during a Transsphenoidal pituitary adenoma resection surgery.\n",
      "[['navigation probe', 'sense', 'tissue']]\n"
     ]
    },
    {
     "name": "stderr",
     "output_type": "stream",
     "text": [
      " 11%|█         | 87/802 [03:18<19:59,  1.68s/it]"
     ]
    },
    {
     "name": "stdout",
     "output_type": "stream",
     "text": [
      "The navigation probe is being used to sense the tissue during a Transsphenoidal pituitary adenoma resection surgery.\n",
      "[['ultrasound probe', 'sense', 'vessel']]\n"
     ]
    },
    {
     "name": "stderr",
     "output_type": "stream",
     "text": [
      " 11%|█         | 88/802 [03:20<19:22,  1.63s/it]"
     ]
    },
    {
     "name": "stdout",
     "output_type": "stream",
     "text": [
      "The ultrasound probe is used to sense the vessel during the Transsphenoidal pituitary adenoma resection surgery.\n",
      "[['freer', 'manipulate', 'tissue'], ['rongeur', 'manipulate', 'tissue']]\n"
     ]
    },
    {
     "name": "stderr",
     "output_type": "stream",
     "text": [
      " 11%|█         | 89/802 [03:22<21:11,  1.78s/it]"
     ]
    },
    {
     "name": "stdout",
     "output_type": "stream",
     "text": [
      "The image illustrates the use of a freer to manipulate tissue during a Transsphenoidal pituitary adenoma resection surgery, followed by the employment of a rongeur for similar tissue manipulation.\n",
      "[['suction tube', 'suction', 'blood'], ['cutting forcep', 'cut', 'tissue']]\n"
     ]
    },
    {
     "name": "stderr",
     "output_type": "stream",
     "text": [
      " 11%|█         | 90/802 [03:24<22:56,  1.93s/it]"
     ]
    },
    {
     "name": "stdout",
     "output_type": "stream",
     "text": [
      "A suction tube is being used to suction blood in a Transsphenoidal pituitary adenoma resection surgery. Concurrently, a cutting forcep is applied to cut through the tissue.\n",
      "[['cup forcep', 'manipulate', 'packing material']]\n"
     ]
    },
    {
     "name": "stderr",
     "output_type": "stream",
     "text": [
      " 11%|█▏        | 91/802 [03:26<23:33,  1.99s/it]"
     ]
    },
    {
     "name": "stdout",
     "output_type": "stream",
     "text": [
      "The image showcases a cup forcep being used to manipulate the packing material in a Transsphenoidal pituitary adenoma resection surgery.\n",
      "[['monopolar electrode', 'manipulate', 'tissue'], ['scalpel', 'cut', 'tumor']]\n"
     ]
    },
    {
     "name": "stderr",
     "output_type": "stream",
     "text": [
      " 11%|█▏        | 92/802 [03:28<21:36,  1.83s/it]"
     ]
    },
    {
     "name": "stdout",
     "output_type": "stream",
     "text": [
      "The image showcases a monopolar electrode being used to manipulate the tissue. Meanwhile, a scalpel is depicted making an incision into the tumor.\n",
      "[['monopolar electrode', 'cauterize', 'tissue']]\n"
     ]
    },
    {
     "name": "stderr",
     "output_type": "stream",
     "text": [
      " 12%|█▏        | 93/802 [03:30<22:53,  1.94s/it]"
     ]
    },
    {
     "name": "stdout",
     "output_type": "stream",
     "text": [
      "The image displays a monopolar electrode being used to cauterize tissue during a Transsphenoidal pituitary adenoma resection surgery.\n",
      "[['monopolar electrode', 'cauterize', 'tissue']]\n"
     ]
    },
    {
     "name": "stderr",
     "output_type": "stream",
     "text": [
      " 12%|█▏        | 94/802 [03:32<22:46,  1.93s/it]"
     ]
    },
    {
     "name": "stdout",
     "output_type": "stream",
     "text": [
      "The image shows a monopolar electrode being used to cauterize tissue during a transsphenoidal pituitary adenoma resection surgery.\n",
      "[['scissor', 'cut', 'tissue']]\n"
     ]
    },
    {
     "name": "stderr",
     "output_type": "stream",
     "text": [
      " 12%|█▏        | 95/802 [03:33<20:31,  1.74s/it]"
     ]
    },
    {
     "name": "stdout",
     "output_type": "stream",
     "text": [
      "The image shows a scissor being used to cut tissue during a Transsphenoidal pituitary adenoma resection surgery.\n",
      "[['injector', 'inject', 'glue']]\n"
     ]
    },
    {
     "name": "stderr",
     "output_type": "stream",
     "text": [
      " 12%|█▏        | 96/802 [03:35<21:23,  1.82s/it]"
     ]
    },
    {
     "name": "stdout",
     "output_type": "stream",
     "text": [
      "The image depicts the use of an injector, which is used to insert glue during a Transsphenoidal pituitary adenoma resection surgery.\n",
      "[['suction tube', 'suction', 'blood'], ['rongeur', 'remove', 'bone']]\n"
     ]
    },
    {
     "name": "stderr",
     "output_type": "stream",
     "text": [
      " 12%|█▏        | 97/802 [03:38<25:28,  2.17s/it]"
     ]
    },
    {
     "name": "stdout",
     "output_type": "stream",
     "text": [
      "The image depicts the use of a suction tube to drain blood during a Transsphenoidal pituitary adenoma resection surgery. Additionally, a rongeur is seen being utilized to remove bone.\n",
      "[['ultrasound probe', 'sense', 'vessel']]\n"
     ]
    },
    {
     "name": "stderr",
     "output_type": "stream",
     "text": [
      " 12%|█▏        | 98/802 [03:40<24:32,  2.09s/it]"
     ]
    },
    {
     "name": "stdout",
     "output_type": "stream",
     "text": [
      "The ultrasound probe is being used to sense the vessel in a Transsphenoidal pituitary adenoma resection surgery.\n",
      "[['navigation probe', 'sense', 'tissue']]\n"
     ]
    },
    {
     "name": "stderr",
     "output_type": "stream",
     "text": [
      " 12%|█▏        | 99/802 [03:41<20:18,  1.73s/it]"
     ]
    },
    {
     "name": "stdout",
     "output_type": "stream",
     "text": [
      "The navigation probe is sensing the tissue during a Transsphenoidal pituitary adenoma resection surgery.\n",
      "[['freer', 'manipulate', 'tissue'], ['suction tube', 'suction', 'blood']]\n"
     ]
    },
    {
     "name": "stderr",
     "output_type": "stream",
     "text": [
      " 12%|█▏        | 100/802 [03:44<24:00,  2.05s/it]"
     ]
    },
    {
     "name": "stdout",
     "output_type": "stream",
     "text": [
      "The image illustrates a 'freer' being used to manipulate tissue during a transsphenoidal pituitary adenoma resection surgery. Additionally, a 'suction tube' is being employed to suction off blood.\n",
      "[['rongeur', 'remove', 'bone'], ['suction tube', 'suction', 'blood']]\n"
     ]
    },
    {
     "name": "stderr",
     "output_type": "stream",
     "text": [
      " 13%|█▎        | 101/802 [03:46<22:43,  1.94s/it]"
     ]
    },
    {
     "name": "stdout",
     "output_type": "stream",
     "text": [
      "<class 'KeyError'> 'content'\n",
      "None\n",
      "[['scalpel', 'cut', 'tissue']]\n"
     ]
    },
    {
     "name": "stderr",
     "output_type": "stream",
     "text": [
      " 13%|█▎        | 102/802 [03:47<21:02,  1.80s/it]"
     ]
    },
    {
     "name": "stdout",
     "output_type": "stream",
     "text": [
      "The image depicts the use of a scalpel to cut tissue during a Transsphenoidal pituitary adenoma resection surgery.\n",
      "[['navigation probe', 'sense', 'tissue']]\n"
     ]
    },
    {
     "name": "stderr",
     "output_type": "stream",
     "text": [
      " 13%|█▎        | 103/802 [03:49<20:38,  1.77s/it]"
     ]
    },
    {
     "name": "stdout",
     "output_type": "stream",
     "text": [
      "The image illustrates the usage of a navigation probe, which is employed to sense the tissue during a Transsphenoidal pituitary adenoma resection surgery.\n",
      "[['monopolar electrode', 'suction', 'blood'], ['monopolar electrode', 'manipulate', 'tissue'], ['curette', 'scoop', 'tumor']]\n"
     ]
    },
    {
     "name": "stderr",
     "output_type": "stream",
     "text": [
      " 13%|█▎        | 104/802 [03:51<22:27,  1.93s/it]"
     ]
    },
    {
     "name": "stdout",
     "output_type": "stream",
     "text": [
      "The image illustrates a monopolar electrode suctioning blood during a Transsphenoidal pituitary adenoma resection surgery. In another scene, the monopolar electrode is seen manipulating the tissue. Lastly, a curette is used to scoop out the tumor.\n",
      "[['suction tube', 'suction', 'blood'], ['scissor', 'cut', 'tissue']]\n"
     ]
    },
    {
     "name": "stderr",
     "output_type": "stream",
     "text": [
      " 13%|█▎        | 105/802 [03:54<25:02,  2.16s/it]"
     ]
    },
    {
     "name": "stdout",
     "output_type": "stream",
     "text": [
      "The image illustrates a suction tube being used to extract blood during a Transsphenoidal pituitary adenoma resection surgery. It also displays a pair of scissors skillfully snipping away at the tissue.\n",
      "[['cutting forcep', 'remove', 'bone'], ['monopolar electrode', 'suction', 'blood']]\n"
     ]
    },
    {
     "name": "stderr",
     "output_type": "stream",
     "text": [
      " 13%|█▎        | 106/802 [03:56<25:01,  2.16s/it]"
     ]
    },
    {
     "name": "stdout",
     "output_type": "stream",
     "text": [
      "The image showcases a cutting forcep being used to remove the bone in a Transsphenoidal pituitary adenoma resection surgery. Additionally, a monopolar electrode is utilized for the suction of blood.\n",
      "[['suction tube', 'manipulate', 'tissue'], ['curette', 'scoop', 'tumor'], ['cup forcep', 'remove', 'tumor']]\n"
     ]
    },
    {
     "name": "stderr",
     "output_type": "stream",
     "text": [
      " 13%|█▎        | 107/802 [03:59<27:59,  2.42s/it]"
     ]
    },
    {
     "name": "stdout",
     "output_type": "stream",
     "text": [
      "The image shows a suction tube being used to manipulate the tissue during a Transsphenoidal pituitary adenoma resection surgery. Then, a curette is utilized to scoop the tumor out. Lastly, a cup forcep is employed to remove the tumor from the patient's body.\n",
      "[['ultrasound probe', 'sense', 'vessel'], ['suction tube', 'suction', 'blood']]\n"
     ]
    },
    {
     "name": "stderr",
     "output_type": "stream",
     "text": [
      " 13%|█▎        | 108/802 [04:01<26:20,  2.28s/it]"
     ]
    },
    {
     "name": "stdout",
     "output_type": "stream",
     "text": [
      "An ultrasound probe is being used to sense a vessel, while a suction tube is simultaneously utilized to suction blood during a transsphenoidal pituitary adenoma resection surgery.\n",
      "[['rongeur', 'remove', 'bone'], ['suction tube', 'suction', 'blood']]\n"
     ]
    },
    {
     "name": "stderr",
     "output_type": "stream",
     "text": [
      " 14%|█▎        | 109/802 [04:03<26:16,  2.28s/it]"
     ]
    },
    {
     "name": "stdout",
     "output_type": "stream",
     "text": [
      "A rongeur is utilized to extract bone during the transsphenoidal pituitary adenoma resection surgery. Similarly, a suction tube is being used to aspirate blood in the operation.\n",
      "[['navigation probe', 'sense', 'tissue']]\n"
     ]
    },
    {
     "name": "stderr",
     "output_type": "stream",
     "text": [
      " 14%|█▎        | 110/802 [04:05<23:38,  2.05s/it]"
     ]
    },
    {
     "name": "stdout",
     "output_type": "stream",
     "text": [
      "The navigation probe is being used to sense the tissue in the Transsphenoidal pituitary adenoma resection surgery.\n",
      "[['cup forcep', 'manipulate', 'packing material']]\n"
     ]
    },
    {
     "name": "stderr",
     "output_type": "stream",
     "text": [
      " 14%|█▍        | 111/802 [04:06<20:55,  1.82s/it]"
     ]
    },
    {
     "name": "stdout",
     "output_type": "stream",
     "text": [
      "The cup forcep is seen manipulating the packing material during the transsphenoidal pituitary adenoma resection surgery.\n",
      "[['suction tube', 'manipulate', 'tissue'], ['bipolar electrode', 'cauterize', 'tissue']]\n"
     ]
    },
    {
     "name": "stderr",
     "output_type": "stream",
     "text": [
      " 14%|█▍        | 112/802 [04:08<22:19,  1.94s/it]"
     ]
    },
    {
     "name": "stdout",
     "output_type": "stream",
     "text": [
      "The image depicts a suction tube being utilized to manipulate tissue during a transsphenoidal pituitary adenoma resection surgery. In a complementary action, a bipolar electrode is being applied to cauterize the same tissue.\n",
      "[['rongeur', 'remove', 'bone'], ['suction tube', 'suction', 'blood']]\n"
     ]
    },
    {
     "name": "stderr",
     "output_type": "stream",
     "text": [
      " 14%|█▍        | 113/802 [04:11<23:45,  2.07s/it]"
     ]
    },
    {
     "name": "stdout",
     "output_type": "stream",
     "text": [
      "The image depicts an active surgery scene, where a rongeur is being utilized to remove bone. In another part of the image, a suction tube is in action, aspirating blood.\n",
      "[['injector', 'inject', 'glue']]\n"
     ]
    },
    {
     "name": "stderr",
     "output_type": "stream",
     "text": [
      " 14%|█▍        | 114/802 [04:12<23:12,  2.02s/it]"
     ]
    },
    {
     "name": "stdout",
     "output_type": "stream",
     "text": [
      "The image depicts the use of an injector in a Transsphenoidal pituitary adenoma resection surgery to inject glue.\n",
      "[['curette', 'scoop', 'tumor'], ['scalpel', 'idle', 'idle'], ['monopolar electrode', 'manipulate', 'tissue']]\n"
     ]
    },
    {
     "name": "stderr",
     "output_type": "stream",
     "text": [
      " 14%|█▍        | 115/802 [04:15<23:42,  2.07s/it]"
     ]
    },
    {
     "name": "stdout",
     "output_type": "stream",
     "text": [
      "The image depicts the curette being used to scoop the tumor during a transsphenoidal pituitary adenoma resection surgery. In contrast, the scalpel is idle with no current use. Additionally, the monopolar electrode is seen manipulating the tissue in the surgical field.\n",
      "[['cutting forcep', 'remove', 'bone'], ['monopolar electrode', 'suction', 'blood']]\n"
     ]
    },
    {
     "name": "stderr",
     "output_type": "stream",
     "text": [
      " 14%|█▍        | 116/802 [04:17<23:14,  2.03s/it]"
     ]
    },
    {
     "name": "stdout",
     "output_type": "stream",
     "text": [
      "The image showcases a cutting forcep removing bone material in a transsphenoidal pituitary adenoma resection surgery. Additionally, it depicts the use of a monopolar electrode for the suction of blood.\n",
      "[['suction tube', 'suction', 'blood'], ['scissor', 'cut', 'tissue']]\n"
     ]
    },
    {
     "name": "stderr",
     "output_type": "stream",
     "text": [
      " 15%|█▍        | 117/802 [04:20<28:03,  2.46s/it]"
     ]
    },
    {
     "name": "stdout",
     "output_type": "stream",
     "text": [
      "The image shows a suction tube being utilized to suction blood during a Transsphenoidal pituitary adenoma resection surgery. Additionally, the image also captures a pair of scissors being used to cut through tissue in the surgery process.\n",
      "[['monopolar electrode', 'cauterize', 'tissue']]\n"
     ]
    },
    {
     "name": "stderr",
     "output_type": "stream",
     "text": [
      " 15%|█▍        | 118/802 [04:22<25:53,  2.27s/it]"
     ]
    },
    {
     "name": "stdout",
     "output_type": "stream",
     "text": [
      "The image shows a monopolar electrode being used to cauterize tissue during a transsphenoidal pituitary adenoma resection surgery.\n",
      "[['freer', 'manipulate', 'tissue'], ['suction tube', 'suction', 'blood']]\n"
     ]
    },
    {
     "name": "stderr",
     "output_type": "stream",
     "text": [
      " 15%|█▍        | 119/802 [04:25<27:42,  2.43s/it]"
     ]
    },
    {
     "name": "stdout",
     "output_type": "stream",
     "text": [
      "The image showcases the use of a freer to manipulate tissue during a Transsphenoidal pituitary adenoma resection surgery. In a different part of the surgery, a suction tube is being used to suction blood.\n",
      "[['driller', 'drill', 'bone'], ['driller', 'suction', 'blood']]\n"
     ]
    },
    {
     "name": "stderr",
     "output_type": "stream",
     "text": [
      " 15%|█▍        | 120/802 [04:26<23:28,  2.07s/it]"
     ]
    },
    {
     "name": "stdout",
     "output_type": "stream",
     "text": [
      "<class 'KeyError'> 'content'\n",
      "None\n",
      "[['ultrasound probe', 'sense', 'vessel']]\n"
     ]
    },
    {
     "name": "stderr",
     "output_type": "stream",
     "text": [
      " 15%|█▌        | 121/802 [04:29<25:32,  2.25s/it]"
     ]
    },
    {
     "name": "stdout",
     "output_type": "stream",
     "text": [
      "The ultrasound probe is being used to sense a vessel during a Transsphenoidal pituitary adenoma resection surgery.\n",
      "[['suction tube', 'suction', 'tumor']]\n"
     ]
    },
    {
     "name": "stderr",
     "output_type": "stream",
     "text": [
      " 15%|█▌        | 122/802 [04:30<23:07,  2.04s/it]"
     ]
    },
    {
     "name": "stdout",
     "output_type": "stream",
     "text": [
      "The image shows a suction tube being used to suction a tumor during a Transsphenoidal pituitary adenoma resection surgery.\n",
      "[['suction tube', 'manipulate', 'tissue'], ['bipolar electrode', 'cauterize', 'tissue']]\n"
     ]
    },
    {
     "name": "stderr",
     "output_type": "stream",
     "text": [
      " 15%|█▌        | 123/802 [04:33<27:07,  2.40s/it]"
     ]
    },
    {
     "name": "stdout",
     "output_type": "stream",
     "text": [
      "The image showcases a suction tube being employed to manipulate the tissue during a Transsphenoidal pituitary adenoma resection surgery. Additionally, a bipolar electrode is visibly being used to cauterize the same tissue.\n",
      "[['scalpel', 'cut', 'tumor']]\n"
     ]
    },
    {
     "name": "stderr",
     "output_type": "stream",
     "text": [
      " 15%|█▌        | 124/802 [04:35<25:46,  2.28s/it]"
     ]
    },
    {
     "name": "stdout",
     "output_type": "stream",
     "text": [
      "The image depicts a scalpel being used to cut a tumor in a Transsphenoidal pituitary adenoma resection surgery.\n",
      "[['navigation probe', 'sense', 'tissue'], ['suction tube', 'suction', 'blood']]\n"
     ]
    },
    {
     "name": "stderr",
     "output_type": "stream",
     "text": [
      " 16%|█▌        | 125/802 [04:38<26:27,  2.35s/it]"
     ]
    },
    {
     "name": "stdout",
     "output_type": "stream",
     "text": [
      "The image depicts the utilization of a navigation probe to sense the tissue during Transsphenoidal pituitary adenoma resection surgery. Additionally, a suction tube is evident in the image, used to suction blood during the procedure.\n",
      "[['cup forcep', 'manipulate', 'packing material']]\n"
     ]
    },
    {
     "name": "stderr",
     "output_type": "stream",
     "text": [
      " 16%|█▌        | 126/802 [04:40<24:43,  2.19s/it]"
     ]
    },
    {
     "name": "stdout",
     "output_type": "stream",
     "text": [
      "The image depicts the use of a cup forcep to manipulate the packing material during a Transsphenoidal pituitary adenoma resection surgery.\n",
      "[['freer', 'cut', 'tissue'], ['monopolar electrode', 'cauterize', 'tissue']]\n"
     ]
    },
    {
     "name": "stderr",
     "output_type": "stream",
     "text": [
      " 16%|█▌        | 127/802 [04:43<27:16,  2.42s/it]"
     ]
    },
    {
     "name": "stdout",
     "output_type": "stream",
     "text": [
      "The image depicts a freer being used to cut tissue during a Transsphenoidal pituitary adenoma resection surgery. Next, it illustrates a monopolar electrode employed to cauterize the tissue.\n",
      "[['suction tube', 'manipulate', 'tissue'], ['driller', 'drill', 'bone']]\n"
     ]
    },
    {
     "name": "stderr",
     "output_type": "stream",
     "text": [
      " 16%|█▌        | 128/802 [04:45<26:37,  2.37s/it]"
     ]
    },
    {
     "name": "stdout",
     "output_type": "stream",
     "text": [
      "The image shows a surgery where a suction tube is being used to manipulate the tissue, while simultaneously, a driller is being employed to drill through the bone in a transsphenoidal pituitary adenoma resection.\n",
      "[['suction tube', 'suction', 'blood'], ['cutting forcep', 'remove', 'bone']]\n"
     ]
    },
    {
     "name": "stderr",
     "output_type": "stream",
     "text": [
      " 16%|█▌        | 129/802 [04:47<25:29,  2.27s/it]"
     ]
    },
    {
     "name": "stdout",
     "output_type": "stream",
     "text": [
      "The image depicts a suction tube being utilized to suction blood during a transsphenoidal pituitary adenoma resection surgery. Additionally, it also shows a cutting forcep being used to remove bone in the same procedure.\n",
      "[['suction tube', 'suction', 'blood'], ['ultrasound probe', 'sense', 'vessel']]\n"
     ]
    },
    {
     "name": "stderr",
     "output_type": "stream",
     "text": [
      " 16%|█▌        | 130/802 [04:49<23:28,  2.10s/it]"
     ]
    },
    {
     "name": "stdout",
     "output_type": "stream",
     "text": [
      "A suction tube is being used to suction blood in the Transsphenoidal pituitary adenoma resection surgery. Furthermore, an ultrasound probe is sensing a vessel during the same procedure.\n",
      "[['freer', 'manipulate', 'tissue'], ['cup forcep', 'manipulate', 'tissue']]\n"
     ]
    },
    {
     "name": "stderr",
     "output_type": "stream",
     "text": [
      " 16%|█▋        | 131/802 [04:51<24:02,  2.15s/it]"
     ]
    },
    {
     "name": "stdout",
     "output_type": "stream",
     "text": [
      "A freer is being used to manipulate the tissue in a Transsphenoidal pituitary adenoma resection surgery. Additionally, a cup forcep is also employed to manage the tissue during the procedure.\n",
      "[['cutting forcep', 'manipulate', 'tissue']]\n"
     ]
    },
    {
     "name": "stderr",
     "output_type": "stream",
     "text": [
      " 16%|█▋        | 132/802 [04:52<21:18,  1.91s/it]"
     ]
    },
    {
     "name": "stdout",
     "output_type": "stream",
     "text": [
      "The image shows a cutting forcep being used to manipulate tissue during a Transsphenoidal pituitary adenoma resection surgery.\n",
      "[['scissor', 'cut', 'tissue'], ['suction tube', 'suction', 'blood']]\n"
     ]
    },
    {
     "name": "stderr",
     "output_type": "stream",
     "text": [
      " 17%|█▋        | 133/802 [04:56<25:52,  2.32s/it]"
     ]
    },
    {
     "name": "stdout",
     "output_type": "stream",
     "text": [
      "The image illustrates the use of a scissor cutting away the tissue during a Transsphenoidal pituitary adenoma resection surgery. Additionally, a suction tube is seen in action, removing blood from the surgical site.\n",
      "[['rongeur', 'manipulate', 'packing material'], ['suction tube', 'suction', 'tumor']]\n"
     ]
    },
    {
     "name": "stderr",
     "output_type": "stream",
     "text": [
      " 17%|█▋        | 134/802 [04:57<24:19,  2.19s/it]"
     ]
    },
    {
     "name": "stdout",
     "output_type": "stream",
     "text": [
      "The image illustrates a rongeur being used to manipulate packing material during a transsphenoidal pituitary adenoma resection surgery. It also displays a suction tube performing suction on the tumor.\n",
      "[['suction tube', 'suction', 'blood'], ['navigation probe', 'sense', 'tissue']]\n"
     ]
    },
    {
     "name": "stderr",
     "output_type": "stream",
     "text": [
      " 17%|█▋        | 135/802 [04:59<23:43,  2.13s/it]"
     ]
    },
    {
     "name": "stdout",
     "output_type": "stream",
     "text": [
      "The image shows a suction tube being utilized to suction blood during a Transsphenoidal pituitary adenoma resection surgery. In another part of the image, a navigation probe is being used to sense the tissue.\n",
      "[['monopolar electrode', 'manipulate', 'tissue'], ['scalpel', 'cut', 'tumor']]\n"
     ]
    },
    {
     "name": "stderr",
     "output_type": "stream",
     "text": [
      " 17%|█▋        | 136/802 [05:03<29:44,  2.68s/it]"
     ]
    },
    {
     "name": "stdout",
     "output_type": "stream",
     "text": [
      "The image displays a surgeon using a monopolar electrode to manipulate the tissue during a Transsphenoidal pituitary adenoma resection surgery. Simultaneously, a scalpel is being utilized to cut through the tumor.\n",
      "[['suction tube', 'manipulate', 'tissue'], ['driller', 'drill', 'bone'], ['suction tube', 'suction', 'blood']]\n"
     ]
    },
    {
     "name": "stderr",
     "output_type": "stream",
     "text": [
      " 17%|█▋        | 137/802 [05:10<41:11,  3.72s/it]"
     ]
    },
    {
     "name": "stdout",
     "output_type": "stream",
     "text": [
      "The image depicts a suction tube being used to manipulate the tissue during a Transsphenoidal pituitary adenoma resection surgery. It also presents a driller in action, drilling through the bone. Lastly, the suction tube is used again, this time to suction the blood.\n",
      "[['cup forcep', 'manipulate', 'packing material'], ['suction tube', 'suction', 'blood']]\n"
     ]
    },
    {
     "name": "stderr",
     "output_type": "stream",
     "text": [
      " 17%|█▋        | 138/802 [05:12<36:41,  3.32s/it]"
     ]
    },
    {
     "name": "stdout",
     "output_type": "stream",
     "text": [
      "The image portrays the use of a cup forcep manipulating the packing material during a Transsphenoidal pituitary adenoma resection surgery. Additionally, a suction tube is seen suctioning blood.\n",
      "[['suction tube', 'suction', 'tumor'], ['bipolar electrode', 'cauterize', 'tissue']]\n"
     ]
    },
    {
     "name": "stderr",
     "output_type": "stream",
     "text": [
      " 17%|█▋        | 139/802 [05:14<32:43,  2.96s/it]"
     ]
    },
    {
     "name": "stdout",
     "output_type": "stream",
     "text": [
      "The image showcases the use of a suction tube to remove the tumor in a transsphenoidal pituitary adenoma resection surgery. In addition, a bipolar electrode is depicted cauterizing tissue during the same procedure.\n",
      "[['navigation probe', 'sense', 'tissue']]\n"
     ]
    },
    {
     "name": "stderr",
     "output_type": "stream",
     "text": [
      " 17%|█▋        | 140/802 [05:15<27:15,  2.47s/it]"
     ]
    },
    {
     "name": "stdout",
     "output_type": "stream",
     "text": [
      "The navigation probe is being used to sense the tissue in a Transsphenoidal pituitary adenoma resection surgery.\n",
      "[['cutting forcep', 'remove', 'tissue']]\n"
     ]
    },
    {
     "name": "stderr",
     "output_type": "stream",
     "text": [
      " 18%|█▊        | 141/802 [05:17<24:27,  2.22s/it]"
     ]
    },
    {
     "name": "stdout",
     "output_type": "stream",
     "text": [
      "A cutting forcep is utilized to remove tissue during a Transsphenoidal pituitary adenoma resection surgery.\n",
      "[['suction tube', 'manipulate', 'tissue'], ['bipolar electrode', 'cauterize', 'tissue']]\n"
     ]
    },
    {
     "name": "stderr",
     "output_type": "stream",
     "text": [
      " 18%|█▊        | 142/802 [05:19<24:01,  2.18s/it]"
     ]
    },
    {
     "name": "stdout",
     "output_type": "stream",
     "text": [
      "The image visualizes a suction tube being utilized to manipulate tissue in a Transsphenoidal pituitary adenoma resection surgery. In a similar context, a bipolar electrode is also being deployed in order to cauterize the tissue.\n",
      "[['monopolar electrode', 'suction', 'blood'], ['monopolar electrode', 'manipulate', 'tissue'], ['curette', 'scoop', 'tumor']]\n"
     ]
    },
    {
     "name": "stderr",
     "output_type": "stream",
     "text": [
      " 18%|█▊        | 143/802 [05:21<23:28,  2.14s/it]"
     ]
    },
    {
     "name": "stdout",
     "output_type": "stream",
     "text": [
      "The image showcases a monopolar electrode suctioning blood, followed by the same tool being used to manipulate the tissue. Subsequently, a curette is seen scooping the tumor.\n",
      "[['ultrasound probe', 'sense', 'vessel']]\n"
     ]
    },
    {
     "name": "stderr",
     "output_type": "stream",
     "text": [
      " 18%|█▊        | 144/802 [05:22<19:27,  1.77s/it]"
     ]
    },
    {
     "name": "stdout",
     "output_type": "stream",
     "text": [
      "The ultrasound probe is sensing a vessel during the Transsphenoidal pituitary adenoma resection surgery.\n",
      "[['bipolar electrode', 'manipulate', 'tissue']]\n"
     ]
    },
    {
     "name": "stderr",
     "output_type": "stream",
     "text": [
      " 18%|█▊        | 145/802 [05:24<18:44,  1.71s/it]"
     ]
    },
    {
     "name": "stdout",
     "output_type": "stream",
     "text": [
      "The image depicts the manipulation of tissue using a bipolar electrode during a Transsphenoidal pituitary adenoma resection surgery.\n",
      "[['rongeur', 'remove', 'bone'], ['suction tube', 'suction', 'blood'], ['cutting forcep', 'remove', 'bone']]\n"
     ]
    },
    {
     "name": "stderr",
     "output_type": "stream",
     "text": [
      " 18%|█▊        | 146/802 [05:27<25:19,  2.32s/it]"
     ]
    },
    {
     "name": "stdout",
     "output_type": "stream",
     "text": [
      "The image illustrates a rongeur being utilized to excise a portion of bone during a transsphenoidal pituitary adenoma resection surgery. In addition, there is a suction tube being employed to suction off blood during the procedure. Lastly, a cutting forcep is seen in action, used for the removal of bone.\n",
      "[['cutting forcep', 'remove', 'bone']]\n"
     ]
    },
    {
     "name": "stderr",
     "output_type": "stream",
     "text": [
      " 18%|█▊        | 147/802 [05:29<23:27,  2.15s/it]"
     ]
    },
    {
     "name": "stdout",
     "output_type": "stream",
     "text": [
      "The image shows the usage of a cutting forcep to eliminate a bone during a Transsphenoidal pituitary adenoma resection surgery.\n",
      "[['curette', 'scoop', 'tumor'], ['suction tube', 'suction', 'tumor'], ['suction tube', 'suction', 'blood']]\n"
     ]
    },
    {
     "name": "stderr",
     "output_type": "stream",
     "text": [
      " 18%|█▊        | 148/802 [05:31<22:25,  2.06s/it]"
     ]
    },
    {
     "name": "stdout",
     "output_type": "stream",
     "text": [
      "The image showcases the use of a curette to scoop out the tumor during a Transsphenoidal pituitary adenoma resection surgery. Additionally, it also illustrates a suction tube, which is applied to extract the tumor and remove blood.\n",
      "[['suction tube', 'manipulate', 'tissue'], ['bipolar electrode', 'cauterize', 'tissue']]\n"
     ]
    },
    {
     "name": "stderr",
     "output_type": "stream",
     "text": [
      " 19%|█▊        | 149/802 [05:35<28:22,  2.61s/it]"
     ]
    },
    {
     "name": "stdout",
     "output_type": "stream",
     "text": [
      "The image showcases a suction tube that is being employed to manipulate the tissue within a transsphenoidal pituitary adenoma resection surgery. Additionally, it also features a bipolar electrode being utilized to cauterize the tissue.\n",
      "[['monopolar electrode', 'manipulate', 'tissue'], ['curette', 'scoop', 'tumor']]\n"
     ]
    },
    {
     "name": "stderr",
     "output_type": "stream",
     "text": [
      " 19%|█▊        | 150/802 [05:37<25:58,  2.39s/it]"
     ]
    },
    {
     "name": "stdout",
     "output_type": "stream",
     "text": [
      "The image presents the utilization of a monopolar electrode being deployed to manipulate the tissue and the subsequent use of a curette to scoop out the tumor during a Transsphenoidal pituitary adenoma resection surgery.\n",
      "[['ultrasound probe', 'sense', 'vessel']]\n"
     ]
    },
    {
     "name": "stderr",
     "output_type": "stream",
     "text": [
      " 19%|█▉        | 151/802 [05:38<23:16,  2.15s/it]"
     ]
    },
    {
     "name": "stdout",
     "output_type": "stream",
     "text": [
      "An ultrasound probe is being used to sense a vessel during a Transsphenoidal pituitary adenoma resection surgery.\n",
      "[['cutting forcep', 'remove', 'bone'], ['suction tube', 'suction', 'blood']]\n"
     ]
    },
    {
     "name": "stderr",
     "output_type": "stream",
     "text": [
      " 19%|█▉        | 152/802 [05:41<26:39,  2.46s/it]"
     ]
    },
    {
     "name": "stdout",
     "output_type": "stream",
     "text": [
      "The image portrays the meticulous process of a Transsphenoidal pituitary adenoma resection surgery where a cutting forcep is utilized to remove a section of bone. Concurrently, a suction tube is also depicted, employed to efficient suction off blood.\n",
      "[['injector', 'inject', 'glue']]\n"
     ]
    },
    {
     "name": "stderr",
     "output_type": "stream",
     "text": [
      " 19%|█▉        | 153/802 [05:43<23:39,  2.19s/it]"
     ]
    },
    {
     "name": "stdout",
     "output_type": "stream",
     "text": [
      "The injector is being used to inject glue during the transsphenoidal pituitary adenoma resection surgery.\n",
      "[['suction tube', 'suction', 'blood'], ['rongeur', 'remove', 'bone']]\n"
     ]
    },
    {
     "name": "stderr",
     "output_type": "stream",
     "text": [
      " 19%|█▉        | 154/802 [05:45<21:34,  2.00s/it]"
     ]
    },
    {
     "name": "stdout",
     "output_type": "stream",
     "text": [
      "The image illustrates a suction tube being used to suction blood, and a rongeur in the process of removing bone during a Transsphenoidal pituitary adenoma resection surgery.\n",
      "[['monopolar electrode', 'cauterize', 'tissue']]\n"
     ]
    },
    {
     "name": "stderr",
     "output_type": "stream",
     "text": [
      " 19%|█▉        | 155/802 [05:46<20:29,  1.90s/it]"
     ]
    },
    {
     "name": "stdout",
     "output_type": "stream",
     "text": [
      "The image depicts the use of a monopolar electrode to cauterize tissue during a Transsphenoidal pituitary adenoma resection surgery.\n",
      "[['scissor', 'cut', 'tissue'], ['suction tube', 'suction', 'blood']]\n"
     ]
    },
    {
     "name": "stderr",
     "output_type": "stream",
     "text": [
      " 19%|█▉        | 156/802 [05:49<23:34,  2.19s/it]"
     ]
    },
    {
     "name": "stdout",
     "output_type": "stream",
     "text": [
      "The image depicts a pair of scissors delicately cutting through the tissue during a transsphenoidal pituitary adenoma resection surgery. Meanwhile, a suction tube is seen efficiently executing the task of removing blood from the operative field.\n",
      "[['suction tube', 'manipulate', 'tissue'], ['driller', 'drill', 'bone']]\n"
     ]
    },
    {
     "name": "stderr",
     "output_type": "stream",
     "text": [
      " 20%|█▉        | 157/802 [05:51<23:33,  2.19s/it]"
     ]
    },
    {
     "name": "stdout",
     "output_type": "stream",
     "text": [
      "The image depicts the use of a suction tube to manipulate tissue during a Transsphenoidal pituitary adenoma resection surgery. Additionally, it also shows a driller being used to drill through bone.\n",
      "[['cutting forcep', 'remove', 'tissue']]\n"
     ]
    },
    {
     "name": "stderr",
     "output_type": "stream",
     "text": [
      " 20%|█▉        | 158/802 [05:54<24:09,  2.25s/it]"
     ]
    },
    {
     "name": "stdout",
     "output_type": "stream",
     "text": [
      "The image shows a cutting forcep being used to remove tissue during a Transsphenoidal pituitary adenoma resection surgery.\n",
      "[['rongeur', 'remove', 'bone'], ['suction tube', 'suction', 'blood']]\n"
     ]
    },
    {
     "name": "stderr",
     "output_type": "stream",
     "text": [
      " 20%|█▉        | 159/802 [05:57<27:01,  2.52s/it]"
     ]
    },
    {
     "name": "stdout",
     "output_type": "stream",
     "text": [
      "The image illustrates a rongeur being used to remove a section of bone during transsphenoidal pituitary adenoma resection surgery. Furthermore, a suction tube is seen effectively clearing away blood from the operated area.\n",
      "[['scalpel', 'cut', 'tumor'], ['suction tube', 'suction', 'blood']]\n"
     ]
    },
    {
     "name": "stderr",
     "output_type": "stream",
     "text": [
      " 20%|█▉        | 160/802 [05:59<24:43,  2.31s/it]"
     ]
    },
    {
     "name": "stdout",
     "output_type": "stream",
     "text": [
      "The image depicts a scalpel making a cut into the tumor, and a suction tube being used to remove the blood.\n",
      "[['navigation probe', 'sense', 'tissue'], ['suction tube', 'suction', 'blood']]\n"
     ]
    },
    {
     "name": "stderr",
     "output_type": "stream",
     "text": [
      " 20%|██        | 161/802 [06:01<23:58,  2.24s/it]"
     ]
    },
    {
     "name": "stdout",
     "output_type": "stream",
     "text": [
      "The image captures a navigation probe sensing tissue along with a suction tube suctioning blood during a Transsphenoidal pituitary adenoma resection surgery.\n",
      "[['suction tube', 'suction', 'tumor'], ['bipolar electrode', 'idle', 'idle']]\n"
     ]
    },
    {
     "name": "stderr",
     "output_type": "stream",
     "text": [
      " 20%|██        | 162/802 [06:04<25:29,  2.39s/it]"
     ]
    },
    {
     "name": "stdout",
     "output_type": "stream",
     "text": [
      "The image depicts a suction tube operating on a tumor by performing suction. Additionally, a bipolar electrode stands idle.\n",
      "[['suction tube', 'manipulate', 'tissue'], ['suction tube', 'suction', 'tumor']]\n"
     ]
    },
    {
     "name": "stderr",
     "output_type": "stream",
     "text": [
      " 20%|██        | 163/802 [06:06<24:16,  2.28s/it]"
     ]
    },
    {
     "name": "stdout",
     "output_type": "stream",
     "text": [
      "The image portrays a suction tube engaged in the manipulation of tissue in the context of a transsphenoidal pituitary adenoma resection surgery. It also shows the suction tube extracting the tumor.\n",
      "[['scalpel', 'cut', 'tumor']]\n"
     ]
    },
    {
     "name": "stderr",
     "output_type": "stream",
     "text": [
      " 20%|██        | 164/802 [06:07<21:11,  1.99s/it]"
     ]
    },
    {
     "name": "stdout",
     "output_type": "stream",
     "text": [
      "The image depicts the use of a scalpel to cut out a tumor during a Transsphenoidal pituitary adenoma resection surgery.\n",
      "[['bipolar electrode', 'cauterize', 'tissue'], ['suction tube', 'suction', 'blood']]\n"
     ]
    },
    {
     "name": "stderr",
     "output_type": "stream",
     "text": [
      " 21%|██        | 165/802 [06:09<21:26,  2.02s/it]"
     ]
    },
    {
     "name": "stdout",
     "output_type": "stream",
     "text": [
      "The image depicts the use of a bipolar electrode to cauterize tissue during a Transsphenoidal pituitary adenoma resection surgery. Simultaneously, a suction tube is being employed to suction blood.\n",
      "[['injector', 'inject', 'glue']]\n"
     ]
    },
    {
     "name": "stderr",
     "output_type": "stream",
     "text": [
      " 21%|██        | 166/802 [06:11<21:21,  2.02s/it]"
     ]
    },
    {
     "name": "stdout",
     "output_type": "stream",
     "text": [
      "The image shows an injector being used to inject glue during a Transsphenoidal pituitary adenoma resection surgery.\n",
      "[['ultrasound probe', 'sense', 'vessel']]\n"
     ]
    },
    {
     "name": "stderr",
     "output_type": "stream",
     "text": [
      " 21%|██        | 167/802 [06:13<21:31,  2.03s/it]"
     ]
    },
    {
     "name": "stdout",
     "output_type": "stream",
     "text": [
      "The ultrasound probe is being used to sense a vessel during a transsphenoidal pituitary adenoma resection surgery.\n",
      "[['rongeur', 'remove', 'bone']]\n"
     ]
    },
    {
     "name": "stderr",
     "output_type": "stream",
     "text": [
      " 21%|██        | 168/802 [06:14<18:26,  1.74s/it]"
     ]
    },
    {
     "name": "stdout",
     "output_type": "stream",
     "text": [
      "The image shows a rongeur being used to remove a bone during a Transsphenoidal pituitary adenoma resection surgery.\n",
      "[['cutting forcep', 'remove', 'bone'], ['suction tube', 'suction', 'blood']]\n"
     ]
    },
    {
     "name": "stderr",
     "output_type": "stream",
     "text": [
      " 21%|██        | 169/802 [06:17<21:19,  2.02s/it]"
     ]
    },
    {
     "name": "stdout",
     "output_type": "stream",
     "text": [
      "In the image, a cutting forcep is used to remove a portion of the bone. Concurrently, a suction tube is aiding the process by suctioning blood from the surgical site.\n",
      "[['suction tube', 'manipulate', 'tissue'], ['cup forcep', 'idle', 'idle']]\n"
     ]
    },
    {
     "name": "stderr",
     "output_type": "stream",
     "text": [
      " 21%|██        | 170/802 [06:19<23:20,  2.22s/it]"
     ]
    },
    {
     "name": "stdout",
     "output_type": "stream",
     "text": [
      "The image depicts the use of a suction tube actively engaging in the manipulation of tissue in a Transsphenoidal pituitary adenoma resection surgery. Also, it shows a cup forcep, but it remains idle, not currently being utilized in the operation.\n",
      "[['suction tube', 'suction', 'blood'], ['navigation probe', 'sense', 'tissue']]\n"
     ]
    },
    {
     "name": "stderr",
     "output_type": "stream",
     "text": [
      " 21%|██▏       | 171/802 [06:22<23:33,  2.24s/it]"
     ]
    },
    {
     "name": "stdout",
     "output_type": "stream",
     "text": [
      "A suction tube is shown removing blood during a Transsphenoidal pituitary adenoma resection surgery. Meanwhile, a navigation probe is employed to sense the tissue.\n",
      "[['suction tube', 'suction', 'blood'], ['cutting forcep', 'cut', 'bone']]\n"
     ]
    },
    {
     "name": "stderr",
     "output_type": "stream",
     "text": [
      " 21%|██▏       | 172/802 [06:23<21:35,  2.06s/it]"
     ]
    },
    {
     "name": "stdout",
     "output_type": "stream",
     "text": [
      "The image depicts a suction tube being used to remove blood during a Transsphenoidal pituitary adenoma resection surgery. Additionally, a cutting forcep is used to cut through the bone.\n",
      "[['monopolar electrode', 'manipulate', 'tissue'], ['curette', 'scoop', 'tumor']]\n"
     ]
    },
    {
     "name": "stderr",
     "output_type": "stream",
     "text": [
      " 22%|██▏       | 173/802 [06:26<24:36,  2.35s/it]"
     ]
    },
    {
     "name": "stdout",
     "output_type": "stream",
     "text": [
      "The image shows a monopolar electrode being used to manipulate the tissue during a Transsphenoidal pituitary adenoma resection surgery. Additionally, a curette tool is depicted scooping out the tumor.\n",
      "[['navigation probe', 'sense', 'tissue']]\n"
     ]
    },
    {
     "name": "stderr",
     "output_type": "stream",
     "text": [
      " 22%|██▏       | 174/802 [06:28<21:40,  2.07s/it]"
     ]
    },
    {
     "name": "stdout",
     "output_type": "stream",
     "text": [
      "The image illustrates a navigation probe being used to sense tissue during a Transsphenoidal pituitary adenoma resection surgery.\n",
      "[['monopolar electrode', 'cauterize', 'tissue']]\n"
     ]
    },
    {
     "name": "stderr",
     "output_type": "stream",
     "text": [
      " 22%|██▏       | 175/802 [06:31<25:04,  2.40s/it]"
     ]
    },
    {
     "name": "stdout",
     "output_type": "stream",
     "text": [
      "The image shows the use of a monopolar electrode to cauterize tissue during a Transsphenoidal pituitary adenoma resection surgery.\n",
      "[['navigation probe', 'sense', 'tissue'], ['suction tube', 'suction', 'blood']]\n"
     ]
    },
    {
     "name": "stderr",
     "output_type": "stream",
     "text": [
      " 22%|██▏       | 176/802 [06:33<24:53,  2.39s/it]"
     ]
    },
    {
     "name": "stdout",
     "output_type": "stream",
     "text": [
      "The image is showing a navigation probe being used to sense tissue during a Transsphenoidal pituitary adenoma resection surgery. Additionally, a suction tube is depicted, which is used to suction blood during the procedure.\n",
      "[['navigation probe', 'sense', 'tissue'], ['suction tube', 'suction', 'blood']]\n"
     ]
    },
    {
     "name": "stderr",
     "output_type": "stream",
     "text": [
      " 22%|██▏       | 177/802 [06:37<27:57,  2.68s/it]"
     ]
    },
    {
     "name": "stdout",
     "output_type": "stream",
     "text": [
      "The image illustrates the use of a navigation probe functioning to sense tissue during a Transsphenoidal pituitary adenoma resection surgery. Additionally, a suction tube is utilized to suction the blood during the procedure.\n",
      "[['navigation probe', 'sense', 'tissue']]\n"
     ]
    },
    {
     "name": "stderr",
     "output_type": "stream",
     "text": [
      " 22%|██▏       | 178/802 [06:39<26:29,  2.55s/it]"
     ]
    },
    {
     "name": "stdout",
     "output_type": "stream",
     "text": [
      "The image illustrates the use of a navigation probe to sense tissue during a Transsphenoidal pituitary adenoma resection surgery.\n",
      "[['ultrasound probe', 'sense', 'vessel'], ['navigation probe', 'sense', 'tissue']]\n"
     ]
    },
    {
     "name": "stderr",
     "output_type": "stream",
     "text": [
      " 22%|██▏       | 179/802 [06:41<25:28,  2.45s/it]"
     ]
    },
    {
     "name": "stdout",
     "output_type": "stream",
     "text": [
      "An image depicts the use of an ultrasound probe to sense a vessel and a navigation probe being utilized to detect tissue during a Transsphenoidal pituitary adenoma resection surgery.\n",
      "[['rongeur', 'manipulate', 'packing material'], ['suction tube', 'suction', 'tumor']]\n"
     ]
    },
    {
     "name": "stderr",
     "output_type": "stream",
     "text": [
      " 22%|██▏       | 180/802 [06:45<28:14,  2.72s/it]"
     ]
    },
    {
     "name": "stdout",
     "output_type": "stream",
     "text": [
      "The image shows a rongeur being used to manipulate the packing material during a transsphenoidal pituitary adenoma resection surgery. Furthermore, the operation also entails the use of a suction tube to remove the tumor.\n",
      "[['suction tube', 'suction', 'blood'], ['navigation probe', 'sense', 'tissue']]\n"
     ]
    },
    {
     "name": "stderr",
     "output_type": "stream",
     "text": [
      " 23%|██▎       | 181/802 [06:46<25:23,  2.45s/it]"
     ]
    },
    {
     "name": "stdout",
     "output_type": "stream",
     "text": [
      "The image showcases a suction tube being utilized to remove blood during a Transsphenoidal pituitary adenoma resection surgery. Additionally, it displays a navigation probe actively sensing tissue areas within the operation.\n",
      "[['suction tube', 'suction', 'blood'], ['cutting forcep', 'remove', 'bone']]\n"
     ]
    },
    {
     "name": "stderr",
     "output_type": "stream",
     "text": [
      " 23%|██▎       | 182/802 [06:48<23:43,  2.30s/it]"
     ]
    },
    {
     "name": "stdout",
     "output_type": "stream",
     "text": [
      "The image depicts a suction tube being utilized to aspirate blood during a Transsphenoidal pituitary adenoma resection surgery. Additionally, a cutting forcep is being used to remove bone in the same procedure.\n",
      "[['navigation probe', 'sense', 'tissue'], ['suction tube', 'suction', 'blood']]\n"
     ]
    },
    {
     "name": "stderr",
     "output_type": "stream",
     "text": [
      " 23%|██▎       | 183/802 [06:52<28:31,  2.76s/it]"
     ]
    },
    {
     "name": "stdout",
     "output_type": "stream",
     "text": [
      "The image depicts the use of a navigation probe to sense the tissue during a Transsphenoidal pituitary adenoma resection surgery. Additionally, a suction tube is observed, employed to suction out blood during the procedure.\n",
      "[['monopolar electrode', 'cauterize', 'tissue']]\n"
     ]
    },
    {
     "name": "stderr",
     "output_type": "stream",
     "text": [
      " 23%|██▎       | 184/802 [06:54<26:05,  2.53s/it]"
     ]
    },
    {
     "name": "stdout",
     "output_type": "stream",
     "text": [
      "The image shows a monopolar electrode being used to cauterize tissue during a Transsphenoidal pituitary adenoma resection surgery.\n",
      "[['ultrasound probe', 'sense', 'vessel']]\n"
     ]
    },
    {
     "name": "stderr",
     "output_type": "stream",
     "text": [
      " 23%|██▎       | 185/802 [06:55<21:33,  2.10s/it]"
     ]
    },
    {
     "name": "stdout",
     "output_type": "stream",
     "text": [
      "The ultrasound probe is sensing a vessel during a Transsphenoidal pituitary adenoma resection surgery.\n",
      "[['rongeur', 'remove', 'bone']]\n"
     ]
    },
    {
     "name": "stderr",
     "output_type": "stream",
     "text": [
      " 23%|██▎       | 186/802 [07:01<32:00,  3.12s/it]"
     ]
    },
    {
     "name": "stdout",
     "output_type": "stream",
     "text": [
      "The rongeur is utilized to eliminate bone during a Transsphenoidal pituitary adenoma resection surgery.\n",
      "[['driller', 'idle', 'idle']]\n"
     ]
    },
    {
     "name": "stderr",
     "output_type": "stream",
     "text": [
      " 23%|██▎       | 187/802 [07:02<27:03,  2.64s/it]"
     ]
    },
    {
     "name": "stdout",
     "output_type": "stream",
     "text": [
      "The driller is currently idle during the transsphenoidal pituitary adenoma resection surgery.\n",
      "[['rongeur', 'manipulate', 'packing material'], ['suction tube', 'suction', 'tumor']]\n"
     ]
    },
    {
     "name": "stderr",
     "output_type": "stream",
     "text": [
      " 23%|██▎       | 188/802 [07:04<25:00,  2.44s/it]"
     ]
    },
    {
     "name": "stdout",
     "output_type": "stream",
     "text": [
      "In the image, a rongeur is being utilized to manipulate the packing material during a transsphenoidal pituitary adenoma resection surgery. Concurrently, a suction tube is actively being used to remove the tumor.\n",
      "[['suction tube', 'suction', 'blood'], ['bipolar electrode', 'cauterize', 'tissue']]\n"
     ]
    },
    {
     "name": "stderr",
     "output_type": "stream",
     "text": [
      " 24%|██▎       | 189/802 [07:08<29:07,  2.85s/it]"
     ]
    },
    {
     "name": "stdout",
     "output_type": "stream",
     "text": [
      "The image depicts a suction tube being employed to aspirate blood during a Transsphenoidal pituitary adenoma resection procedure. In the same scenario, a bipolar electrode is used to cauterize the tissue.\n",
      "[['navigation probe', 'sense', 'tissue'], ['suction tube', 'suction', 'blood']]\n"
     ]
    },
    {
     "name": "stderr",
     "output_type": "stream",
     "text": [
      " 24%|██▎       | 190/802 [07:10<26:59,  2.65s/it]"
     ]
    },
    {
     "name": "stdout",
     "output_type": "stream",
     "text": [
      "An image depicts a navigation probe that is used to sense tissue in a transsphenoidal pituitary adenoma resection surgery. Another part of the image features a suction tube, which is used to suction blood during the procedure.\n",
      "[['cutting forcep', 'remove', 'tissue']]\n"
     ]
    },
    {
     "name": "stderr",
     "output_type": "stream",
     "text": [
      " 24%|██▍       | 191/802 [07:12<25:00,  2.46s/it]"
     ]
    },
    {
     "name": "stdout",
     "output_type": "stream",
     "text": [
      "The image depicts the usage of a cutting forcep to remove tissue during a Transsphenoidal pituitary adenoma resection surgery.\n",
      "[['suction tube', 'suction', 'blood'], ['ultrasound probe', 'sense', 'vessel'], ['suction tube', 'suction', 'blood']]\n"
     ]
    },
    {
     "name": "stderr",
     "output_type": "stream",
     "text": [
      " 24%|██▍       | 192/802 [07:16<29:13,  2.87s/it]"
     ]
    },
    {
     "name": "stdout",
     "output_type": "stream",
     "text": [
      "The image shows the suction tube performing the action of suction to remove blood during the Transsphenoidal pituitary adenoma resection surgery. Next, an ultrasound probe is used to sense or identify a vessel amidst the operation. Lastly, the suction tube is again depicted suctioning blood from the surgical site.\n",
      "[['suction tube', 'suction', 'blood'], ['cutting forcep', 'cut', 'bone']]\n"
     ]
    },
    {
     "name": "stderr",
     "output_type": "stream",
     "text": [
      " 24%|██▍       | 193/802 [07:19<30:04,  2.96s/it]"
     ]
    },
    {
     "name": "stdout",
     "output_type": "stream",
     "text": [
      "The surgical image portrays the use of a suction tube to suction blood during a Transsphenoidal pituitary adenoma resection surgery. The image also shows a cutting forcep being utilized to cut through bone.\n",
      "[['ultrasound probe', 'sense', 'vessel']]\n"
     ]
    },
    {
     "name": "stderr",
     "output_type": "stream",
     "text": [
      " 24%|██▍       | 194/802 [07:21<25:47,  2.54s/it]"
     ]
    },
    {
     "name": "stdout",
     "output_type": "stream",
     "text": [
      "The image shows an ultrasound probe being utilized to sense a vessel during a Transsphenoidal pituitary adenoma resection surgery.\n",
      "[['suction tube', 'suction', 'blood'], ['bipolar electrode', 'cauterize', 'tumor']]\n"
     ]
    },
    {
     "name": "stderr",
     "output_type": "stream",
     "text": [
      " 24%|██▍       | 195/802 [07:24<29:05,  2.88s/it]"
     ]
    },
    {
     "name": "stdout",
     "output_type": "stream",
     "text": [
      "The image depicts the use of a suction tube, actively removing blood, during a Transsphenoidal pituitary adenoma resection surgery. Additionally, a bipolar electrode is utilized in the same surgical setting to cauterize the tumor.\n",
      "[['monopolar electrode', 'manipulate', 'tissue'], ['scalpel', 'cut', 'tumor']]\n"
     ]
    },
    {
     "name": "stderr",
     "output_type": "stream",
     "text": [
      " 24%|██▍       | 196/802 [07:27<26:55,  2.67s/it]"
     ]
    },
    {
     "name": "stdout",
     "output_type": "stream",
     "text": [
      "The photo showcases a monopolar electrode expertly manipulating the tissue during a Transsphenoidal pituitary adenoma resection surgery. In the same image, a scalpel can be seen meticulously cutting the tumor.\n",
      "[['navigation probe', 'sense', 'tissue']]\n"
     ]
    },
    {
     "name": "stderr",
     "output_type": "stream",
     "text": [
      " 25%|██▍       | 197/802 [07:28<23:56,  2.37s/it]"
     ]
    },
    {
     "name": "stdout",
     "output_type": "stream",
     "text": [
      "The image shows a navigation probe being used to sense tissue during a Transsphenoidal pituitary adenoma resection surgery.\n",
      "[['suction tube', 'suction', 'blood'], ['rongeur', 'remove', 'bone']]\n"
     ]
    },
    {
     "name": "stderr",
     "output_type": "stream",
     "text": [
      " 25%|██▍       | 198/802 [07:30<22:30,  2.24s/it]"
     ]
    },
    {
     "name": "stdout",
     "output_type": "stream",
     "text": [
      "The image depicts a suction tube being used to aspirate blood during a Transsphenoidal pituitary adenoma resection surgery. Additionally, a tool known as a rongeur is shown removing a section of bone in the surgical procedure.\n",
      "[['navigation probe', 'sense', 'tissue']]\n"
     ]
    },
    {
     "name": "stderr",
     "output_type": "stream",
     "text": [
      " 25%|██▍       | 199/802 [07:33<23:28,  2.34s/it]"
     ]
    },
    {
     "name": "stdout",
     "output_type": "stream",
     "text": [
      "The image shows a navigation probe sensing the tissue during a Transsphenoidal pituitary adenoma resection surgery.\n",
      "[['freer', 'manipulate', 'tissue']]\n"
     ]
    },
    {
     "name": "stderr",
     "output_type": "stream",
     "text": [
      " 25%|██▍       | 200/802 [07:35<22:02,  2.20s/it]"
     ]
    },
    {
     "name": "stdout",
     "output_type": "stream",
     "text": [
      "The image depicts the manipulation of tissue using a freer during a Transsphenoidal pituitary adenoma resection surgery.\n",
      "[['suction tube', 'manipulate', 'tissue'], ['curette', 'scoop', 'tumor'], ['cup forcep', 'remove', 'tumor']]\n"
     ]
    },
    {
     "name": "stderr",
     "output_type": "stream",
     "text": [
      " 25%|██▌       | 201/802 [07:38<24:32,  2.45s/it]"
     ]
    },
    {
     "name": "stdout",
     "output_type": "stream",
     "text": [
      "The image shows a suction tube being used to manipulate the tissue. It also depicts a curette, a surgical instrument, scooping out the tumor. Finally, a cup forcep is seen removing the residual tumor.\n",
      "[['suction tube', 'suction', 'blood'], ['bipolar electrode', 'cauterize', 'tissue']]\n"
     ]
    },
    {
     "name": "stderr",
     "output_type": "stream",
     "text": [
      " 25%|██▌       | 202/802 [07:40<23:35,  2.36s/it]"
     ]
    },
    {
     "name": "stdout",
     "output_type": "stream",
     "text": [
      "The image pictures a suction tube performing the action of suction to remove blood. Additionally, it also displays a bipolar electrode being used to cauterize tissue.\n",
      "[['suction tube', 'idle', 'idle'], ['scalpel', 'idle', 'idle']]\n"
     ]
    },
    {
     "name": "stderr",
     "output_type": "stream",
     "text": [
      " 25%|██▌       | 203/802 [07:42<22:12,  2.23s/it]"
     ]
    },
    {
     "name": "stdout",
     "output_type": "stream",
     "text": [
      "The image displays a suction tube and a scalpel, both idle during a Transsphenoidal pituitary adenoma resection surgery. Neither tool is currently operating on any target.\n",
      "[['suction tube', 'suction', 'blood'], ['rongeur', 'remove', 'bone'], ['suction tube', 'suction', 'blood']]\n"
     ]
    },
    {
     "name": "stderr",
     "output_type": "stream",
     "text": [
      " 25%|██▌       | 204/802 [07:44<22:18,  2.24s/it]"
     ]
    },
    {
     "name": "stdout",
     "output_type": "stream",
     "text": [
      "<class 'KeyError'> 'content'\n",
      "None\n",
      "[['ultrasound probe', 'sense', 'vessel'], ['suction tube', 'suction', 'blood'], ['rongeur', 'remove', 'bone']]\n"
     ]
    },
    {
     "name": "stderr",
     "output_type": "stream",
     "text": [
      " 26%|██▌       | 205/802 [07:48<27:24,  2.75s/it]"
     ]
    },
    {
     "name": "stdout",
     "output_type": "stream",
     "text": [
      "The image depicts an ultrasound probe being used to sense a vessel, a suction tube suctioning blood, and a rongeur removing a bone during a Transsphenoidal pituitary adenoma resection surgery.\n",
      "[['monopolar electrode', 'suction', 'blood'], ['monopolar electrode', 'cauterize', 'bone'], ['monopolar electrode', 'suction', 'blood']]\n"
     ]
    },
    {
     "name": "stderr",
     "output_type": "stream",
     "text": [
      " 26%|██▌       | 206/802 [07:51<28:07,  2.83s/it]"
     ]
    },
    {
     "name": "stdout",
     "output_type": "stream",
     "text": [
      "The image portrays a monopolar electrode being utilized to suction blood during a transsphenoidal pituitary adenoma resection surgery. It then shifts to depicting the same monopolar electrode being used to cauterize bone in the surgical procedure. Again, the monopolar electrode is seen suctioning blood as part of the operation.\n",
      "[['rongeur', 'manipulate', 'packing material'], ['suction tube', 'suction', 'tumor']]\n"
     ]
    },
    {
     "name": "stderr",
     "output_type": "stream",
     "text": [
      " 26%|██▌       | 207/802 [07:53<25:08,  2.54s/it]"
     ]
    },
    {
     "name": "stdout",
     "output_type": "stream",
     "text": [
      "The image shows a rongeur manipulating the packing material in a transsphenoidal pituitary adenoma resection surgery. In parallel, a suction tube is employed to suction the tumor.\n",
      "[['monopolar electrode', 'cauterize', 'tissue'], ['suction tube', 'suction', 'blood']]\n"
     ]
    },
    {
     "name": "stderr",
     "output_type": "stream",
     "text": [
      " 26%|██▌       | 208/802 [07:55<23:54,  2.41s/it]"
     ]
    },
    {
     "name": "stdout",
     "output_type": "stream",
     "text": [
      "The image shows a monopolar electrode being used to cauterize tissue and a suction tube being employed to suction blood during a Transsphenoidal pituitary adenoma resection surgery.\n",
      "[['ultrasound probe', 'sense', 'vessel'], ['suction tube', 'suction', 'blood'], ['navigation probe', 'sense', 'tissue']]\n"
     ]
    },
    {
     "name": "stderr",
     "output_type": "stream",
     "text": [
      " 26%|██▌       | 209/802 [07:58<27:04,  2.74s/it]"
     ]
    },
    {
     "name": "stdout",
     "output_type": "stream",
     "text": [
      "The image depicts an ultrasound probe sensibly detecting a vessel during a Transsphenoidal pituitary adenoma resection surgery. Simultaneously, a suction tube is observed drawing blood to maintain a clear surgical field. Additionally, a navigation probe is in use, carefully sensing the surrounding tissue to ensure precision during the operation.\n",
      "[['monopolar electrode', 'suction', 'blood'], ['monopolar electrode', 'manipulate', 'tissue'], ['curette', 'scoop', 'tumor']]\n"
     ]
    },
    {
     "name": "stderr",
     "output_type": "stream",
     "text": [
      " 26%|██▌       | 210/802 [08:02<28:07,  2.85s/it]"
     ]
    },
    {
     "name": "stdout",
     "output_type": "stream",
     "text": [
      "The image displays an application of a monopolar electrode performing suction to pacify a blood flow. In addition, the same tool is being utilized to manipulate the surrounding tissue. Finally, the picture shows a curette being used to meticulously scoop out the tumor during the Transsphenoidal pituitary adenoma resection surgery.\n",
      "[['suction tube', 'manipulate', 'packing material'], ['injector', 'inject', 'glue']]\n"
     ]
    },
    {
     "name": "stderr",
     "output_type": "stream",
     "text": [
      " 26%|██▋       | 211/802 [08:03<24:32,  2.49s/it]"
     ]
    },
    {
     "name": "stdout",
     "output_type": "stream",
     "text": [
      "The image portrays the utilization of a suction tube to manipulate the packing material during a Transsphenoidal pituitary adenoma resection surgery. It also showcases an injector being used to insert glue.\n",
      "[['navigation probe', 'sense', 'tissue'], ['suction tube', 'suction', 'blood']]\n"
     ]
    },
    {
     "name": "stderr",
     "output_type": "stream",
     "text": [
      " 26%|██▋       | 212/802 [08:05<21:48,  2.22s/it]"
     ]
    },
    {
     "name": "stdout",
     "output_type": "stream",
     "text": [
      "The image showcases a navigation probe sensing the tissue in the surgical area. Additionally, the suction tube is seen actively suctioning blood.\n",
      "[['rongeur', 'remove', 'bone'], ['suction tube', 'suction', 'blood']]\n"
     ]
    },
    {
     "name": "stderr",
     "output_type": "stream",
     "text": [
      " 27%|██▋       | 213/802 [08:08<25:35,  2.61s/it]"
     ]
    },
    {
     "name": "stdout",
     "output_type": "stream",
     "text": [
      "The image depicts a rongeur being used to remove bone during a Transsphenoidal pituitary adenoma resection surgery. In addition, it also shows a suction tube sucking out blood during the procedure.\n",
      "[['suction tube', 'suction', 'tumor'], ['bipolar electrode', 'idle', 'idle']]\n"
     ]
    },
    {
     "name": "stderr",
     "output_type": "stream",
     "text": [
      " 27%|██▋       | 214/802 [08:11<24:33,  2.51s/it]"
     ]
    },
    {
     "name": "stdout",
     "output_type": "stream",
     "text": [
      "The image depicts a suction tube actively suctioning out a tumor during the process of Transsphenoidal pituitary adenoma resection surgery. Additionally, a bipolar electrode is present, though currently idle and not in use.\n",
      "[['scalpel', 'cut', 'tumor']]\n"
     ]
    },
    {
     "name": "stderr",
     "output_type": "stream",
     "text": [
      " 27%|██▋       | 215/802 [08:12<22:26,  2.29s/it]"
     ]
    },
    {
     "name": "stdout",
     "output_type": "stream",
     "text": [
      "The image depicts a scalpel being used to cut a tumor during a Transsphenoidal pituitary adenoma resection surgery.\n",
      "[['injector', 'inject', 'glue']]\n"
     ]
    },
    {
     "name": "stderr",
     "output_type": "stream",
     "text": [
      " 27%|██▋       | 216/802 [08:15<23:21,  2.39s/it]"
     ]
    },
    {
     "name": "stdout",
     "output_type": "stream",
     "text": [
      "The image shows an injector being used to inject glue during a Transsphenoidal pituitary adenoma resection surgery.\n",
      "[['injector', 'inject', 'glue']]\n"
     ]
    },
    {
     "name": "stderr",
     "output_type": "stream",
     "text": [
      " 27%|██▋       | 217/802 [08:17<20:56,  2.15s/it]"
     ]
    },
    {
     "name": "stdout",
     "output_type": "stream",
     "text": [
      "The image shows an injector being used to inject glue during a Transsphenoidal pituitary adenoma resection surgery.\n",
      "[['suction tube', 'suction', 'blood'], ['navigation probe', 'sense', 'tissue']]\n"
     ]
    },
    {
     "name": "stderr",
     "output_type": "stream",
     "text": [
      " 27%|██▋       | 218/802 [08:18<19:06,  1.96s/it]"
     ]
    },
    {
     "name": "stdout",
     "output_type": "stream",
     "text": [
      "A suction tube is being used to suction blood in an image of a Transsphenoidal pituitary adenoma resection surgery. In the same image, a navigation probe is used to sense the tissue.\n",
      "[['bipolar electrode', 'cauterize', 'tissue'], ['suction tube', 'suction', 'blood']]\n"
     ]
    },
    {
     "name": "stderr",
     "output_type": "stream",
     "text": [
      " 27%|██▋       | 219/802 [08:21<22:50,  2.35s/it]"
     ]
    },
    {
     "name": "stdout",
     "output_type": "stream",
     "text": [
      "The image portrays the use of a bipolar electrode to cauterize tissue during a Transsphenoidal pituitary adenoma resection surgery. Additionally, a suction tube is shown being used to suction blood in the same procedure.\n",
      "[['cutting forcep', 'remove', 'bone'], ['monopolar electrode', 'manipulate', 'tissue']]\n"
     ]
    },
    {
     "name": "stderr",
     "output_type": "stream",
     "text": [
      " 27%|██▋       | 220/802 [08:24<22:59,  2.37s/it]"
     ]
    },
    {
     "name": "stdout",
     "output_type": "stream",
     "text": [
      "The image shows the use of a cutting forcep to remove bone. Additionally, a monopolar electrode is being used to manipulate tissue in the transsphenoidal pituitary adenoma resection surgery.\n",
      "[['suction tube', 'manipulate', 'tissue'], ['bipolar electrode', 'cauterize', 'tissue']]\n"
     ]
    },
    {
     "name": "stderr",
     "output_type": "stream",
     "text": [
      " 28%|██▊       | 221/802 [08:29<29:45,  3.07s/it]"
     ]
    },
    {
     "name": "stdout",
     "output_type": "stream",
     "text": [
      "The image showcases the usage of a suction tube to manipulate the tissue during a Transsphenoidal pituitary adenoma resection surgery. Furthermore, it also depicts a bipolar electrode being used to cauterize the tissue.\n",
      "[['suction tube', 'manipulate', 'tissue'], ['driller', 'drill', 'bone']]\n"
     ]
    },
    {
     "name": "stderr",
     "output_type": "stream",
     "text": [
      " 28%|██▊       | 222/802 [08:31<27:33,  2.85s/it]"
     ]
    },
    {
     "name": "stdout",
     "output_type": "stream",
     "text": [
      "The image portrays the use of a suction tube to manipulate tissue during a Transsphenoidal pituitary adenoma resection surgery. It also depicts a driller being utilized to drill into bone.\n",
      "[['suction tube', 'suction', 'blood'], ['rongeur', 'remove', 'bone']]\n"
     ]
    },
    {
     "name": "stderr",
     "output_type": "stream",
     "text": [
      " 28%|██▊       | 223/802 [08:33<24:53,  2.58s/it]"
     ]
    },
    {
     "name": "stdout",
     "output_type": "stream",
     "text": [
      "The image showcases a suction tube being used to suction blood during a Transsphenoidal pituitary adenoma resection surgery. Additionally, a rongeur is being applied to remove bone.\n",
      "[['monopolar electrode', 'manipulate', 'tissue'], ['scalpel', 'cut', 'tumor']]\n"
     ]
    },
    {
     "name": "stderr",
     "output_type": "stream",
     "text": [
      " 28%|██▊       | 224/802 [08:35<23:21,  2.42s/it]"
     ]
    },
    {
     "name": "stdout",
     "output_type": "stream",
     "text": [
      "The image illustrates a monopolar electrode manipulating the tissue during a Transsphenoidal pituitary adenoma resection surgery. In addition, a scalpel is seen cutting the tumor.\n",
      "[['suction tube', 'suction', 'blood'], ['rongeur', 'manipulate', 'bone'], ['navigation probe', 'sense', 'tissue']]\n"
     ]
    },
    {
     "name": "stderr",
     "output_type": "stream",
     "text": [
      " 28%|██▊       | 225/802 [08:38<23:58,  2.49s/it]"
     ]
    },
    {
     "name": "stdout",
     "output_type": "stream",
     "text": [
      "The image showcases a suction tube being utilized to suction blood. In another part of the image, a rongeur is seen manipulating bone. Additionally, a navigation probe is being used to sense tissue during the procedure.\n",
      "[['monopolar electrode', 'cauterize', 'tissue'], ['suction tube', 'suction', 'blood']]\n"
     ]
    },
    {
     "name": "stderr",
     "output_type": "stream",
     "text": [
      " 28%|██▊       | 226/802 [08:42<29:53,  3.11s/it]"
     ]
    },
    {
     "name": "stdout",
     "output_type": "stream",
     "text": [
      "The image depicts the use of a monopolar electrode to cauterize tissue during a Transsphenoidal pituitary adenoma resection surgery. Additionally, a suction tube is being utilized to remove blood during the surgical procedure.\n",
      "[['injector', 'inject', 'glue']]\n"
     ]
    },
    {
     "name": "stderr",
     "output_type": "stream",
     "text": [
      " 28%|██▊       | 227/802 [08:44<25:21,  2.65s/it]"
     ]
    },
    {
     "name": "stdout",
     "output_type": "stream",
     "text": [
      "The image depicts the use of an injector to administer glue during a Transsphenoidal pituitary adenoma resection surgery.\n",
      "[['navigation probe', 'sense', 'tissue'], ['suction tube', 'suction', 'blood']]\n"
     ]
    },
    {
     "name": "stderr",
     "output_type": "stream",
     "text": [
      " 28%|██▊       | 228/802 [08:47<28:30,  2.98s/it]"
     ]
    },
    {
     "name": "stdout",
     "output_type": "stream",
     "text": [
      "The image displays a navigation probe being used to sense tissue during a Transsphenoidal pituitary adenoma resection surgery. Additionally, a suction tube is depicted in action, removing blood from the surgical area.\n",
      "[['bipolar electrode', 'cauterize', 'tissue'], ['suction tube', 'suction', 'blood']]\n"
     ]
    },
    {
     "name": "stderr",
     "output_type": "stream",
     "text": [
      " 29%|██▊       | 229/802 [08:49<24:11,  2.53s/it]"
     ]
    },
    {
     "name": "stdout",
     "output_type": "stream",
     "text": [
      "The image captures the use of a bipolar electrode to cauterize tissue. Additionally, it depicts the utilization of a suction tube to evacuate blood.\n",
      "[['monopolar electrode', 'cauterize', 'tissue']]\n"
     ]
    },
    {
     "name": "stderr",
     "output_type": "stream",
     "text": [
      " 29%|██▊       | 230/802 [08:51<22:49,  2.39s/it]"
     ]
    },
    {
     "name": "stdout",
     "output_type": "stream",
     "text": [
      "The image shows the use of a monopolar electrode to cauterize tissue during a Transsphenoidal pituitary adenoma resection surgery.\n",
      "[['suction tube', 'manipulate', 'tissue'], ['bipolar electrode', 'cauterize', 'tissue']]\n"
     ]
    },
    {
     "name": "stderr",
     "output_type": "stream",
     "text": [
      " 29%|██▉       | 231/802 [08:54<23:21,  2.45s/it]"
     ]
    },
    {
     "name": "stdout",
     "output_type": "stream",
     "text": [
      "The image features a suction tube being employed to manipulate the tissue. Concurrently, a bipolar electrode is visible, being used to cauterize the same tissue area.\n",
      "[['rongeur', 'remove', 'bone'], ['suction tube', 'suction', 'blood']]\n"
     ]
    },
    {
     "name": "stderr",
     "output_type": "stream",
     "text": [
      " 29%|██▉       | 232/802 [08:56<23:45,  2.50s/it]"
     ]
    },
    {
     "name": "stdout",
     "output_type": "stream",
     "text": [
      "In the image, a rongeur is being utilized to remove a bone during a Transsphenoidal pituitary adenoma resection surgery. Additionally, a suction tube is also apparent, being used to suction out blood.\n",
      "[['injector', 'inject', 'glue']]\n"
     ]
    },
    {
     "name": "stderr",
     "output_type": "stream",
     "text": [
      " 29%|██▉       | 233/802 [08:57<20:16,  2.14s/it]"
     ]
    },
    {
     "name": "stdout",
     "output_type": "stream",
     "text": [
      "The image depicts the use of an injector to administer glue during a Transsphenoidal pituitary adenoma resection surgery.\n",
      "[['navigation probe', 'sense', 'tissue']]\n"
     ]
    },
    {
     "name": "stderr",
     "output_type": "stream",
     "text": [
      " 29%|██▉       | 234/802 [08:59<18:44,  1.98s/it]"
     ]
    },
    {
     "name": "stdout",
     "output_type": "stream",
     "text": [
      "The navigation probe is being used to sense the tissue during the Transsphenoidal pituitary adenoma resection surgery.\n",
      "[['scalpel', 'cut', 'tumor'], ['suction tube', 'suction', 'tumor']]\n"
     ]
    },
    {
     "name": "stderr",
     "output_type": "stream",
     "text": [
      " 29%|██▉       | 235/802 [09:01<18:55,  2.00s/it]"
     ]
    },
    {
     "name": "stdout",
     "output_type": "stream",
     "text": [
      "The image represents a scalpel being used to cut a tumor during the transsphenoidal pituitary adenoma resection surgery. There is also an illustration of a suction tube employed to suction the tumor.\n",
      "[['monopolar electrode', 'suction', 'blood'], ['monopolar electrode', 'manipulate', 'tissue'], ['curette', 'scoop', 'tumor']]\n"
     ]
    },
    {
     "name": "stderr",
     "output_type": "stream",
     "text": [
      " 29%|██▉       | 236/802 [09:03<18:12,  1.93s/it]"
     ]
    },
    {
     "name": "stdout",
     "output_type": "stream",
     "text": [
      "The image features a monopolar electrode conducting suction on blood, then manipulating tissue. Also, a curette is seen scooping the tumor in a transsphenoidal pituitary adenoma resection surgery.\n",
      "[['scalpel', 'cut', 'tissue'], ['curette', 'scoop', 'tumor']]\n"
     ]
    },
    {
     "name": "stderr",
     "output_type": "stream",
     "text": [
      " 30%|██▉       | 237/802 [09:05<18:35,  1.97s/it]"
     ]
    },
    {
     "name": "stdout",
     "output_type": "stream",
     "text": [
      "A scalpel is being used to cut the tissue, and a curette is utilized to scoop out the tumor in the image of a Transsphenoidal pituitary adenoma resection surgery.\n",
      "[['curette', 'scoop', 'tumor'], ['scalpel', 'idle', 'idle'], ['monopolar electrode', 'manipulate', 'tissue']]\n"
     ]
    },
    {
     "name": "stderr",
     "output_type": "stream",
     "text": [
      " 30%|██▉       | 238/802 [09:08<22:03,  2.35s/it]"
     ]
    },
    {
     "name": "stdout",
     "output_type": "stream",
     "text": [
      "The image showcases a curette being used to scoop out the tumor during a Transsphenoidal pituitary adenoma resection surgery, while a scalpel is idle. Concurrently, a monopolar electrode is seen manipulating the tissue.\n",
      "[['ultrasound probe', 'sense', 'vessel']]\n"
     ]
    },
    {
     "name": "stderr",
     "output_type": "stream",
     "text": [
      " 30%|██▉       | 239/802 [09:09<18:41,  1.99s/it]"
     ]
    },
    {
     "name": "stdout",
     "output_type": "stream",
     "text": [
      "The ultrasound probe is sensing a vessel during the Transsphenoidal pituitary adenoma resection surgery.\n",
      "[['suction tube', 'manipulate', 'tissue'], ['monopolar electrode', 'suction', 'tumor']]\n"
     ]
    },
    {
     "name": "stderr",
     "output_type": "stream",
     "text": [
      " 30%|██▉       | 240/802 [09:12<19:35,  2.09s/it]"
     ]
    },
    {
     "name": "stdout",
     "output_type": "stream",
     "text": [
      "The image portrays the utilization of a suction tube to manipulate tissue during transsphenoidal pituitary adenoma resection surgery. Additionally, it shows a monopolar electrode employed to suction the tumor.\n",
      "[['curette', 'scoop', 'tumor']]\n"
     ]
    },
    {
     "name": "stderr",
     "output_type": "stream",
     "text": [
      " 30%|███       | 241/802 [09:13<17:27,  1.87s/it]"
     ]
    },
    {
     "name": "stdout",
     "output_type": "stream",
     "text": [
      "The curette is being used to scoop the tumor in a Transsphenoidal pituitary adenoma resection surgery.\n",
      "[['navigation probe', 'sense', 'tissue'], ['suction tube', 'suction', 'blood']]\n"
     ]
    },
    {
     "name": "stderr",
     "output_type": "stream",
     "text": [
      " 30%|███       | 242/802 [09:23<40:38,  4.35s/it]"
     ]
    },
    {
     "name": "stdout",
     "output_type": "stream",
     "text": [
      "The image depicts a navigation probe sensing tissue around a pituitary adenoma during a transsphenoidal resection surgery. Concurrently, a suction tube is being utilized to suction blood in the surgical area.\n",
      "[['ultrasound probe', 'sense', 'vessel']]\n"
     ]
    },
    {
     "name": "stderr",
     "output_type": "stream",
     "text": [
      " 30%|███       | 243/802 [09:24<31:40,  3.40s/it]"
     ]
    },
    {
     "name": "stdout",
     "output_type": "stream",
     "text": [
      "The ultrasound probe is being used to sense the vessel in a Transsphenoidal pituitary adenoma resection surgery.\n",
      "[['navigation probe', 'sense', 'tissue'], ['suction tube', 'suction', 'blood']]\n"
     ]
    },
    {
     "name": "stderr",
     "output_type": "stream",
     "text": [
      " 30%|███       | 244/802 [09:26<27:17,  2.94s/it]"
     ]
    },
    {
     "name": "stdout",
     "output_type": "stream",
     "text": [
      "The image shows a navigation probe being used to sense the tissue surrounding a pituitary adenoma. In another part of the scene, a suction tube is being utilized to remove blood during the surgery.\n",
      "[['monopolar electrode', 'manipulate', 'tissue'], ['curette', 'scoop', 'tumor']]\n"
     ]
    },
    {
     "name": "stderr",
     "output_type": "stream",
     "text": [
      " 31%|███       | 245/802 [09:28<24:22,  2.63s/it]"
     ]
    },
    {
     "name": "stdout",
     "output_type": "stream",
     "text": [
      "The image shows a monopolar electrode manipulating the tissue, while a curette is used to scoop out the tumor in a Transsphenoidal pituitary adenoma resection surgery.\n",
      "[['suction tube', 'suction', 'blood'], ['injector', 'inject', 'glue']]\n"
     ]
    },
    {
     "name": "stderr",
     "output_type": "stream",
     "text": [
      " 31%|███       | 246/802 [09:30<23:15,  2.51s/it]"
     ]
    },
    {
     "name": "stdout",
     "output_type": "stream",
     "text": [
      "A suction tube is used to suction blood during a Transsphenoidal pituitary adenoma resection surgery, while an injector is utilized to introduce glue.\n",
      "[['monopolar electrode', 'suction', 'blood'], ['rongeur', 'remove', 'bone']]\n"
     ]
    },
    {
     "name": "stderr",
     "output_type": "stream",
     "text": [
      " 31%|███       | 247/802 [09:32<21:30,  2.33s/it]"
     ]
    },
    {
     "name": "stdout",
     "output_type": "stream",
     "text": [
      "An image depicts a monopolar electrode executing suction to remove blood and a rongeur being used to eliminate bone during a Transsphenoidal pituitary adenoma resection surgery.\n",
      "[['rongeur', 'manipulate', 'packing material'], ['suction tube', 'suction', 'tumor']]\n"
     ]
    },
    {
     "name": "stderr",
     "output_type": "stream",
     "text": [
      " 31%|███       | 248/802 [09:34<19:53,  2.16s/it]"
     ]
    },
    {
     "name": "stdout",
     "output_type": "stream",
     "text": [
      "A rongeur is being used to manipulate the packing material in a transsphenoidal pituitary adenoma resection surgery. Additionally, a suction tube is employed to suction the tumor during the operation.\n",
      "[['ultrasound probe', 'sense', 'vessel'], ['suction tube', 'suction', 'blood'], ['navigation probe', 'sense', 'tissue']]\n"
     ]
    },
    {
     "name": "stderr",
     "output_type": "stream",
     "text": [
      " 31%|███       | 249/802 [09:37<21:09,  2.30s/it]"
     ]
    },
    {
     "name": "stdout",
     "output_type": "stream",
     "text": [
      "An ultrasound probe is being used to sense a vessel. Concurrently, a suction tube is being utilized to suction blood. Meanwhile, a navigation probe is being employed to sense tissue.\n",
      "[['monopolar electrode', 'manipulate', 'tissue'], ['scalpel', 'cut', 'tumor']]\n"
     ]
    },
    {
     "name": "stderr",
     "output_type": "stream",
     "text": [
      " 31%|███       | 250/802 [09:39<20:53,  2.27s/it]"
     ]
    },
    {
     "name": "stdout",
     "output_type": "stream",
     "text": [
      "The image showcases a monopolar electrode manipulating tissue during a Transsphenoidal pituitary adenoma resection surgery. Furthermore, a scalpel is seen cutting the tumor during the operation.\n",
      "[['ultrasound probe', 'sense', 'vessel']]\n"
     ]
    },
    {
     "name": "stderr",
     "output_type": "stream",
     "text": [
      " 31%|███▏      | 251/802 [09:40<18:38,  2.03s/it]"
     ]
    },
    {
     "name": "stdout",
     "output_type": "stream",
     "text": [
      "The ultrasound probe is being used to sense a vessel in the transsphenoidal pituitary adenoma resection surgery.\n",
      "[['suction tube', 'suction', 'blood'], ['cutting forcep', 'remove', 'bone']]\n"
     ]
    },
    {
     "name": "stderr",
     "output_type": "stream",
     "text": [
      " 31%|███▏      | 252/802 [09:42<17:45,  1.94s/it]"
     ]
    },
    {
     "name": "stdout",
     "output_type": "stream",
     "text": [
      "The image showcases a suction tube being utilized to suction blood during a Transsphenoidal pituitary adenoma resection surgery. Additionally, it depicts the use of a cutting forcep to remove bone in the same surgical procedure.\n",
      "[['scalpel', 'cut', 'tissue']]\n"
     ]
    },
    {
     "name": "stderr",
     "output_type": "stream",
     "text": [
      " 32%|███▏      | 253/802 [09:43<15:54,  1.74s/it]"
     ]
    },
    {
     "name": "stdout",
     "output_type": "stream",
     "text": [
      "The scalpel is being used to cut the tissue during the Transsphenoidal pituitary adenoma resection surgery.\n",
      "[['monopolar electrode', 'manipulate', 'tissue'], ['scalpel', 'cut', 'tumor']]\n"
     ]
    },
    {
     "name": "stderr",
     "output_type": "stream",
     "text": [
      " 32%|███▏      | 254/802 [09:45<15:31,  1.70s/it]"
     ]
    },
    {
     "name": "stdout",
     "output_type": "stream",
     "text": [
      "The image depicts a monopolar electrode being used to manipulate the tissue. In the same visual, a scalpel is shown cutting the tumor during a transsphenoidal pituitary adenoma resection surgery.\n",
      "[['suction tube', 'suction', 'blood'], ['cup forcep', 'manipulate', 'tissue'], ['suction tube', 'manipulate', 'tissue']]\n"
     ]
    },
    {
     "name": "stderr",
     "output_type": "stream",
     "text": [
      " 32%|███▏      | 255/802 [09:48<18:27,  2.02s/it]"
     ]
    },
    {
     "name": "stdout",
     "output_type": "stream",
     "text": [
      "The image illustrates the utilization of a suction tube to suction blood during a Transsphenoidal pituitary adenoma resection surgery. It also portrays how a cup forcep is being employed to manipulate tissue. Similarly, a suction tube again appears in the image, manipulated on the tissue.\n",
      "[['navigation probe', 'sense', 'tissue']]\n"
     ]
    },
    {
     "name": "stderr",
     "output_type": "stream",
     "text": [
      " 32%|███▏      | 256/802 [09:49<16:23,  1.80s/it]"
     ]
    },
    {
     "name": "stdout",
     "output_type": "stream",
     "text": [
      "The navigation probe is sensing the tissue during a Transsphenoidal pituitary adenoma resection surgery.\n",
      "[['ultrasound probe', 'sense', 'vessel']]\n"
     ]
    },
    {
     "name": "stderr",
     "output_type": "stream",
     "text": [
      " 32%|███▏      | 257/802 [09:50<14:39,  1.61s/it]"
     ]
    },
    {
     "name": "stdout",
     "output_type": "stream",
     "text": [
      "The ultrasound probe is sensing the vessel during a Transsphenoidal pituitary adenoma resection surgery.\n",
      "[['suction tube', 'suction', 'blood'], ['bipolar electrode', 'cauterize', 'tissue']]\n"
     ]
    },
    {
     "name": "stderr",
     "output_type": "stream",
     "text": [
      " 32%|███▏      | 258/802 [09:52<15:15,  1.68s/it]"
     ]
    },
    {
     "name": "stdout",
     "output_type": "stream",
     "text": [
      "The image depicts a suction tube being utilized to remove blood during a Transsphenoidal pituitary adenoma resection surgery. Additionally, a bipolar electrode is also seen being used to cauterize the tissue.\n",
      "[['monopolar electrode', 'cauterize', 'tissue']]\n"
     ]
    },
    {
     "name": "stderr",
     "output_type": "stream",
     "text": [
      " 32%|███▏      | 259/802 [09:54<14:51,  1.64s/it]"
     ]
    },
    {
     "name": "stdout",
     "output_type": "stream",
     "text": [
      "The image shows a monopolar electrode being used to cauterize tissue during a Transsphenoidal pituitary adenoma resection surgery.\n",
      "[['suction tube', 'suction', 'blood'], ['ultrasound probe', 'sense', 'vessel']]\n"
     ]
    },
    {
     "name": "stderr",
     "output_type": "stream",
     "text": [
      " 32%|███▏      | 260/802 [09:55<15:06,  1.67s/it]"
     ]
    },
    {
     "name": "stdout",
     "output_type": "stream",
     "text": [
      "A suction tube is being used to remove blood during a Transsphenoidal pituitary adenoma resection surgery. Additionally, an ultrasound probe is being utilized to detect a vessel in the same procedure.\n",
      "[['suction tube', 'suction', 'blood'], ['cup forcep', 'manipulate', 'tissue'], ['suction tube', 'manipulate', 'tissue']]\n"
     ]
    },
    {
     "name": "stderr",
     "output_type": "stream",
     "text": [
      " 33%|███▎      | 261/802 [10:00<22:24,  2.48s/it]"
     ]
    },
    {
     "name": "stdout",
     "output_type": "stream",
     "text": [
      "The image depicts the use of a suction tube to remove blood during a Transsphenoidal pituitary adenoma resection surgery. Additionally, it shows a cup forcep being utilized to manipulate the tissue. In a separate action, the suction tube is also seen managing the tissue within the operative field.\n",
      "[['monopolar electrode', 'cauterize', 'tissue']]\n"
     ]
    },
    {
     "name": "stderr",
     "output_type": "stream",
     "text": [
      " 33%|███▎      | 262/802 [10:01<20:41,  2.30s/it]"
     ]
    },
    {
     "name": "stdout",
     "output_type": "stream",
     "text": [
      "The image depicts the use of a monopolar electrode to cauterize tissue during a Transsphenoidal pituitary adenoma resection surgery.\n",
      "[['cutting forcep', 'remove', 'bone'], ['freer', 'manipulate', 'tissue']]\n"
     ]
    },
    {
     "name": "stderr",
     "output_type": "stream",
     "text": [
      " 33%|███▎      | 263/802 [10:03<18:29,  2.06s/it]"
     ]
    },
    {
     "name": "stdout",
     "output_type": "stream",
     "text": [
      "The image displays the usage of a cutting forcep to remove bone during a Transsphenoidal pituitary adenoma resection surgery. Additionally, a tool called a freer is shown manipulating tissue in the operation.\n",
      "[['suction tube', 'suction', 'blood'], ['navigation probe', 'sense', 'tissue']]\n"
     ]
    },
    {
     "name": "stderr",
     "output_type": "stream",
     "text": [
      " 33%|███▎      | 264/802 [10:05<18:31,  2.07s/it]"
     ]
    },
    {
     "name": "stdout",
     "output_type": "stream",
     "text": [
      "The image depicts a suction tube being used to suction blood during a Transsphenoidal pituitary adenoma resection surgery. In addition, a navigation probe is being utilized to sense tissue in the same surgical procedure.\n",
      "[['suction tube', 'manipulate', 'tissue'], ['freer', 'manipulate', 'tissue'], ['suction tube', 'manipulate', 'packing material']]\n"
     ]
    },
    {
     "name": "stderr",
     "output_type": "stream",
     "text": [
      " 33%|███▎      | 265/802 [10:09<23:27,  2.62s/it]"
     ]
    },
    {
     "name": "stdout",
     "output_type": "stream",
     "text": [
      "The image depicts a suction tube being employed to manipulate tissue during a Transsphenoidal pituitary adenoma resection surgery. A freer is also shown being utilized to manipulate the tissue in the same procedure. Meanwhile, the suction tube is also featured adjusting the packing material involved in the operation.\n",
      "[['rongeur', 'manipulate', 'packing material'], ['suction tube', 'suction', 'tumor']]\n"
     ]
    },
    {
     "name": "stderr",
     "output_type": "stream",
     "text": [
      " 33%|███▎      | 266/802 [10:12<23:36,  2.64s/it]"
     ]
    },
    {
     "name": "stdout",
     "output_type": "stream",
     "text": [
      "The image shows a rongeur being used to manipulate the packing material during a Transsphenoidal pituitary adenoma resection surgery. Additionally, a suction tube is being utilized to remove the tumor.\n",
      "[['ultrasound probe', 'sense', 'vessel']]\n"
     ]
    },
    {
     "name": "stderr",
     "output_type": "stream",
     "text": [
      " 33%|███▎      | 267/802 [10:13<19:44,  2.21s/it]"
     ]
    },
    {
     "name": "stdout",
     "output_type": "stream",
     "text": [
      "An ultrasound probe is being used to sense a vessel during a Transsphenoidal pituitary adenoma resection surgery.\n",
      "[['freer', 'manipulate', 'tissue']]\n"
     ]
    },
    {
     "name": "stderr",
     "output_type": "stream",
     "text": [
      " 33%|███▎      | 268/802 [10:15<18:32,  2.08s/it]"
     ]
    },
    {
     "name": "stdout",
     "output_type": "stream",
     "text": [
      "The image displays the use of a freer tool to manipulate tissue during a Transsphenoidal pituitary adenoma resection surgery.\n",
      "[['freer', 'manipulate', 'tissue'], ['monopolar electrode', 'suction', 'blood']]\n"
     ]
    },
    {
     "name": "stderr",
     "output_type": "stream",
     "text": [
      " 34%|███▎      | 269/802 [10:16<17:23,  1.96s/it]"
     ]
    },
    {
     "name": "stdout",
     "output_type": "stream",
     "text": [
      "The image illustrates the utilization of a freer to manipulate the tissue. Simultaneously, a monopolar electrode is employed to suction the blood.\n",
      "[['suction tube', 'suction', 'tumor'], ['curette', 'scoop', 'tumor']]\n"
     ]
    },
    {
     "name": "stderr",
     "output_type": "stream",
     "text": [
      " 34%|███▎      | 270/802 [10:18<15:49,  1.78s/it]"
     ]
    },
    {
     "name": "stdout",
     "output_type": "stream",
     "text": [
      "A suction tube is employed to suction the tumor during the transsphenoidal pituitary adenoma resection surgery. Additionally, a curette is used to scoop out the tumor.\n",
      "[['ultrasound probe', 'sense', 'vessel']]\n"
     ]
    },
    {
     "name": "stderr",
     "output_type": "stream",
     "text": [
      " 34%|███▍      | 271/802 [10:19<15:41,  1.77s/it]"
     ]
    },
    {
     "name": "stdout",
     "output_type": "stream",
     "text": [
      "The ultrasound probe is being used to sense a vessel during the Transsphenoidal pituitary adenoma resection surgery.\n",
      "[['navigation probe', 'sense', 'tissue']]\n"
     ]
    },
    {
     "name": "stderr",
     "output_type": "stream",
     "text": [
      " 34%|███▍      | 272/802 [10:22<18:06,  2.05s/it]"
     ]
    },
    {
     "name": "stdout",
     "output_type": "stream",
     "text": [
      "The image shows a navigation probe being used to sense tissue during a Transsphenoidal pituitary adenoma resection surgery.\n",
      "[['scalpel', 'cut', 'tumor'], ['curette', 'scoop', 'tumor']]\n"
     ]
    },
    {
     "name": "stderr",
     "output_type": "stream",
     "text": [
      " 34%|███▍      | 273/802 [10:25<21:23,  2.43s/it]"
     ]
    },
    {
     "name": "stdout",
     "output_type": "stream",
     "text": [
      "The image showcases a surgeon using a scalpel to cut a tumor during a Transsphenoidal pituitary adenoma resection surgery, followed by the utilization of a curette to scoop out the tumor.\n",
      "[['ultrasound probe', 'sense', 'vessel'], ['suction tube', 'suction', 'blood'], ['rongeur', 'remove', 'bone']]\n"
     ]
    },
    {
     "name": "stderr",
     "output_type": "stream",
     "text": [
      " 34%|███▍      | 274/802 [10:29<24:11,  2.75s/it]"
     ]
    },
    {
     "name": "stdout",
     "output_type": "stream",
     "text": [
      "An ultrasound probe is being employed to sense a vessel. A suction tube is actively being used to suction blood. A rongeur is utilized to remove bone during a transsphenoidal pituitary adenoma resection surgery.\n",
      "[['suction tube', 'suction', 'blood'], ['bipolar electrode', 'cauterize', 'tissue']]\n"
     ]
    },
    {
     "name": "stderr",
     "output_type": "stream",
     "text": [
      " 34%|███▍      | 275/802 [10:31<23:13,  2.64s/it]"
     ]
    },
    {
     "name": "stdout",
     "output_type": "stream",
     "text": [
      "The image showcases a suction tube being utilized to suction blood during a Transsphenoidal pituitary adenoma resection surgery. Additionally, a bipolar electrode is seen being employed to cauterize tissue.\n",
      "[['suction tube', 'suction', 'blood'], ['cutting forcep', 'cut', 'bone']]\n"
     ]
    },
    {
     "name": "stderr",
     "output_type": "stream",
     "text": [
      " 34%|███▍      | 276/802 [10:35<24:28,  2.79s/it]"
     ]
    },
    {
     "name": "stdout",
     "output_type": "stream",
     "text": [
      "An image depicts a suction tube performing suction of blood during a Transsphenoidal pituitary adenoma resection surgery. In another aspect of the image, a cutting forcep is seen being used to cut through bone during the same procedure.\n",
      "[['cutting forcep', 'remove', 'bone']]\n"
     ]
    },
    {
     "name": "stderr",
     "output_type": "stream",
     "text": [
      " 35%|███▍      | 277/802 [10:37<22:58,  2.63s/it]"
     ]
    },
    {
     "name": "stdout",
     "output_type": "stream",
     "text": [
      "The image depicts a cutting forcep being utilized to remove a bone during a Transsphenoidal pituitary adenoma resection surgery.\n",
      "[['ultrasound probe', 'sense', 'vessel']]\n"
     ]
    },
    {
     "name": "stderr",
     "output_type": "stream",
     "text": [
      " 35%|███▍      | 278/802 [10:39<21:14,  2.43s/it]"
     ]
    },
    {
     "name": "stdout",
     "output_type": "stream",
     "text": [
      "An ultrasound probe is being used to sense a vessel in a Transsphenoidal pituitary adenoma resection surgery.\n",
      "[['scalpel', 'cut', 'tissue'], ['suction tube', 'suction', 'blood'], ['curette', 'scoop', 'tumor']]\n"
     ]
    },
    {
     "name": "stderr",
     "output_type": "stream",
     "text": [
      " 35%|███▍      | 279/802 [10:42<22:36,  2.59s/it]"
     ]
    },
    {
     "name": "stdout",
     "output_type": "stream",
     "text": [
      "The image depicts a scalpel making precise cuts into the tissue. Concurrently, a suction tube is being used to remove blood from the surgical area. Lastly, a curette is skillfully scooping out the tumor.\n",
      "[['rongeur', 'remove', 'bone'], ['suction tube', 'suction', 'blood']]\n"
     ]
    },
    {
     "name": "stderr",
     "output_type": "stream",
     "text": [
      " 35%|███▍      | 280/802 [10:44<21:14,  2.44s/it]"
     ]
    },
    {
     "name": "stdout",
     "output_type": "stream",
     "text": [
      "The image portrays the usage of a rongeur to remove bone during a transsphenoidal pituitary adenoma resection surgery. Simultaneously, another visible instrument is a suction tube, employed to clear the area by suctioning blood.\n",
      "[['rongeur', 'manipulate', 'packing material'], ['suction tube', 'suction', 'tumor']]\n"
     ]
    },
    {
     "name": "stderr",
     "output_type": "stream",
     "text": [
      " 35%|███▌      | 281/802 [10:46<21:54,  2.52s/it]"
     ]
    },
    {
     "name": "stdout",
     "output_type": "stream",
     "text": [
      "A rongeur is being utilized to manipulate packing material, followed by a suction tube being applied to remove the tumor in a transsphenoidal pituitary adenoma resection surgery.\n",
      "[['ultrasound probe', 'sense', 'vessel']]\n"
     ]
    },
    {
     "name": "stderr",
     "output_type": "stream",
     "text": [
      " 35%|███▌      | 282/802 [10:49<23:01,  2.66s/it]"
     ]
    },
    {
     "name": "stdout",
     "output_type": "stream",
     "text": [
      "The ultrasound probe is sensing a vessel during a Transsphenoidal pituitary adenoma resection surgery.\n",
      "[['suction tube', 'suction', 'blood'], ['cup forcep', 'manipulate', 'tissue'], ['suction tube', 'manipulate', 'tissue']]\n"
     ]
    },
    {
     "name": "stderr",
     "output_type": "stream",
     "text": [
      " 35%|███▌      | 283/802 [10:51<21:13,  2.45s/it]"
     ]
    },
    {
     "name": "stdout",
     "output_type": "stream",
     "text": [
      "The image showcases a suction tube being used to remove blood during a Transsphenoidal pituitary adenoma resection surgery. In another scene, a cup forcep is being utilized to manipulate the tissue. Again, the suction tube is depicted adjusting the tissue.\n",
      "[['monopolar electrode', 'manipulate', 'tissue'], ['rongeur', 'manipulate', 'tissue']]\n"
     ]
    },
    {
     "name": "stderr",
     "output_type": "stream",
     "text": [
      " 35%|███▌      | 284/802 [10:54<22:19,  2.59s/it]"
     ]
    },
    {
     "name": "stdout",
     "output_type": "stream",
     "text": [
      "An image depicts the use of a monopolar electrode to manipulate tissue during a Transsphenoidal pituitary adenoma resection surgery. Additionally, the image also shows a rongeur being used to similarly manipulate tissue during the surgical procedure.\n",
      "[['suction tube', 'suction', 'blood'], ['bipolar electrode', 'cauterize', 'tissue']]\n"
     ]
    },
    {
     "name": "stderr",
     "output_type": "stream",
     "text": [
      " 36%|███▌      | 285/802 [10:56<19:28,  2.26s/it]"
     ]
    },
    {
     "name": "stdout",
     "output_type": "stream",
     "text": [
      "The image presents a suction tube being used to remove blood during surgery, along with a bipolar electrode employed to cauterize tissue.\n",
      "[['rongeur', 'remove', 'bone']]\n"
     ]
    },
    {
     "name": "stderr",
     "output_type": "stream",
     "text": [
      " 36%|███▌      | 286/802 [10:57<16:59,  1.98s/it]"
     ]
    },
    {
     "name": "stdout",
     "output_type": "stream",
     "text": [
      "The image depicts the use of a rongeur to remove bone during a Transsphenoidal pituitary adenoma resection surgery.\n",
      "[['navigation probe', 'sense', 'tissue']]\n"
     ]
    },
    {
     "name": "stderr",
     "output_type": "stream",
     "text": [
      " 36%|███▌      | 287/802 [10:59<15:54,  1.85s/it]"
     ]
    },
    {
     "name": "stdout",
     "output_type": "stream",
     "text": [
      "The image depicts a navigation probe being employed to sense tissue during a Transsphenoidal pituitary adenoma resection surgery.\n",
      "[['curette', 'remove', 'bone'], ['suction tube', 'suction', 'blood']]\n"
     ]
    },
    {
     "name": "stderr",
     "output_type": "stream",
     "text": [
      " 36%|███▌      | 288/802 [11:01<17:34,  2.05s/it]"
     ]
    },
    {
     "name": "stdout",
     "output_type": "stream",
     "text": [
      "An image portrays the resection of a pituitary adenoma through the transsphenoidal approach. In it, you can see a curette being used to excise bone. Simultaneously, a suction tube is employed to aspirate the blood.\n",
      "[['ultrasound probe', 'sense', 'vessel']]\n"
     ]
    },
    {
     "name": "stderr",
     "output_type": "stream",
     "text": [
      " 36%|███▌      | 289/802 [11:02<15:19,  1.79s/it]"
     ]
    },
    {
     "name": "stdout",
     "output_type": "stream",
     "text": [
      "The ultrasound probe is sensing a vessel during a Transsphenoidal pituitary adenoma resection surgery.\n",
      "[['navigation probe', 'sense', 'tissue']]\n"
     ]
    },
    {
     "name": "stderr",
     "output_type": "stream",
     "text": [
      " 36%|███▌      | 290/802 [11:05<17:53,  2.10s/it]"
     ]
    },
    {
     "name": "stdout",
     "output_type": "stream",
     "text": [
      "A navigation probe is being used to sense the tissue during a Transsphenoidal pituitary adenoma resection surgery.\n",
      "[['navigation probe', 'sense', 'tissue']]\n"
     ]
    },
    {
     "name": "stderr",
     "output_type": "stream",
     "text": [
      " 36%|███▋      | 291/802 [11:06<15:21,  1.80s/it]"
     ]
    },
    {
     "name": "stdout",
     "output_type": "stream",
     "text": [
      "The navigation probe is sensing the tissue during a Transsphenoidal pituitary adenoma resection surgery.\n",
      "[['monopolar electrode', 'cauterize', 'tissue'], ['suction tube', 'suction', 'blood']]\n"
     ]
    },
    {
     "name": "stderr",
     "output_type": "stream",
     "text": [
      " 36%|███▋      | 292/802 [11:09<18:35,  2.19s/it]"
     ]
    },
    {
     "name": "stdout",
     "output_type": "stream",
     "text": [
      "An image depicts the use of a monopolar electrode to cauterize the tissue, while a suction tube is simultaneously being utilized to suction away blood during a Transsphenoidal pituitary adenoma resection surgery.\n",
      "[['freer', 'manipulate', 'tissue'], ['suction tube', 'suction', 'blood']]\n"
     ]
    },
    {
     "name": "stderr",
     "output_type": "stream",
     "text": [
      " 37%|███▋      | 293/802 [11:11<16:35,  1.96s/it]"
     ]
    },
    {
     "name": "stdout",
     "output_type": "stream",
     "text": [
      "The image shows a freer being used to manipulate tissue, while a suction tube is employed to suction the blood.\n",
      "[['ultrasound probe', 'sense', 'vessel']]\n"
     ]
    },
    {
     "name": "stderr",
     "output_type": "stream",
     "text": [
      " 37%|███▋      | 294/802 [11:12<15:27,  1.83s/it]"
     ]
    },
    {
     "name": "stdout",
     "output_type": "stream",
     "text": [
      "The image showcases an ultrasound probe being used to sense a vessel during a Transsphenoidal pituitary adenoma resection surgery.\n",
      "[['cutting forcep', 'remove', 'bone'], ['suction tube', 'suction', 'blood']]\n"
     ]
    },
    {
     "name": "stderr",
     "output_type": "stream",
     "text": [
      " 37%|███▋      | 295/802 [11:15<16:13,  1.92s/it]"
     ]
    },
    {
     "name": "stdout",
     "output_type": "stream",
     "text": [
      "An image depicts the use of a cutting forcep to extricate a bone in a Transsphenoidal pituitary adenoma resection surgery. Additionally, a suction tube is utilized to evacuate blood during the procedure.\n",
      "[['suction tube', 'suction', 'blood'], ['rongeur', 'manipulate', 'bone'], ['navigation probe', 'sense', 'tissue']]\n"
     ]
    },
    {
     "name": "stderr",
     "output_type": "stream",
     "text": [
      " 37%|███▋      | 296/802 [11:17<18:12,  2.16s/it]"
     ]
    },
    {
     "name": "stdout",
     "output_type": "stream",
     "text": [
      "The image depicts the use of a suction tube to remove blood during the Transsphenoidal pituitary adenoma resection surgery. In addition, a rongeur is seen manipulating the bone involved in the procedure. Lastly, a navigation probe is being used to sense the tissue in the operation.\n",
      "[['cutting forcep', 'remove', 'bone']]\n"
     ]
    },
    {
     "name": "stderr",
     "output_type": "stream",
     "text": [
      " 37%|███▋      | 297/802 [11:20<19:56,  2.37s/it]"
     ]
    },
    {
     "name": "stdout",
     "output_type": "stream",
     "text": [
      "The image depicts a cutting forcep being used to remove bone during a transsphenoidal pituitary adenoma resection surgery.\n",
      "[['scalpel', 'cut', 'tissue'], ['curette', 'scoop', 'tumor']]\n"
     ]
    },
    {
     "name": "stderr",
     "output_type": "stream",
     "text": [
      " 37%|███▋      | 298/802 [11:22<18:35,  2.21s/it]"
     ]
    },
    {
     "name": "stdout",
     "output_type": "stream",
     "text": [
      "The image showcases a scalpel making an incision into the tissue during a Transsphenoidal pituitary adenoma resection surgery. Additionally, it also depicts the use of a curette to scoop out the tumor.\n",
      "[['navigation probe', 'sense', 'tissue']]\n"
     ]
    },
    {
     "name": "stderr",
     "output_type": "stream",
     "text": [
      " 37%|███▋      | 299/802 [11:23<15:50,  1.89s/it]"
     ]
    },
    {
     "name": "stdout",
     "output_type": "stream",
     "text": [
      "A navigation probe is being used to sense tissue during the Transsphenoidal pituitary adenoma resection surgery.\n",
      "[['rongeur', 'manipulate', 'tissue']]\n"
     ]
    },
    {
     "name": "stderr",
     "output_type": "stream",
     "text": [
      " 37%|███▋      | 300/802 [11:24<14:38,  1.75s/it]"
     ]
    },
    {
     "name": "stdout",
     "output_type": "stream",
     "text": [
      "The image depicts the use of a rongeur to manipulate tissue during a Transsphenoidal pituitary adenoma resection surgery.\n",
      "[['navigation probe', 'sense', 'tissue'], ['suction tube', 'suction', 'blood']]\n"
     ]
    },
    {
     "name": "stderr",
     "output_type": "stream",
     "text": [
      " 38%|███▊      | 301/802 [11:27<15:50,  1.90s/it]"
     ]
    },
    {
     "name": "stdout",
     "output_type": "stream",
     "text": [
      "The image displays a navigation probe being used to sense tissue during a transsphenoidal pituitary adenoma resection surgery. Additionally, a suction tube is discovered in the image, used to suction blood during the procedure.\n",
      "[['suction tube', 'suction', 'blood']]\n"
     ]
    },
    {
     "name": "stderr",
     "output_type": "stream",
     "text": [
      " 38%|███▊      | 302/802 [11:29<17:20,  2.08s/it]"
     ]
    },
    {
     "name": "stdout",
     "output_type": "stream",
     "text": [
      "The image showcases a suction tube being utilized to suction blood during a Transsphenoidal pituitary adenoma resection surgery.\n",
      "[['suction tube', 'suction', 'blood'], ['cutting forcep', 'cut', 'bone']]\n"
     ]
    },
    {
     "name": "stderr",
     "output_type": "stream",
     "text": [
      " 38%|███▊      | 303/802 [11:31<16:13,  1.95s/it]"
     ]
    },
    {
     "name": "stdout",
     "output_type": "stream",
     "text": [
      "The image shows a suction tube being used to suction blood during the operation. Concurrently, a cutting forcep is cutting through bone in a Transsphenoidal pituitary adenoma resection surgery.\n",
      "[['navigation probe', 'sense', 'tissue'], ['suction tube', 'suction', 'blood']]\n"
     ]
    },
    {
     "name": "stderr",
     "output_type": "stream",
     "text": [
      " 38%|███▊      | 304/802 [11:33<16:10,  1.95s/it]"
     ]
    },
    {
     "name": "stdout",
     "output_type": "stream",
     "text": [
      "The image showcases the use of a navigation probe sensing the tissue and a suction tube suctioning the blood during a Transsphenoidal pituitary adenoma resection surgery.\n",
      "[['navigation probe', 'sense', 'tissue'], ['suction tube', 'suction', 'blood']]\n"
     ]
    },
    {
     "name": "stderr",
     "output_type": "stream",
     "text": [
      " 38%|███▊      | 305/802 [11:34<15:24,  1.86s/it]"
     ]
    },
    {
     "name": "stdout",
     "output_type": "stream",
     "text": [
      "The image portrays a navigation probe sensing tissue during a Transsphenoidal pituitary adenoma resection surgery. Additionally, a suction tube is depicted removing blood from the surgical site.\n",
      "[['ultrasound probe', 'sense', 'vessel']]\n"
     ]
    },
    {
     "name": "stderr",
     "output_type": "stream",
     "text": [
      " 38%|███▊      | 306/802 [11:36<13:31,  1.64s/it]"
     ]
    },
    {
     "name": "stdout",
     "output_type": "stream",
     "text": [
      "The ultrasound probe is sensing the vessel during a Transsphenoidal pituitary adenoma resection surgery.\n",
      "[['scissor', 'cut', 'tissue']]\n"
     ]
    },
    {
     "name": "stderr",
     "output_type": "stream",
     "text": [
      " 38%|███▊      | 307/802 [11:37<12:04,  1.46s/it]"
     ]
    },
    {
     "name": "stdout",
     "output_type": "stream",
     "text": [
      "The image depicts a scissor cutting tissue during a transsphenoidal pituitary adenoma resection surgery.\n",
      "[['monopolar electrode', 'cauterize', 'tissue']]\n"
     ]
    },
    {
     "name": "stderr",
     "output_type": "stream",
     "text": [
      " 38%|███▊      | 308/802 [11:39<14:46,  1.79s/it]"
     ]
    },
    {
     "name": "stdout",
     "output_type": "stream",
     "text": [
      "The image shows a monopolar electrode being used to cauterize tissue during a Transsphenoidal pituitary adenoma resection surgery.\n",
      "[['monopolar electrode', 'cauterize', 'tissue'], ['suction tube', 'suction', 'blood']]\n"
     ]
    },
    {
     "name": "stderr",
     "output_type": "stream",
     "text": [
      " 39%|███▊      | 309/802 [11:43<18:25,  2.24s/it]"
     ]
    },
    {
     "name": "stdout",
     "output_type": "stream",
     "text": [
      "The image shows a monopolar electrode being used to cauterize the tissue during a Transsphenoidal pituitary adenoma resection surgery. Additionally, it illustrates a suction tube utilized for the removal of blood within the same procedure.\n",
      "[['scalpel', 'cut', 'tumor']]\n"
     ]
    },
    {
     "name": "stderr",
     "output_type": "stream",
     "text": [
      " 39%|███▊      | 310/802 [11:44<16:12,  1.98s/it]"
     ]
    },
    {
     "name": "stdout",
     "output_type": "stream",
     "text": [
      "The image depicts a scalpel being used to cut a tumor during a Transsphenoidal pituitary adenoma resection surgery.\n",
      "[['suction tube', 'suction', 'blood'], ['bipolar electrode', 'cauterize', 'tissue']]\n"
     ]
    },
    {
     "name": "stderr",
     "output_type": "stream",
     "text": [
      " 39%|███▉      | 311/802 [11:46<16:20,  2.00s/it]"
     ]
    },
    {
     "name": "stdout",
     "output_type": "stream",
     "text": [
      "The image portrays the use of a suction tube engaged in the act of suctioning blood. In another part, a bipolar electrode is observed cauterizing tissue.\n",
      "[['monopolar electrode', 'manipulate', 'tissue'], ['suction tube', 'suction', 'blood']]\n"
     ]
    },
    {
     "name": "stderr",
     "output_type": "stream",
     "text": [
      " 39%|███▉      | 312/802 [11:47<14:19,  1.75s/it]"
     ]
    },
    {
     "name": "stdout",
     "output_type": "stream",
     "text": [
      "A monopolar electrode is seen manipulating tissue, while a suction tube is employed to suction off blood.\n",
      "[['bipolar electrode', 'cauterize', 'tissue'], ['suction tube', 'suction', 'blood']]\n"
     ]
    },
    {
     "name": "stderr",
     "output_type": "stream",
     "text": [
      " 39%|███▉      | 313/802 [11:49<14:31,  1.78s/it]"
     ]
    },
    {
     "name": "stdout",
     "output_type": "stream",
     "text": [
      "A bipolar electrode is used to cauterize tissue, while a suction tube is employed to remove blood during a Transsphenoidal pituitary adenoma resection surgery.\n",
      "[['cutting forcep', 'remove', 'bone'], ['monopolar electrode', 'manipulate', 'tissue']]\n"
     ]
    },
    {
     "name": "stderr",
     "output_type": "stream",
     "text": [
      " 39%|███▉      | 314/802 [11:52<17:56,  2.21s/it]"
     ]
    },
    {
     "name": "stdout",
     "output_type": "stream",
     "text": [
      "The image illustrates the use of a cutting forcep applying a remove action on a bone during a Transsphenoidal pituitary adenoma resection surgery. Additionally, the image also depicts a monopolar electrode used to manipulate the tissue during the procedure.\n",
      "[['navigation probe', 'sense', 'tissue']]\n"
     ]
    },
    {
     "name": "stderr",
     "output_type": "stream",
     "text": [
      " 39%|███▉      | 315/802 [11:53<15:06,  1.86s/it]"
     ]
    },
    {
     "name": "stdout",
     "output_type": "stream",
     "text": [
      "The navigation probe is sensing tissue during a Transsphenoidal pituitary adenoma resection surgery.\n",
      "[['ultrasound probe', 'sense', 'vessel']]\n"
     ]
    },
    {
     "name": "stderr",
     "output_type": "stream",
     "text": [
      " 39%|███▉      | 316/802 [11:57<19:32,  2.41s/it]"
     ]
    },
    {
     "name": "stdout",
     "output_type": "stream",
     "text": [
      "The ultrasound probe is being used to sense the vessel in the Transsphenoidal pituitary adenoma resection surgery.\n",
      "[['suction tube', 'suction', 'blood'], ['navigation probe', 'sense', 'tissue']]\n"
     ]
    },
    {
     "name": "stderr",
     "output_type": "stream",
     "text": [
      " 40%|███▉      | 317/802 [11:59<17:49,  2.21s/it]"
     ]
    },
    {
     "name": "stdout",
     "output_type": "stream",
     "text": [
      "The image illustrates the use of a suction tube extracting blood during a Transsphenoidal pituitary adenoma resection surgery. Additionally, a navigation probe is discernible, being utilized to detect the surrounding tissue.\n",
      "[['monopolar electrode', 'suction', 'blood'], ['monopolar electrode', 'cauterize', 'tissue']]\n"
     ]
    },
    {
     "name": "stderr",
     "output_type": "stream",
     "text": [
      " 40%|███▉      | 318/802 [12:01<17:32,  2.17s/it]"
     ]
    },
    {
     "name": "stdout",
     "output_type": "stream",
     "text": [
      "The image depicts a monopolar electrode being utilized to suction blood, followed by the same tool being used to cauterize tissue during a Transsphenoidal pituitary adenoma resection surgery.\n",
      "[['suction tube', 'suction', 'blood'], ['bipolar electrode', 'cauterize', 'tissue']]\n"
     ]
    },
    {
     "name": "stderr",
     "output_type": "stream",
     "text": [
      " 40%|███▉      | 319/802 [12:03<16:46,  2.08s/it]"
     ]
    },
    {
     "name": "stdout",
     "output_type": "stream",
     "text": [
      "The image shows a suction tube being used to remove blood during a Transsphenoidal pituitary adenoma resection surgery. Additionally, a bipolar electrode is depicted cauterizing tissue in the same procedure.\n",
      "[['bipolar electrode', 'cauterize', 'tissue'], ['suction tube', 'suction', 'blood']]\n"
     ]
    },
    {
     "name": "stderr",
     "output_type": "stream",
     "text": [
      " 40%|███▉      | 320/802 [12:06<19:50,  2.47s/it]"
     ]
    },
    {
     "name": "stdout",
     "output_type": "stream",
     "text": [
      "The image showcases a bipolar electrode being used to cauterize tissue during a Transsphenoidal pituitary adenoma resection surgery. Simultaneously, a suction tube is seen removing blood from the surgical site.\n",
      "[['monopolar electrode', 'manipulate', 'tissue'], ['scalpel', 'cut', 'tumor']]\n"
     ]
    },
    {
     "name": "stderr",
     "output_type": "stream",
     "text": [
      " 40%|████      | 321/802 [12:08<18:28,  2.30s/it]"
     ]
    },
    {
     "name": "stdout",
     "output_type": "stream",
     "text": [
      "The image showcases the manipulation of tissue using a monopolar electrode, followed by the cutting of the tumor with a scalpel during a Transsphenoidal pituitary adenoma resection surgery.\n",
      "[['ultrasound probe', 'sense', 'vessel']]\n"
     ]
    },
    {
     "name": "stderr",
     "output_type": "stream",
     "text": [
      " 40%|████      | 322/802 [12:09<15:33,  1.95s/it]"
     ]
    },
    {
     "name": "stdout",
     "output_type": "stream",
     "text": [
      "An ultrasound probe is being used to sense a vessel in a Transsphenoidal pituitary adenoma resection surgery.\n",
      "[['ultrasound probe', 'sense', 'vessel']]\n"
     ]
    },
    {
     "name": "stderr",
     "output_type": "stream",
     "text": [
      " 40%|████      | 323/802 [12:10<14:07,  1.77s/it]"
     ]
    },
    {
     "name": "stdout",
     "output_type": "stream",
     "text": [
      "The ultrasound probe is used to sense the vessel in a Transsphenoidal pituitary adenoma resection surgery.\n",
      "[['navigation probe', 'sense', 'tissue']]\n"
     ]
    },
    {
     "name": "stderr",
     "output_type": "stream",
     "text": [
      " 40%|████      | 324/802 [12:12<12:58,  1.63s/it]"
     ]
    },
    {
     "name": "stdout",
     "output_type": "stream",
     "text": [
      "The image depicts the navigation probe being used to sense the tissue during a Transsphenoidal pituitary adenoma resection surgery.\n",
      "[['suction tube', 'suction', 'blood'], ['ultrasound probe', 'sense', 'vessel']]\n"
     ]
    },
    {
     "name": "stderr",
     "output_type": "stream",
     "text": [
      " 41%|████      | 325/802 [12:14<14:07,  1.78s/it]"
     ]
    },
    {
     "name": "stdout",
     "output_type": "stream",
     "text": [
      "The image depicts the use of a suction tube, which is being used to aspirate blood. Additionally, an ultrasound probe is featured, being utilized to detect a vessel.\n",
      "[['suction tube', 'suction', 'blood'], ['bipolar electrode', 'cauterize', 'tissue']]\n"
     ]
    },
    {
     "name": "stderr",
     "output_type": "stream",
     "text": [
      " 41%|████      | 326/802 [12:16<16:15,  2.05s/it]"
     ]
    },
    {
     "name": "stdout",
     "output_type": "stream",
     "text": [
      "The image depicts a suction tube being utilized to suction blood during a transsphenoidal pituitary adenoma resection surgery. In addition, a bipolar electrode is seen being used to cauterize tissue in the same surgical procedure.\n",
      "[['scalpel', 'cut', 'tissue'], ['suction tube', 'suction', 'blood'], ['curette', 'scoop', 'tumor']]\n"
     ]
    },
    {
     "name": "stderr",
     "output_type": "stream",
     "text": [
      " 41%|████      | 327/802 [12:19<18:11,  2.30s/it]"
     ]
    },
    {
     "name": "stdout",
     "output_type": "stream",
     "text": [
      "The image presents a scalpel cutting tissue, a suction tube suctioning blood, and a curette scooping a tumor during a Transsphenoidal pituitary adenoma resection surgery.\n",
      "[['monopolar electrode', 'suction', 'blood'], ['monopolar electrode', 'cauterize', 'tissue']]\n"
     ]
    },
    {
     "name": "stderr",
     "output_type": "stream",
     "text": [
      " 41%|████      | 328/802 [12:23<21:43,  2.75s/it]"
     ]
    },
    {
     "name": "stdout",
     "output_type": "stream",
     "text": [
      "The image depicts a monopolar electrode in use, performing suction on blood. Subsequently, the same electrode is used to cauterize tissue in a transsphenoidal pituitary adenoma resection procedure.\n",
      "[['bipolar electrode', 'cauterize', 'tissue'], ['suction tube', 'suction', 'blood']]\n"
     ]
    },
    {
     "name": "stderr",
     "output_type": "stream",
     "text": [
      " 41%|████      | 329/802 [12:26<22:46,  2.89s/it]"
     ]
    },
    {
     "name": "stdout",
     "output_type": "stream",
     "text": [
      "In the image, a bipolar electrode is being used to cauterize tissue during a transsphenoidal pituitary adenoma resection. Additionally, a suction tube is depicted, which is being used to suction blood from the operation area.\n",
      "[['rongeur', 'remove', 'bone'], ['cutting forcep', 'remove', 'bone']]\n"
     ]
    },
    {
     "name": "stderr",
     "output_type": "stream",
     "text": [
      " 41%|████      | 330/802 [12:29<22:06,  2.81s/it]"
     ]
    },
    {
     "name": "stdout",
     "output_type": "stream",
     "text": [
      "In the image, a rongeur is being used to remove bone during a Transsphenoidal pituitary adenoma resection surgery. Simultaneously, a cutting forcep is also employed to excise a bone.\n",
      "[['suction tube', 'manipulate', 'tissue'], ['bipolar electrode', 'cauterize', 'tissue']]\n"
     ]
    },
    {
     "name": "stderr",
     "output_type": "stream",
     "text": [
      " 41%|████▏     | 331/802 [12:31<21:10,  2.70s/it]"
     ]
    },
    {
     "name": "stdout",
     "output_type": "stream",
     "text": [
      "A suction tube is being used to manipulate tissue during a Transsphenoidal pituitary adenoma resection surgery. Furthermore, a bipolar electrode is applied to cauterize the tissue in the same procedure.\n",
      "[['suction tube', 'suction', 'blood'], ['bipolar electrode', 'cauterize', 'tissue']]\n"
     ]
    },
    {
     "name": "stderr",
     "output_type": "stream",
     "text": [
      " 41%|████▏     | 332/802 [12:34<20:04,  2.56s/it]"
     ]
    },
    {
     "name": "stdout",
     "output_type": "stream",
     "text": [
      "The image showcases a suction tube being employed to aspirate blood during a Transsphenoidal pituitary adenoma resection surgery. Additionally, a bipolar electrode is observed being used to cauterize tissue in the same procedure.\n",
      "[['suction tube', 'suction', 'blood'], ['suction tube', 'manipulate', 'tissue'], ['bipolar electrode', 'cauterize', 'tissue']]\n"
     ]
    },
    {
     "name": "stderr",
     "output_type": "stream",
     "text": [
      " 42%|████▏     | 333/802 [12:36<18:45,  2.40s/it]"
     ]
    },
    {
     "name": "stdout",
     "output_type": "stream",
     "text": [
      "The image features a suction tube being utilized to suction blood. In another instance, the same suction tube is being used to manipulate tissue. Additionally, there is also the presence of a bipolar electrode in the procedure, which is being employed to cauterize tissue.\n",
      "[['navigation probe', 'sense', 'tissue']]\n"
     ]
    },
    {
     "name": "stderr",
     "output_type": "stream",
     "text": [
      " 42%|████▏     | 334/802 [12:37<16:42,  2.14s/it]"
     ]
    },
    {
     "name": "stdout",
     "output_type": "stream",
     "text": [
      "The navigation probe is sensing the tissue in the image of a transsphenoidal pituitary adenoma resection surgery.\n",
      "[['suction tube', 'manipulate', 'tissue'], ['ultrasound probe', 'sense', 'vessel'], ['navigation probe', 'idle', 'idle']]\n"
     ]
    },
    {
     "name": "stderr",
     "output_type": "stream",
     "text": [
      " 42%|████▏     | 335/802 [12:42<21:42,  2.79s/it]"
     ]
    },
    {
     "name": "stdout",
     "output_type": "stream",
     "text": [
      "The image showcases a suction tube used to manipulate the tissue during a Transsphenoidal pituitary adenoma resection surgery. Also, an ultrasound probe is utilized to sense a vessel, aiding in the operation. At the same time, a navigation probe stands idle, prepared for further use if required.\n",
      "[['suction tube', 'manipulate', 'tissue'], ['bipolar electrode', 'cauterize', 'tissue'], ['suction tube', 'suction', 'blood']]\n"
     ]
    },
    {
     "name": "stderr",
     "output_type": "stream",
     "text": [
      " 42%|████▏     | 336/802 [12:47<28:19,  3.65s/it]"
     ]
    },
    {
     "name": "stdout",
     "output_type": "stream",
     "text": [
      "The image portrays the usage of a suction tube to manipulate the tissue during a Transsphenoidal pituitary adenoma resection surgery. Additionally, the image shows a bipolar electrode being employed to cauterize the tissue, ensuring haemostasis. Lastly, another suction tube appears to be in use for the removal of blood to maintain a clear surgical field.\n",
      "[['suction tube', 'suction', 'blood'], ['injector', 'inject', 'glue']]\n"
     ]
    },
    {
     "name": "stderr",
     "output_type": "stream",
     "text": [
      " 42%|████▏     | 337/802 [12:49<23:26,  3.03s/it]"
     ]
    },
    {
     "name": "stdout",
     "output_type": "stream",
     "text": [
      "A suction tube is being used to suction blood during a Transsphenoidal pituitary adenoma resection surgery. Following that, an injector is utilized to inject glue.\n",
      "[['suction tube', 'suction', 'blood'], ['navigation probe', 'sense', 'tissue']]\n"
     ]
    },
    {
     "name": "stderr",
     "output_type": "stream",
     "text": [
      " 42%|████▏     | 338/802 [12:54<28:08,  3.64s/it]"
     ]
    },
    {
     "name": "stdout",
     "output_type": "stream",
     "text": [
      "The image depicts the use of a suction tube in a Transsphenoidal pituitary adenoma resection surgery, which is being used to suction out blood. Additionally, a navigation probe is being employed to sense the tissue.\n",
      "[['suction tube', 'suction', 'blood'], ['navigation probe', 'sense', 'tissue']]\n"
     ]
    },
    {
     "name": "stderr",
     "output_type": "stream",
     "text": [
      " 42%|████▏     | 339/802 [12:56<24:04,  3.12s/it]"
     ]
    },
    {
     "name": "stdout",
     "output_type": "stream",
     "text": [
      "An image depicts the use of a suction tube during a Transsphenoidal pituitary adenoma resection surgery, efficiently suctioning blood. In another part of the surgery, a navigation probe is being utilized to sense the tissue.\n",
      "[['rongeur', 'manipulate', 'tissue'], ['monopolar electrode', 'suction', 'blood']]\n"
     ]
    },
    {
     "name": "stderr",
     "output_type": "stream",
     "text": [
      " 42%|████▏     | 340/802 [13:00<27:20,  3.55s/it]"
     ]
    },
    {
     "name": "stdout",
     "output_type": "stream",
     "text": [
      "The image depicts the process of a Transsphenoidal pituitary adenoma resection surgery where a rongeur is being used to manipulate the tissue. Additionally, a monopolar electrode is being utilized to suction the blood.\n",
      "[['cutting forcep', 'remove', 'tissue']]\n"
     ]
    },
    {
     "name": "stderr",
     "output_type": "stream",
     "text": [
      " 43%|████▎     | 341/802 [13:02<23:16,  3.03s/it]"
     ]
    },
    {
     "name": "stdout",
     "output_type": "stream",
     "text": [
      "The image depicts the utilization of a cutting forcep to remove tissue during a Transsphenoidal pituitary adenoma resection surgery.\n",
      "[['injector', 'inject', 'glue']]\n"
     ]
    },
    {
     "name": "stderr",
     "output_type": "stream",
     "text": [
      " 43%|████▎     | 342/802 [13:05<22:00,  2.87s/it]"
     ]
    },
    {
     "name": "stdout",
     "output_type": "stream",
     "text": [
      "The image depicts the use of an injector to apply glue during a Transsphenoidal pituitary adenoma resection surgery.\n",
      "[['ultrasound probe', 'sense', 'vessel']]\n"
     ]
    },
    {
     "name": "stderr",
     "output_type": "stream",
     "text": [
      " 43%|████▎     | 343/802 [13:06<18:07,  2.37s/it]"
     ]
    },
    {
     "name": "stdout",
     "output_type": "stream",
     "text": [
      "The ultrasound probe is being used to sense a vessel during a Transsphenoidal pituitary adenoma resection surgery.\n",
      "[['suction tube', 'suction', 'blood'], ['cutting forcep', 'remove', 'bone']]\n"
     ]
    },
    {
     "name": "stderr",
     "output_type": "stream",
     "text": [
      " 43%|████▎     | 344/802 [13:08<17:23,  2.28s/it]"
     ]
    },
    {
     "name": "stdout",
     "output_type": "stream",
     "text": [
      "An image depicts a suction tube performing the action of suction on blood during a Transsphenoidal pituitary adenoma resection surgery. In addition, a cutting forcep is shown in the act of removing a bone.\n",
      "[['suction tube', 'suction', 'blood'], ['injector', 'inject', 'glue']]\n"
     ]
    },
    {
     "name": "stderr",
     "output_type": "stream",
     "text": [
      " 43%|████▎     | 345/802 [13:12<21:25,  2.81s/it]"
     ]
    },
    {
     "name": "stdout",
     "output_type": "stream",
     "text": [
      "The image shows a suction tube being used to suction blood during a Transsphenoidal pituitary adenoma resection surgery. Additionally, an injector is introduced to inject glue into the target site.\n",
      "[['rongeur', 'remove', 'bone'], ['suction tube', 'suction', 'blood']]\n"
     ]
    },
    {
     "name": "stderr",
     "output_type": "stream",
     "text": [
      " 43%|████▎     | 346/802 [13:15<22:59,  3.02s/it]"
     ]
    },
    {
     "name": "stdout",
     "output_type": "stream",
     "text": [
      "The image illustrates a rongeur being used in transsphenoidal pituitary adenoma resection surgery to extract bone. Additionally, a suction tube is employed in the same procedure to suction blood.\n",
      "[['suction tube', 'manipulate', 'tissue'], ['monopolar electrode', 'idle', 'tissue']]\n"
     ]
    },
    {
     "name": "stderr",
     "output_type": "stream",
     "text": [
      " 43%|████▎     | 347/802 [13:18<21:21,  2.82s/it]"
     ]
    },
    {
     "name": "stdout",
     "output_type": "stream",
     "text": [
      "A suction tube is being utilized to manipulate tissue during the Transsphenoidal pituitary adenoma resection surgery. Meanwhile, a monopolar electrode is present but remains idle, not currently in use on the tissue.\n",
      "[['rongeur', 'manipulate', 'packing material'], ['suction tube', 'suction', 'tumor']]\n"
     ]
    },
    {
     "name": "stderr",
     "output_type": "stream",
     "text": [
      " 43%|████▎     | 348/802 [13:19<18:35,  2.46s/it]"
     ]
    },
    {
     "name": "stdout",
     "output_type": "stream",
     "text": [
      "The image illustrates a rongeur being used to manipulate the packing material during a Transsphenoidal pituitary adenoma resection surgery. It also shows a suction tube being utilized to suction out the tumor.\n",
      "[['scalpel', 'cut', 'tumor'], ['suction tube', 'suction', 'blood']]\n"
     ]
    },
    {
     "name": "stderr",
     "output_type": "stream",
     "text": [
      " 44%|████▎     | 349/802 [13:21<17:27,  2.31s/it]"
     ]
    },
    {
     "name": "stdout",
     "output_type": "stream",
     "text": [
      "The image showcases a scalpel making an incision into a tumor during a Transsphenoidal pituitary adenoma resection surgery. Also shown is a suction tube being used to extract blood from the surgical area.\n",
      "[['monopolar electrode', 'manipulate', 'tissue'], ['scalpel', 'cut', 'tumor']]\n"
     ]
    },
    {
     "name": "stderr",
     "output_type": "stream",
     "text": [
      " 44%|████▎     | 350/802 [13:23<16:37,  2.21s/it]"
     ]
    },
    {
     "name": "stdout",
     "output_type": "stream",
     "text": [
      "An image showcasing a monopolar electrode being used to manipulate tissue, along with a scalpel carefully slicing through a tumor, during a Transsphenoidal pituitary adenoma resection surgery.\n",
      "[['suction tube', 'manipulate', 'tissue'], ['monopolar electrode', 'suction', 'tumor']]\n"
     ]
    },
    {
     "name": "stderr",
     "output_type": "stream",
     "text": [
      " 44%|████▍     | 351/802 [13:27<19:09,  2.55s/it]"
     ]
    },
    {
     "name": "stdout",
     "output_type": "stream",
     "text": [
      "The image showcases a suction tube being used to manipulate tissue during a Transsphenoidal pituitary adenoma resection surgery. Meanwhile, a monopolar electrode is utilized to suction out the tumor.\n",
      "[['suction tube', 'manipulate', 'tissue'], ['bipolar electrode', 'cauterize', 'tissue']]\n"
     ]
    },
    {
     "name": "stderr",
     "output_type": "stream",
     "text": [
      " 44%|████▍     | 352/802 [13:30<19:51,  2.65s/it]"
     ]
    },
    {
     "name": "stdout",
     "output_type": "stream",
     "text": [
      "The image displays a suction tube being utilized to manipulate the tissue during the surgery. Additionally, a bipolar electrode is seen being used to cauterize the tissue in the operation.\n",
      "[['monopolar electrode', 'manipulate', 'tissue'], ['curette', 'scoop', 'tumor']]\n"
     ]
    },
    {
     "name": "stderr",
     "output_type": "stream",
     "text": [
      " 44%|████▍     | 353/802 [13:35<26:56,  3.60s/it]"
     ]
    },
    {
     "name": "stdout",
     "output_type": "stream",
     "text": [
      "In the image, a monopolar electrode is being used to manipulate the tissue. Simultaneously, a curette is being employed to scoop out the tumor during the transsphenoidal pituitary adenoma resection surgery.\n",
      "[['suction tube', 'suction', 'blood'], ['navigation probe', 'sense', 'tissue']]\n"
     ]
    },
    {
     "name": "stderr",
     "output_type": "stream",
     "text": [
      " 44%|████▍     | 354/802 [13:40<29:02,  3.89s/it]"
     ]
    },
    {
     "name": "stdout",
     "output_type": "stream",
     "text": [
      "The image shows the usage of a suction tube to extract blood during a Transsphenoidal pituitary adenoma resection surgery. Additionally, a navigation probe is employed to feel the tissue.\n",
      "[['curette', 'scoop', 'tumor'], ['scalpel', 'idle', 'idle'], ['monopolar electrode', 'manipulate', 'tissue']]\n"
     ]
    },
    {
     "name": "stderr",
     "output_type": "stream",
     "text": [
      " 44%|████▍     | 355/802 [13:42<24:36,  3.30s/it]"
     ]
    },
    {
     "name": "stdout",
     "output_type": "stream",
     "text": [
      "An image depiction of a Transsphenoidal pituitary adenoma resection surgery where a curette is being used to scoop out the tumor. Besides, a scalpel can be seen idle without being involved in any action. In addition, a monopolar electrode is manipulating the surrounding tissues.\n",
      "[['suction tube', 'suction', 'blood'], ['navigation probe', 'sense', 'tissue']]\n"
     ]
    },
    {
     "name": "stderr",
     "output_type": "stream",
     "text": [
      " 44%|████▍     | 356/802 [13:45<23:53,  3.21s/it]"
     ]
    },
    {
     "name": "stdout",
     "output_type": "stream",
     "text": [
      "The image showcases the usage of a suction tube in order to suction blood during the Transsphenoidal pituitary adenoma resection surgery. Additionally, it also illustrates the application of a navigation probe to sense tissue during the surgical procedure.\n",
      "[['suction tube', 'manipulate', 'tissue'], ['bipolar electrode', 'cauterize', 'tissue']]\n"
     ]
    },
    {
     "name": "stderr",
     "output_type": "stream",
     "text": [
      " 45%|████▍     | 357/802 [13:48<22:55,  3.09s/it]"
     ]
    },
    {
     "name": "stdout",
     "output_type": "stream",
     "text": [
      "A suction tube is being used to manipulate the tissue during the transsphenoidal pituitary adenoma resection surgery. Additionally, a bipolar electrode is utilized to cauterize the tissue.\n",
      "[['suction tube', 'suction', 'blood'], ['cutting forcep', 'remove', 'bone']]\n"
     ]
    },
    {
     "name": "stderr",
     "output_type": "stream",
     "text": [
      " 45%|████▍     | 358/802 [13:51<23:05,  3.12s/it]"
     ]
    },
    {
     "name": "stdout",
     "output_type": "stream",
     "text": [
      "In the image, a suction tube is being used to suction blood during a Transsphenoidal pituitary adenoma resection surgery. Additionally, a cutting forcep is utilized to remove bone in the procedure.\n",
      "[['suction tube', 'suction', 'blood'], ['cutting forcep', 'remove', 'bone']]\n"
     ]
    },
    {
     "name": "stderr",
     "output_type": "stream",
     "text": [
      " 45%|████▍     | 359/802 [13:55<24:27,  3.31s/it]"
     ]
    },
    {
     "name": "stdout",
     "output_type": "stream",
     "text": [
      "The image showcases a suction tube being employed to aspirate blood during a Transsphenoidal pituitary adenoma resection surgery. Additionally, a cutting forcep is being utilized to remove a portion of the bone.\n",
      "[['curette', 'scoop', 'tumor'], ['scalpel', 'idle', 'idle'], ['monopolar electrode', 'manipulate', 'tissue']]\n"
     ]
    },
    {
     "name": "stderr",
     "output_type": "stream",
     "text": [
      " 45%|████▍     | 360/802 [13:58<24:49,  3.37s/it]"
     ]
    },
    {
     "name": "stdout",
     "output_type": "stream",
     "text": [
      "The image showcases a curette actively being used to scoop the tumor during a Transsphenoidal pituitary adenoma resection surgery. In contrast, the scalpel is idle, not currently being used. Meanwhile, a monopolar electrode is manipulating the surrounding tissue.\n",
      "[['rongeur', 'manipulate', 'tissue']]\n"
     ]
    },
    {
     "name": "stderr",
     "output_type": "stream",
     "text": [
      " 45%|████▌     | 361/802 [14:01<23:17,  3.17s/it]"
     ]
    },
    {
     "name": "stdout",
     "output_type": "stream",
     "text": [
      "The image depicts the manipulation of tissue using a rongeur during a Transsphenoidal pituitary adenoma resection surgery.\n",
      "[['suction tube', 'suction', 'blood'], ['cutting forcep', 'remove', 'bone']]\n"
     ]
    },
    {
     "name": "stderr",
     "output_type": "stream",
     "text": [
      " 45%|████▌     | 362/802 [14:03<21:34,  2.94s/it]"
     ]
    },
    {
     "name": "stdout",
     "output_type": "stream",
     "text": [
      "The image portrays a suction tube being used to suction blood during a Transsphenoidal pituitary adenoma resection surgery. Furthermore, it also shows the utilization of a cutting forcep to remove bone in the surgical process.\n",
      "[['suction tube', 'manipulate', 'tissue'], ['monopolar electrode', 'suction', 'tumor']]\n"
     ]
    },
    {
     "name": "stderr",
     "output_type": "stream",
     "text": [
      " 45%|████▌     | 363/802 [14:06<20:38,  2.82s/it]"
     ]
    },
    {
     "name": "stdout",
     "output_type": "stream",
     "text": [
      "An image depicts a suction tube being used to manipulate tissue during a Transsphenoidal pituitary adenoma resection surgery. A monopolar electrode can also be observed suctioning the tumor.\n",
      "[['rongeur', 'manipulate', 'packing material'], ['suction tube', 'manipulate', 'packing material']]\n"
     ]
    },
    {
     "name": "stderr",
     "output_type": "stream",
     "text": [
      " 45%|████▌     | 364/802 [14:10<22:52,  3.13s/it]"
     ]
    },
    {
     "name": "stdout",
     "output_type": "stream",
     "text": [
      "In the image, a rongeur is being employed to manipulate the packing material during a Transsphenoidal pituitary adenoma resection surgery. Furthermore, a suction tube is also visibly utilized in the manipulation of the packing material in the same operation.\n",
      "[['rongeur', 'manipulate', 'packing material'], ['suction tube', 'suction', 'tumor']]\n"
     ]
    },
    {
     "name": "stderr",
     "output_type": "stream",
     "text": [
      " 46%|████▌     | 365/802 [14:12<20:13,  2.78s/it]"
     ]
    },
    {
     "name": "stdout",
     "output_type": "stream",
     "text": [
      "The image depicts a rongeur being used to manipulate the packing material in a transsphenoidal pituitary adenoma resection surgery. Furthermore, a suction tube is shown extracting the tumor.\n",
      "[['suction tube', 'suction', 'blood'], ['injector', 'inject', 'glue']]\n"
     ]
    },
    {
     "name": "stderr",
     "output_type": "stream",
     "text": [
      " 46%|████▌     | 366/802 [14:15<21:58,  3.02s/it]"
     ]
    },
    {
     "name": "stdout",
     "output_type": "stream",
     "text": [
      "A suction tube is employed to suction blood during the Transsphenoidal pituitary adenoma resection surgery. Additionally, an injector is used to inject glue.\n",
      "[['rongeur', 'remove', 'bone'], ['suction tube', 'suction', 'blood']]\n"
     ]
    },
    {
     "name": "stderr",
     "output_type": "stream",
     "text": [
      " 46%|████▌     | 367/802 [14:17<19:31,  2.69s/it]"
     ]
    },
    {
     "name": "stdout",
     "output_type": "stream",
     "text": [
      "The image portrays a rongeur being used to remove bone and a suction tube being applied to suction blood during a Transsphenoidal pituitary adenoma resection surgery.\n",
      "[['cup forcep', 'scoop', 'tumor'], ['curette', 'scoop', 'tumor']]\n"
     ]
    },
    {
     "name": "stderr",
     "output_type": "stream",
     "text": [
      " 46%|████▌     | 368/802 [14:20<19:14,  2.66s/it]"
     ]
    },
    {
     "name": "stdout",
     "output_type": "stream",
     "text": [
      "The image portrays the use of a cup forcep to scoop out the tumor during a Transsphenoidal pituitary adenoma resection surgery. In addition, a curette was also employed for the same purpose in the surgery.\n",
      "[['monopolar electrode', 'cauterize', 'tissue']]\n"
     ]
    },
    {
     "name": "stderr",
     "output_type": "stream",
     "text": [
      " 46%|████▌     | 369/802 [14:21<16:34,  2.30s/it]"
     ]
    },
    {
     "name": "stdout",
     "output_type": "stream",
     "text": [
      "The image depicts a monopolar electrode being used to cauterize tissue during a Transsphenoidal pituitary adenoma resection surgery.\n",
      "[['navigation probe', 'sense', 'tissue'], ['suction tube', 'suction', 'blood']]\n"
     ]
    },
    {
     "name": "stderr",
     "output_type": "stream",
     "text": [
      " 46%|████▌     | 370/802 [14:23<16:27,  2.29s/it]"
     ]
    },
    {
     "name": "stdout",
     "output_type": "stream",
     "text": [
      "An image captures a navigation probe sensing tissue during a Transsphenoidal pituitary adenoma resection surgery. In another part of the picture, a suction tube is actively suctioning blood.\n",
      "[['suction tube', 'suction', 'blood'], ['ultrasound probe', 'sense', 'vessel'], ['suction tube', 'suction', 'blood']]\n"
     ]
    },
    {
     "name": "stderr",
     "output_type": "stream",
     "text": [
      " 46%|████▋     | 371/802 [14:26<16:34,  2.31s/it]"
     ]
    },
    {
     "name": "stdout",
     "output_type": "stream",
     "text": [
      "The image shows a suction tube being used to suction blood during a Transsphenoidal pituitary adenoma resection surgery. Additionally, an ultrasound probe is being utilized to sense a vessel. Then, the same suction tube is in action once more for the removal of blood.\n",
      "[['ultrasound probe', 'sense', 'vessel']]\n"
     ]
    },
    {
     "name": "stderr",
     "output_type": "stream",
     "text": [
      " 46%|████▋     | 372/802 [14:29<18:53,  2.64s/it]"
     ]
    },
    {
     "name": "stdout",
     "output_type": "stream",
     "text": [
      "An ultrasound probe is used to sense a vessel during a Transsphenoidal pituitary adenoma resection surgery.\n",
      "[['suction tube', 'manipulate', 'packing material'], ['injector', 'inject', 'glue']]\n"
     ]
    },
    {
     "name": "stderr",
     "output_type": "stream",
     "text": [
      " 47%|████▋     | 373/802 [14:33<20:52,  2.92s/it]"
     ]
    },
    {
     "name": "stdout",
     "output_type": "stream",
     "text": [
      "The image showcases the usage of a suction tube to manipulate the packing material in a Transsphenoidal pituitary adenoma resection surgery. Furthermore, it also depicts the application of an injector to introduce glue into the surgical area.\n",
      "[['suction tube', 'manipulate', 'tissue'], ['driller', 'drill', 'bone']]\n"
     ]
    },
    {
     "name": "stderr",
     "output_type": "stream",
     "text": [
      " 47%|████▋     | 374/802 [14:35<18:21,  2.57s/it]"
     ]
    },
    {
     "name": "stdout",
     "output_type": "stream",
     "text": [
      "The image portrays the manipulation of tissue via a suction tube, followed by the drilling of bone using a driller in a Transsphenoidal pituitary adenoma resection surgery.\n",
      "[['freer', 'manipulate', 'tissue'], ['suction tube', 'suction', 'blood']]\n"
     ]
    },
    {
     "name": "stderr",
     "output_type": "stream",
     "text": [
      " 47%|████▋     | 375/802 [14:37<18:10,  2.55s/it]"
     ]
    },
    {
     "name": "stdout",
     "output_type": "stream",
     "text": [
      "The image portrays a freer tool being used to manipulate the tissue during a Transsphenoidal pituitary adenoma resection surgery. Additionally, a suction tube is depicted removing blood from the surgical area.\n",
      "[['navigation probe', 'sense', 'tissue'], ['suction tube', 'suction', 'blood']]\n"
     ]
    },
    {
     "name": "stderr",
     "output_type": "stream",
     "text": [
      " 47%|████▋     | 376/802 [14:39<15:54,  2.24s/it]"
     ]
    },
    {
     "name": "stdout",
     "output_type": "stream",
     "text": [
      "The image portrays a navigation probe being used to sense the tissue during the Transsphenoidal pituitary adenoma resection surgery. In addition, a suction tube is being applied to suction out the blood.\n",
      "[['ultrasound probe', 'sense', 'vessel']]\n"
     ]
    },
    {
     "name": "stderr",
     "output_type": "stream",
     "text": [
      " 47%|████▋     | 377/802 [14:40<13:22,  1.89s/it]"
     ]
    },
    {
     "name": "stdout",
     "output_type": "stream",
     "text": [
      "The ultrasound probe is utilized to sense the vessel during the Transsphenoidal pituitary adenoma resection surgery.\n",
      "[['suction tube', 'suction', 'blood'], ['navigation probe', 'sense', 'tissue']]\n"
     ]
    },
    {
     "name": "stderr",
     "output_type": "stream",
     "text": [
      " 47%|████▋     | 378/802 [14:41<12:13,  1.73s/it]"
     ]
    },
    {
     "name": "stdout",
     "output_type": "stream",
     "text": [
      "In the image, a suction tube is being used to suction blood during the Transsphenoidal pituitary adenoma resection surgery. Additionally, a navigation probe is being used to sense the surrounding tissue.\n",
      "[['suction tube', 'manipulate', 'tissue'], ['driller', 'drill', 'bone']]\n"
     ]
    },
    {
     "name": "stderr",
     "output_type": "stream",
     "text": [
      " 47%|████▋     | 379/802 [14:42<11:28,  1.63s/it]"
     ]
    },
    {
     "name": "stdout",
     "output_type": "stream",
     "text": [
      "The image depicts the use of a suction tube to manipulate tissue during a transsphenoidal pituitary adenoma resection surgery. It also shows a driller being used to drill into the bone.\n",
      "[['scalpel', 'cut', 'tumor']]\n"
     ]
    },
    {
     "name": "stderr",
     "output_type": "stream",
     "text": [
      " 47%|████▋     | 380/802 [14:44<11:04,  1.57s/it]"
     ]
    },
    {
     "name": "stdout",
     "output_type": "stream",
     "text": [
      "The image depicts a scalpel being used to cut a tumor during a Transsphenoidal pituitary adenoma resection surgery.\n",
      "[['ultrasound probe', 'sense', 'vessel'], ['suction tube', 'suction', 'blood'], ['rongeur', 'remove', 'bone']]\n"
     ]
    },
    {
     "name": "stderr",
     "output_type": "stream",
     "text": [
      " 48%|████▊     | 381/802 [14:46<13:05,  1.86s/it]"
     ]
    },
    {
     "name": "stdout",
     "output_type": "stream",
     "text": [
      "The image depicts the use of an ultrasound probe to sense a vessel in a Transsphenoidal pituitary adenoma resection surgery. Additionally, a suction tube is being employed to suction blood, while a rongeur is utilized to remove bone.\n",
      "[['navigation probe', 'sense', 'tissue'], ['suction tube', 'suction', 'blood']]\n"
     ]
    },
    {
     "name": "stderr",
     "output_type": "stream",
     "text": [
      " 48%|████▊     | 382/802 [14:49<13:49,  1.97s/it]"
     ]
    },
    {
     "name": "stdout",
     "output_type": "stream",
     "text": [
      "A navigation probe is being utilized to sense tissue in a Transsphenoidal pituitary adenoma resection surgery. Concurrently, a suction tube is operating to suction blood during the procedure.\n",
      "[['monopolar electrode', 'suction', 'blood'], ['monopolar electrode', 'cauterize', 'tissue']]\n"
     ]
    },
    {
     "name": "stderr",
     "output_type": "stream",
     "text": [
      " 48%|████▊     | 383/802 [14:53<18:00,  2.58s/it]"
     ]
    },
    {
     "name": "stdout",
     "output_type": "stream",
     "text": [
      "The image depicts a transsphenoidal pituitary adenoma resection surgery in progress. In one scene, a monopolar electrode is utilized for suctioning blood. The other scene demonstrates the use of a monopolar electrode to cauterize the tissue.\n",
      "[['monopolar electrode', 'cauterize', 'tissue']]\n"
     ]
    },
    {
     "name": "stderr",
     "output_type": "stream",
     "text": [
      " 48%|████▊     | 384/802 [14:55<16:43,  2.40s/it]"
     ]
    },
    {
     "name": "stdout",
     "output_type": "stream",
     "text": [
      "A monopolar electrode is being used to cauterize tissue in a transsphenoidal pituitary adenoma resection surgery image.\n",
      "[['suction tube', 'suction', 'blood'], ['cutting forcep', 'remove', 'bone']]\n"
     ]
    },
    {
     "name": "stderr",
     "output_type": "stream",
     "text": [
      " 48%|████▊     | 385/802 [14:57<17:00,  2.45s/it]"
     ]
    },
    {
     "name": "stdout",
     "output_type": "stream",
     "text": [
      "A suction tube is used to suction blood during a Transsphenoidal pituitary adenoma resection surgery. Meanwhile, a cutting forcep is used to remove bone.\n",
      "[['suction tube', 'suction', 'blood'], ['cutting forcep', 'remove', 'bone']]\n"
     ]
    },
    {
     "name": "stderr",
     "output_type": "stream",
     "text": [
      " 48%|████▊     | 386/802 [14:59<16:01,  2.31s/it]"
     ]
    },
    {
     "name": "stdout",
     "output_type": "stream",
     "text": [
      "The image depicts the use of a suction tube, operating to suction the blood during a Transsphenoidal pituitary adenoma resection surgery. Additionally, a cutting forcep is also being utilized to remove the bone.\n",
      "[['suction tube', 'suction', 'blood'], ['navigation probe', 'sense', 'tissue']]\n"
     ]
    },
    {
     "name": "stderr",
     "output_type": "stream",
     "text": [
      " 48%|████▊     | 387/802 [15:01<16:03,  2.32s/it]"
     ]
    },
    {
     "name": "stdout",
     "output_type": "stream",
     "text": [
      "The image showcases a suction tube diligently extracting blood during a Transsphenoidal pituitary adenoma resection surgery. In the same scene, a navigation probe is used to sense the tissue.\n",
      "[['scalpel', 'cut', 'tumor']]\n"
     ]
    },
    {
     "name": "stderr",
     "output_type": "stream",
     "text": [
      " 48%|████▊     | 388/802 [15:04<15:35,  2.26s/it]"
     ]
    },
    {
     "name": "stdout",
     "output_type": "stream",
     "text": [
      "The image shows a scalpel being used to cut a tumor during a Transsphenoidal pituitary adenoma resection surgery.\n",
      "[['suction tube', 'suction', 'blood'], ['cutting forcep', 'remove', 'bone']]\n"
     ]
    },
    {
     "name": "stderr",
     "output_type": "stream",
     "text": [
      " 49%|████▊     | 389/802 [15:05<14:47,  2.15s/it]"
     ]
    },
    {
     "name": "stdout",
     "output_type": "stream",
     "text": [
      "A suction tube is being utilized to suction blood. In addition, a cutting forcep is engaging in the removal of bone.\n",
      "[['cutting forcep', 'remove', 'tissue']]\n"
     ]
    },
    {
     "name": "stderr",
     "output_type": "stream",
     "text": [
      " 49%|████▊     | 390/802 [15:07<13:32,  1.97s/it]"
     ]
    },
    {
     "name": "stdout",
     "output_type": "stream",
     "text": [
      "The image depicts a cutting forcep being utilized to remove tissue during a Transsphenoidal pituitary adenoma resection surgery.\n",
      "[['ultrasound probe', 'sense', 'vessel']]\n"
     ]
    },
    {
     "name": "stderr",
     "output_type": "stream",
     "text": [
      " 49%|████▉     | 391/802 [15:10<15:12,  2.22s/it]"
     ]
    },
    {
     "name": "stdout",
     "output_type": "stream",
     "text": [
      "An ultrasound probe is being used to sense a vessel during a Transsphenoidal pituitary adenoma resection surgery.\n",
      "[['navigation probe', 'sense', 'tissue']]\n"
     ]
    },
    {
     "name": "stderr",
     "output_type": "stream",
     "text": [
      " 49%|████▉     | 392/802 [15:12<15:20,  2.24s/it]"
     ]
    },
    {
     "name": "stdout",
     "output_type": "stream",
     "text": [
      "The navigation probe is sensing the tissue during the Transsphenoidal pituitary adenoma resection surgery.\n",
      "[['monopolar electrode', 'cauterize', 'tissue']]\n"
     ]
    },
    {
     "name": "stderr",
     "output_type": "stream",
     "text": [
      " 49%|████▉     | 393/802 [15:14<14:37,  2.14s/it]"
     ]
    },
    {
     "name": "stdout",
     "output_type": "stream",
     "text": [
      "The image displays the utilization of a monopolar electrode to cauterize tissue during a transsphenoidal pituitary adenoma resection surgery.\n",
      "[['freer', 'manipulate', 'tissue'], ['cup forcep', 'manipulate', 'tissue']]\n"
     ]
    },
    {
     "name": "stderr",
     "output_type": "stream",
     "text": [
      " 49%|████▉     | 394/802 [15:16<15:07,  2.22s/it]"
     ]
    },
    {
     "name": "stdout",
     "output_type": "stream",
     "text": [
      "The image showcases the manipulation of tissue using a freer during a Transsphenoidal pituitary adenoma resection surgery. In addition, a cup forcep is also being employed to manipulate the tissue in the said surgical procedure.\n",
      "\n",
      "[['suction tube', 'suction', 'blood'], ['ultrasound probe', 'sense', 'vessel']]\n"
     ]
    },
    {
     "name": "stderr",
     "output_type": "stream",
     "text": [
      " 49%|████▉     | 395/802 [15:18<14:10,  2.09s/it]"
     ]
    },
    {
     "name": "stdout",
     "output_type": "stream",
     "text": [
      "A suction tube is utilized to suction blood in a Transsphenoidal pituitary adenoma resection surgery. Concurrently, an ultrasound probe is employed to sense the vessel.\n",
      "[['monopolar electrode', 'cauterize', 'tissue'], ['suction tube', 'suction', 'blood']]\n"
     ]
    },
    {
     "name": "stderr",
     "output_type": "stream",
     "text": [
      " 49%|████▉     | 396/802 [15:28<29:24,  4.35s/it]"
     ]
    },
    {
     "name": "stdout",
     "output_type": "stream",
     "text": [
      "The image depicts the use of a monopolar electrode to cauterize the tissue, while a suction tube is implemented simultaneously to remove the blood.\n",
      "[['ultrasound probe', 'sense', 'vessel']]\n"
     ]
    },
    {
     "name": "stderr",
     "output_type": "stream",
     "text": [
      " 50%|████▉     | 397/802 [15:30<24:22,  3.61s/it]"
     ]
    },
    {
     "name": "stdout",
     "output_type": "stream",
     "text": [
      "The ultrasound probe is being used to sense the vessel during a Transsphenoidal pituitary adenoma resection surgery.\n",
      "[['navigation probe', 'sense', 'tissue'], ['suction tube', 'suction', 'blood']]\n"
     ]
    },
    {
     "name": "stderr",
     "output_type": "stream",
     "text": [
      " 50%|████▉     | 398/802 [15:33<23:17,  3.46s/it]"
     ]
    },
    {
     "name": "stdout",
     "output_type": "stream",
     "text": [
      "The image portrays a navigation probe sensing the tissue during a Transsphenoidal pituitary adenoma resection surgery. Concurrently, a suction tube is being utilized to remove blood from the operating area.\n",
      "[['suction tube', 'suction', 'tumor'], ['bipolar electrode', 'cauterize', 'tissue']]\n"
     ]
    },
    {
     "name": "stderr",
     "output_type": "stream",
     "text": [
      " 50%|████▉     | 399/802 [15:36<22:10,  3.30s/it]"
     ]
    },
    {
     "name": "stdout",
     "output_type": "stream",
     "text": [
      "The image depicts a suction tube being utilized to extract a tumor, followed by a bipolar electrode being used to cauterize the surrounding tissue during a Transsphenoidal pituitary adenoma resection surgery.\n",
      "[['monopolar electrode', 'manipulate', 'tissue'], ['scalpel', 'cut', 'tumor']]\n"
     ]
    },
    {
     "name": "stderr",
     "output_type": "stream",
     "text": [
      " 50%|████▉     | 400/802 [15:39<21:01,  3.14s/it]"
     ]
    },
    {
     "name": "stdout",
     "output_type": "stream",
     "text": [
      "The image portrays the use of a monopolar electrode manipulating tissue and a scalpel making incisions into the tumor during a Transsphenoidal pituitary adenoma resection surgery.\n",
      "[['navigation probe', 'sense', 'tissue'], ['suction tube', 'suction', 'blood']]\n"
     ]
    },
    {
     "name": "stderr",
     "output_type": "stream",
     "text": [
      " 50%|█████     | 401/802 [15:41<20:12,  3.02s/it]"
     ]
    },
    {
     "name": "stdout",
     "output_type": "stream",
     "text": [
      "The image shows the use of a navigation probe to sense the tissue during a transsphenoidal pituitary adenoma resection, while a suction tube is employed to suction the blood in the surgery site.\n",
      "[['driller', 'idle', 'idle']]\n"
     ]
    },
    {
     "name": "stderr",
     "output_type": "stream",
     "text": [
      " 50%|█████     | 402/802 [15:43<16:52,  2.53s/it]"
     ]
    },
    {
     "name": "stdout",
     "output_type": "stream",
     "text": [
      "The driller is idle during the Transsphenoidal pituitary adenoma resection surgery.\n",
      "[['rongeur', 'remove', 'bone'], ['suction tube', 'suction', 'blood']]\n"
     ]
    },
    {
     "name": "stderr",
     "output_type": "stream",
     "text": [
      " 50%|█████     | 403/802 [15:45<16:00,  2.41s/it]"
     ]
    },
    {
     "name": "stdout",
     "output_type": "stream",
     "text": [
      "The image showcases a rongeur being used to eliminate bone during a Transsphenoidal pituitary adenoma resection surgery. Also, a suction tube is in operation to suction blood in the same surgical context.\n",
      "[['suction tube', 'suction', 'blood'], ['scalpel', 'cut', 'tumor'], ['suction tube', 'suction', 'blood']]\n"
     ]
    },
    {
     "name": "stderr",
     "output_type": "stream",
     "text": [
      " 50%|█████     | 404/802 [15:47<14:53,  2.25s/it]"
     ]
    },
    {
     "name": "stdout",
     "output_type": "stream",
     "text": [
      "The suction tube is being used to suction blood. Secondly, the scalpel is employed to cut out the tumor. Lastly, the suction tube is once again put to use to remove blood.\n",
      "[['navigation probe', 'sense', 'tissue']]\n"
     ]
    },
    {
     "name": "stderr",
     "output_type": "stream",
     "text": [
      " 50%|█████     | 405/802 [15:48<12:47,  1.93s/it]"
     ]
    },
    {
     "name": "stdout",
     "output_type": "stream",
     "text": [
      "The image illustrates a navigation probe being used to sense tissue during a Transsphenoidal pituitary adenoma resection surgery.\n",
      "[['suction tube', 'suction', 'blood']]\n"
     ]
    },
    {
     "name": "stderr",
     "output_type": "stream",
     "text": [
      " 51%|█████     | 406/802 [15:51<14:37,  2.22s/it]"
     ]
    },
    {
     "name": "stdout",
     "output_type": "stream",
     "text": [
      "The image shows a suction tube being used to suction blood during a Transsphenoidal pituitary adenoma resection surgery.\n",
      "[['navigation probe', 'sense', 'tissue']]\n"
     ]
    },
    {
     "name": "stderr",
     "output_type": "stream",
     "text": [
      " 51%|█████     | 407/802 [15:52<12:17,  1.87s/it]"
     ]
    },
    {
     "name": "stdout",
     "output_type": "stream",
     "text": [
      "The navigation probe is sensing the tissue during the Transsphenoidal pituitary adenoma resection surgery.\n",
      "[['monopolar electrode', 'manipulate', 'tissue'], ['scalpel', 'cut', 'tumor']]\n"
     ]
    },
    {
     "name": "stderr",
     "output_type": "stream",
     "text": [
      " 51%|█████     | 408/802 [15:55<14:26,  2.20s/it]"
     ]
    },
    {
     "name": "stdout",
     "output_type": "stream",
     "text": [
      "The image displays a monopolar electrode manipulating tissue during a Transsphenoidal pituitary adenoma resection surgery. In another aspect of the procedure, a scalpel is utilized to cut the tumor.\n",
      "[['suction tube', 'manipulate', 'tissue'], ['suction tube', 'manipulate', 'tumor'], ['bipolar electrode', 'idle', 'idle']]\n"
     ]
    },
    {
     "name": "stderr",
     "output_type": "stream",
     "text": [
      " 51%|█████     | 409/802 [15:57<13:33,  2.07s/it]"
     ]
    },
    {
     "name": "stdout",
     "output_type": "stream",
     "text": [
      "The image displays a suction tube manipulating tissue during a Transsphenoidal pituitary adenoma resection surgery. Additionally, the same suction tube is also being used to manipulate the tumor. A bipolar electrode, however, appears idle in the image.\n",
      "[['suction tube', 'suction', 'blood'], ['driller', 'drill', 'bone'], ['suction tube', 'manipulate', 'tissue']]\n"
     ]
    },
    {
     "name": "stderr",
     "output_type": "stream",
     "text": [
      " 51%|█████     | 410/802 [16:02<19:30,  2.99s/it]"
     ]
    },
    {
     "name": "stdout",
     "output_type": "stream",
     "text": [
      "The image displays a suction tube extracting blood during the process of a Transsphenoidal pituitary adenoma resection surgery. Additionally, it also shows a driller piercing through the bone. Lastly, the usage of a suction tube to manipulate the tissue is also evident in the image.\n",
      "[['monopolar electrode', 'manipulate', 'tissue'], ['scalpel', 'cut', 'tumor']]\n"
     ]
    },
    {
     "name": "stderr",
     "output_type": "stream",
     "text": [
      " 51%|█████     | 411/802 [16:04<18:17,  2.81s/it]"
     ]
    },
    {
     "name": "stdout",
     "output_type": "stream",
     "text": [
      "The image depicts the use of a monopolar electrode to manipulate the tissue during a Transsphenoidal pituitary adenoma resection surgery. Additionally, a scalpel is employed to cut the tumor.\n",
      "[['navigation probe', 'sense', 'tissue']]\n"
     ]
    },
    {
     "name": "stderr",
     "output_type": "stream",
     "text": [
      " 51%|█████▏    | 412/802 [16:06<15:47,  2.43s/it]"
     ]
    },
    {
     "name": "stdout",
     "output_type": "stream",
     "text": [
      "The navigation probe is used to sense the tissue in Transsphenoidal pituitary adenoma resection surgery.\n",
      "[['suction tube', 'manipulate', 'tissue'], ['curette', 'scoop', 'tumor'], ['cup forcep', 'remove', 'tumor']]\n"
     ]
    },
    {
     "name": "stderr",
     "output_type": "stream",
     "text": [
      " 51%|█████▏    | 413/802 [16:08<15:44,  2.43s/it]"
     ]
    },
    {
     "name": "stdout",
     "output_type": "stream",
     "text": [
      "A suction tube is being used to manipulate tissue. Following that, a curette is being applied to scoop out the tumor. Finally, a cup forcep is utilized to completely remove the tumor.\n",
      "[['suction tube', 'manipulate', 'tissue'], ['cup forcep', 'idle', 'idle']]\n"
     ]
    },
    {
     "name": "stderr",
     "output_type": "stream",
     "text": [
      " 52%|█████▏    | 414/802 [16:11<16:55,  2.62s/it]"
     ]
    },
    {
     "name": "stdout",
     "output_type": "stream",
     "text": [
      "The image shows a suction tube being used to manipulate tissue during a Transsphenoidal pituitary adenoma resection surgery. In addition, a cup forcep is present but it is currently idle and not being used.\n",
      "[['ultrasound probe', 'sense', 'vessel'], ['monopolar electrode', 'suction', 'blood']]\n"
     ]
    },
    {
     "name": "stderr",
     "output_type": "stream",
     "text": [
      " 52%|█████▏    | 415/802 [16:13<15:24,  2.39s/it]"
     ]
    },
    {
     "name": "stdout",
     "output_type": "stream",
     "text": [
      "An ultrasound probe is being utilized to sense a vessel, while a monopolar electrode is used to suction blood in a Transsphenoidal pituitary adenoma resection surgery.\n",
      "[['suction tube', 'suction', 'blood'], ['rongeur', 'remove', 'bone']]\n"
     ]
    },
    {
     "name": "stderr",
     "output_type": "stream",
     "text": [
      " 52%|█████▏    | 416/802 [16:15<14:29,  2.25s/it]"
     ]
    },
    {
     "name": "stdout",
     "output_type": "stream",
     "text": [
      "The image showcases a suction tube being used to remove blood during a Transsphenoidal pituitary adenoma resection surgery. Furthermore, a rongeur is also depicted in action, being utilized to eliminate bone.\n",
      "[['suction tube', 'suction', 'blood'], ['bipolar electrode', 'cauterize', 'tissue']]\n"
     ]
    },
    {
     "name": "stderr",
     "output_type": "stream",
     "text": [
      " 52%|█████▏    | 417/802 [16:18<15:15,  2.38s/it]"
     ]
    },
    {
     "name": "stdout",
     "output_type": "stream",
     "text": [
      "The image illustrates the use of a suction tube effectively pulling blood. A bipolar electrode is also portrayed, being utilized to cauterize tissue.\n",
      "[['navigation probe', 'sense', 'tissue']]\n"
     ]
    },
    {
     "name": "stderr",
     "output_type": "stream",
     "text": [
      " 52%|█████▏    | 418/802 [16:19<12:48,  2.00s/it]"
     ]
    },
    {
     "name": "stdout",
     "output_type": "stream",
     "text": [
      "The image depicts a navigation probe being used to sense tissue during a Transsphenoidal pituitary adenoma resection surgery.\n",
      "[['bipolar electrode', 'manipulate', 'tissue']]\n"
     ]
    },
    {
     "name": "stderr",
     "output_type": "stream",
     "text": [
      " 52%|█████▏    | 419/802 [16:20<11:03,  1.73s/it]"
     ]
    },
    {
     "name": "stdout",
     "output_type": "stream",
     "text": [
      "The image portrays a bipolar electrode being used to manipulate tissue during a Transsphenoidal pituitary adenoma resection surgery.\n",
      "[['suction tube', 'manipulate', 'tissue'], ['driller', 'drill', 'bone']]\n"
     ]
    },
    {
     "name": "stderr",
     "output_type": "stream",
     "text": [
      " 52%|█████▏    | 420/802 [16:22<12:43,  2.00s/it]"
     ]
    },
    {
     "name": "stdout",
     "output_type": "stream",
     "text": [
      "The image depicts a suction tube being used to manipulate tissue during a transsphenoidal pituitary adenoma resection surgery. Additionally, a driller is being utilized to drill through bone in the same procedure.\n",
      "[['scalpel', 'cut', 'tumor'], ['suction tube', 'suction', 'blood']]\n"
     ]
    },
    {
     "name": "stderr",
     "output_type": "stream",
     "text": [
      " 52%|█████▏    | 421/802 [16:26<15:28,  2.44s/it]"
     ]
    },
    {
     "name": "stdout",
     "output_type": "stream",
     "text": [
      "A scalpel is being used to cut a tumor in a Transsphenoidal pituitary adenoma resection surgery. Additionally, a suction tube is utilized to remove the blood in the surgical field.\n",
      "[['ultrasound probe', 'sense', 'vessel']]\n"
     ]
    },
    {
     "name": "stderr",
     "output_type": "stream",
     "text": [
      " 53%|█████▎    | 422/802 [16:28<14:09,  2.24s/it]"
     ]
    },
    {
     "name": "stdout",
     "output_type": "stream",
     "text": [
      "The ultrasound probe is sensing the vessel during a Transsphenoidal pituitary adenoma resection surgery.\n",
      "[['navigation probe', 'sense', 'tissue'], ['suction tube', 'suction', 'blood']]\n"
     ]
    },
    {
     "name": "stderr",
     "output_type": "stream",
     "text": [
      " 53%|█████▎    | 423/802 [16:31<15:44,  2.49s/it]"
     ]
    },
    {
     "name": "stdout",
     "output_type": "stream",
     "text": [
      "A navigation probe is being utilized to sense the tissue in an image of a transsphenoidal pituitary adenoma resection surgery. Additionally, a suction tube is depicted suctioning blood during the procedure.\n",
      "[['suction tube', 'suction', 'tumor'], ['bipolar electrode', 'cauterize', 'tissue']]\n"
     ]
    },
    {
     "name": "stderr",
     "output_type": "stream",
     "text": [
      " 53%|█████▎    | 424/802 [16:34<16:36,  2.64s/it]"
     ]
    },
    {
     "name": "stdout",
     "output_type": "stream",
     "text": [
      "The image showcases a suction tube being used to remove a tumor during a Transsphenoidal pituitary adenoma resection surgery. Additionally, a bipolar electrode is seen cauterizing the tissue in the operative area.\n",
      "[['navigation probe', 'sense', 'tissue'], ['suction tube', 'suction', 'blood']]\n"
     ]
    },
    {
     "name": "stderr",
     "output_type": "stream",
     "text": [
      " 53%|█████▎    | 425/802 [16:37<18:04,  2.88s/it]"
     ]
    },
    {
     "name": "stdout",
     "output_type": "stream",
     "text": [
      "The image illustrates a navigation probe being used to sense the tissue during a Transsphenoidal pituitary adenoma resection surgery. Additionally, a suction tube is depicted in the process of suctioning blood during the procedure.\n",
      "[['navigation probe', 'sense', 'tissue'], ['suction tube', 'suction', 'blood']]\n"
     ]
    },
    {
     "name": "stderr",
     "output_type": "stream",
     "text": [
      " 53%|█████▎    | 426/802 [16:40<17:50,  2.85s/it]"
     ]
    },
    {
     "name": "stdout",
     "output_type": "stream",
     "text": [
      "The image portrays the use of a navigation probe sensing the tissue during a Transsphenoidal pituitary adenoma resection surgery. Additionally, a suction tube is being employed to suction blood during the procedure.\n",
      "[['suction tube', 'manipulate', 'tissue'], ['cup forcep', 'idle', 'idle']]\n"
     ]
    },
    {
     "name": "stderr",
     "output_type": "stream",
     "text": [
      " 53%|█████▎    | 427/802 [16:43<18:04,  2.89s/it]"
     ]
    },
    {
     "name": "stdout",
     "output_type": "stream",
     "text": [
      "In the image, a suction tube is being used to manipulate the tissue during the transsphenoidal pituitary adenoma resection surgery. Meanwhile, a cup forcep is lying idle.\n",
      "[['monopolar electrode', 'cauterize', 'tissue']]\n"
     ]
    },
    {
     "name": "stderr",
     "output_type": "stream",
     "text": [
      " 53%|█████▎    | 428/802 [16:46<18:10,  2.92s/it]"
     ]
    },
    {
     "name": "stdout",
     "output_type": "stream",
     "text": [
      "The image depicts the use of a monopolar electrode employed to cauterize the tissue during the transsphenoidal pituitary adenoma resection surgery.\n",
      "[['freer', 'manipulate', 'tissue'], ['suction tube', 'suction', 'blood']]\n"
     ]
    },
    {
     "name": "stderr",
     "output_type": "stream",
     "text": [
      " 53%|█████▎    | 429/802 [16:48<16:16,  2.62s/it]"
     ]
    },
    {
     "name": "stdout",
     "output_type": "stream",
     "text": [
      "The image shows the use of a freer to manipulate the tissue during surgery. Additionally, a suction tube is being used to suction the blood.\n",
      "[['ultrasound probe', 'sense', 'vessel']]\n"
     ]
    },
    {
     "name": "stderr",
     "output_type": "stream",
     "text": [
      " 54%|█████▎    | 430/802 [16:49<13:45,  2.22s/it]"
     ]
    },
    {
     "name": "stdout",
     "output_type": "stream",
     "text": [
      "The ultrasound probe is sensing a vessel during the Transsphenoidal pituitary adenoma resection surgery.\n",
      "[['suction tube', 'suction', 'blood'], ['navigation probe', 'sense', 'tissue']]\n"
     ]
    },
    {
     "name": "stderr",
     "output_type": "stream",
     "text": [
      " 54%|█████▎    | 431/802 [16:52<15:21,  2.48s/it]"
     ]
    },
    {
     "name": "stdout",
     "output_type": "stream",
     "text": [
      "A suction tube is employed to suction blood in the image of a Transsphenoidal pituitary adenoma resection surgery. Additionally, a navigation probe is being used to sense the tissue in the same operation.\n",
      "[['suction tube', 'suction', 'blood'], ['bipolar electrode', 'cauterize', 'tumor']]\n"
     ]
    },
    {
     "name": "stderr",
     "output_type": "stream",
     "text": [
      " 54%|█████▍    | 432/802 [16:57<19:13,  3.12s/it]"
     ]
    },
    {
     "name": "stdout",
     "output_type": "stream",
     "text": [
      "A suction tube is seen in operation, removing blood from the surgical site. Meanwhile, a bipolar electrode is being utilized to cauterize the tumor.\n",
      "[['scalpel', 'cut', 'tumor']]\n"
     ]
    },
    {
     "name": "stderr",
     "output_type": "stream",
     "text": [
      " 54%|█████▍    | 433/802 [16:58<15:56,  2.59s/it]"
     ]
    },
    {
     "name": "stdout",
     "output_type": "stream",
     "text": [
      "The image depicts a scalpel being used to cut a tumor during a Transsphenoidal pituitary adenoma resection surgery.\n",
      "[['navigation probe', 'sense', 'tissue'], ['suction tube', 'suction', 'blood']]\n"
     ]
    },
    {
     "name": "stderr",
     "output_type": "stream",
     "text": [
      " 54%|█████▍    | 434/802 [17:00<14:57,  2.44s/it]"
     ]
    },
    {
     "name": "stdout",
     "output_type": "stream",
     "text": [
      "The image showcases a navigation probe being used to sense the tissue during a transsphenoidal pituitary adenoma resection surgery. Additionally, a suction tube is visible, operating to suction the blood during the procedure.\n",
      "[['rongeur', 'manipulate', 'packing material'], ['suction tube', 'suction', 'tumor']]\n"
     ]
    },
    {
     "name": "stderr",
     "output_type": "stream",
     "text": [
      " 54%|█████▍    | 435/802 [17:03<15:06,  2.47s/it]"
     ]
    },
    {
     "name": "stdout",
     "output_type": "stream",
     "text": [
      "The image showcases a rongeur being utilized to manipulate the packing material, followed by the use of a suction tube to suction the tumor during a Transsphenoidal pituitary adenoma resection surgery.\n",
      "[['suction tube', 'suction', 'blood'], ['rongeur', 'manipulate', 'bone'], ['navigation probe', 'sense', 'tissue']]\n"
     ]
    },
    {
     "name": "stderr",
     "output_type": "stream",
     "text": [
      " 54%|█████▍    | 436/802 [17:05<14:46,  2.42s/it]"
     ]
    },
    {
     "name": "stdout",
     "output_type": "stream",
     "text": [
      "The image depicts a suction tube suctioning blood, a rongeur being used to manipulate bone, and a navigation probe sensing tissue during a Transsphenoidal pituitary adenoma resection surgery.\n",
      "[['rongeur', 'remove', 'tumor']]\n"
     ]
    },
    {
     "name": "stderr",
     "output_type": "stream",
     "text": [
      " 54%|█████▍    | 437/802 [17:08<14:49,  2.44s/it]"
     ]
    },
    {
     "name": "stdout",
     "output_type": "stream",
     "text": [
      "The image displays the use of a rongeur to remove a tumor in a transsphenoidal pituitary adenoma resection surgery.\n",
      "[['scalpel', 'cut', 'tumor']]\n"
     ]
    },
    {
     "name": "stderr",
     "output_type": "stream",
     "text": [
      " 55%|█████▍    | 438/802 [17:09<12:31,  2.07s/it]"
     ]
    },
    {
     "name": "stdout",
     "output_type": "stream",
     "text": [
      "The image shows a scalpel being used to cut a tumor during a Transsphenoidal pituitary adenoma resection surgery.\n",
      "[['navigation probe', 'sense', 'tissue'], ['suction tube', 'suction', 'blood']]\n"
     ]
    },
    {
     "name": "stderr",
     "output_type": "stream",
     "text": [
      " 55%|█████▍    | 439/802 [17:12<15:10,  2.51s/it]"
     ]
    },
    {
     "name": "stdout",
     "output_type": "stream",
     "text": [
      "The image showcases a navigation probe being used to sense the tissue during the Transsphenoidal pituitary adenoma resection surgery. Additionally, a suction tube is depicted, which is being utilized to suction the blood.\n",
      "[['bipolar electrode', 'cauterize', 'tissue'], ['suction tube', 'suction', 'blood']]\n"
     ]
    },
    {
     "name": "stderr",
     "output_type": "stream",
     "text": [
      " 55%|█████▍    | 440/802 [17:14<14:33,  2.41s/it]"
     ]
    },
    {
     "name": "stdout",
     "output_type": "stream",
     "text": [
      "An image showcases a bipolar electrode being used to cauterize tissue. Additionally, a suction tube is visible, employed to suction blood during the surgery.\n",
      "[['rongeur', 'manipulate', 'tissue']]\n"
     ]
    },
    {
     "name": "stderr",
     "output_type": "stream",
     "text": [
      " 55%|█████▍    | 441/802 [17:16<13:02,  2.17s/it]"
     ]
    },
    {
     "name": "stdout",
     "output_type": "stream",
     "text": [
      "The image shows a rongeur being used to manipulate tissue during a Transsphenoidal pituitary adenoma resection surgery.\n",
      "[['navigation probe', 'sense', 'tissue']]\n"
     ]
    },
    {
     "name": "stderr",
     "output_type": "stream",
     "text": [
      " 55%|█████▌    | 442/802 [17:18<12:33,  2.09s/it]"
     ]
    },
    {
     "name": "stdout",
     "output_type": "stream",
     "text": [
      "The navigation probe is being utilized to sense the tissue during a Transsphenoidal pituitary adenoma resection surgery.\n",
      "[['cutting forcep', 'remove', 'bone']]\n"
     ]
    },
    {
     "name": "stderr",
     "output_type": "stream",
     "text": [
      " 55%|█████▌    | 443/802 [17:19<11:31,  1.93s/it]"
     ]
    },
    {
     "name": "stdout",
     "output_type": "stream",
     "text": [
      "The image depicts the use of a cutting forcep to remove bone during a Transsphenoidal pituitary adenoma resection surgery.\n",
      "[['suction tube', 'manipulate', 'tissue'], ['curette', 'scoop', 'tumor'], ['cup forcep', 'remove', 'tumor']]\n"
     ]
    },
    {
     "name": "stderr",
     "output_type": "stream",
     "text": [
      " 55%|█████▌    | 444/802 [17:23<14:22,  2.41s/it]"
     ]
    },
    {
     "name": "stdout",
     "output_type": "stream",
     "text": [
      "The image depicts a suction tube being used to manipulate tissue during a transsphenoidal pituitary adenoma resection surgery. It shows a curette scooping out the tumor. Furthermore, it illustrates a cup forcep in the process of removing the tumor.\n",
      "[['suction tube', 'manipulate', 'tissue'], ['driller', 'drill', 'bone']]\n"
     ]
    },
    {
     "name": "stderr",
     "output_type": "stream",
     "text": [
      " 55%|█████▌    | 445/802 [17:25<14:08,  2.38s/it]"
     ]
    },
    {
     "name": "stdout",
     "output_type": "stream",
     "text": [
      "The image depicts the utilization of a suction tube to manipulate tissue during a Transsphenoidal pituitary adenoma resection surgery. Concurrently, a driller is in action, drilling through bone.\n",
      "[['suction tube', 'suction', 'blood'], ['driller', 'drill', 'bone']]\n"
     ]
    },
    {
     "name": "stderr",
     "output_type": "stream",
     "text": [
      " 56%|█████▌    | 446/802 [17:29<16:06,  2.72s/it]"
     ]
    },
    {
     "name": "stdout",
     "output_type": "stream",
     "text": [
      "The image depicts a suction tube suctioning blood and a driller being used to drill into bone during a Transsphenoidal pituitary adenoma resection surgery.\n",
      "[['navigation probe', 'sense', 'tissue'], ['suction tube', 'suction', 'blood']]\n"
     ]
    },
    {
     "name": "stderr",
     "output_type": "stream",
     "text": [
      " 56%|█████▌    | 447/802 [17:31<15:38,  2.64s/it]"
     ]
    },
    {
     "name": "stdout",
     "output_type": "stream",
     "text": [
      "The image depicts a navigation probe being utilized to sense tissue during a Transsphenoidal pituitary adenoma resection surgery. There's also a suction tube in operation, effectively removing blood from the surgical site.\n",
      "[['scalpel', 'cut', 'tumor']]\n"
     ]
    },
    {
     "name": "stderr",
     "output_type": "stream",
     "text": [
      " 56%|█████▌    | 448/802 [17:33<14:19,  2.43s/it]"
     ]
    },
    {
     "name": "stdout",
     "output_type": "stream",
     "text": [
      "The image shows a scalpel being used to cut a tumor during a Transsphenoidal pituitary adenoma resection surgery.\n",
      "[['freer', 'manipulate', 'tissue']]\n"
     ]
    },
    {
     "name": "stderr",
     "output_type": "stream",
     "text": [
      " 56%|█████▌    | 449/802 [17:35<13:01,  2.21s/it]"
     ]
    },
    {
     "name": "stdout",
     "output_type": "stream",
     "text": [
      "The image depicts the use of a freer to manipulate tissue during a Transsphenoidal pituitary adenoma resection surgery.\n",
      "[['ultrasound probe', 'sense', 'vessel']]\n"
     ]
    },
    {
     "name": "stderr",
     "output_type": "stream",
     "text": [
      " 56%|█████▌    | 450/802 [17:37<13:33,  2.31s/it]"
     ]
    },
    {
     "name": "stdout",
     "output_type": "stream",
     "text": [
      "The ultrasound probe is being used to sense the vessel during the Transsphenoidal pituitary adenoma resection surgery.\n",
      "[['ultrasound probe', 'sense', 'vessel']]\n"
     ]
    },
    {
     "name": "stderr",
     "output_type": "stream",
     "text": [
      " 56%|█████▌    | 451/802 [17:39<12:48,  2.19s/it]"
     ]
    },
    {
     "name": "stdout",
     "output_type": "stream",
     "text": [
      "The image illustrates an ultrasound probe being used to sense a vessel during a Transsphenoidal pituitary adenoma resection surgery.\n",
      "[['monopolar electrode', 'cauterize', 'tissue'], ['freer', 'manipulate', 'tissue']]\n"
     ]
    },
    {
     "name": "stderr",
     "output_type": "stream",
     "text": [
      " 56%|█████▋    | 452/802 [17:44<16:54,  2.90s/it]"
     ]
    },
    {
     "name": "stdout",
     "output_type": "stream",
     "text": [
      "The image depicts a Transsphenoidal pituitary adenoma resection procedure in which a monopolar electrode is being used to cauterize the tissue. Additionally, a freer is being employed to manipulate the tissue in the operative field.\n",
      "[['scalpel', 'cut', 'tissue']]\n"
     ]
    },
    {
     "name": "stderr",
     "output_type": "stream",
     "text": [
      " 56%|█████▋    | 453/802 [17:46<14:40,  2.52s/it]"
     ]
    },
    {
     "name": "stdout",
     "output_type": "stream",
     "text": [
      "The scalpel is cutting the tissue during a Transsphenoidal pituitary adenoma resection surgery.\n",
      "[['monopolar electrode', 'cauterize', 'tissue']]\n"
     ]
    },
    {
     "name": "stderr",
     "output_type": "stream",
     "text": [
      " 57%|█████▋    | 454/802 [17:47<13:28,  2.32s/it]"
     ]
    },
    {
     "name": "stdout",
     "output_type": "stream",
     "text": [
      "The image shows a monopolar electrode being used to cauterize tissue during a Transsphenoidal pituitary adenoma resection surgery.\n",
      "[['scalpel', 'cut', 'tumor']]\n"
     ]
    },
    {
     "name": "stderr",
     "output_type": "stream",
     "text": [
      " 57%|█████▋    | 455/802 [17:49<11:34,  2.00s/it]"
     ]
    },
    {
     "name": "stdout",
     "output_type": "stream",
     "text": [
      "The scalpel is being used to cut the tumor in a transsphenoidal pituitary adenoma resection surgery.\n",
      "[['suction tube', 'suction', 'blood'], ['navigation probe', 'sense', 'tissue']]\n"
     ]
    },
    {
     "name": "stderr",
     "output_type": "stream",
     "text": [
      " 57%|█████▋    | 456/802 [17:53<15:38,  2.71s/it]"
     ]
    },
    {
     "name": "stdout",
     "output_type": "stream",
     "text": [
      "The image depicts a suction tube being used to aspirate blood during a Transsphenoidal pituitary adenoma resection surgery. Additionally, a navigation probe is shown being utilized to sense the tissue in the surgical area.\n",
      "[['cutting forcep', 'manipulate', 'tissue']]\n"
     ]
    },
    {
     "name": "stderr",
     "output_type": "stream",
     "text": [
      " 57%|█████▋    | 457/802 [17:55<14:11,  2.47s/it]"
     ]
    },
    {
     "name": "stdout",
     "output_type": "stream",
     "text": [
      "The image depicts the use of a cutting forcep to manipulate the tissue during a Transsphenoidal pituitary adenoma resection surgery.\n",
      "[['injector', 'inject', 'glue']]\n"
     ]
    },
    {
     "name": "stderr",
     "output_type": "stream",
     "text": [
      " 57%|█████▋    | 458/802 [17:57<13:38,  2.38s/it]"
     ]
    },
    {
     "name": "stdout",
     "output_type": "stream",
     "text": [
      "The image shows the use of an injector to apply glue during a Transsphenoidal pituitary adenoma resection surgery.\n",
      "[['suction tube', 'suction', 'blood'], ['cup forcep', 'manipulate', 'tissue'], ['suction tube', 'manipulate', 'tissue']]\n"
     ]
    },
    {
     "name": "stderr",
     "output_type": "stream",
     "text": [
      " 57%|█████▋    | 459/802 [18:00<14:43,  2.58s/it]"
     ]
    },
    {
     "name": "stdout",
     "output_type": "stream",
     "text": [
      "The image depicts a suction tube being used to suction blood during a transsphenoidal pituitary adenoma resection surgery. It also shows a cup forcep being used to manipulate the tissue. In addition, the suction tube is also used to manipulate the tissue within the surgical field.\n",
      "[['navigation probe', 'sense', 'tissue']]\n"
     ]
    },
    {
     "name": "stderr",
     "output_type": "stream",
     "text": [
      " 57%|█████▋    | 460/802 [18:03<15:25,  2.70s/it]"
     ]
    },
    {
     "name": "stdout",
     "output_type": "stream",
     "text": [
      "The navigation probe is being used to sense the tissue during a Transsphenoidal pituitary adenoma resection surgery.\n",
      "[['suction tube', 'suction', 'blood'], ['navigation probe', 'sense', 'tissue']]\n"
     ]
    },
    {
     "name": "stderr",
     "output_type": "stream",
     "text": [
      " 57%|█████▋    | 461/802 [18:08<18:35,  3.27s/it]"
     ]
    },
    {
     "name": "stdout",
     "output_type": "stream",
     "text": [
      "The image portrays the use of a suction tube, adeptly utilized to suction blood during the surgical procedure. Additionally, a navigation probe is depicted and is proficiently employed to sense the tissue during the Transsphenoidal pituitary adenoma resection surgery.\n",
      "[['navigation probe', 'sense', 'tissue'], ['suction tube', 'suction', 'blood']]\n"
     ]
    },
    {
     "name": "stderr",
     "output_type": "stream",
     "text": [
      " 58%|█████▊    | 462/802 [18:09<15:36,  2.76s/it]"
     ]
    },
    {
     "name": "stdout",
     "output_type": "stream",
     "text": [
      "A navigation probe is being used to sense the tissue in the image. There is also a suction tube, which is being used to suction blood.\n",
      "[['suction tube', 'manipulate', 'tissue'], ['bipolar electrode', 'cauterize', 'tissue']]\n"
     ]
    },
    {
     "name": "stderr",
     "output_type": "stream",
     "text": [
      " 58%|█████▊    | 463/802 [18:11<14:24,  2.55s/it]"
     ]
    },
    {
     "name": "stdout",
     "output_type": "stream",
     "text": [
      "The image showcases a suction tube being used to manipulate tissue in a Transsphenoidal pituitary adenoma resection surgery. Additionally, a bipolar electrode is depicted cauterizing tissue during the same procedure.\n",
      "[['cup forcep', 'manipulate', 'packing material']]\n"
     ]
    },
    {
     "name": "stderr",
     "output_type": "stream",
     "text": [
      " 58%|█████▊    | 464/802 [18:13<12:55,  2.29s/it]"
     ]
    },
    {
     "name": "stdout",
     "output_type": "stream",
     "text": [
      "The image showcases a cup forcep being utilized to manipulate packing material during a Transsphenoidal pituitary adenoma resection surgery.\n",
      "[['suction tube', 'suction', 'blood'], ['cutting forcep', 'remove', 'bone']]\n"
     ]
    },
    {
     "name": "stderr",
     "output_type": "stream",
     "text": [
      " 58%|█████▊    | 465/802 [18:15<12:36,  2.25s/it]"
     ]
    },
    {
     "name": "stdout",
     "output_type": "stream",
     "text": [
      "The image depicts a suction tube being used to suction blood during a Transsphenoidal pituitary adenoma resection surgery. Additionally, it also shows a cutting forcep in the process of removing a bone.\n",
      "[['scalpel', 'cut', 'tumor']]\n"
     ]
    },
    {
     "name": "stderr",
     "output_type": "stream",
     "text": [
      " 58%|█████▊    | 466/802 [18:17<11:41,  2.09s/it]"
     ]
    },
    {
     "name": "stdout",
     "output_type": "stream",
     "text": [
      "A scalpel is being used to cut a tumor in a Transsphenoidal pituitary adenoma resection surgery image.\n",
      "[['freer', 'manipulate', 'tissue'], ['suction tube', 'suction', 'blood']]\n"
     ]
    },
    {
     "name": "stderr",
     "output_type": "stream",
     "text": [
      " 58%|█████▊    | 467/802 [18:20<13:29,  2.42s/it]"
     ]
    },
    {
     "name": "stdout",
     "output_type": "stream",
     "text": [
      "The image shows a freer instrument being used to manipulate tissue during a transsphenoidal pituitary adenoma resection surgery, while a suction tube is simultaneously being employed to suction blood.\n",
      "[['suction tube', 'manipulate', 'tissue'], ['driller', 'drill', 'bone'], ['suction tube', 'suction', 'blood']]\n"
     ]
    },
    {
     "name": "stderr",
     "output_type": "stream",
     "text": [
      " 58%|█████▊    | 468/802 [18:24<15:05,  2.71s/it]"
     ]
    },
    {
     "name": "stdout",
     "output_type": "stream",
     "text": [
      "The image shows a suction tube manipulating tissue during a Transsphenoidal pituitary adenoma resection surgery. Additionally, a driller is being used to drill into bone during the procedure. A suction tube can also be seen suctioning blood in the surgical site.\n",
      "[['suction tube', 'suction', 'blood'], ['scalpel', 'cut', 'tumor'], ['suction tube', 'suction', 'blood']]\n"
     ]
    },
    {
     "name": "stderr",
     "output_type": "stream",
     "text": [
      " 58%|█████▊    | 469/802 [18:26<15:27,  2.78s/it]"
     ]
    },
    {
     "name": "stdout",
     "output_type": "stream",
     "text": [
      "The image showcases a suction tube suctioning blood, a scalpel making an incision into the tumor, and again a suction tube actively removing blood from the area.\n",
      "[['ultrasound probe', 'sense', 'vessel']]\n"
     ]
    },
    {
     "name": "stderr",
     "output_type": "stream",
     "text": [
      " 59%|█████▊    | 470/802 [18:28<13:35,  2.46s/it]"
     ]
    },
    {
     "name": "stdout",
     "output_type": "stream",
     "text": [
      "An ultrasound probe is being used to sense a vessel during Transsphenoidal pituitary adenoma resection surgery.\n",
      "[['suction tube', 'manipulate', 'tissue'], ['driller', 'drill', 'bone']]\n"
     ]
    },
    {
     "name": "stderr",
     "output_type": "stream",
     "text": [
      " 59%|█████▊    | 471/802 [18:31<13:44,  2.49s/it]"
     ]
    },
    {
     "name": "stdout",
     "output_type": "stream",
     "text": [
      "The image presents the use of a suction tube to manipulate the tissue. Alongside, a driller is being used to drill into the bone.\n",
      "[['suction tube', 'suction', 'blood'], ['driller', 'drill', 'bone'], ['suction tube', 'manipulate', 'tissue']]\n"
     ]
    },
    {
     "name": "stderr",
     "output_type": "stream",
     "text": [
      " 59%|█████▉    | 472/802 [18:37<19:54,  3.62s/it]"
     ]
    },
    {
     "name": "stdout",
     "output_type": "stream",
     "text": [
      "The image shows a suction tube being employed to draw away blood during a Transsphenoidal pituitary adenoma resection operation. Additionally, the same suction tube is being used to manipulate tissue during the procedure. It also portrays a driller being utilized to drill through bone.\n",
      "[['monopolar electrode', 'cauterize', 'tissue']]\n"
     ]
    },
    {
     "name": "stderr",
     "output_type": "stream",
     "text": [
      " 59%|█████▉    | 473/802 [18:39<17:29,  3.19s/it]"
     ]
    },
    {
     "name": "stdout",
     "output_type": "stream",
     "text": [
      "The image depicts a monopolar electrode being used to cauterize tissue during a Transsphenoidal pituitary adenoma resection surgery.\n",
      "[['navigation probe', 'sense', 'tissue']]\n"
     ]
    },
    {
     "name": "stderr",
     "output_type": "stream",
     "text": [
      " 59%|█████▉    | 474/802 [18:42<15:59,  2.93s/it]"
     ]
    },
    {
     "name": "stdout",
     "output_type": "stream",
     "text": [
      "The image illustrates a navigation probe sensing tissue during a Transsphenoidal pituitary adenoma resection surgery.\n",
      "[['scissor', 'cut', 'tissue'], ['suction tube', 'suction', 'blood']]\n"
     ]
    },
    {
     "name": "stderr",
     "output_type": "stream",
     "text": [
      " 59%|█████▉    | 475/802 [18:44<15:17,  2.81s/it]"
     ]
    },
    {
     "name": "stdout",
     "output_type": "stream",
     "text": [
      "The image depicts a scissor being used to cut tissue in a Transsphenoidal pituitary adenoma resection surgery. Additionally, a suction tube is seen suctioning blood during the operation.\n",
      "[['suction tube', 'manipulate', 'tissue'], ['bipolar electrode', 'cauterize', 'tissue']]\n"
     ]
    },
    {
     "name": "stderr",
     "output_type": "stream",
     "text": [
      " 59%|█████▉    | 476/802 [18:47<15:40,  2.88s/it]"
     ]
    },
    {
     "name": "stdout",
     "output_type": "stream",
     "text": [
      "The image depicts a suction tube being utilized to manipulate tissue during a Transsphenoidal pituitary adenoma resection surgery. In addition, a bipolar electrode is also seen cauterizing tissue as part of the surgical procedure.\n",
      "[['rongeur', 'remove', 'bone']]\n"
     ]
    },
    {
     "name": "stderr",
     "output_type": "stream",
     "text": [
      " 59%|█████▉    | 477/802 [18:49<14:19,  2.65s/it]"
     ]
    },
    {
     "name": "stdout",
     "output_type": "stream",
     "text": [
      "The image depicts the use of a rongeur to remove bone during a Transsphenoidal pituitary adenoma resection surgery.\n",
      "[['navigation probe', 'sense', 'tissue']]\n"
     ]
    },
    {
     "name": "stderr",
     "output_type": "stream",
     "text": [
      " 60%|█████▉    | 478/802 [18:52<14:26,  2.67s/it]"
     ]
    },
    {
     "name": "stdout",
     "output_type": "stream",
     "text": [
      "The navigation probe is utilized to sense the tissue during a Transsphenoidal pituitary adenoma resection surgery.\n",
      "[['suction tube', 'manipulate', 'tissue'], ['suction tube', 'suction', 'blood'], ['driller', 'drill', 'bone']]\n"
     ]
    },
    {
     "name": "stderr",
     "output_type": "stream",
     "text": [
      " 60%|█████▉    | 479/802 [18:55<14:27,  2.69s/it]"
     ]
    },
    {
     "name": "stdout",
     "output_type": "stream",
     "text": [
      "The image shows a suction tube manipulating the tissue during a Transsphenoidal pituitary adenoma resection surgery. Additionally, the suction tube is also seen suctioning blood in the surgical site. The driller, another tool in the picture, is being used to drill into the bone.\n",
      "[['driller', 'drill', 'bone'], ['driller', 'suction', 'blood']]\n"
     ]
    },
    {
     "name": "stderr",
     "output_type": "stream",
     "text": [
      " 60%|█████▉    | 480/802 [18:57<13:37,  2.54s/it]"
     ]
    },
    {
     "name": "stdout",
     "output_type": "stream",
     "text": [
      "<class 'KeyError'> 'content'\n",
      "None\n",
      "[['cutting forcep', 'manipulate', 'tissue']]\n"
     ]
    },
    {
     "name": "stderr",
     "output_type": "stream",
     "text": [
      " 60%|█████▉    | 481/802 [18:59<12:41,  2.37s/it]"
     ]
    },
    {
     "name": "stdout",
     "output_type": "stream",
     "text": [
      "The image showcases the use of a cutting forcep which is being used to manipulate the tissue during a transsphenoidal pituitary adenoma resection surgery.\n",
      "[['monopolar electrode', 'manipulate', 'tissue'], ['curette', 'scoop', 'tumor']]\n"
     ]
    },
    {
     "name": "stderr",
     "output_type": "stream",
     "text": [
      " 60%|██████    | 482/802 [19:03<14:51,  2.79s/it]"
     ]
    },
    {
     "name": "stdout",
     "output_type": "stream",
     "text": [
      "The image shows the utilization of a monopolar electrode to manipulate the tissue, followed by the use of a curette to scoop out the tumor during a Transsphenoidal pituitary adenoma resection surgery.\n",
      "[['ultrasound probe', 'sense', 'vessel']]\n"
     ]
    },
    {
     "name": "stderr",
     "output_type": "stream",
     "text": [
      " 60%|██████    | 483/802 [19:06<15:14,  2.87s/it]"
     ]
    },
    {
     "name": "stdout",
     "output_type": "stream",
     "text": [
      "The ultrasound probe is being utilized to sense the vessel in the Transsphenoidal pituitary adenoma resection surgery.\n",
      "[['cutting forcep', 'remove', 'bone'], ['rongeur', 'remove', 'bone']]\n"
     ]
    },
    {
     "name": "stderr",
     "output_type": "stream",
     "text": [
      " 60%|██████    | 484/802 [19:08<14:58,  2.83s/it]"
     ]
    },
    {
     "name": "stdout",
     "output_type": "stream",
     "text": [
      "The image shows a cutting forcep being used to remove a portion of the bone. Following this, a rongeur is also employed for the elimination of bone in a Transsphenoidal pituitary adenoma resection surgery.\n",
      "[['cutting forcep', 'manipulate', 'tissue']]\n"
     ]
    },
    {
     "name": "stderr",
     "output_type": "stream",
     "text": [
      " 60%|██████    | 485/802 [19:10<13:44,  2.60s/it]"
     ]
    },
    {
     "name": "stdout",
     "output_type": "stream",
     "text": [
      "The image depicts the use of a cutting forcep to manipulate tissue during a Transsphenoidal pituitary adenoma resection surgery.\n",
      "[['suction tube', 'suction', 'blood'], ['cutting forcep', 'remove', 'bone']]\n"
     ]
    },
    {
     "name": "stderr",
     "output_type": "stream",
     "text": [
      " 61%|██████    | 486/802 [19:14<15:24,  2.93s/it]"
     ]
    },
    {
     "name": "stdout",
     "output_type": "stream",
     "text": [
      "The image shows a suction tube being utilized to suction up the blood, while a cutting forcep is being employed to remove the bone during a Transsphenoidal pituitary adenoma resection surgery.\n",
      "[['suction tube', 'manipulate', 'tissue'], ['bipolar electrode', 'cauterize', 'tissue']]\n"
     ]
    },
    {
     "name": "stderr",
     "output_type": "stream",
     "text": [
      " 61%|██████    | 487/802 [19:19<17:55,  3.42s/it]"
     ]
    },
    {
     "name": "stdout",
     "output_type": "stream",
     "text": [
      "The image showcases a suction tube being used to manipulate the tissue in a transsphenoidal pituitary adenoma resection surgery. Simultaneously, a bipolar electrode is being employed to cauterize the same tissue.\n",
      "[['rongeur', 'remove', 'bone']]\n"
     ]
    },
    {
     "name": "stderr",
     "output_type": "stream",
     "text": [
      " 61%|██████    | 488/802 [19:20<14:21,  2.75s/it]"
     ]
    },
    {
     "name": "stdout",
     "output_type": "stream",
     "text": [
      "The rongeur is being used to remove bone during a Transsphenoidal pituitary adenoma resection surgery.\n",
      "[['suction tube', 'manipulate', 'tissue'], ['bipolar electrode', 'cauterize', 'tissue']]\n"
     ]
    },
    {
     "name": "stderr",
     "output_type": "stream",
     "text": [
      " 61%|██████    | 489/802 [19:23<15:08,  2.90s/it]"
     ]
    },
    {
     "name": "stdout",
     "output_type": "stream",
     "text": [
      "A suction tube is manipulating the tissue in the transsphenoidal pituitary adenoma resection procedure. Additionally, a bipolar electrode is being utilized to cauterize the tissue.\n",
      "[['navigation probe', 'sense', 'tissue'], ['suction tube', 'suction', 'blood']]\n"
     ]
    },
    {
     "name": "stderr",
     "output_type": "stream",
     "text": [
      " 61%|██████    | 490/802 [19:26<14:53,  2.87s/it]"
     ]
    },
    {
     "name": "stdout",
     "output_type": "stream",
     "text": [
      "The image shows the use of a navigation probe to sense the tissue during a Transsphenoidal pituitary adenoma resection surgery. Additionally, a suction tube is present, being utilized to suction the blood.\n",
      "[['navigation probe', 'sense', 'tissue'], ['suction tube', 'suction', 'blood']]\n"
     ]
    },
    {
     "name": "stderr",
     "output_type": "stream",
     "text": [
      " 61%|██████    | 491/802 [19:28<14:21,  2.77s/it]"
     ]
    },
    {
     "name": "stdout",
     "output_type": "stream",
     "text": [
      "The image showcases a navigation probe being used to sense tissue during a transsphenoidal pituitary adenoma resection surgery. In another part of the image, a suction tube can be seen suctioning blood during the procedure.\n",
      "[['cutting forcep', 'manipulate', 'tissue']]\n"
     ]
    },
    {
     "name": "stderr",
     "output_type": "stream",
     "text": [
      " 61%|██████▏   | 492/802 [19:30<12:13,  2.37s/it]"
     ]
    },
    {
     "name": "stdout",
     "output_type": "stream",
     "text": [
      "The image shows a cutting forcep being used to manipulate tissue during a Transsphenoidal pituitary adenoma resection surgery.\n",
      "[['navigation probe', 'sense', 'tissue'], ['suction tube', 'suction', 'blood']]\n"
     ]
    },
    {
     "name": "stderr",
     "output_type": "stream",
     "text": [
      " 61%|██████▏   | 493/802 [19:32<12:17,  2.39s/it]"
     ]
    },
    {
     "name": "stdout",
     "output_type": "stream",
     "text": [
      "A navigation probe is employed to sense the tissue in the operation of a Transsphenoidal pituitary adenoma resection. In the same procedure, a suction tube is utilized to suction the blood.\n",
      "[['navigation probe', 'sense', 'tissue']]\n"
     ]
    },
    {
     "name": "stderr",
     "output_type": "stream",
     "text": [
      " 62%|██████▏   | 494/802 [19:35<12:22,  2.41s/it]"
     ]
    },
    {
     "name": "stdout",
     "output_type": "stream",
     "text": [
      "The image shows a navigation probe being used to sense tissue during a Transsphenoidal pituitary adenoma resection surgery.\n",
      "[['freer', 'manipulate', 'tissue'], ['cup forcep', 'manipulate', 'tissue']]\n"
     ]
    },
    {
     "name": "stderr",
     "output_type": "stream",
     "text": [
      " 62%|██████▏   | 495/802 [19:40<16:46,  3.28s/it]"
     ]
    },
    {
     "name": "stdout",
     "output_type": "stream",
     "text": [
      "The image depicts a freer being used to manipulate tissue during a Transsphenoidal pituitary adenoma resection surgery. Similarly, a cup forcep is also shown in the image, being utilized to maneuver the tissue.\n",
      "[['suction tube', 'suction', 'blood'], ['rongeur', 'remove', 'bone'], ['suction tube', 'suction', 'blood']]\n"
     ]
    },
    {
     "name": "stderr",
     "output_type": "stream",
     "text": [
      " 62%|██████▏   | 496/802 [19:43<16:41,  3.27s/it]"
     ]
    },
    {
     "name": "stdout",
     "output_type": "stream",
     "text": [
      "The image depicts the use of a suction tube to remove blood during a Transsphenoidal pituitary adenoma resection surgery. Then, a rongeur is utilized to extract the bone. Finally, the suction tube is again employed to suction out more blood.\n",
      "[['navigation probe', 'sense', 'tissue']]\n"
     ]
    },
    {
     "name": "stderr",
     "output_type": "stream",
     "text": [
      " 62%|██████▏   | 497/802 [19:46<15:13,  3.00s/it]"
     ]
    },
    {
     "name": "stdout",
     "output_type": "stream",
     "text": [
      "The image depicts a navigation probe being utilized to sense tissue during a Transsphenoidal pituatary adenoma resection surgery.\n",
      "[['navigation probe', 'sense', 'tissue']]\n"
     ]
    },
    {
     "name": "stderr",
     "output_type": "stream",
     "text": [
      " 62%|██████▏   | 498/802 [19:48<14:04,  2.78s/it]"
     ]
    },
    {
     "name": "stdout",
     "output_type": "stream",
     "text": [
      "The navigation probe is being utilized to sense the tissue during the Transsphenoidal pituitary adenoma resection surgery.\n",
      "[['ultrasound probe', 'sense', 'vessel']]\n"
     ]
    },
    {
     "name": "stderr",
     "output_type": "stream",
     "text": [
      " 62%|██████▏   | 499/802 [19:49<12:01,  2.38s/it]"
     ]
    },
    {
     "name": "stdout",
     "output_type": "stream",
     "text": [
      "The ultrasound probe is being used to sense a vessel during the Transsphenoidal pituitary adenoma resection surgery.\n",
      "[['navigation probe', 'sense', 'tissue'], ['suction tube', 'suction', 'blood']]\n"
     ]
    },
    {
     "name": "stderr",
     "output_type": "stream",
     "text": [
      " 62%|██████▏   | 500/802 [19:55<16:43,  3.32s/it]"
     ]
    },
    {
     "name": "stdout",
     "output_type": "stream",
     "text": [
      "The image shows a navigation probe being used to sense the presence of tissue during a Transsphenoidal pituitary adenoma resection surgery. Simultaneously, a suction tube can be seen suctioning blood in the surgical area.\n",
      "[['scalpel', 'cut', 'tumor']]\n"
     ]
    },
    {
     "name": "stderr",
     "output_type": "stream",
     "text": [
      " 62%|██████▏   | 501/802 [19:57<14:22,  2.87s/it]"
     ]
    },
    {
     "name": "stdout",
     "output_type": "stream",
     "text": [
      "The scalpel is being used to cut the tumor in a transsphenoidal pituitary adenoma resection surgery.\n",
      "[['suction tube', 'manipulate', 'tissue'], ['bipolar electrode', 'cauterize', 'tissue']]\n"
     ]
    },
    {
     "name": "stderr",
     "output_type": "stream",
     "text": [
      " 63%|██████▎   | 502/802 [19:59<13:08,  2.63s/it]"
     ]
    },
    {
     "name": "stdout",
     "output_type": "stream",
     "text": [
      "The image depicts the usage of a suction tube to manipulate the tissue during a Transsphenoidal pituitary adenoma resection surgery. Additionally, a bipolar electrode is seen being used to cauterize the tissue.\n",
      "[['suction tube', 'suction', 'blood'], ['bipolar electrode', 'cauterize', 'tissue']]\n"
     ]
    },
    {
     "name": "stderr",
     "output_type": "stream",
     "text": [
      " 63%|██████▎   | 503/802 [20:03<15:14,  3.06s/it]"
     ]
    },
    {
     "name": "stdout",
     "output_type": "stream",
     "text": [
      "The image depicts a suction tube being used to suction blood, and a bipolar electrode being employed to cauterize the tissue in a transsphenoidal pituitary adenoma resection surgery.\n",
      "[['scissor', 'cut', 'tissue'], ['scalpel', 'cut', 'tissue']]\n"
     ]
    },
    {
     "name": "stderr",
     "output_type": "stream",
     "text": [
      " 63%|██████▎   | 504/802 [20:06<16:02,  3.23s/it]"
     ]
    },
    {
     "name": "stdout",
     "output_type": "stream",
     "text": [
      "The image depicts the use of a scissor to cut through tissue in a transsphenoidal pituitary adenoma resection surgery, followed by the utilization of a scalpel for the same purpose in the operation.\n",
      "[['scalpel', 'cut', 'tumor']]\n"
     ]
    },
    {
     "name": "stderr",
     "output_type": "stream",
     "text": [
      " 63%|██████▎   | 505/802 [20:08<13:29,  2.73s/it]"
     ]
    },
    {
     "name": "stdout",
     "output_type": "stream",
     "text": [
      "The image shows a scalpel being used to cut a tumor during a Transsphenoidal pituitary adenoma resection surgery.\n",
      "[['suction tube', 'suction', 'blood'], ['navigation probe', 'sense', 'tissue']]\n"
     ]
    },
    {
     "name": "stderr",
     "output_type": "stream",
     "text": [
      " 63%|██████▎   | 506/802 [20:12<15:31,  3.15s/it]"
     ]
    },
    {
     "name": "stdout",
     "output_type": "stream",
     "text": [
      "An image captures a suction tube actively removing blood during a Transsphenoidal pituitary adenoma resection surgery. Additionally, a navigation probe is being used to sense the surrounding tissue.\n",
      "[['ultrasound probe', 'sense', 'vessel']]\n"
     ]
    },
    {
     "name": "stderr",
     "output_type": "stream",
     "text": [
      " 63%|██████▎   | 507/802 [20:13<12:37,  2.57s/it]"
     ]
    },
    {
     "name": "stdout",
     "output_type": "stream",
     "text": [
      "The ultrasound probe is being used to sense the vessel in a Transsphenoidal pituitary adenoma resection surgery.\n",
      "[['suction tube', 'suction', 'blood'], ['scalpel', 'cut', 'tumor']]\n"
     ]
    },
    {
     "name": "stderr",
     "output_type": "stream",
     "text": [
      " 63%|██████▎   | 508/802 [20:18<15:52,  3.24s/it]"
     ]
    },
    {
     "name": "stdout",
     "output_type": "stream",
     "text": [
      "The image displays a suction tube being used to remove blood during a Transsphenoidal pituitary adenoma resection surgery. The same image also depicts a scalpel being utilized to excise the tumor.\n",
      "[['navigation probe', 'sense', 'tissue'], ['suction tube', 'suction', 'blood']]\n"
     ]
    },
    {
     "name": "stderr",
     "output_type": "stream",
     "text": [
      " 63%|██████▎   | 509/802 [20:21<15:48,  3.24s/it]"
     ]
    },
    {
     "name": "stdout",
     "output_type": "stream",
     "text": [
      "The image shows a navigation probe being used to sense the tissue during a transsphenoidal pituitary adenoma resection surgery. The image also depicts a suction tube in operation to remove blood during the surgery.\n",
      "[['navigation probe', 'sense', 'tissue']]\n"
     ]
    },
    {
     "name": "stderr",
     "output_type": "stream",
     "text": [
      " 64%|██████▎   | 510/802 [20:24<14:35,  3.00s/it]"
     ]
    },
    {
     "name": "stdout",
     "output_type": "stream",
     "text": [
      "The image depicts a navigation probe being used to sense tissue during a Transsphenoidal pituitary adenoma resection surgery.\n",
      "[['monopolar electrode', 'manipulate', 'tissue'], ['curette', 'scoop', 'tumor']]\n"
     ]
    },
    {
     "name": "stderr",
     "output_type": "stream",
     "text": [
      " 64%|██████▎   | 511/802 [20:27<14:33,  3.00s/it]"
     ]
    },
    {
     "name": "stdout",
     "output_type": "stream",
     "text": [
      "The image portrays a monopolar electrode being used to manipulate the tissue during the transsphenoidal pituitary adenoma resection surgery. In another part of the operation, a curette is utilized for scooping out the tumor.\n",
      "[['rongeur', 'remove', 'bone'], ['cutting forcep', 'remove', 'bone']]\n"
     ]
    },
    {
     "name": "stderr",
     "output_type": "stream",
     "text": [
      " 64%|██████▍   | 512/802 [20:31<15:52,  3.28s/it]"
     ]
    },
    {
     "name": "stdout",
     "output_type": "stream",
     "text": [
      "The image depicts the utilization of a rongeur to excise a part of the bone during a Transsphenoidal pituitary adenoma resection surgery. In addition, a cutting forcep is also being used for the removal of another segment of the bone.\n",
      "[['navigation probe', 'sense', 'tissue']]\n"
     ]
    },
    {
     "name": "stderr",
     "output_type": "stream",
     "text": [
      " 64%|██████▍   | 513/802 [20:32<13:28,  2.80s/it]"
     ]
    },
    {
     "name": "stdout",
     "output_type": "stream",
     "text": [
      "The navigation probe is being used to sense the tissue during a Transsphenoidal pituitary adenoma resection surgery.\n",
      "[['monopolar electrode', 'cauterize', 'tissue']]\n"
     ]
    },
    {
     "name": "stderr",
     "output_type": "stream",
     "text": [
      " 64%|██████▍   | 514/802 [20:34<11:32,  2.41s/it]"
     ]
    },
    {
     "name": "stdout",
     "output_type": "stream",
     "text": [
      "A monopolar electrode is being used to cauterize tissue in a Transsphenoidal pituitary adenoma resection surgery.\n",
      "[['cutting forcep', 'remove', 'bone'], ['monopolar electrode', 'manipulate', 'tissue']]\n"
     ]
    },
    {
     "name": "stderr",
     "output_type": "stream",
     "text": [
      " 64%|██████▍   | 515/802 [20:37<12:31,  2.62s/it]"
     ]
    },
    {
     "name": "stdout",
     "output_type": "stream",
     "text": [
      "An image depicting a transsphenoidal pituitary adenoma resection surgery shows a cutting forcep being used to remove a section of bone. Additionally, a monopolar electrode can be seen manipulating surrounding tissue.\n",
      "[['cutting forcep', 'remove', 'tissue']]\n"
     ]
    },
    {
     "name": "stderr",
     "output_type": "stream",
     "text": [
      " 64%|██████▍   | 516/802 [20:41<13:56,  2.92s/it]"
     ]
    },
    {
     "name": "stdout",
     "output_type": "stream",
     "text": [
      "The image shows a cutting forcep being used to remove tissue during a Transsphenoidal pituitary adenoma resection surgery.\n",
      "[['cutting forcep', 'remove', 'bone'], ['suction tube', 'suction', 'blood']]\n"
     ]
    },
    {
     "name": "stderr",
     "output_type": "stream",
     "text": [
      " 64%|██████▍   | 517/802 [20:43<13:27,  2.83s/it]"
     ]
    },
    {
     "name": "stdout",
     "output_type": "stream",
     "text": [
      "The image portrays a cutting forcep being utilized to remove a piece of bone during a Transsphenoidal pituitary adenoma resection surgery. Additionally, a suction tube is observed in the scene, tasked with the removal of blood.\n",
      "[['monopolar electrode', 'cauterize', 'tissue'], ['freer', 'manipulate', 'tissue']]\n"
     ]
    },
    {
     "name": "stderr",
     "output_type": "stream",
     "text": [
      " 65%|██████▍   | 518/802 [20:47<15:08,  3.20s/it]"
     ]
    },
    {
     "name": "stdout",
     "output_type": "stream",
     "text": [
      "The image showcases a monopolar electrode being used to cauterize tissue during a Transsphenoidal pituitary adenoma resection surgery. Additionally, a freer is being employed to manipulate the tissue.\n",
      "[['bipolar electrode', 'cauterize', 'tissue'], ['suction tube', 'suction', 'blood']]\n"
     ]
    },
    {
     "name": "stderr",
     "output_type": "stream",
     "text": [
      " 65%|██████▍   | 519/802 [20:49<13:29,  2.86s/it]"
     ]
    },
    {
     "name": "stdout",
     "output_type": "stream",
     "text": [
      "The image shows a bipolar electrode being used to cauterize tissue during a Transsphenoidal pituitary adenoma resection surgery. Additionally, a suction tube is employed to remove the blood in the operative field.\n",
      "[['bipolar electrode', 'cauterize', 'bone'], ['monopolar electrode', 'cauterize', 'bone'], ['bipolar electrode', 'cauterize', 'bone'], ['monopolar electrode', 'suction', 'blood']]\n"
     ]
    },
    {
     "name": "stderr",
     "output_type": "stream",
     "text": [
      " 65%|██████▍   | 520/802 [20:54<16:07,  3.43s/it]"
     ]
    },
    {
     "name": "stdout",
     "output_type": "stream",
     "text": [
      "The image depicts the use of a bipolar electrode to cauterize bone during a Transsphenoidal pituitary adenoma resection. The same operation is witnessed utilizing a monopolar electrode for bone cauterization. The bipolar electrode is once again used to cauterize the bone. Lastly, a monopolar electrode is portrayed, engaged in the suctioning of blood.\n",
      "[['suction tube', 'manipulate', 'tissue'], ['monopolar electrode', 'suction', 'tumor']]\n"
     ]
    },
    {
     "name": "stderr",
     "output_type": "stream",
     "text": [
      " 65%|██████▍   | 521/802 [20:56<14:22,  3.07s/it]"
     ]
    },
    {
     "name": "stdout",
     "output_type": "stream",
     "text": [
      "The image shows a suction tube being used to manipulate the tissue. In the same image, a monopolar electrode is being deployed to suction the tumor.\n",
      "[['rongeur', 'remove', 'bone'], ['suction tube', 'suction', 'blood']]\n"
     ]
    },
    {
     "name": "stderr",
     "output_type": "stream",
     "text": [
      " 65%|██████▌   | 522/802 [21:01<15:58,  3.42s/it]"
     ]
    },
    {
     "name": "stdout",
     "output_type": "stream",
     "text": [
      "The image shows a rongeur being used to remove bone tissue during a Transsphenoidal pituitary adenoma resection surgery. It also depicts a suction tube performing its function to suction away the blood.\n",
      "[['suction tube', 'suction', 'blood'], ['rongeur', 'remove', 'bone']]\n"
     ]
    },
    {
     "name": "stderr",
     "output_type": "stream",
     "text": [
      " 65%|██████▌   | 523/802 [21:02<13:32,  2.91s/it]"
     ]
    },
    {
     "name": "stdout",
     "output_type": "stream",
     "text": [
      "The image shows a suction tube being used to suction blood during the surgery. Additionally, a rongeur is utilized to remove the bone during the procedure.\n",
      "[['ultrasound probe', 'sense', 'vessel']]\n"
     ]
    },
    {
     "name": "stderr",
     "output_type": "stream",
     "text": [
      " 65%|██████▌   | 524/802 [21:05<12:39,  2.73s/it]"
     ]
    },
    {
     "name": "stdout",
     "output_type": "stream",
     "text": [
      "The ultrasound probe is being used to sense the location of a vessel during the Transsphenoidal pituitary adenoma resection surgery.\n",
      "[['suction tube', 'suction', 'blood'], ['navigation probe', 'sense', 'tissue']]\n"
     ]
    },
    {
     "name": "stderr",
     "output_type": "stream",
     "text": [
      " 65%|██████▌   | 525/802 [21:08<13:01,  2.82s/it]"
     ]
    },
    {
     "name": "stdout",
     "output_type": "stream",
     "text": [
      "The image depicts the use of a suction tube during a Transsphenoidal pituitary adenoma resection surgery, where it effectively suctions blood. Furthermore, a navigation probe is used to sense the tissue, ensuring precise operation.\n",
      "[['cutting forcep', 'remove', 'bone'], ['suction tube', 'suction', 'blood']]\n"
     ]
    },
    {
     "name": "stderr",
     "output_type": "stream",
     "text": [
      " 66%|██████▌   | 526/802 [21:11<12:57,  2.82s/it]"
     ]
    },
    {
     "name": "stdout",
     "output_type": "stream",
     "text": [
      "The image showcases the use of a cutting forcep engaged in removing a bone during a Transsphenoidal pituitary adenoma resection surgery. In another instance, a suction tube is employed to suction out the blood.\n",
      "[['navigation probe', 'sense', 'tissue']]\n"
     ]
    },
    {
     "name": "stderr",
     "output_type": "stream",
     "text": [
      " 66%|██████▌   | 527/802 [21:12<11:33,  2.52s/it]"
     ]
    },
    {
     "name": "stdout",
     "output_type": "stream",
     "text": [
      "The navigation probe is being used to sense the tissue in a transsphenoidal pituitary adenoma resection surgery.\n",
      "[['navigation probe', 'sense', 'tissue'], ['suction tube', 'suction', 'blood']]\n"
     ]
    },
    {
     "name": "stderr",
     "output_type": "stream",
     "text": [
      " 66%|██████▌   | 528/802 [21:14<10:36,  2.32s/it]"
     ]
    },
    {
     "name": "stdout",
     "output_type": "stream",
     "text": [
      "A navigation probe is used to sense the tissue in a Transsphenoidal pituitary adenoma resection surgery. Additionally, a suction tube is employed to suction the blood during the procedure.\n",
      "[['ultrasound probe', 'sense', 'vessel']]\n"
     ]
    },
    {
     "name": "stderr",
     "output_type": "stream",
     "text": [
      " 66%|██████▌   | 529/802 [21:16<09:05,  2.00s/it]"
     ]
    },
    {
     "name": "stdout",
     "output_type": "stream",
     "text": [
      "The ultrasound probe is sensing the vessel during the Transsphenoidal pituitary adenoma resection surgery.\n",
      "[['cutting forcep', 'remove', 'bone']]\n"
     ]
    },
    {
     "name": "stderr",
     "output_type": "stream",
     "text": [
      " 66%|██████▌   | 530/802 [21:18<09:05,  2.01s/it]"
     ]
    },
    {
     "name": "stdout",
     "output_type": "stream",
     "text": [
      "The image depicts a cutting forcep being utilized to remove a bone during a Transsphenoidal pituitary adenoma resection surgery.\n",
      "[['scalpel', 'cut', 'tumor']]\n"
     ]
    },
    {
     "name": "stderr",
     "output_type": "stream",
     "text": [
      " 66%|██████▌   | 531/802 [21:22<12:18,  2.73s/it]"
     ]
    },
    {
     "name": "stdout",
     "output_type": "stream",
     "text": [
      "The image depicts a scalpel being used to cut a tumor during a Transsphenoidal pituitary adenoma resection surgery.\n",
      "[['scalpel', 'cut', 'tumor']]\n"
     ]
    },
    {
     "name": "stderr",
     "output_type": "stream",
     "text": [
      " 66%|██████▋   | 532/802 [21:26<14:11,  3.15s/it]"
     ]
    },
    {
     "name": "stdout",
     "output_type": "stream",
     "text": [
      "The image depicts a scalpel being used to cut a tumor during a Transsphenoidal pituitary adenoma resection surgery.\n",
      "[['scissor', 'cut', 'tissue']]\n"
     ]
    },
    {
     "name": "stderr",
     "output_type": "stream",
     "text": [
      " 66%|██████▋   | 533/802 [21:28<11:56,  2.66s/it]"
     ]
    },
    {
     "name": "stdout",
     "output_type": "stream",
     "text": [
      "The image shows a scissor being used to cut tissue during a Transsphenoidal pituitary adenoma resection surgery.\n",
      "[['injector', 'inject', 'glue']]\n"
     ]
    },
    {
     "name": "stderr",
     "output_type": "stream",
     "text": [
      " 67%|██████▋   | 534/802 [21:30<11:02,  2.47s/it]"
     ]
    },
    {
     "name": "stdout",
     "output_type": "stream",
     "text": [
      "The image shows an injector being used to inject glue during a Transsphenoidal pituitary adenoma resection surgery.\n",
      "[['suction tube', 'manipulate', 'tissue'], ['cup forcep', 'idle', 'idle']]\n"
     ]
    },
    {
     "name": "stderr",
     "output_type": "stream",
     "text": [
      " 67%|██████▋   | 535/802 [21:32<10:57,  2.46s/it]"
     ]
    },
    {
     "name": "stdout",
     "output_type": "stream",
     "text": [
      "The image shows a suction tube being used to manipulate tissue during a Transsphenoidal pituitary adenoma resection surgery. There is also a cup forcep present, but it is currently idle.\n",
      "[['freer', 'manipulate', 'tissue'], ['monopolar electrode', 'suction', 'blood']]\n"
     ]
    },
    {
     "name": "stderr",
     "output_type": "stream",
     "text": [
      " 67%|██████▋   | 536/802 [21:35<11:55,  2.69s/it]"
     ]
    },
    {
     "name": "stdout",
     "output_type": "stream",
     "text": [
      "The image showcases the use of a freer to manipulate tissue during a Transsphenoidal pituitary adenoma resection surgery. Concurrently, a monopolar electrode is employed to suction blood from the surgical area.\n",
      "[['suction tube', 'suction', 'tumor'], ['curette', 'scoop', 'tumor']]\n"
     ]
    },
    {
     "name": "stderr",
     "output_type": "stream",
     "text": [
      " 67%|██████▋   | 537/802 [21:38<12:14,  2.77s/it]"
     ]
    },
    {
     "name": "stdout",
     "output_type": "stream",
     "text": [
      "A suction tube is being used to suction out the tumor in the Transsphenoidal pituitary adenoma resection surgery. Following this, a curette is utilized to scoop out the remaining tumor.\n",
      "[['suction tube', 'manipulate', 'tissue'], ['driller', 'drill', 'bone']]\n"
     ]
    },
    {
     "name": "stderr",
     "output_type": "stream",
     "text": [
      " 67%|██████▋   | 538/802 [21:40<10:27,  2.38s/it]"
     ]
    },
    {
     "name": "stdout",
     "output_type": "stream",
     "text": [
      "The image illustrates a suction tube being utilized to manipulate tissue. Moreover, a driller is also seen being used to drill into the bone during a Transsphenoidal pituitary adenoma resection surgery.\n",
      "[['ultrasound probe', 'sense', 'vessel']]\n"
     ]
    },
    {
     "name": "stderr",
     "output_type": "stream",
     "text": [
      " 67%|██████▋   | 539/802 [21:42<09:50,  2.25s/it]"
     ]
    },
    {
     "name": "stdout",
     "output_type": "stream",
     "text": [
      "The image displays an ultrasound probe being employed to sense a vessel during a Transsphenoidal pituitary adenoma resection surgery.\n",
      "[['suction tube', 'suction', 'blood'], ['navigation probe', 'sense', 'tissue']]\n"
     ]
    },
    {
     "name": "stderr",
     "output_type": "stream",
     "text": [
      " 67%|██████▋   | 540/802 [21:43<08:37,  1.98s/it]"
     ]
    },
    {
     "name": "stdout",
     "output_type": "stream",
     "text": [
      "In the image, a suction tube is being used to suction blood during the operation. Additionally, a navigation probe can be seen sensing the tissue.\n",
      "[['navigation probe', 'sense', 'tissue']]\n"
     ]
    },
    {
     "name": "stderr",
     "output_type": "stream",
     "text": [
      " 67%|██████▋   | 541/802 [21:44<07:49,  1.80s/it]"
     ]
    },
    {
     "name": "stdout",
     "output_type": "stream",
     "text": [
      "A navigation probe is used to sense the tissue during a Transsphenoidal pituitary adenoma resection surgery.\n",
      "[['navigation probe', 'sense', 'tissue'], ['suction tube', 'suction', 'blood']]\n"
     ]
    },
    {
     "name": "stderr",
     "output_type": "stream",
     "text": [
      " 68%|██████▊   | 542/802 [21:46<08:02,  1.86s/it]"
     ]
    },
    {
     "name": "stdout",
     "output_type": "stream",
     "text": [
      "The image showcases a navigation probe sensing the tissue during a Transsphenoidal pituitary adenoma resection surgery. Additionally, a suction tube is being used to suction blood in the operation field.\n",
      "[['monopolar electrode', 'manipulate', 'tissue'], ['curette', 'scoop', 'tumor']]\n"
     ]
    },
    {
     "name": "stderr",
     "output_type": "stream",
     "text": [
      " 68%|██████▊   | 543/802 [21:49<09:36,  2.23s/it]"
     ]
    },
    {
     "name": "stdout",
     "output_type": "stream",
     "text": [
      "The image portrays the use of a monopolar electrode, which is being utilized to manipulate the tissue in a transsphenoidal pituitary adenoma resection surgery. Additionally, a curette is visualized in the process of scooping the tumor.\n",
      "[['navigation probe', 'sense', 'tissue'], ['suction tube', 'suction', 'blood']]\n"
     ]
    },
    {
     "name": "stderr",
     "output_type": "stream",
     "text": [
      " 68%|██████▊   | 544/802 [21:51<08:35,  2.00s/it]"
     ]
    },
    {
     "name": "stdout",
     "output_type": "stream",
     "text": [
      "A navigation probe is sensing tissue in a Transsphenoidal pituitary adenoma resection surgery, while a suction tube is being used to suction blood.\n",
      "[['suction tube', 'suction', 'blood'], ['cutting forcep', 'remove', 'bone'], ['suction tube', 'suction', 'blood']]\n"
     ]
    },
    {
     "name": "stderr",
     "output_type": "stream",
     "text": [
      " 68%|██████▊   | 545/802 [21:54<09:30,  2.22s/it]"
     ]
    },
    {
     "name": "stdout",
     "output_type": "stream",
     "text": [
      "The image depicts a surgical procedure wherein a suction tube is used to aspirate blood. It also shows the use of a cutting forcep to remove a section of bone during surgery. Additionally, the image illustrates again the employment of a suction tube to draw out blood.\n",
      "[['navigation probe', 'sense', 'tissue']]\n"
     ]
    },
    {
     "name": "stderr",
     "output_type": "stream",
     "text": [
      " 68%|██████▊   | 546/802 [21:56<09:14,  2.17s/it]"
     ]
    },
    {
     "name": "stdout",
     "output_type": "stream",
     "text": [
      "The image depicts the use of a navigation probe to sense the tissue during a Transsphenoidal pituitary adenoma resection surgery.\n",
      "[['rongeur', 'manipulate', 'packing material'], ['injector', 'inject', 'glue']]\n"
     ]
    },
    {
     "name": "stderr",
     "output_type": "stream",
     "text": [
      " 68%|██████▊   | 547/802 [22:01<12:40,  2.98s/it]"
     ]
    },
    {
     "name": "stdout",
     "output_type": "stream",
     "text": [
      "The image portrays a rongeur being utilized to manipulate the packing material during a transsphenoidal pituitary adenoma resection surgery. Additionally, an injector is depicted in the act of administering glue.\n",
      "[['suction tube', 'suction', 'tumor'], ['bipolar electrode', 'cauterize', 'tissue']]\n"
     ]
    },
    {
     "name": "stderr",
     "output_type": "stream",
     "text": [
      " 68%|██████▊   | 548/802 [22:03<12:11,  2.88s/it]"
     ]
    },
    {
     "name": "stdout",
     "output_type": "stream",
     "text": [
      "An image representing a suction tube being used to suction a tumor, alongside a bipolar electrode that's cauterizing tissue in a Transsphenoidal pituitary adenoma resection surgery.\n",
      "[['ultrasound probe', 'sense', 'vessel']]\n"
     ]
    },
    {
     "name": "stderr",
     "output_type": "stream",
     "text": [
      " 68%|██████▊   | 549/802 [22:05<10:33,  2.51s/it]"
     ]
    },
    {
     "name": "stdout",
     "output_type": "stream",
     "text": [
      "The image presents an ultrasound probe being used to sense a vessel during a Transsphenoidal pituitary adenoma resection surgery.\n",
      "[['suction tube', 'suction', 'blood'], ['cutting forcep', 'cut', 'tissue']]\n"
     ]
    },
    {
     "name": "stderr",
     "output_type": "stream",
     "text": [
      " 69%|██████▊   | 550/802 [22:07<10:32,  2.51s/it]"
     ]
    },
    {
     "name": "stdout",
     "output_type": "stream",
     "text": [
      "The image depicts a suction tube being used to suction blood, along with a cutting forcep employed to trim off tissue during a Transsphenoidal pituitary adenoma resection surgery.\n",
      "[['suction tube', 'manipulate', 'tissue'], ['driller', 'drill', 'bone']]\n"
     ]
    },
    {
     "name": "stderr",
     "output_type": "stream",
     "text": [
      " 69%|██████▊   | 551/802 [22:11<11:21,  2.72s/it]"
     ]
    },
    {
     "name": "stdout",
     "output_type": "stream",
     "text": [
      "The image shows a suction tube being used to manipulate the tissue in a transsphenoidal pituitary adenoma resection surgery. Additionally, a driller is illustrated boring into bone.\n",
      "[['scissor', 'cut', 'tissue']]\n"
     ]
    },
    {
     "name": "stderr",
     "output_type": "stream",
     "text": [
      " 69%|██████▉   | 552/802 [22:12<09:51,  2.37s/it]"
     ]
    },
    {
     "name": "stdout",
     "output_type": "stream",
     "text": [
      "The image depicts the use of scissors to cut tissue during a Transsphenoidal pituitary adenoma resection surgery.\n",
      "[['navigation probe', 'sense', 'tissue']]\n"
     ]
    },
    {
     "name": "stderr",
     "output_type": "stream",
     "text": [
      " 69%|██████▉   | 553/802 [22:14<08:34,  2.07s/it]"
     ]
    },
    {
     "name": "stdout",
     "output_type": "stream",
     "text": [
      "A navigation probe is being used to sense the tissue during a Transsphenoidal pituitary adenoma resection surgery.\n",
      "[['suction tube', 'suction', 'blood'], ['injector', 'inject', 'glue']]\n"
     ]
    },
    {
     "name": "stderr",
     "output_type": "stream",
     "text": [
      " 69%|██████▉   | 554/802 [22:16<08:42,  2.11s/it]"
     ]
    },
    {
     "name": "stdout",
     "output_type": "stream",
     "text": [
      "The image shows a suction tube being used to suction blood during a Transsphenoidal pituitary adenoma resection surgery. Also in the image, an injector is seen injecting glue.\n",
      "[['bipolar electrode', 'manipulate', 'tissue']]\n"
     ]
    },
    {
     "name": "stderr",
     "output_type": "stream",
     "text": [
      " 69%|██████▉   | 555/802 [22:19<09:33,  2.32s/it]"
     ]
    },
    {
     "name": "stdout",
     "output_type": "stream",
     "text": [
      "The image depicts the use of a bipolar electrode to manipulate tissue during a Transsphenoidal pituitary adenoma resection surgery.\n",
      "[['suction tube', 'manipulate', 'tissue'], ['monopolar electrode', 'cauterize', 'tissue']]\n"
     ]
    },
    {
     "name": "stderr",
     "output_type": "stream",
     "text": [
      " 69%|██████▉   | 556/802 [22:21<09:13,  2.25s/it]"
     ]
    },
    {
     "name": "stdout",
     "output_type": "stream",
     "text": [
      "An image depicting a suction tube being used to manipulate tissue during a Transsphenoidal pituitary adenoma resection surgery, coupled with a monopolar electrode employed to cauterize tissue.\n",
      "[['suction tube', 'suction', 'tumor']]\n"
     ]
    },
    {
     "name": "stderr",
     "output_type": "stream",
     "text": [
      " 69%|██████▉   | 557/802 [22:22<08:15,  2.02s/it]"
     ]
    },
    {
     "name": "stdout",
     "output_type": "stream",
     "text": [
      "The image depicts a suction tube being utilized to suction a tumor during a Transsphenoidal pituitary adenoma resection surgery.\n",
      "[['freer', 'manipulate', 'tissue'], ['suction tube', 'suction', 'blood']]\n"
     ]
    },
    {
     "name": "stderr",
     "output_type": "stream",
     "text": [
      " 70%|██████▉   | 558/802 [22:26<10:46,  2.65s/it]"
     ]
    },
    {
     "name": "stdout",
     "output_type": "stream",
     "text": [
      "The image shows a freer being used to manipulate tissue during a transsphenoidal pituitary adenoma resection surgery. Additionally, a suction tube is depicted, being employed to suction blood during the procedure.\n",
      "[['navigation probe', 'sense', 'tissue'], ['suction tube', 'suction', 'blood']]\n"
     ]
    },
    {
     "name": "stderr",
     "output_type": "stream",
     "text": [
      " 70%|██████▉   | 559/802 [22:28<10:09,  2.51s/it]"
     ]
    },
    {
     "name": "stdout",
     "output_type": "stream",
     "text": [
      "The image shows a navigation probe being used to sense tissue during a transsphenoidal pituitary adenoma resection surgery. In the same surgical procedure, a suction tube is seen removing blood.\n",
      "[['cutting forcep', 'remove', 'bone']]\n"
     ]
    },
    {
     "name": "stderr",
     "output_type": "stream",
     "text": [
      " 70%|██████▉   | 560/802 [22:30<09:25,  2.34s/it]"
     ]
    },
    {
     "name": "stdout",
     "output_type": "stream",
     "text": [
      "The image depicts a cutting forcep in action, removing bone during a Transsphenoidal pituitary adenoma resection.\n",
      "[['rongeur', 'remove', 'bone'], ['suction tube', 'suction', 'blood']]\n"
     ]
    },
    {
     "name": "stderr",
     "output_type": "stream",
     "text": [
      " 70%|██████▉   | 561/802 [22:33<09:46,  2.43s/it]"
     ]
    },
    {
     "name": "stdout",
     "output_type": "stream",
     "text": [
      "A rongeur is employed to extract bone material in a Transsphenoidal pituitary adenoma resection surgery. Concurrently, a suction tube is used for siphoning off blood during the operation.\n",
      "[['suction tube', 'suction', 'blood'], ['ultrasound probe', 'sense', 'vessel']]\n"
     ]
    },
    {
     "name": "stderr",
     "output_type": "stream",
     "text": [
      " 70%|███████   | 562/802 [22:35<09:39,  2.41s/it]"
     ]
    },
    {
     "name": "stdout",
     "output_type": "stream",
     "text": [
      "The image portrays a suction tube being utilized to remove blood during a Transsphenoidal pituitary adenoma resection surgery. It also showcases an ultrasound probe being used to sense the vessels.\n",
      "[['suction tube', 'suction', 'blood'], ['rongeur', 'remove', 'bone']]\n"
     ]
    },
    {
     "name": "stderr",
     "output_type": "stream",
     "text": [
      " 70%|███████   | 563/802 [22:39<10:32,  2.65s/it]"
     ]
    },
    {
     "name": "stdout",
     "output_type": "stream",
     "text": [
      "The image illustrates the use of a suction tube in the removal of blood during a Transsphenoidal pituitary adenoma resection surgery. It also depicts a rongeur instrument being employed to extract bone matter.\n",
      "[['rongeur', 'remove', 'bone'], ['suction tube', 'suction', 'blood']]\n"
     ]
    },
    {
     "name": "stderr",
     "output_type": "stream",
     "text": [
      " 70%|███████   | 564/802 [22:41<10:08,  2.56s/it]"
     ]
    },
    {
     "name": "stdout",
     "output_type": "stream",
     "text": [
      "The picture depicts a rongeur being used to remove a bone during a Transsphenoidal pituitary adenoma resection surgery. In the same frame, a suction tube can be seen suctioning blood from the surgical site.\n",
      "[['ultrasound probe', 'sense', 'vessel']]\n"
     ]
    },
    {
     "name": "stderr",
     "output_type": "stream",
     "text": [
      " 70%|███████   | 565/802 [22:42<08:34,  2.17s/it]"
     ]
    },
    {
     "name": "stdout",
     "output_type": "stream",
     "text": [
      "An ultrasound probe is being used to sense a vessel during a Transsphenoidal pituitary adenoma resection surgery.\n",
      "[['suction tube', 'suction', 'blood'], ['cutting forcep', 'remove', 'bone']]\n"
     ]
    },
    {
     "name": "stderr",
     "output_type": "stream",
     "text": [
      " 71%|███████   | 566/802 [22:44<08:01,  2.04s/it]"
     ]
    },
    {
     "name": "stdout",
     "output_type": "stream",
     "text": [
      "A suction tube is being used to remove blood during the Transsphenoidal pituitary adenoma resection surgery. Additionally, a cutting forcep is in use to eliminate bone.\n",
      "[['injector', 'inject', 'glue']]\n"
     ]
    },
    {
     "name": "stderr",
     "output_type": "stream",
     "text": [
      " 71%|███████   | 567/802 [22:46<08:35,  2.20s/it]"
     ]
    },
    {
     "name": "stdout",
     "output_type": "stream",
     "text": [
      "The image showcases an injector being used to inject glue during a Transsphenoidal pituitary adenoma resection surgery.\n",
      "[['curette', 'remove', 'bone'], ['suction tube', 'suction', 'blood']]\n"
     ]
    },
    {
     "name": "stderr",
     "output_type": "stream",
     "text": [
      " 71%|███████   | 568/802 [22:49<09:23,  2.41s/it]"
     ]
    },
    {
     "name": "stdout",
     "output_type": "stream",
     "text": [
      "The picture illustrates a curette being utilized to eliminate some bone during a Transsphenoidal pituitary adenoma resection surgery. Additionally, the image depicts a suction tube being used to remove blood.\n",
      "[['ultrasound probe', 'sense', 'vessel']]\n"
     ]
    },
    {
     "name": "stderr",
     "output_type": "stream",
     "text": [
      " 71%|███████   | 569/802 [22:51<08:12,  2.11s/it]"
     ]
    },
    {
     "name": "stdout",
     "output_type": "stream",
     "text": [
      "An ultrasound probe is being used to sense a vessel during a Transsphenoidal pituitary adenoma resection surgery.\n",
      "[['suction tube', 'suction', 'blood'], ['rongeur', 'remove', 'bone'], ['suction tube', 'suction', 'blood']]\n"
     ]
    },
    {
     "name": "stderr",
     "output_type": "stream",
     "text": [
      " 71%|███████   | 570/802 [22:55<10:10,  2.63s/it]"
     ]
    },
    {
     "name": "stdout",
     "output_type": "stream",
     "text": [
      "The image portrays a suction tube performing the act of suctioning blood during a Transsphenoidal pituitary adenoma resection surgery. This is followed by the illustration of a rongeur used to remove bone. There's a repetition of the scenario where the suction tube is once again employed to suck up the blood.\n",
      "[['suction tube', 'suction', 'blood'], ['scalpel', 'cut', 'tumor'], ['suction tube', 'suction', 'blood']]\n"
     ]
    },
    {
     "name": "stderr",
     "output_type": "stream",
     "text": [
      " 71%|███████   | 571/802 [22:57<09:52,  2.56s/it]"
     ]
    },
    {
     "name": "stdout",
     "output_type": "stream",
     "text": [
      "A suction tube is being employed to withdraw blood, followed by a scalpel being used to excise the tumor. The suction tube is then applied again to clear out any remaining blood.\n",
      "[['rongeur', 'remove', 'bone']]\n"
     ]
    },
    {
     "name": "stderr",
     "output_type": "stream",
     "text": [
      " 71%|███████▏  | 572/802 [23:00<10:34,  2.76s/it]"
     ]
    },
    {
     "name": "stdout",
     "output_type": "stream",
     "text": [
      "The image depicts the use of a rongeur to remove bone during a Transsphenoidal pituitary adenoma resection surgery.\n",
      "[['ultrasound probe', 'sense', 'vessel']]\n"
     ]
    },
    {
     "name": "stderr",
     "output_type": "stream",
     "text": [
      " 71%|███████▏  | 573/802 [23:02<09:44,  2.55s/it]"
     ]
    },
    {
     "name": "stdout",
     "output_type": "stream",
     "text": [
      "The ultrasound probe is used to sense the vessel during the Transsphenoidal pituitary adenoma resection surgery.\n",
      "[['suction tube', 'suction', 'blood'], ['cutting forcep', 'remove', 'bone']]\n"
     ]
    },
    {
     "name": "stderr",
     "output_type": "stream",
     "text": [
      " 72%|███████▏  | 574/802 [23:04<09:02,  2.38s/it]"
     ]
    },
    {
     "name": "stdout",
     "output_type": "stream",
     "text": [
      "A suction tube is utilized to suction out the blood. Following this, a cutting forcep is employed to remove the bone.\n",
      "[['ultrasound probe', 'sense', 'vessel']]\n"
     ]
    },
    {
     "name": "stderr",
     "output_type": "stream",
     "text": [
      " 72%|███████▏  | 575/802 [23:06<08:20,  2.20s/it]"
     ]
    },
    {
     "name": "stdout",
     "output_type": "stream",
     "text": [
      "The ultrasound probe is being used to sense a vessel during a Transsphenoidal pituitary adenoma resection surgery.\n",
      "[['navigation probe', 'sense', 'tissue']]\n"
     ]
    },
    {
     "name": "stderr",
     "output_type": "stream",
     "text": [
      " 72%|███████▏  | 576/802 [23:07<07:13,  1.92s/it]"
     ]
    },
    {
     "name": "stdout",
     "output_type": "stream",
     "text": [
      "The navigation probe is being used to sense the tissue during the Transsphenoidal pituitary adenoma resection surgery.\n",
      "[['ultrasound probe', 'sense', 'vessel'], ['suction tube', 'suction', 'blood'], ['navigation probe', 'sense', 'tissue']]\n"
     ]
    },
    {
     "name": "stderr",
     "output_type": "stream",
     "text": [
      " 72%|███████▏  | 577/802 [23:10<07:32,  2.01s/it]"
     ]
    },
    {
     "name": "stdout",
     "output_type": "stream",
     "text": [
      "The image showcases an ultrasound probe being utilized to sense a vessel. Additionally, a suction tube is depicted removing blood. Lastly, a navigation probe is featured in the image, employed to detect tissue.\n",
      "[['injector', 'inject', 'glue']]\n"
     ]
    },
    {
     "name": "stderr",
     "output_type": "stream",
     "text": [
      " 72%|███████▏  | 578/802 [23:11<06:41,  1.79s/it]"
     ]
    },
    {
     "name": "stdout",
     "output_type": "stream",
     "text": [
      "The image displays the use of an injector to administer glue during Transsphenoidal pituitary adenoma resection surgery.\n",
      "[['injector', 'inject', 'glue'], ['suction tube', 'manipulate', 'packing material']]\n"
     ]
    },
    {
     "name": "stderr",
     "output_type": "stream",
     "text": [
      " 72%|███████▏  | 579/802 [23:14<08:08,  2.19s/it]"
     ]
    },
    {
     "name": "stdout",
     "output_type": "stream",
     "text": [
      "The image shows an injector being used to apply glue, whereas a suction tube is visible as it manipulates packing material in a Transsphenoidal pituitary adenoma resection surgery.\n",
      "[['cup forcep', 'manipulate', 'packing material']]\n"
     ]
    },
    {
     "name": "stderr",
     "output_type": "stream",
     "text": [
      " 72%|███████▏  | 580/802 [23:16<07:36,  2.06s/it]"
     ]
    },
    {
     "name": "stdout",
     "output_type": "stream",
     "text": [
      "The image illustrates the use of a cup forcep to manipulate the packing material during a Transsphenoidal pituitary adenoma resection surgery.\n",
      "[['cutting forcep', 'remove', 'tissue']]\n"
     ]
    },
    {
     "name": "stderr",
     "output_type": "stream",
     "text": [
      " 72%|███████▏  | 581/802 [23:17<06:57,  1.89s/it]"
     ]
    },
    {
     "name": "stdout",
     "output_type": "stream",
     "text": [
      "The image displays a cutting forcep being used to remove tissue during a Transsphenoidal pituitary adenoma resection surgery.\n",
      "[['ultrasound probe', 'sense', 'vessel']]\n"
     ]
    },
    {
     "name": "stderr",
     "output_type": "stream",
     "text": [
      " 73%|███████▎  | 582/802 [23:19<06:33,  1.79s/it]"
     ]
    },
    {
     "name": "stdout",
     "output_type": "stream",
     "text": [
      "The ultrasound probe is sensing a vessel during the Transsphenoidal pituitary adenoma resection surgery.\n",
      "[['suction tube', 'suction', 'blood'], ['rongeur', 'remove', 'bone']]\n"
     ]
    },
    {
     "name": "stderr",
     "output_type": "stream",
     "text": [
      " 73%|███████▎  | 583/802 [23:21<06:49,  1.87s/it]"
     ]
    },
    {
     "name": "stdout",
     "output_type": "stream",
     "text": [
      "The image displays a suction tube in action, suctioning blood. Additionally, a rongeur is depicted, being used to remove bone.\n",
      "[['rongeur', 'remove', 'bone'], ['suction tube', 'suction', 'blood']]\n"
     ]
    },
    {
     "name": "stderr",
     "output_type": "stream",
     "text": [
      " 73%|███████▎  | 584/802 [23:24<08:21,  2.30s/it]"
     ]
    },
    {
     "name": "stdout",
     "output_type": "stream",
     "text": [
      "In the image, a rongeur is being employed to extract a fragment of bone during a Transsphenoidal pituitary adenoma resection surgery. Concurrently, a suction tube is being utilized to evacuate blood from the surgical site.\n",
      "[['cutting forcep', 'remove', 'tissue']]\n"
     ]
    },
    {
     "name": "stderr",
     "output_type": "stream",
     "text": [
      " 73%|███████▎  | 585/802 [23:26<07:53,  2.18s/it]"
     ]
    },
    {
     "name": "stdout",
     "output_type": "stream",
     "text": [
      "The image shows a cutting forcep being used to remove tissue during a Transsphenoidal pituitary adenoma resection surgery.\n",
      "[['suction tube', 'suction', 'blood'], ['navigation probe', 'sense', 'tissue']]\n"
     ]
    },
    {
     "name": "stderr",
     "output_type": "stream",
     "text": [
      " 73%|███████▎  | 586/802 [23:29<08:20,  2.32s/it]"
     ]
    },
    {
     "name": "stdout",
     "output_type": "stream",
     "text": [
      "The image showcases a suction tube being used to suction blood during the Transsphenoidal pituitary adenoma resection surgery. Additionally, a navigation probe is also seen, which is being employed to sense the tissue.\n",
      "[['suction tube', 'suction', 'tumor'], ['curette', 'scoop', 'tumor']]\n"
     ]
    },
    {
     "name": "stderr",
     "output_type": "stream",
     "text": [
      " 73%|███████▎  | 587/802 [23:31<08:35,  2.40s/it]"
     ]
    },
    {
     "name": "stdout",
     "output_type": "stream",
     "text": [
      "The image depicts a suction tube being used to suction the tumor during a Transsphenoidal pituitary adenoma resection surgery. In addition, a curette is shown scooping out the tumor.\n",
      "[['cutting forcep', 'remove', 'bone'], ['freer', 'manipulate', 'tissue']]\n"
     ]
    },
    {
     "name": "stderr",
     "output_type": "stream",
     "text": [
      " 73%|███████▎  | 588/802 [23:35<10:19,  2.89s/it]"
     ]
    },
    {
     "name": "stdout",
     "output_type": "stream",
     "text": [
      "In the image of a Transsphenoidal pituitary adenoma resection surgery, a cutting forcep is being used to remove some bone. Additionally, a tool known as a 'freer' is being utilized to manipulate tissue.\n",
      "[['suction tube', 'suction', 'blood'], ['navigation probe', 'sense', 'tissue']]\n"
     ]
    },
    {
     "name": "stderr",
     "output_type": "stream",
     "text": [
      " 73%|███████▎  | 589/802 [23:37<09:27,  2.66s/it]"
     ]
    },
    {
     "name": "stdout",
     "output_type": "stream",
     "text": [
      "An image depicts a suction tube being utilized to suction blood during a Transsphenoidal pituitary adenoma resection surgery. In the same scene, a navigation probe is also being used to sense the tissue.\n",
      "[['rongeur', 'remove', 'bone']]\n"
     ]
    },
    {
     "name": "stderr",
     "output_type": "stream",
     "text": [
      " 74%|███████▎  | 590/802 [23:39<08:08,  2.31s/it]"
     ]
    },
    {
     "name": "stdout",
     "output_type": "stream",
     "text": [
      "The image depicts the usage of a rongeur to remove bone during a Transsphenoidal pituitary adenoma resection surgery.\n",
      "[['suction tube', 'suction', 'blood'], ['rongeur', 'remove', 'bone']]\n"
     ]
    },
    {
     "name": "stderr",
     "output_type": "stream",
     "text": [
      " 74%|███████▎  | 591/802 [23:41<08:12,  2.33s/it]"
     ]
    },
    {
     "name": "stdout",
     "output_type": "stream",
     "text": [
      "A suction tube is used to suction blood, and a rongeur is utilized to remove bone during a Transsphenoidal pituitary adenoma resection surgery.\n",
      "[['navigation probe', 'sense', 'tissue'], ['suction tube', 'suction', 'blood']]\n"
     ]
    },
    {
     "name": "stderr",
     "output_type": "stream",
     "text": [
      " 74%|███████▍  | 592/802 [23:44<08:25,  2.41s/it]"
     ]
    },
    {
     "name": "stdout",
     "output_type": "stream",
     "text": [
      "An image depicts a navigation probe sensing the tissue in the process of a Transsphenoidal pituitary adenoma resection surgery. Furthermore, a suction tube is being employed to suction the blood within the surgical area.\n",
      "[['injector', 'inject', 'glue']]\n"
     ]
    },
    {
     "name": "stderr",
     "output_type": "stream",
     "text": [
      " 74%|███████▍  | 593/802 [23:45<07:30,  2.16s/it]"
     ]
    },
    {
     "name": "stdout",
     "output_type": "stream",
     "text": [
      "The image depicts an injector being used to administer glue during a Transsphenoidal pituitary adenoma resection surgery.\n",
      "[['scalpel', 'cut', 'tumor']]\n"
     ]
    },
    {
     "name": "stderr",
     "output_type": "stream",
     "text": [
      " 74%|███████▍  | 594/802 [23:48<07:42,  2.23s/it]"
     ]
    },
    {
     "name": "stdout",
     "output_type": "stream",
     "text": [
      "The image shows a scalpel being used to cut a tumor in a transsphenoidal pituitary adenoma resection surgery.\n",
      "[['suction tube', 'suction', 'blood'], ['bipolar electrode', 'cauterize', 'tissue']]\n"
     ]
    },
    {
     "name": "stderr",
     "output_type": "stream",
     "text": [
      " 74%|███████▍  | 595/802 [23:50<07:21,  2.13s/it]"
     ]
    },
    {
     "name": "stdout",
     "output_type": "stream",
     "text": [
      "An image showcases a suction tube being applied to siphon off blood, and a bipolar electrode being used to cauterize the tissue during Transsphenoidal pituitary adenoma resection surgery.\n",
      "[['monopolar electrode', 'manipulate', 'tissue']]\n"
     ]
    },
    {
     "name": "stderr",
     "output_type": "stream",
     "text": [
      " 74%|███████▍  | 596/802 [23:53<08:27,  2.46s/it]"
     ]
    },
    {
     "name": "stdout",
     "output_type": "stream",
     "text": [
      "The image depicts the manipulation of tissue using a monopolar electrode during a Transsphenoidal pituitary adenoma resection surgery.\n",
      "[['navigation probe', 'sense', 'tissue'], ['suction tube', 'suction', 'blood']]\n"
     ]
    },
    {
     "name": "stderr",
     "output_type": "stream",
     "text": [
      " 74%|███████▍  | 597/802 [23:55<07:42,  2.26s/it]"
     ]
    },
    {
     "name": "stdout",
     "output_type": "stream",
     "text": [
      "The image shows a navigation probe being utilized to sense the tissue in a transsphenoidal pituitary adenoma resection surgery. Additionally, a suction tube is employed to extract blood during the operation.\n",
      "[['suction tube', 'suction', 'blood'], ['cutting forcep', 'remove', 'bone']]\n"
     ]
    },
    {
     "name": "stderr",
     "output_type": "stream",
     "text": [
      " 75%|███████▍  | 598/802 [23:58<08:46,  2.58s/it]"
     ]
    },
    {
     "name": "stdout",
     "output_type": "stream",
     "text": [
      "The image depicts a suction tube being used to suction blood during a Transsphenoidal pituitary adenoma resection surgery. Additionally, a cutting forcep is visible, being employed to remove bone during the procedure.\n",
      "[['monopolar electrode', 'cauterize', 'tissue']]\n"
     ]
    },
    {
     "name": "stderr",
     "output_type": "stream",
     "text": [
      " 75%|███████▍  | 599/802 [24:01<08:56,  2.64s/it]"
     ]
    },
    {
     "name": "stdout",
     "output_type": "stream",
     "text": [
      "The image depicts a monopolar electrode being used to cauterize the tissue during a Transsphenoidal pituitary adenoma resection surgery.\n",
      "[['cup forcep', 'manipulate', 'packing material']]\n"
     ]
    },
    {
     "name": "stderr",
     "output_type": "stream",
     "text": [
      " 75%|███████▍  | 600/802 [24:04<09:02,  2.69s/it]"
     ]
    },
    {
     "name": "stdout",
     "output_type": "stream",
     "text": [
      "The image displays the use of a cup forcep to manipulate the packing material during a Transsphenoidal pituitary adenoma resection surgery.\n",
      "[['suction tube', 'manipulate', 'tissue'], ['cup forcep', 'idle', 'idle']]\n"
     ]
    },
    {
     "name": "stderr",
     "output_type": "stream",
     "text": [
      " 75%|███████▍  | 601/802 [24:07<09:33,  2.85s/it]"
     ]
    },
    {
     "name": "stdout",
     "output_type": "stream",
     "text": [
      "The image depicts a suction tube being utilized to manipulate tissue during a Transsphenoidal pituitary adenoma resection surgery. Meanwhile, a cup forcep is visible in the image but remains idle, not currently in use.\n",
      "[['ultrasound probe', 'sense', 'vessel'], ['navigation probe', 'sense', 'tissue']]\n"
     ]
    },
    {
     "name": "stderr",
     "output_type": "stream",
     "text": [
      " 75%|███████▌  | 602/802 [24:09<08:55,  2.68s/it]"
     ]
    },
    {
     "name": "stdout",
     "output_type": "stream",
     "text": [
      "An ultrasound probe is being used to sense a vessel. Following this, a navigation probe is employed to detect tissue during a transsphenoidal pituitary adenoma resection surgery.\n",
      "[['suction tube', 'manipulate', 'tissue'], ['bipolar electrode', 'cauterize', 'tissue']]\n"
     ]
    },
    {
     "name": "stderr",
     "output_type": "stream",
     "text": [
      " 75%|███████▌  | 603/802 [24:12<09:07,  2.75s/it]"
     ]
    },
    {
     "name": "stdout",
     "output_type": "stream",
     "text": [
      "The image portrays a suction tube being used to manipulate tissue during a Transsphenoidal pituitary adenoma resection surgery. It is additionally shown a bipolar electrode being employed to cauterize tissue.\n",
      "[['suction tube', 'suction', 'blood'], ['rongeur', 'remove', 'bone']]\n"
     ]
    },
    {
     "name": "stderr",
     "output_type": "stream",
     "text": [
      " 75%|███████▌  | 604/802 [24:14<08:38,  2.62s/it]"
     ]
    },
    {
     "name": "stdout",
     "output_type": "stream",
     "text": [
      "The image illustrates a suction tube being used to aspirate blood during a transsphenoidal pituitary adenoma resection surgery. It also showcases a rongeur in action, removing bone as part of the procedure.\n",
      "[['ultrasound probe', 'sense', 'vessel'], ['suction tube', 'suction', 'blood'], ['rongeur', 'remove', 'bone']]\n"
     ]
    },
    {
     "name": "stderr",
     "output_type": "stream",
     "text": [
      " 75%|███████▌  | 605/802 [24:18<09:03,  2.76s/it]"
     ]
    },
    {
     "name": "stdout",
     "output_type": "stream",
     "text": [
      "The image showcases an ultrasound probe being used to sense a vessel during a Transsphenoidal pituitary adenoma resection surgery. It also captures a suction tube deployed for sucking up blood. Furthermore, a rongeur is illustrated as it is used to remove bone.\n",
      "[['injector', 'inject', 'glue']]\n"
     ]
    },
    {
     "name": "stderr",
     "output_type": "stream",
     "text": [
      " 76%|███████▌  | 606/802 [24:19<08:13,  2.52s/it]"
     ]
    },
    {
     "name": "stdout",
     "output_type": "stream",
     "text": [
      "The image illustrates the process of a transsphenoidal pituitary adenoma resection surgery, specifically highlighting the use of an injector to apply glue.\n",
      "[['freer', 'manipulate', 'tissue'], ['cup forcep', 'manipulate', 'tissue']]\n"
     ]
    },
    {
     "name": "stderr",
     "output_type": "stream",
     "text": [
      " 76%|███████▌  | 607/802 [24:21<07:29,  2.30s/it]"
     ]
    },
    {
     "name": "stdout",
     "output_type": "stream",
     "text": [
      "The image depicts a freer being employed to manipulate tissue during a Transsphenoidal pituitary adenoma resection surgery. Also, it illustrates the use of a cup forcep to manipulate tissue in the same procedure.\n",
      "[['cutting forcep', 'remove', 'bone'], ['freer', 'manipulate', 'tissue']]\n"
     ]
    },
    {
     "name": "stderr",
     "output_type": "stream",
     "text": [
      " 76%|███████▌  | 608/802 [24:23<06:51,  2.12s/it]"
     ]
    },
    {
     "name": "stdout",
     "output_type": "stream",
     "text": [
      "The image depicts a transsphenoidal pituitary adenoma resection surgery where a cutting forceps is being used to remove bone. In other part of the surgery, a freer is utilized to manipulate tissue.\n",
      "[['suction tube', 'manipulate', 'tissue'], ['cup forcep', 'idle', 'idle']]\n"
     ]
    },
    {
     "name": "stderr",
     "output_type": "stream",
     "text": [
      " 76%|███████▌  | 609/802 [24:25<06:38,  2.07s/it]"
     ]
    },
    {
     "name": "stdout",
     "output_type": "stream",
     "text": [
      "The image displays a suction tube manipulating tissue during a Transsphenoidal pituitary adenoma resection surgery. In contrast, a cup forcep is present but remains idle in the scene.\n",
      "[['suction tube', 'suction', 'blood'], ['navigation probe', 'sense', 'tissue']]\n"
     ]
    },
    {
     "name": "stderr",
     "output_type": "stream",
     "text": [
      " 76%|███████▌  | 610/802 [24:28<07:08,  2.23s/it]"
     ]
    },
    {
     "name": "stdout",
     "output_type": "stream",
     "text": [
      "An image showcases a suction tube being used to remove blood during a Transsphenoidal pituitary adenoma resection surgery. In the same image, a navigation probe is featured, being employed to sense tissue.\n",
      "[['suction tube', 'manipulate', 'packing material'], ['injector', 'inject', 'glue']]\n"
     ]
    },
    {
     "name": "stderr",
     "output_type": "stream",
     "text": [
      " 76%|███████▌  | 611/802 [24:31<07:50,  2.46s/it]"
     ]
    },
    {
     "name": "stdout",
     "output_type": "stream",
     "text": [
      "The image portrays the use of a suction tube to manipulate the packing material in a Transsphenoidal pituitary adenoma resection surgery. Additionally, an injector is depicted, used to inject glue during the same procedure.\n",
      "[['suction tube', 'suction', 'blood'], ['navigation probe', 'sense', 'tissue']]\n"
     ]
    },
    {
     "name": "stderr",
     "output_type": "stream",
     "text": [
      " 76%|███████▋  | 612/802 [24:33<08:11,  2.59s/it]"
     ]
    },
    {
     "name": "stdout",
     "output_type": "stream",
     "text": [
      "An image shows a suction tube collecting blood during a Transsphenoidal pituitary adenoma resection surgery. Additionally, a navigation probe is being used to sense the tissue.\n",
      "[['monopolar electrode', 'cauterize', 'tissue']]\n"
     ]
    },
    {
     "name": "stderr",
     "output_type": "stream",
     "text": [
      " 76%|███████▋  | 613/802 [24:36<08:06,  2.58s/it]"
     ]
    },
    {
     "name": "stdout",
     "output_type": "stream",
     "text": [
      "The image shows a monopolar electrode being used to cauterize tissue during a transsphenoidal pituitary adenoma resection surgery.\n",
      "[['suction tube', 'suction', 'blood']]\n"
     ]
    },
    {
     "name": "stderr",
     "output_type": "stream",
     "text": [
      " 77%|███████▋  | 614/802 [24:38<07:20,  2.35s/it]"
     ]
    },
    {
     "name": "stdout",
     "output_type": "stream",
     "text": [
      "The image depicts a suction tube being utilized to suction blood during a Transsphenoidal pituitary adenoma resection surgery.\n",
      "[['suction tube', 'manipulate', 'tissue'], ['curette', 'scoop', 'tumor'], ['cup forcep', 'remove', 'tumor']]\n"
     ]
    },
    {
     "name": "stderr",
     "output_type": "stream",
     "text": [
      " 77%|███████▋  | 615/802 [24:40<07:31,  2.41s/it]"
     ]
    },
    {
     "name": "stdout",
     "output_type": "stream",
     "text": [
      "The image depicts a suction tube being used to manipulate tissue during the surgery. There's also a curette in action, scooping out the tumor. Lastly, a cup forcep is vividly illustrated, removing the tumor from the pituitary gland.\n",
      "[['cup forcep', 'manipulate', 'packing material']]\n"
     ]
    },
    {
     "name": "stderr",
     "output_type": "stream",
     "text": [
      " 77%|███████▋  | 616/802 [24:43<07:47,  2.51s/it]"
     ]
    },
    {
     "name": "stdout",
     "output_type": "stream",
     "text": [
      "The cup forcep is being used to manipulate the packing material in the transsphenoidal pituitary adenoma resection surgery.\n",
      "[['suction tube', 'manipulate', 'tissue'], ['bipolar electrode', 'cauterize', 'tissue']]\n"
     ]
    },
    {
     "name": "stderr",
     "output_type": "stream",
     "text": [
      " 77%|███████▋  | 617/802 [24:45<07:09,  2.32s/it]"
     ]
    },
    {
     "name": "stdout",
     "output_type": "stream",
     "text": [
      "The image shows a suction tube being used to manipulate tissue and a bipolar electrode is employed to cauterize the same tissue during a Transsphenoidal pituitary adenoma resection surgery.\n",
      "[['navigation probe', 'sense', 'tissue']]\n"
     ]
    },
    {
     "name": "stderr",
     "output_type": "stream",
     "text": [
      " 77%|███████▋  | 618/802 [24:46<06:10,  2.02s/it]"
     ]
    },
    {
     "name": "stdout",
     "output_type": "stream",
     "text": [
      "The navigation probe is sensing the tissue in a transsphenoidal pituitary adenoma resection surgery.\n",
      "[['suction tube', 'manipulate', 'tissue'], ['scissor', 'idle', 'idle'], ['bipolar electrode', 'cauterize', 'tissue']]\n"
     ]
    },
    {
     "name": "stderr",
     "output_type": "stream",
     "text": [
      " 77%|███████▋  | 619/802 [24:49<07:15,  2.38s/it]"
     ]
    },
    {
     "name": "stdout",
     "output_type": "stream",
     "text": [
      "The image shows a suction tube being used to manipulate the tissue during a Transsphenoidal pituitary adenoma resection surgery. In the meanwhile, a scissor is present but is currently idle. Additionally, a bipolar electrode is being used to cauterize the tissue.\n",
      "[['rongeur', 'remove', 'bone'], ['suction tube', 'suction', 'blood']]\n"
     ]
    },
    {
     "name": "stderr",
     "output_type": "stream",
     "text": [
      " 77%|███████▋  | 620/802 [24:52<07:30,  2.48s/it]"
     ]
    },
    {
     "name": "stdout",
     "output_type": "stream",
     "text": [
      "The image depicts a rongeur being used to eradicate a bone during a Transsphenoidal pituitary adenoma resection surgery. Additionally, a suction tube can also be seen suctioning blood in the same surgical process.\n",
      "[['rongeur', 'remove', 'bone']]\n"
     ]
    },
    {
     "name": "stderr",
     "output_type": "stream",
     "text": [
      " 77%|███████▋  | 621/802 [24:54<06:28,  2.14s/it]"
     ]
    },
    {
     "name": "stdout",
     "output_type": "stream",
     "text": [
      "The image shows a rongeur being used to remove bone during a Transsphenoidal pituitary adenoma resection surgery.\n",
      "[['navigation probe', 'sense', 'tissue']]\n"
     ]
    },
    {
     "name": "stderr",
     "output_type": "stream",
     "text": [
      " 78%|███████▊  | 622/802 [24:56<06:39,  2.22s/it]"
     ]
    },
    {
     "name": "stdout",
     "output_type": "stream",
     "text": [
      "The navigation probe is being used to sense the tissue during the Transsphenoidal pituitary adenoma resection surgery.\n",
      "[['suction tube', 'manipulate', 'tissue'], ['suction tube', 'suction', 'tumor']]\n"
     ]
    },
    {
     "name": "stderr",
     "output_type": "stream",
     "text": [
      " 78%|███████▊  | 623/802 [24:59<07:05,  2.38s/it]"
     ]
    },
    {
     "name": "stdout",
     "output_type": "stream",
     "text": [
      "The image depicts the use of a suction tube to manipulate tissue during a Transsphenoidal pituitary adenoma resection surgery. Furthermore, the suction tube is also being utilized to suction out the tumor.\n",
      "[['suction tube', 'suction', 'blood'], ['rongeur', 'remove', 'bone']]\n"
     ]
    },
    {
     "name": "stderr",
     "output_type": "stream",
     "text": [
      " 78%|███████▊  | 624/802 [25:01<07:08,  2.40s/it]"
     ]
    },
    {
     "name": "stdout",
     "output_type": "stream",
     "text": [
      "The image shows a suction tube being used to aspirate blood during a Transsphenoidal pituitary adenoma resection surgery. Additionally, a rongeur is depicted in the process of removing bone.\n",
      "[['ultrasound probe', 'sense', 'vessel']]\n"
     ]
    },
    {
     "name": "stderr",
     "output_type": "stream",
     "text": [
      " 78%|███████▊  | 625/802 [25:02<06:00,  2.04s/it]"
     ]
    },
    {
     "name": "stdout",
     "output_type": "stream",
     "text": [
      "An ultrasound probe is being used to sense a vessel during a Transsphenoidal pituitary adenoma resection surgery.\n",
      "[['navigation probe', 'sense', 'tissue'], ['suction tube', 'suction', 'blood']]\n"
     ]
    },
    {
     "name": "stderr",
     "output_type": "stream",
     "text": [
      " 78%|███████▊  | 626/802 [25:04<06:02,  2.06s/it]"
     ]
    },
    {
     "name": "stdout",
     "output_type": "stream",
     "text": [
      "The image depicts the use of a navigation probe sensing the tissue during a Transsphenoidal pituitary adenoma resection surgery. Additionally, a suction tube is seen suctioning the blood during the procedure.\n",
      "[['injector', 'inject', 'glue']]\n"
     ]
    },
    {
     "name": "stderr",
     "output_type": "stream",
     "text": [
      " 78%|███████▊  | 627/802 [25:06<05:21,  1.84s/it]"
     ]
    },
    {
     "name": "stdout",
     "output_type": "stream",
     "text": [
      "The image depicts the use of an injector to apply glue in a Transsphenoidal pituitary adenoma resection surgery.\n",
      "[['monopolar electrode', 'cauterize', 'tissue'], ['freer', 'manipulate', 'tissue']]\n"
     ]
    },
    {
     "name": "stderr",
     "output_type": "stream",
     "text": [
      " 78%|███████▊  | 628/802 [25:10<07:31,  2.60s/it]"
     ]
    },
    {
     "name": "stdout",
     "output_type": "stream",
     "text": [
      "The image showcases a monopolar electrode being used to cauterize tissue during a Transsphenoidal pituitary adenoma resection surgery. Additionally, a freer is utilized to manipulate the tissue in the same operation.\n",
      "[['monopolar electrode', 'manipulate', 'tissue'], ['scalpel', 'cut', 'tumor']]\n"
     ]
    },
    {
     "name": "stderr",
     "output_type": "stream",
     "text": [
      " 78%|███████▊  | 629/802 [25:14<08:35,  2.98s/it]"
     ]
    },
    {
     "name": "stdout",
     "output_type": "stream",
     "text": [
      "The image displays an instance where a monopolar electrode is being used to manipulate the tissue. Additionally, a scalpel can be seen cutting into the tumor, as is done during a transsphenoidal pituitary adenoma resection surgery.\n",
      "[['rongeur', 'remove', 'bone']]\n"
     ]
    },
    {
     "name": "stderr",
     "output_type": "stream",
     "text": [
      " 79%|███████▊  | 630/802 [25:16<07:39,  2.67s/it]"
     ]
    },
    {
     "name": "stdout",
     "output_type": "stream",
     "text": [
      "The image illustrates the utilization of a rongeur to remove bone during a Transsphenoidal pituitary adenoma resection surgery.\n",
      "[['cutting forcep', 'remove', 'tissue']]\n"
     ]
    },
    {
     "name": "stderr",
     "output_type": "stream",
     "text": [
      " 79%|███████▊  | 631/802 [25:18<06:48,  2.39s/it]"
     ]
    },
    {
     "name": "stdout",
     "output_type": "stream",
     "text": [
      "The image shows a cutting forcep being used to remove tissue during a Transsphenoidal pituitary adenoma resection surgery.\n",
      "[['ultrasound probe', 'sense', 'vessel'], ['cutting forcep', 'remove', 'bone']]\n"
     ]
    },
    {
     "name": "stderr",
     "output_type": "stream",
     "text": [
      " 79%|███████▉  | 632/802 [25:21<07:41,  2.71s/it]"
     ]
    },
    {
     "name": "stdout",
     "output_type": "stream",
     "text": [
      "In the image, an ultrasound probe is being used to sense a vessel during a Transsphenoidal pituitary adenoma resection surgery. Additionally, a cutting forcep is employed to remove bone.\n",
      "[['suction tube', 'suction', 'blood'], ['cutting forcep', 'cut', 'bone']]\n"
     ]
    },
    {
     "name": "stderr",
     "output_type": "stream",
     "text": [
      " 79%|███████▉  | 633/802 [25:25<08:32,  3.04s/it]"
     ]
    },
    {
     "name": "stdout",
     "output_type": "stream",
     "text": [
      "A suction tube is used to suction blood in a Transsphenoidal pituitary adenoma resection surgery. Additionally, a cutting forcep is utilized to cut the bone during the procedure.\n",
      "[['ultrasound probe', 'sense', 'vessel']]\n"
     ]
    },
    {
     "name": "stderr",
     "output_type": "stream",
     "text": [
      " 79%|███████▉  | 634/802 [25:28<08:18,  2.97s/it]"
     ]
    },
    {
     "name": "stdout",
     "output_type": "stream",
     "text": [
      "An ultrasound probe is being utilized to sense a vessel in a Transsphenoidal pituitary adenoma resection surgery.\n",
      "[['cutting forcep', 'remove', 'tissue']]\n"
     ]
    },
    {
     "name": "stderr",
     "output_type": "stream",
     "text": [
      " 79%|███████▉  | 635/802 [25:31<08:14,  2.96s/it]"
     ]
    },
    {
     "name": "stdout",
     "output_type": "stream",
     "text": [
      "The image shows a cutting forcep being used to remove tissue during a Transsphenoidal pituitary adenoma resection surgery.\n",
      "[['bipolar electrode', 'cauterize', 'tissue'], ['suction tube', 'suction', 'blood']]\n"
     ]
    },
    {
     "name": "stderr",
     "output_type": "stream",
     "text": [
      " 79%|███████▉  | 636/802 [25:33<08:00,  2.89s/it]"
     ]
    },
    {
     "name": "stdout",
     "output_type": "stream",
     "text": [
      "The image showcases a bipolar electrode being utilized to cauterize the tissue during a Transsphenoidal pituitary adenoma resection surgery. Additionally, a suction tube is employed to suction the blood during the same surgery.\n",
      "[['cutting forcep', 'remove', 'tissue']]\n"
     ]
    },
    {
     "name": "stderr",
     "output_type": "stream",
     "text": [
      " 79%|███████▉  | 637/802 [25:35<06:48,  2.47s/it]"
     ]
    },
    {
     "name": "stdout",
     "output_type": "stream",
     "text": [
      "The image portrays a transsphenoidal pituitary adenoma resection surgery where a cutting forcep is being used to remove tissue.\n",
      "[['navigation probe', 'sense', 'tissue']]\n"
     ]
    },
    {
     "name": "stderr",
     "output_type": "stream",
     "text": [
      " 80%|███████▉  | 638/802 [25:36<05:58,  2.19s/it]"
     ]
    },
    {
     "name": "stdout",
     "output_type": "stream",
     "text": [
      "A navigation probe is being used to sense the tissue during a Transsphenoidal pituitary adenoma resection surgery.\n",
      "[['suction tube', 'suction', 'blood'], ['navigation probe', 'sense', 'tissue']]\n"
     ]
    },
    {
     "name": "stderr",
     "output_type": "stream",
     "text": [
      " 80%|███████▉  | 639/802 [25:39<06:04,  2.23s/it]"
     ]
    },
    {
     "name": "stdout",
     "output_type": "stream",
     "text": [
      "The image showcases a suction tube being used to suction blood during a Transsphenoidal pituitary adenoma resection surgery. Additionally, a navigation probe is being utilized to sense tissue in the surgical area.\n",
      "[['monopolar electrode', 'manipulate', 'tissue'], ['navigation probe', 'sense', 'tissue']]\n"
     ]
    },
    {
     "name": "stderr",
     "output_type": "stream",
     "text": [
      " 80%|███████▉  | 640/802 [25:41<05:50,  2.17s/it]"
     ]
    },
    {
     "name": "stdout",
     "output_type": "stream",
     "text": [
      "The image reveals a monopolar electrode manipulating tissue in a transsphenoidal pituitary adenoma resection surgery. In addition, a navigation probe is detected being used to sense the tissue.\n",
      "[['monopolar electrode', 'manipulate', 'tissue'], ['scalpel', 'cut', 'tumor']]\n"
     ]
    },
    {
     "name": "stderr",
     "output_type": "stream",
     "text": [
      " 80%|███████▉  | 641/802 [25:44<06:16,  2.34s/it]"
     ]
    },
    {
     "name": "stdout",
     "output_type": "stream",
     "text": [
      "A monopolar electrode is used to manipulate the tissue, while a scalpel is employed to cut the tumor in Transsphenoidal pituitary adenoma resection surgery.\n",
      "[['suction tube', 'suction', 'blood'], ['cutting forcep', 'remove', 'bone']]\n"
     ]
    },
    {
     "name": "stderr",
     "output_type": "stream",
     "text": [
      " 80%|████████  | 642/802 [25:47<06:56,  2.60s/it]"
     ]
    },
    {
     "name": "stdout",
     "output_type": "stream",
     "text": [
      "The image showcases a suction tube being utilized to suction blood during a Transsphenoidal pituitary adenoma resection procedure. Additionally, a cutting forcep is visible in the image, being used to remove pieces of bone.\n",
      "[['rongeur', 'remove', 'bone'], ['suction tube', 'suction', 'blood'], ['rongeur', 'remove', 'bone']]\n"
     ]
    },
    {
     "name": "stderr",
     "output_type": "stream",
     "text": [
      " 80%|████████  | 643/802 [25:50<07:42,  2.91s/it]"
     ]
    },
    {
     "name": "stdout",
     "output_type": "stream",
     "text": [
      "The image depicts a rongeur being used to extract bone during a Transsphenoidal pituitary adenoma resection surgery. Next, a suction tube is shown, being utilized to aspirate blood. Finally, a rongeur is portrayed once more, continuing the removal of bone.\n",
      "[['rongeur', 'remove', 'bone'], ['suction tube', 'suction', 'blood'], ['rongeur', 'remove', 'bone']]\n"
     ]
    },
    {
     "name": "stderr",
     "output_type": "stream",
     "text": [
      " 80%|████████  | 644/802 [25:53<07:41,  2.92s/it]"
     ]
    },
    {
     "name": "stdout",
     "output_type": "stream",
     "text": [
      "The image shows a rongeur being used to remove bone during a Transsphenoidal pituitary adenoma resection surgery. Additionally, a suction tube can be seen suctioning blood. Lastly, the image again depicts the use of the rongeur, continuing to remove bone.\n",
      "[['suction tube', 'suction', 'blood'], ['navigation probe', 'sense', 'tissue']]\n"
     ]
    },
    {
     "name": "stderr",
     "output_type": "stream",
     "text": [
      " 80%|████████  | 645/802 [25:57<08:25,  3.22s/it]"
     ]
    },
    {
     "name": "stdout",
     "output_type": "stream",
     "text": [
      "The image portrays the use of a suction tube, engaged in the suction of blood, during a Transsphenoidal pituitary adenoma resection surgery. Furthermore, a navigation probe is depicted, which is utilized to sense tissue in the procedure.\n",
      "[['navigation probe', 'sense', 'tissue']]\n"
     ]
    },
    {
     "name": "stderr",
     "output_type": "stream",
     "text": [
      " 81%|████████  | 646/802 [25:59<07:00,  2.69s/it]"
     ]
    },
    {
     "name": "stdout",
     "output_type": "stream",
     "text": [
      "A navigation probe is being utilized to sense the tissue during a transsphenoidal pituitary adenoma resection surgery.\n",
      "[['suction tube', 'manipulate', 'tissue'], ['bipolar electrode', 'cauterize', 'tissue']]\n"
     ]
    },
    {
     "name": "stderr",
     "output_type": "stream",
     "text": [
      " 81%|████████  | 647/802 [26:01<06:18,  2.44s/it]"
     ]
    },
    {
     "name": "stdout",
     "output_type": "stream",
     "text": [
      "The image portrays the usage of a suction tube to manipulate the tissue during a Transsphenoidal pituitary adenoma resection surgery. It also shows a bipolar electrode being used to cauterize the tissue in the procedures.\n",
      "[['freer', 'manipulate', 'tissue'], ['cup forcep', 'manipulate', 'tissue']]\n"
     ]
    },
    {
     "name": "stderr",
     "output_type": "stream",
     "text": [
      " 81%|████████  | 648/802 [26:05<07:25,  2.89s/it]"
     ]
    },
    {
     "name": "stdout",
     "output_type": "stream",
     "text": [
      "In the image, a freer is being used to manipulate the tissue during a Transsphenoidal pituitary adenoma resection surgery. Additionally, a cup forcep is also being utilized to manipulate the tissue in the same procedure.\n",
      "[['injector', 'inject', 'glue']]\n"
     ]
    },
    {
     "name": "stderr",
     "output_type": "stream",
     "text": [
      " 81%|████████  | 649/802 [26:06<06:13,  2.44s/it]"
     ]
    },
    {
     "name": "stdout",
     "output_type": "stream",
     "text": [
      "The image depicts the use of an injector to inject glue during the Transsphenoidal pituitary adenoma resection surgery.\n",
      "[['monopolar electrode', 'cauterize', 'tissue']]\n"
     ]
    },
    {
     "name": "stderr",
     "output_type": "stream",
     "text": [
      " 81%|████████  | 650/802 [26:08<05:51,  2.31s/it]"
     ]
    },
    {
     "name": "stdout",
     "output_type": "stream",
     "text": [
      "The image shows a monopolar electrode being used to cauterize tissue during a transsphenoidal pituitary adenoma resection surgery.\n",
      "[['ultrasound probe', 'sense', 'vessel']]\n"
     ]
    },
    {
     "name": "stderr",
     "output_type": "stream",
     "text": [
      " 81%|████████  | 651/802 [26:09<05:08,  2.04s/it]"
     ]
    },
    {
     "name": "stdout",
     "output_type": "stream",
     "text": [
      "The ultrasound probe is being used to sense a vessel during a Transsphenoidal pituitary adenoma resection surgery.\n",
      "[['navigation probe', 'sense', 'tissue']]\n"
     ]
    },
    {
     "name": "stderr",
     "output_type": "stream",
     "text": [
      " 81%|████████▏ | 652/802 [26:11<04:57,  1.98s/it]"
     ]
    },
    {
     "name": "stdout",
     "output_type": "stream",
     "text": [
      "The image showcases a navigation probe being used to sense the tissue during a Transsphenoidal pituitary adenoma resection surgery.\n",
      "[['monopolar electrode', 'suction', 'blood'], ['rongeur', 'remove', 'bone']]\n"
     ]
    },
    {
     "name": "stderr",
     "output_type": "stream",
     "text": [
      " 81%|████████▏ | 653/802 [26:15<06:12,  2.50s/it]"
     ]
    },
    {
     "name": "stdout",
     "output_type": "stream",
     "text": [
      "The image shows a monopolar electrode being employed to suction blood during the surgery. Additionally, a rongeur is also depicted, being used to remove bone in the transsphenoidal pituitary adenoma resection procedure.\n",
      "[['bipolar electrode', 'cauterize', 'tissue'], ['suction tube', 'suction', 'blood']]\n"
     ]
    },
    {
     "name": "stderr",
     "output_type": "stream",
     "text": [
      " 82%|████████▏ | 654/802 [26:17<05:58,  2.42s/it]"
     ]
    },
    {
     "name": "stdout",
     "output_type": "stream",
     "text": [
      "An image depicts a bipolar electrode cauterizing tissue during a Transsphenoidal pituitary adenoma resection surgery. Additionally, a suction tube is used to suction blood in the same procedure.\n",
      "[['cutting forcep', 'remove', 'bone'], ['monopolar electrode', 'suction', 'blood']]\n"
     ]
    },
    {
     "name": "stderr",
     "output_type": "stream",
     "text": [
      " 82%|████████▏ | 655/802 [26:19<05:47,  2.36s/it]"
     ]
    },
    {
     "name": "stdout",
     "output_type": "stream",
     "text": [
      "An image illustrates a cutting forcep being utilized to remove a bone during a transsphenoidal pituitary adenoma resection surgery. Additionally, a monopolar electrode is in use to suction away blood.\n",
      "[['suction tube', 'manipulate', 'tissue'], ['driller', 'drill', 'bone'], ['suction tube', 'suction', 'blood']]\n"
     ]
    },
    {
     "name": "stderr",
     "output_type": "stream",
     "text": [
      " 82%|████████▏ | 656/802 [26:22<06:10,  2.54s/it]"
     ]
    },
    {
     "name": "stdout",
     "output_type": "stream",
     "text": [
      "The image depicts the manipulation of tissue with a suction tube during a Transsphenoidal pituitary adenoma resection surgery. Additionally, it contains a driller being used to bore into bone. Finally, a suction tube is observed to be removing blood from the operation area.\n",
      "[['suction tube', 'cauterize', 'blood'], ['rongeur', 'manipulate', 'tissue']]\n"
     ]
    },
    {
     "name": "stderr",
     "output_type": "stream",
     "text": [
      " 82%|████████▏ | 657/802 [26:26<06:57,  2.88s/it]"
     ]
    },
    {
     "name": "stdout",
     "output_type": "stream",
     "text": [
      "The image illustrates a suction tube being used to cauterize blood during a Transsphenoidal pituitary adenoma resection surgery. Additionally, a rongeur is depicted manipulating tissue in the same surgical setting.\n",
      "[['navigation probe', 'sense', 'tissue']]\n"
     ]
    },
    {
     "name": "stderr",
     "output_type": "stream",
     "text": [
      " 82%|████████▏ | 658/802 [26:29<07:08,  2.98s/it]"
     ]
    },
    {
     "name": "stdout",
     "output_type": "stream",
     "text": [
      "The navigation probe is sensing the tissue during the Transsphenoidal pituitary adenoma resection surgery.\n",
      "[['suction tube', 'suction', 'blood'], ['rongeur', 'remove', 'bone']]\n"
     ]
    },
    {
     "name": "stderr",
     "output_type": "stream",
     "text": [
      " 82%|████████▏ | 659/802 [26:31<06:20,  2.66s/it]"
     ]
    },
    {
     "name": "stdout",
     "output_type": "stream",
     "text": [
      "<class 'KeyError'> 'content'\n",
      "None\n",
      "[['navigation probe', 'sense', 'tissue']]\n"
     ]
    },
    {
     "name": "stderr",
     "output_type": "stream",
     "text": [
      " 82%|████████▏ | 660/802 [26:34<06:11,  2.62s/it]"
     ]
    },
    {
     "name": "stdout",
     "output_type": "stream",
     "text": [
      "The image displays a navigation probe, being utilized to sense the tissue during a Transsphenoidal pituitary adenoma resection surgery.\n",
      "[['scalpel', 'cut', 'tumor']]\n"
     ]
    },
    {
     "name": "stderr",
     "output_type": "stream",
     "text": [
      " 82%|████████▏ | 661/802 [26:35<05:32,  2.35s/it]"
     ]
    },
    {
     "name": "stdout",
     "output_type": "stream",
     "text": [
      "The scalpel is being used to cut the tumor in a transsphenoidal pituitary adenoma resection surgery.\n",
      "[['monopolar electrode', 'cauterize', 'tissue']]\n"
     ]
    },
    {
     "name": "stderr",
     "output_type": "stream",
     "text": [
      " 83%|████████▎ | 662/802 [26:37<05:09,  2.21s/it]"
     ]
    },
    {
     "name": "stdout",
     "output_type": "stream",
     "text": [
      "The image displays the use of a monopolar electrode to cauterize tissue during a transsphenoidal pituitary adenoma resection surgery.\n",
      "[['ultrasound probe', 'sense', 'vessel']]\n"
     ]
    },
    {
     "name": "stderr",
     "output_type": "stream",
     "text": [
      " 83%|████████▎ | 663/802 [26:39<04:47,  2.07s/it]"
     ]
    },
    {
     "name": "stdout",
     "output_type": "stream",
     "text": [
      "An ultrasound probe is being used to sense a vessel in a Transsphenoidal pituitary adenoma resection surgery.\n",
      "[['driller', 'drill', 'bone'], ['driller', 'suction', 'blood'], ['ultrasound probe', 'sense', 'vessel']]\n"
     ]
    },
    {
     "name": "stderr",
     "output_type": "stream",
     "text": [
      " 83%|████████▎ | 664/802 [26:41<04:50,  2.10s/it]"
     ]
    },
    {
     "name": "stdout",
     "output_type": "stream",
     "text": [
      "The image portrays a driller being used to drill into bone during a Transsphenoidal pituitary adenoma resection surgery. Following this, the driller is also being employed to suction blood. Lastly, an ultrasound probe is used to sense the vessel.\n",
      "[['suction tube', 'suction', 'blood'], ['ultrasound probe', 'sense', 'vessel']]\n"
     ]
    },
    {
     "name": "stderr",
     "output_type": "stream",
     "text": [
      " 83%|████████▎ | 665/802 [26:43<04:21,  1.91s/it]"
     ]
    },
    {
     "name": "stdout",
     "output_type": "stream",
     "text": [
      "A suction tube is being used to suction blood during the Transsphenoidal pituitary adenoma resection surgery. An ultrasound probe is also utilised to sense the blood vessels.\n",
      "[['suction tube', 'manipulate', 'tissue'], ['driller', 'drill', 'bone']]\n"
     ]
    },
    {
     "name": "stderr",
     "output_type": "stream",
     "text": [
      " 83%|████████▎ | 666/802 [26:47<06:03,  2.67s/it]"
     ]
    },
    {
     "name": "stdout",
     "output_type": "stream",
     "text": [
      "The image showcases a suction tube being used to manipulate the tissue during the operation. Additionally, a driller is being employed to drill through the bone.\n",
      "[['cutting forcep', 'remove', 'bone'], ['freer', 'manipulate', 'tissue']]\n"
     ]
    },
    {
     "name": "stderr",
     "output_type": "stream",
     "text": [
      " 83%|████████▎ | 667/802 [26:52<07:19,  3.26s/it]"
     ]
    },
    {
     "name": "stdout",
     "output_type": "stream",
     "text": [
      "The image depicts a Transsphenoidal pituitary adenoma resection surgery where a cutting forcep is being used to remove a bone. In addition to this, a tool known as a freer is employed to manipulate the surrounding tissue.\n",
      "[['injector', 'inject', 'glue']]\n"
     ]
    },
    {
     "name": "stderr",
     "output_type": "stream",
     "text": [
      " 83%|████████▎ | 668/802 [26:53<06:01,  2.70s/it]"
     ]
    },
    {
     "name": "stdout",
     "output_type": "stream",
     "text": [
      "An injector is being used to inject glue during a Transsphenoidal pituitary adenoma resection surgery.\n",
      "[['rongeur', 'remove', 'bone'], ['suction tube', 'suction', 'blood']]\n"
     ]
    },
    {
     "name": "stderr",
     "output_type": "stream",
     "text": [
      " 83%|████████▎ | 669/802 [26:54<05:01,  2.27s/it]"
     ]
    },
    {
     "name": "stdout",
     "output_type": "stream",
     "text": [
      "<class 'KeyError'> 'content'\n",
      "None\n",
      "[['suction tube', 'manipulate', 'tissue'], ['rongeur', 'manipulate', 'tissue']]\n"
     ]
    },
    {
     "name": "stderr",
     "output_type": "stream",
     "text": [
      " 84%|████████▎ | 670/802 [26:58<06:09,  2.80s/it]"
     ]
    },
    {
     "name": "stdout",
     "output_type": "stream",
     "text": [
      "The image portrays a suction tube being employed to manipulate tissue during a Transsphenoidal pituitary adenoma resection. Furthermore, it shows a rongeur also being used to manipulate tissue in the surgery.\n",
      "[['scissor', 'cut', 'tissue']]\n"
     ]
    },
    {
     "name": "stderr",
     "output_type": "stream",
     "text": [
      " 84%|████████▎ | 671/802 [27:01<05:52,  2.69s/it]"
     ]
    },
    {
     "name": "stdout",
     "output_type": "stream",
     "text": [
      "The image depicts a scissor being used to cut tissue during a Transsphenoidal pituitary adenoma resection surgery.\n",
      "[['cup forcep', 'manipulate', 'packing material']]\n"
     ]
    },
    {
     "name": "stderr",
     "output_type": "stream",
     "text": [
      " 84%|████████▍ | 672/802 [27:02<05:01,  2.32s/it]"
     ]
    },
    {
     "name": "stdout",
     "output_type": "stream",
     "text": [
      "The cup forcep is being utilized to manipulate the packing material during a Transsphenoidal pituitary adenoma resection surgery.\n",
      "[['navigation probe', 'sense', 'tissue']]\n"
     ]
    },
    {
     "name": "stderr",
     "output_type": "stream",
     "text": [
      " 84%|████████▍ | 673/802 [27:03<04:11,  1.95s/it]"
     ]
    },
    {
     "name": "stdout",
     "output_type": "stream",
     "text": [
      "The navigation probe is being utilized to sense the tissue during a Transsphenoidal pituitary adenoma resection surgery.\n",
      "[['scalpel', 'cut', 'tumor']]\n"
     ]
    },
    {
     "name": "stderr",
     "output_type": "stream",
     "text": [
      " 84%|████████▍ | 674/802 [27:05<04:05,  1.91s/it]"
     ]
    },
    {
     "name": "stdout",
     "output_type": "stream",
     "text": [
      "The image depicts a scalpel being used to cut a tumor during a Transsphenoidal pituitary adenoma resection surgery.\n",
      "[['navigation probe', 'sense', 'tissue'], ['suction tube', 'suction', 'blood']]\n"
     ]
    },
    {
     "name": "stderr",
     "output_type": "stream",
     "text": [
      " 84%|████████▍ | 675/802 [27:08<04:37,  2.18s/it]"
     ]
    },
    {
     "name": "stdout",
     "output_type": "stream",
     "text": [
      "The image depicts a navigation probe being utilized to sense tissue during a Transsphenoidal pituitary adenoma resection surgery. In another part of the image, a suction tube can be seen suctioning blood during the procedure.\n",
      "[['cutting forcep', 'remove', 'bone']]\n"
     ]
    },
    {
     "name": "stderr",
     "output_type": "stream",
     "text": [
      " 84%|████████▍ | 676/802 [27:10<04:18,  2.05s/it]"
     ]
    },
    {
     "name": "stdout",
     "output_type": "stream",
     "text": [
      "The image displays a cutting forcep being utilized to remove a bone during a Transsphenoidal pituitary adenoma resection surgery.\n",
      "[['suction tube', 'suction', 'blood'], ['rongeur', 'remove', 'bone']]\n"
     ]
    },
    {
     "name": "stderr",
     "output_type": "stream",
     "text": [
      " 84%|████████▍ | 677/802 [27:12<04:26,  2.13s/it]"
     ]
    },
    {
     "name": "stdout",
     "output_type": "stream",
     "text": [
      "The image depicts the use of a suction tube generating suction to remove blood during a transsphenoidal pituitary adenoma resection surgery. Additionally, a rongeur is being utilized to excise bone in the operative process.\n",
      "[['navigation probe', 'sense', 'tissue']]\n"
     ]
    },
    {
     "name": "stderr",
     "output_type": "stream",
     "text": [
      " 85%|████████▍ | 678/802 [27:13<03:57,  1.91s/it]"
     ]
    },
    {
     "name": "stdout",
     "output_type": "stream",
     "text": [
      "The image shows a navigation probe sensing tissue during a transsphenoidal pituitary adenoma resection surgery.\n",
      "[['scalpel', 'cut', 'tissue'], ['curette', 'scoop', 'tumor']]\n"
     ]
    },
    {
     "name": "stderr",
     "output_type": "stream",
     "text": [
      " 85%|████████▍ | 679/802 [27:17<05:10,  2.52s/it]"
     ]
    },
    {
     "name": "stdout",
     "output_type": "stream",
     "text": [
      "The image showcases a scalpel making an incision in the tissue during a transsphenoidal pituitary adenoma resection surgery. In addition, the picture also demonstrates a curette scooping out the tumor.\n",
      "[['curette', 'remove', 'bone'], ['suction tube', 'suction', 'blood']]\n"
     ]
    },
    {
     "name": "stderr",
     "output_type": "stream",
     "text": [
      " 85%|████████▍ | 680/802 [27:22<06:10,  3.04s/it]"
     ]
    },
    {
     "name": "stdout",
     "output_type": "stream",
     "text": [
      "In the image, a curette is being utilized to remove a portion of the bone during a Transsphenoidal pituitary adenoma resection surgery. Alongside this, a suction tube is employed to suction the blood in the operative field.\n",
      "[['suction tube', 'suction', 'blood'], ['navigation probe', 'sense', 'tissue']]\n"
     ]
    },
    {
     "name": "stderr",
     "output_type": "stream",
     "text": [
      " 85%|████████▍ | 681/802 [27:23<05:17,  2.63s/it]"
     ]
    },
    {
     "name": "stdout",
     "output_type": "stream",
     "text": [
      "The image depicts a suction tube being used to suction blood in a Transsphenoidal pituitary adenoma resection surgery. In addition, a navigation probe is shown sensing tissue during the procedure.\n",
      "[['suction tube', 'suction', 'blood'], ['bipolar electrode', 'cauterize', 'tissue']]\n"
     ]
    },
    {
     "name": "stderr",
     "output_type": "stream",
     "text": [
      " 85%|████████▌ | 682/802 [27:25<04:35,  2.30s/it]"
     ]
    },
    {
     "name": "stdout",
     "output_type": "stream",
     "text": [
      "The image exhibits a suction tube performing suction on blood, and a bipolar electrode simultaneously applying cauterization on the involved tissue.\n",
      "[['scissor', 'cut', 'tissue']]\n"
     ]
    },
    {
     "name": "stderr",
     "output_type": "stream",
     "text": [
      " 85%|████████▌ | 683/802 [27:27<04:23,  2.21s/it]"
     ]
    },
    {
     "name": "stdout",
     "output_type": "stream",
     "text": [
      "The image showcases a scissor being used to cut tissue during a Transsphenoidal pituitary adenoma resection surgery.\n",
      "[['suction tube', 'suction', 'blood'], ['navigation probe', 'sense', 'tissue']]\n"
     ]
    },
    {
     "name": "stderr",
     "output_type": "stream",
     "text": [
      " 85%|████████▌ | 684/802 [27:29<04:08,  2.10s/it]"
     ]
    },
    {
     "name": "stdout",
     "output_type": "stream",
     "text": [
      "The image shows a suction tube being used to suction blood during a Transsphenoidal pituitary adenoma resection surgery. In addition, a navigation probe is featured, sensing tissue during the operation.\n",
      "[['monopolar electrode', 'manipulate', 'tissue'], ['curette', 'scoop', 'tumor']]\n"
     ]
    },
    {
     "name": "stderr",
     "output_type": "stream",
     "text": [
      " 85%|████████▌ | 685/802 [27:31<04:17,  2.20s/it]"
     ]
    },
    {
     "name": "stdout",
     "output_type": "stream",
     "text": [
      "The image displays a monopolar electrode being used to manipulate the tissue, and a curette being employed to scoop out the tumor during the Transsphenoidal pituitary adenoma resection surgery.\n",
      "[['suction tube', 'suction', 'tumor'], ['curette', 'scoop', 'tumor']]\n"
     ]
    },
    {
     "name": "stderr",
     "output_type": "stream",
     "text": [
      " 86%|████████▌ | 686/802 [27:33<03:56,  2.04s/it]"
     ]
    },
    {
     "name": "stdout",
     "output_type": "stream",
     "text": [
      "A suction tube is being employed to suction a tumor in a transsphenoidal pituitary adenoma resection surgery image. Additionally, a curette is utilized to scoop out the tumor.\n",
      "[['navigation probe', 'sense', 'tissue'], ['suction tube', 'suction', 'blood']]\n"
     ]
    },
    {
     "name": "stderr",
     "output_type": "stream",
     "text": [
      " 86%|████████▌ | 687/802 [27:36<04:24,  2.30s/it]"
     ]
    },
    {
     "name": "stdout",
     "output_type": "stream",
     "text": [
      "The image shows a navigation probe being used to sense the tissue during a Transsphenoidal pituitary adenoma resection surgery. In another part of the image, a suction tube is visible, performing the task of suctioning blood in the surgical area.\n",
      "[['rongeur', 'remove', 'bone'], ['suction tube', 'suction', 'blood']]\n"
     ]
    },
    {
     "name": "stderr",
     "output_type": "stream",
     "text": [
      " 86%|████████▌ | 688/802 [27:41<06:00,  3.16s/it]"
     ]
    },
    {
     "name": "stdout",
     "output_type": "stream",
     "text": [
      "The image shows a rongeur being utilized to remove a bone in a Transsphenoidal pituitary adenoma resection surgery. In addition, a suction tube is seen in the process of suctioning blood.\n",
      "[['ultrasound probe', 'sense', 'vessel']]\n"
     ]
    },
    {
     "name": "stderr",
     "output_type": "stream",
     "text": [
      " 86%|████████▌ | 689/802 [27:42<05:00,  2.66s/it]"
     ]
    },
    {
     "name": "stdout",
     "output_type": "stream",
     "text": [
      "An ultrasound probe is employed to sense a vessel during a Transsphenoidal pituitary adenoma resection surgery.\n",
      "[['scissor', 'cut', 'tissue']]\n"
     ]
    },
    {
     "name": "stderr",
     "output_type": "stream",
     "text": [
      " 86%|████████▌ | 690/802 [27:44<04:06,  2.20s/it]"
     ]
    },
    {
     "name": "stdout",
     "output_type": "stream",
     "text": [
      "The image shows a scissor cutting through tissue during a Transsphenoidal pituitary adenoma resection surgery.\n",
      "[['bipolar electrode', 'manipulate', 'tissue']]\n"
     ]
    },
    {
     "name": "stderr",
     "output_type": "stream",
     "text": [
      " 86%|████████▌ | 691/802 [27:46<04:07,  2.23s/it]"
     ]
    },
    {
     "name": "stdout",
     "output_type": "stream",
     "text": [
      "The bipolar electrode is manipulating the tissue during a Transsphenoidal pituitary adenoma resection surgery.\n",
      "[['rongeur', 'remove', 'tissue'], ['suction tube', 'suction', 'blood']]\n"
     ]
    },
    {
     "name": "stderr",
     "output_type": "stream",
     "text": [
      " 86%|████████▋ | 692/802 [27:48<04:08,  2.26s/it]"
     ]
    },
    {
     "name": "stdout",
     "output_type": "stream",
     "text": [
      "The image showcases a rongeur being utilized to remove tissue during a Transsphenoidal pituitary adenoma resection surgery. In another part of the operation, a suction tube is seen suctioning blood.\n",
      "[['scalpel', 'cut', 'tissue']]\n"
     ]
    },
    {
     "name": "stderr",
     "output_type": "stream",
     "text": [
      " 86%|████████▋ | 693/802 [27:50<03:40,  2.02s/it]"
     ]
    },
    {
     "name": "stdout",
     "output_type": "stream",
     "text": [
      "The image depicts a scalpel cutting through tissue during a Transsphenoidal pituitary adenoma resection surgery.\n",
      "[['navigation probe', 'sense', 'tissue']]\n"
     ]
    },
    {
     "name": "stderr",
     "output_type": "stream",
     "text": [
      " 87%|████████▋ | 694/802 [27:53<04:11,  2.33s/it]"
     ]
    },
    {
     "name": "stdout",
     "output_type": "stream",
     "text": [
      "The navigation probe is sensing the tissue during the Transsphenoidal pituitary adenoma resection surgery.\n",
      "[['injector', 'inject', 'glue']]\n"
     ]
    },
    {
     "name": "stderr",
     "output_type": "stream",
     "text": [
      " 87%|████████▋ | 695/802 [27:54<03:47,  2.13s/it]"
     ]
    },
    {
     "name": "stdout",
     "output_type": "stream",
     "text": [
      "The image shows the usage of an injector to inject glue during the Transsphenoidal pituitary adenoma resection surgery.\n",
      "[['monopolar electrode', 'manipulate', 'tissue'], ['monopolar electrode', 'suction', 'blood']]\n"
     ]
    },
    {
     "name": "stderr",
     "output_type": "stream",
     "text": [
      " 87%|████████▋ | 696/802 [27:57<03:57,  2.24s/it]"
     ]
    },
    {
     "name": "stdout",
     "output_type": "stream",
     "text": [
      "The image shows a monopolar electrode being used to manipulate the tissue during a Transsphenoidal pituitary adenoma resection surgery. Additionally, the same tool is employed to suction blood during the operation.\n",
      "[['suction tube', 'suction', 'blood'], ['rongeur', 'remove', 'bone']]\n"
     ]
    },
    {
     "name": "stderr",
     "output_type": "stream",
     "text": [
      " 87%|████████▋ | 697/802 [28:00<04:08,  2.37s/it]"
     ]
    },
    {
     "name": "stdout",
     "output_type": "stream",
     "text": [
      "The image depicts a suction tube being used to suction out blood during a Transsphenoidal pituitary adenoma resection surgery. Additionally, a rongeur is being used to remove a part of the bone in the same procedure.\n",
      "[['suction tube', 'suction', 'blood'], ['cutting forcep', 'remove', 'bone']]\n"
     ]
    },
    {
     "name": "stderr",
     "output_type": "stream",
     "text": [
      " 87%|████████▋ | 698/802 [28:02<04:02,  2.33s/it]"
     ]
    },
    {
     "name": "stdout",
     "output_type": "stream",
     "text": [
      "The image showcases a suction tube siphoning off the blood during a Transsphenoidal pituitary adenoma resection surgery. It also presents a cutting forcep being used to remove bone.\n",
      "[['suction tube', 'suction', 'blood'], ['navigation probe', 'sense', 'tissue']]\n"
     ]
    },
    {
     "name": "stderr",
     "output_type": "stream",
     "text": [
      " 87%|████████▋ | 699/802 [28:05<04:32,  2.65s/it]"
     ]
    },
    {
     "name": "stdout",
     "output_type": "stream",
     "text": [
      "An image depicts a suction tube performing the task of suctioning blood during a Transsphenoidal pituitary adenoma resection surgery. Additionally, a navigation probe is being utilized to sense the tissue in the procedure.\n",
      "[['suction tube', 'suction', 'tumor'], ['bipolar electrode', 'cauterize', 'tissue']]\n"
     ]
    },
    {
     "name": "stderr",
     "output_type": "stream",
     "text": [
      " 87%|████████▋ | 700/802 [28:06<03:49,  2.25s/it]"
     ]
    },
    {
     "name": "stdout",
     "output_type": "stream",
     "text": [
      "The image portrays a suction tube actively suctioning a tumor. Additionally, a bipolar electrode is seen cauterizing the tissue.\n",
      "[['monopolar electrode', 'cauterize', 'tissue']]\n"
     ]
    },
    {
     "name": "stderr",
     "output_type": "stream",
     "text": [
      " 87%|████████▋ | 701/802 [28:09<03:44,  2.22s/it]"
     ]
    },
    {
     "name": "stdout",
     "output_type": "stream",
     "text": [
      "The image shows a monopolar electrode being used to cauterize tissue in a Transsphenoidal pituitary adenoma resection surgery.\n",
      "[['suction tube', 'manipulate', 'tissue'], ['bipolar electrode', 'cauterize', 'tissue']]\n"
     ]
    },
    {
     "name": "stderr",
     "output_type": "stream",
     "text": [
      " 88%|████████▊ | 702/802 [28:10<03:28,  2.09s/it]"
     ]
    },
    {
     "name": "stdout",
     "output_type": "stream",
     "text": [
      "The image depicts the utilization of a suction tube to manipulate the tissue. It also shows the usage of a bipolar electrode to cauterize the tissue.\n",
      "[['injector', 'inject', 'glue']]\n"
     ]
    },
    {
     "name": "stderr",
     "output_type": "stream",
     "text": [
      " 88%|████████▊ | 703/802 [28:12<03:16,  1.99s/it]"
     ]
    },
    {
     "name": "stdout",
     "output_type": "stream",
     "text": [
      "The image shows an injector being used to inject glue during a Transsphenoidal pituitary adenoma resection surgery.\n",
      "[['curette', 'scoop', 'tumor'], ['suction tube', 'suction', 'tumor'], ['scissor', 'cut', 'tumor']]\n"
     ]
    },
    {
     "name": "stderr",
     "output_type": "stream",
     "text": [
      " 88%|████████▊ | 704/802 [28:18<05:16,  3.23s/it]"
     ]
    },
    {
     "name": "stdout",
     "output_type": "stream",
     "text": [
      "The image shows the usage of a curette to scoop out the tumor during a transsphenoidal pituitary adenoma resection surgery. Following that, a suction tube is depicted as it removes further parts of the tumor. Lastly, a scissor is seen cutting through the tumor as part of the procedure.\n",
      "[['scissor', 'cut', 'tissue'], ['suction tube', 'suction', 'blood']]\n"
     ]
    },
    {
     "name": "stderr",
     "output_type": "stream",
     "text": [
      " 88%|████████▊ | 705/802 [28:21<05:05,  3.15s/it]"
     ]
    },
    {
     "name": "stdout",
     "output_type": "stream",
     "text": [
      "The image displays the application of a scissor employing a cut on the tissue during a Transsphenoidal pituitary adenoma resection surgery. Furthermore, a suction tube is observed in action, drawing out blood from the surgical area.\n",
      "[['suction tube', 'manipulate', 'tissue'], ['monopolar electrode', 'cauterize', 'tissue']]\n"
     ]
    },
    {
     "name": "stderr",
     "output_type": "stream",
     "text": [
      " 88%|████████▊ | 706/802 [28:25<05:09,  3.22s/it]"
     ]
    },
    {
     "name": "stdout",
     "output_type": "stream",
     "text": [
      "The image showcases a suction tube being used to manipulate the tissue during a Transsphenoidal pituitary adenoma resection surgery. Alongside this, a monopolar electrode is also seen being employed to cauterize the tissue.\n",
      "[['curette', 'scoop', 'tumor'], ['suction tube', 'suction', 'tumor'], ['scissor', 'cut', 'tumor']]\n"
     ]
    },
    {
     "name": "stderr",
     "output_type": "stream",
     "text": [
      " 88%|████████▊ | 707/802 [28:29<05:43,  3.62s/it]"
     ]
    },
    {
     "name": "stdout",
     "output_type": "stream",
     "text": [
      "The image depicts the use of a curette to scoop out the tumor during a transsphenoidal pituitary adenoma resection surgery. In addition, a suction tube is being employed to suction out the tumor. Furthermore, a pair of scissors is being utilized to cut through the tumor.\n",
      "[['injector', 'inject', 'glue']]\n"
     ]
    },
    {
     "name": "stderr",
     "output_type": "stream",
     "text": [
      " 88%|████████▊ | 708/802 [28:30<04:35,  2.93s/it]"
     ]
    },
    {
     "name": "stdout",
     "output_type": "stream",
     "text": [
      "An injector is used to inject glue during a Transsphenoidal pituitary adenoma resection surgery.\n",
      "[['suction tube', 'suction', 'blood'], ['scalpel', 'cut', 'tumor'], ['suction tube', 'suction', 'blood']]\n"
     ]
    },
    {
     "name": "stderr",
     "output_type": "stream",
     "text": [
      " 88%|████████▊ | 709/802 [28:34<04:53,  3.16s/it]"
     ]
    },
    {
     "name": "stdout",
     "output_type": "stream",
     "text": [
      "The image illustrates a surgical procedure involving a suction tube being used to extract blood, followed by a scalpel cutting into a tumor, then again the suction tube removes the resultant blood.\n",
      "[['rongeur', 'remove', 'bone'], ['suction tube', 'suction', 'blood']]\n"
     ]
    },
    {
     "name": "stderr",
     "output_type": "stream",
     "text": [
      " 89%|████████▊ | 710/802 [28:36<04:26,  2.89s/it]"
     ]
    },
    {
     "name": "stdout",
     "output_type": "stream",
     "text": [
      "The image reveals the use of a rongeur to remove a bone during a Transsphenoidal pituitary adenoma resection surgery. It also portrays a suction tube being utilized to suction blood during the procedure.\n",
      "[['suction tube', 'manipulate', 'tissue'], ['cup forcep', 'remove', 'tumor'], ['scissor', 'idle', 'idle']]\n"
     ]
    },
    {
     "name": "stderr",
     "output_type": "stream",
     "text": [
      " 89%|████████▊ | 711/802 [28:40<04:40,  3.08s/it]"
     ]
    },
    {
     "name": "stdout",
     "output_type": "stream",
     "text": [
      "The image depicts the use of a suction tube to manipulate tissue during a Transsphenoidal pituitary adenoma resection surgery. Furthermore, a cup forcep is employed to remove the tumour. The scissor, however, is idle in the scene.\n",
      "[['navigation probe', 'sense', 'tissue'], ['suction tube', 'suction', 'blood']]\n"
     ]
    },
    {
     "name": "stderr",
     "output_type": "stream",
     "text": [
      " 89%|████████▉ | 712/802 [28:43<04:33,  3.04s/it]"
     ]
    },
    {
     "name": "stdout",
     "output_type": "stream",
     "text": [
      "The image shows a navigation probe being used to sense the tissue in a transsphenoidal pituitary adenoma resection surgery. In the same surgery room, a suction tube is also being used to suction the blood.\n",
      "[['cutting forcep', 'remove', 'bone']]\n"
     ]
    },
    {
     "name": "stderr",
     "output_type": "stream",
     "text": [
      " 89%|████████▉ | 713/802 [28:44<03:45,  2.54s/it]"
     ]
    },
    {
     "name": "stdout",
     "output_type": "stream",
     "text": [
      "The image shows a cutting forcep being used to remove bone during a Transsphenoidal pituitary adenoma resection surgery.\n",
      "[['rongeur', 'remove', 'bone'], ['suction tube', 'suction', 'blood']]\n"
     ]
    },
    {
     "name": "stderr",
     "output_type": "stream",
     "text": [
      " 89%|████████▉ | 714/802 [28:47<03:42,  2.53s/it]"
     ]
    },
    {
     "name": "stdout",
     "output_type": "stream",
     "text": [
      "The image illustrates the use of a rongeur to extract bone and a suction tube being utilized to elicit blood during a Transsphenoidal pituitary adenoma resection surgery.\n",
      "[['suction tube', 'manipulate', 'tissue'], ['monopolar electrode', 'idle', 'tissue']]\n"
     ]
    },
    {
     "name": "stderr",
     "output_type": "stream",
     "text": [
      " 89%|████████▉ | 715/802 [28:51<04:29,  3.10s/it]"
     ]
    },
    {
     "name": "stdout",
     "output_type": "stream",
     "text": [
      "The image showcases a suction tube being used to manipulate the tissue during a Transsphenoidal pituitary adenoma resection surgery. Additionally, a monopolar electrode is seen in the image, but it is idle and not currently interacting with the tissue.\n",
      "[['ultrasound probe', 'sense', 'vessel']]\n"
     ]
    },
    {
     "name": "stderr",
     "output_type": "stream",
     "text": [
      " 89%|████████▉ | 716/802 [28:53<03:46,  2.64s/it]"
     ]
    },
    {
     "name": "stdout",
     "output_type": "stream",
     "text": [
      "The ultrasound probe is being used to sense a vessel during a Transsphenoidal pituitary adenoma resection surgery.\n",
      "[['suction tube', 'manipulate', 'tissue'], ['bipolar electrode', 'cauterize', 'tissue']]\n"
     ]
    },
    {
     "name": "stderr",
     "output_type": "stream",
     "text": [
      " 89%|████████▉ | 717/802 [28:55<03:28,  2.46s/it]"
     ]
    },
    {
     "name": "stdout",
     "output_type": "stream",
     "text": [
      "The image showcases the strategic manipulation of tissue using a suction tube in a transsphenoidal pituitary adenoma resection surgery. Additionally, a bipolar electrode is also portrayed in the image, being used to cauterize the tissue during the procedure.\n",
      "[['suction tube', 'suction', 'blood'], ['navigation probe', 'sense', 'tissue']]\n"
     ]
    },
    {
     "name": "stderr",
     "output_type": "stream",
     "text": [
      " 90%|████████▉ | 718/802 [28:57<03:20,  2.38s/it]"
     ]
    },
    {
     "name": "stdout",
     "output_type": "stream",
     "text": [
      "An image depicting a Transsphenoidal pituitary adenoma resection surgery shows a suction tube being used to suction blood. Additionally, a navigation probe is utilized to sense the tissue.\n",
      "[['suction tube', 'suction', 'blood'], ['driller', 'drill', 'bone'], ['suction tube', 'manipulate', 'tissue']]\n"
     ]
    },
    {
     "name": "stderr",
     "output_type": "stream",
     "text": [
      " 90%|████████▉ | 719/802 [28:59<03:00,  2.17s/it]"
     ]
    },
    {
     "name": "stdout",
     "output_type": "stream",
     "text": [
      "<class 'KeyError'> 'content'\n",
      "None\n",
      "[['suction tube', 'suction', 'blood'], ['cutting forcep', 'cut', 'bone']]\n"
     ]
    },
    {
     "name": "stderr",
     "output_type": "stream",
     "text": [
      " 90%|████████▉ | 720/802 [29:01<02:56,  2.15s/it]"
     ]
    },
    {
     "name": "stdout",
     "output_type": "stream",
     "text": [
      "The image depicts a transsphenoidal pituitary adenoma resection surgery in progress, where a suction tube is being used to suction blood, and a cutting forcep is seen cutting a piece of bone.\n",
      "[['monopolar electrode', 'cauterize', 'tissue']]\n"
     ]
    },
    {
     "name": "stderr",
     "output_type": "stream",
     "text": [
      " 90%|████████▉ | 721/802 [29:02<02:39,  1.97s/it]"
     ]
    },
    {
     "name": "stdout",
     "output_type": "stream",
     "text": [
      "The image shows a monopolar electrode being used to cauterize tissue during a Transsphenoidal pituitary adenoma resection surgery.\n",
      "[['suction tube', 'suction', 'blood'], ['navigation probe', 'sense', 'tissue']]\n"
     ]
    },
    {
     "name": "stderr",
     "output_type": "stream",
     "text": [
      " 90%|█████████ | 722/802 [29:04<02:31,  1.89s/it]"
     ]
    },
    {
     "name": "stdout",
     "output_type": "stream",
     "text": [
      "The image showcases a suction tube being utilized to suction blood and a navigation probe working to sense the tissue during a Transsphenoidal pituitary adenoma resection surgery.\n",
      "[['scalpel', 'cut', 'tumor']]\n"
     ]
    },
    {
     "name": "stderr",
     "output_type": "stream",
     "text": [
      " 90%|█████████ | 723/802 [29:06<02:41,  2.04s/it]"
     ]
    },
    {
     "name": "stdout",
     "output_type": "stream",
     "text": [
      "The image depicts a scalpel being utilized to cut a tumor during a Transsphenoidal pituitary adenoma resection surgery.\n",
      "[['scalpel', 'cut', 'tumor']]\n"
     ]
    },
    {
     "name": "stderr",
     "output_type": "stream",
     "text": [
      " 90%|█████████ | 724/802 [29:09<02:59,  2.30s/it]"
     ]
    },
    {
     "name": "stdout",
     "output_type": "stream",
     "text": [
      "The image depicts a scalpel being used to cut a tumor during a Transsphenoidal pituitary adenoma resection surgery.\n",
      "[['freer', 'manipulate', 'tissue'], ['cup forcep', 'manipulate', 'tissue']]\n"
     ]
    },
    {
     "name": "stderr",
     "output_type": "stream",
     "text": [
      " 90%|█████████ | 725/802 [29:13<03:34,  2.79s/it]"
     ]
    },
    {
     "name": "stdout",
     "output_type": "stream",
     "text": [
      "The image depicts the use of a freer to manipulate tissue during a Transsphenoidal pituitary adenoma resection surgery. Additionally, a cup forcep is also seen being used to manipulate the tissue as part of the surgical procedure.\n",
      "[['rongeur', 'remove', 'bone']]\n"
     ]
    },
    {
     "name": "stderr",
     "output_type": "stream",
     "text": [
      " 91%|█████████ | 726/802 [29:17<03:53,  3.07s/it]"
     ]
    },
    {
     "name": "stdout",
     "output_type": "stream",
     "text": [
      "The image depicts the usage of a rongeur to remove bone during a Transsphenoidal pituitary adenoma resection surgery.\n",
      "[['ultrasound probe', 'sense', 'vessel']]\n"
     ]
    },
    {
     "name": "stderr",
     "output_type": "stream",
     "text": [
      " 91%|█████████ | 727/802 [29:19<03:23,  2.72s/it]"
     ]
    },
    {
     "name": "stdout",
     "output_type": "stream",
     "text": [
      "An ultrasound probe is being used to sense a vessel during a Transsphenoidal pituitary adenoma resection surgery.\n",
      "[['navigation probe', 'sense', 'tissue'], ['suction tube', 'suction', 'blood']]\n"
     ]
    },
    {
     "name": "stderr",
     "output_type": "stream",
     "text": [
      " 91%|█████████ | 728/802 [29:22<03:33,  2.88s/it]"
     ]
    },
    {
     "name": "stdout",
     "output_type": "stream",
     "text": [
      "An image showcasing a navigation probe being used to sense the tissue during a Transsphenoidal pituitary adenoma resection surgery. Additionally, a suction tube can be seen suctioning blood in the surgery area.\n",
      "[['navigation probe', 'sense', 'tissue'], ['suction tube', 'suction', 'blood']]\n"
     ]
    },
    {
     "name": "stderr",
     "output_type": "stream",
     "text": [
      " 91%|█████████ | 729/802 [29:25<03:20,  2.75s/it]"
     ]
    },
    {
     "name": "stdout",
     "output_type": "stream",
     "text": [
      "The image showcases a navigation probe sensing the tissue in the process of Transsphenoidal pituitary adenoma resection surgery. In the same scenario, a suction tube is being utilized to suction blood.\n",
      "[['suction tube', 'suction', 'blood'], ['navigation probe', 'sense', 'tissue']]\n"
     ]
    },
    {
     "name": "stderr",
     "output_type": "stream",
     "text": [
      " 91%|█████████ | 730/802 [29:27<03:11,  2.66s/it]"
     ]
    },
    {
     "name": "stdout",
     "output_type": "stream",
     "text": [
      "The image showcases a suction tube being utilized to suction blood during a Transsphenoidal pituitary adenoma resection surgery. In the same scene, a navigation probe is used to sense the tissue.\n",
      "[['suction tube', 'manipulate', 'tissue'], ['driller', 'drill', 'bone'], ['suction tube', 'suction', 'blood']]\n"
     ]
    },
    {
     "name": "stderr",
     "output_type": "stream",
     "text": [
      " 91%|█████████ | 731/802 [29:31<03:39,  3.09s/it]"
     ]
    },
    {
     "name": "stdout",
     "output_type": "stream",
     "text": [
      "The image depicts a suction tube being used to manipulate the tissue during a Transsphenoidal pituitary adenoma resection surgery. Additionally, a driller is represented in action, drilling through bone. Finally, the suction tube is shown again, this time being utilized for the purpose of suctioning blood.\n",
      "[['ultrasound probe', 'sense', 'vessel']]\n"
     ]
    },
    {
     "name": "stderr",
     "output_type": "stream",
     "text": [
      " 91%|█████████▏| 732/802 [29:33<03:01,  2.59s/it]"
     ]
    },
    {
     "name": "stdout",
     "output_type": "stream",
     "text": [
      "An ultrasound probe is used to sense a vessel in the Transsphenoidal pituitary adenoma resection surgery.\n",
      "[['driller', 'drill', 'bone'], ['driller', 'suction', 'blood']]\n"
     ]
    },
    {
     "name": "stderr",
     "output_type": "stream",
     "text": [
      " 91%|█████████▏| 733/802 [29:36<03:12,  2.79s/it]"
     ]
    },
    {
     "name": "stdout",
     "output_type": "stream",
     "text": [
      "The image depicts the usage of a driller to drill into the bone during a Transsphenoidal pituitary adenoma resection surgery. The same driller is also being utilized to suction out blood.\n",
      "[['navigation probe', 'sense', 'tissue'], ['suction tube', 'suction', 'blood']]\n"
     ]
    },
    {
     "name": "stderr",
     "output_type": "stream",
     "text": [
      " 92%|█████████▏| 734/802 [29:38<02:57,  2.61s/it]"
     ]
    },
    {
     "name": "stdout",
     "output_type": "stream",
     "text": [
      "A navigation probe is being used to sense the tissue during the Transsphenoidal pituitary adenoma resection surgery. In the same procedure, a suction tube is utilized to suction the blood.\n",
      "[['suction tube', 'suction', 'tumor'], ['bipolar electrode', 'cauterize', 'tissue']]\n"
     ]
    },
    {
     "name": "stderr",
     "output_type": "stream",
     "text": [
      " 92%|█████████▏| 735/802 [29:40<02:34,  2.31s/it]"
     ]
    },
    {
     "name": "stdout",
     "output_type": "stream",
     "text": [
      "A suction tube is being used to suction a tumor. Furthermore, a bipolar electrode is utilized to cauterize the tissue.\n",
      "[['ultrasound probe', 'sense', 'vessel'], ['monopolar electrode', 'suction', 'blood']]\n"
     ]
    },
    {
     "name": "stderr",
     "output_type": "stream",
     "text": [
      " 92%|█████████▏| 736/802 [29:43<02:58,  2.71s/it]"
     ]
    },
    {
     "name": "stdout",
     "output_type": "stream",
     "text": [
      "The image portrays an ultrasound probe being utilized to detect a vessel during a Transsphenoidal pituitary adenoma resection surgery. Meanwhile, a monopolar electrode is being employed to suction the blood.\n",
      "[['suction tube', 'suction', 'tumor'], ['curette', 'scoop', 'tumor']]\n"
     ]
    },
    {
     "name": "stderr",
     "output_type": "stream",
     "text": [
      " 92%|█████████▏| 737/802 [29:45<02:37,  2.43s/it]"
     ]
    },
    {
     "name": "stdout",
     "output_type": "stream",
     "text": [
      "The image displays a suction tube performing suction on a tumor, alongside a curette scooping the same tumor during a Transsphenoidal pituitary adenoma resection surgery.\n",
      "[['suction tube', 'suction', 'blood'], ['rongeur', 'remove', 'bone']]\n"
     ]
    },
    {
     "name": "stderr",
     "output_type": "stream",
     "text": [
      " 92%|█████████▏| 738/802 [29:48<02:47,  2.61s/it]"
     ]
    },
    {
     "name": "stdout",
     "output_type": "stream",
     "text": [
      "An image showcases a suction tube performing suction to clear out blood while a rongeur is used to remove bone, both during a Transsphenoidal pituitary adenoma resection surgery.\n",
      "[['monopolar electrode', 'suction', 'blood'], ['rongeur', 'remove', 'bone']]\n"
     ]
    },
    {
     "name": "stderr",
     "output_type": "stream",
     "text": [
      " 92%|█████████▏| 739/802 [29:50<02:35,  2.46s/it]"
     ]
    },
    {
     "name": "stdout",
     "output_type": "stream",
     "text": [
      "The image portrays a monopolar electrode suctioning blood, and a rongeur being used to remove bone during a Transsphenoidal pituitary adenoma resection surgery.\n",
      "[['rongeur', 'remove', 'bone'], ['suction tube', 'suction', 'blood']]\n"
     ]
    },
    {
     "name": "stderr",
     "output_type": "stream",
     "text": [
      " 92%|█████████▏| 740/802 [29:53<02:37,  2.55s/it]"
     ]
    },
    {
     "name": "stdout",
     "output_type": "stream",
     "text": [
      "The image illustrates a rongeur being used to remove bone during a Transsphenoidal pituitary adenoma resection surgery. In addition, a suction tube can be seen, being employed to suction blood during the procedure.\n",
      "[['navigation probe', 'sense', 'tissue']]\n"
     ]
    },
    {
     "name": "stderr",
     "output_type": "stream",
     "text": [
      " 92%|█████████▏| 741/802 [29:55<02:24,  2.38s/it]"
     ]
    },
    {
     "name": "stdout",
     "output_type": "stream",
     "text": [
      "A navigation probe is being used to sense the tissue in a transsphenoidal pituitary adenoma resection surgery.\n",
      "[['suction tube', 'suction', 'blood'], ['cup forcep', 'manipulate', 'tissue'], ['suction tube', 'manipulate', 'tissue']]\n"
     ]
    },
    {
     "name": "stderr",
     "output_type": "stream",
     "text": [
      " 93%|█████████▎| 742/802 [29:58<02:42,  2.70s/it]"
     ]
    },
    {
     "name": "stdout",
     "output_type": "stream",
     "text": [
      "The image depicts a Transsphenoidal pituitary adenoma resection surgery, where a suction tube is employed to suction out the blood. Next, a cup forcep is visible, being used to manipulate the tissue in the surgical site. Lastly, the suction tube appears to be used again, this time to subtly alter the tissue.\n",
      "[['suction tube', 'suction', 'blood'], ['navigation probe', 'sense', 'tissue']]\n"
     ]
    },
    {
     "name": "stderr",
     "output_type": "stream",
     "text": [
      " 93%|█████████▎| 743/802 [30:02<02:54,  2.96s/it]"
     ]
    },
    {
     "name": "stdout",
     "output_type": "stream",
     "text": [
      "The image portrays the usage of a suction tube to remove blood during a transsphenoidal pituitary adenoma resection surgery. Furthermore, it illustrates a navigation probe being utilized to sense the surrounding tissue.\n",
      "[['ultrasound probe', 'sense', 'vessel']]\n"
     ]
    },
    {
     "name": "stderr",
     "output_type": "stream",
     "text": [
      " 93%|█████████▎| 744/802 [30:04<02:27,  2.54s/it]"
     ]
    },
    {
     "name": "stdout",
     "output_type": "stream",
     "text": [
      "The ultrasound probe is sensing a vessel during a Transsphenoidal pituitary adenoma resection surgery.\n",
      "[['suction tube', 'suction', 'blood'], ['injector', 'inject', 'glue']]\n"
     ]
    },
    {
     "name": "stderr",
     "output_type": "stream",
     "text": [
      " 93%|█████████▎| 745/802 [30:06<02:18,  2.42s/it]"
     ]
    },
    {
     "name": "stdout",
     "output_type": "stream",
     "text": [
      "The image shows a suction tube performing the action of suctioning blood during a Transsphenoidal pituitary adenoma resection surgery. Additionally, an injector is seen injecting glue.\n",
      "[['rongeur', 'remove', 'bone']]\n"
     ]
    },
    {
     "name": "stderr",
     "output_type": "stream",
     "text": [
      " 93%|█████████▎| 746/802 [30:08<02:19,  2.49s/it]"
     ]
    },
    {
     "name": "stdout",
     "output_type": "stream",
     "text": [
      "A rongeur is being utilized to extract bone during a transsphenoidal pituitary adenoma resection surgery.\n",
      "[['navigation probe', 'sense', 'tissue'], ['suction tube', 'suction', 'blood']]\n"
     ]
    },
    {
     "name": "stderr",
     "output_type": "stream",
     "text": [
      " 93%|█████████▎| 747/802 [30:11<02:20,  2.56s/it]"
     ]
    },
    {
     "name": "stdout",
     "output_type": "stream",
     "text": [
      "A navigation probe is used to sense the tissue in a Transsphenoidal pituitary adenoma resection, while a suction tube is utilized to suction the blood during the operation.\n",
      "[['suction tube', 'suction', 'blood'], ['cutting forcep', 'remove', 'bone']]\n"
     ]
    },
    {
     "name": "stderr",
     "output_type": "stream",
     "text": [
      " 93%|█████████▎| 748/802 [30:14<02:17,  2.54s/it]"
     ]
    },
    {
     "name": "stdout",
     "output_type": "stream",
     "text": [
      "The image shows a suction tube being used to suction blood in a Transsphenoidal pituitary adenoma resection surgery. Also shown is a cutting forcep which is utilised to remove segments of bone during the same operation.\n",
      "[['ultrasound probe', 'sense', 'vessel']]\n"
     ]
    },
    {
     "name": "stderr",
     "output_type": "stream",
     "text": [
      " 93%|█████████▎| 749/802 [30:15<01:56,  2.20s/it]"
     ]
    },
    {
     "name": "stdout",
     "output_type": "stream",
     "text": [
      "The ultrasound probe is sensing a vessel during a Transsphenoidal pituitary adenoma resection surgery.\n",
      "[['navigation probe', 'sense', 'tissue']]\n"
     ]
    },
    {
     "name": "stderr",
     "output_type": "stream",
     "text": [
      " 94%|█████████▎| 750/802 [30:17<01:53,  2.18s/it]"
     ]
    },
    {
     "name": "stdout",
     "output_type": "stream",
     "text": [
      "The image shows a navigation probe being used to sense tissue during a Transsphenoidal pituitary adenoma resection surgery.\n",
      "[['cutting forcep', 'remove', 'bone']]\n"
     ]
    },
    {
     "name": "stderr",
     "output_type": "stream",
     "text": [
      " 94%|█████████▎| 751/802 [30:19<01:49,  2.14s/it]"
     ]
    },
    {
     "name": "stdout",
     "output_type": "stream",
     "text": [
      "The image portrays the use of a cutting forcep, which is employed during a Transsphenoidal pituitary adenoma resection surgery to remove the bone.\n",
      "[['scalpel', 'cut', 'tissue']]\n"
     ]
    },
    {
     "name": "stderr",
     "output_type": "stream",
     "text": [
      " 94%|█████████▍| 752/802 [30:21<01:39,  1.98s/it]"
     ]
    },
    {
     "name": "stdout",
     "output_type": "stream",
     "text": [
      "The scalpel is being used to cut the tissue in a Transsphenoidal pituitary adenoma resection surgery.\n",
      "[['ultrasound probe', 'sense', 'vessel']]\n"
     ]
    },
    {
     "name": "stderr",
     "output_type": "stream",
     "text": [
      " 94%|█████████▍| 753/802 [30:24<01:50,  2.25s/it]"
     ]
    },
    {
     "name": "stdout",
     "output_type": "stream",
     "text": [
      "The ultrasound probe is employed to sense the vessel in a Transsphenoidal pituitary adenoma resection surgery image.\n",
      "[['suction tube', 'suction', 'blood'], ['rongeur', 'remove', 'bone'], ['suction tube', 'suction', 'blood']]\n"
     ]
    },
    {
     "name": "stderr",
     "output_type": "stream",
     "text": [
      " 94%|█████████▍| 754/802 [30:26<01:45,  2.19s/it]"
     ]
    },
    {
     "name": "stdout",
     "output_type": "stream",
     "text": [
      "The image illustrates a suction tube being used to aspirate blood, followed by the action of a rongeur removing bone, and then again the application of a suction tube to suction blood.\n",
      "[['scissor', 'cut', 'tissue']]\n"
     ]
    },
    {
     "name": "stderr",
     "output_type": "stream",
     "text": [
      " 94%|█████████▍| 755/802 [30:28<01:39,  2.12s/it]"
     ]
    },
    {
     "name": "stdout",
     "output_type": "stream",
     "text": [
      "The image depicts the use of scissors to cut tissue during a Transsphenoidal pituitary adenoma resection surgery.\n",
      "[['rongeur', 'manipulate', 'packing material'], ['suction tube', 'manipulate', 'packing material']]\n"
     ]
    },
    {
     "name": "stderr",
     "output_type": "stream",
     "text": [
      " 94%|█████████▍| 756/802 [30:30<01:42,  2.23s/it]"
     ]
    },
    {
     "name": "stdout",
     "output_type": "stream",
     "text": [
      "A rongeur is being used to manipulate the packing material in a transsphenoidal pituitary adenoma resection surgery. The same procedure is also being performed with a suction tube.\n",
      "[['scalpel', 'cut', 'tumor']]\n"
     ]
    },
    {
     "name": "stderr",
     "output_type": "stream",
     "text": [
      " 94%|█████████▍| 757/802 [30:32<01:31,  2.02s/it]"
     ]
    },
    {
     "name": "stdout",
     "output_type": "stream",
     "text": [
      "The image shows a scalpel being used to cut a tumor in a Transsphenoidal pituitary adenoma resection surgery.\n",
      "[['rongeur', 'remove', 'bone'], ['suction tube', 'suction', 'blood']]\n"
     ]
    },
    {
     "name": "stderr",
     "output_type": "stream",
     "text": [
      " 95%|█████████▍| 758/802 [30:35<01:44,  2.38s/it]"
     ]
    },
    {
     "name": "stdout",
     "output_type": "stream",
     "text": [
      "The image depicts a rongeur being used to remove bone during a Transsphenoidal pituitary adenoma resection surgery. Additionally, a suction tube is being utilized to suction blood during the operation.\n",
      "[['scissor', 'cut', 'tissue']]\n"
     ]
    },
    {
     "name": "stderr",
     "output_type": "stream",
     "text": [
      " 95%|█████████▍| 759/802 [30:39<02:06,  2.94s/it]"
     ]
    },
    {
     "name": "stdout",
     "output_type": "stream",
     "text": [
      "The image shows a scissor being used to cut the tissue during a Transsphenoidal pituitary adenoma resection surgery.\n",
      "[['suction tube', 'suction', 'tumor']]\n"
     ]
    },
    {
     "name": "stderr",
     "output_type": "stream",
     "text": [
      " 95%|█████████▍| 760/802 [30:41<01:46,  2.54s/it]"
     ]
    },
    {
     "name": "stdout",
     "output_type": "stream",
     "text": [
      "The image depicts a suction tube, which is performing the action of suctioning on a tumor during a Transsphenoidal pituitary adenoma resection surgery.\n",
      "[['suction tube', 'manipulate', 'tissue'], ['suction tube', 'suction', 'tumor']]\n"
     ]
    },
    {
     "name": "stderr",
     "output_type": "stream",
     "text": [
      " 95%|█████████▍| 761/802 [30:43<01:35,  2.33s/it]"
     ]
    },
    {
     "name": "stdout",
     "output_type": "stream",
     "text": [
      "The image portrays a suction tube being utilized to manipulate tissue during a Transsphenoidal pituitary adenoma resection surgery. In another action, the suction tube can also be seen suctioning the tumor.\n",
      "[['cup forcep', 'manipulate', 'packing material'], ['suction tube', 'suction', 'blood']]\n"
     ]
    },
    {
     "name": "stderr",
     "output_type": "stream",
     "text": [
      " 95%|█████████▌| 762/802 [30:45<01:32,  2.32s/it]"
     ]
    },
    {
     "name": "stdout",
     "output_type": "stream",
     "text": [
      "The image demonstrates a cup forcep manipulating packing material during a Transsphenoidal pituitary adenoma resection surgery. Additionally, a suction tube is seen suctioning blood during the procedure.\n",
      "[['injector', 'inject', 'glue']]\n"
     ]
    },
    {
     "name": "stderr",
     "output_type": "stream",
     "text": [
      " 95%|█████████▌| 763/802 [30:46<01:19,  2.04s/it]"
     ]
    },
    {
     "name": "stdout",
     "output_type": "stream",
     "text": [
      "The image depicts the use of an injector to inject glue during a Transsphenoidal pituitary adenoma resection surgery.\n",
      "[['ultrasound probe', 'sense', 'vessel'], ['suction tube', 'suction', 'blood']]\n"
     ]
    },
    {
     "name": "stderr",
     "output_type": "stream",
     "text": [
      " 95%|█████████▌| 764/802 [30:48<01:13,  1.92s/it]"
     ]
    },
    {
     "name": "stdout",
     "output_type": "stream",
     "text": [
      "An ultrasound probe is being used to sense a vessel, and a suction tube is employed to suction blood during a transsphenoidal pituitary adenoma resection surgery.\n",
      "[['monopolar electrode', 'manipulate', 'tissue'], ['rongeur', 'manipulate', 'tissue']]\n"
     ]
    },
    {
     "name": "stderr",
     "output_type": "stream",
     "text": [
      " 95%|█████████▌| 765/802 [30:54<01:53,  3.07s/it]"
     ]
    },
    {
     "name": "stdout",
     "output_type": "stream",
     "text": [
      "The image illustrates a transsphenoidal pituitary adenoma resection in which a monopolar electrode is being used to manipulate tissue. In another scene, the picture depicts the use of a rongeur, also engaged in the act of tissue manipulation.\n",
      "[['suction tube', 'suction', 'blood'], ['navigation probe', 'sense', 'tissue']]\n"
     ]
    },
    {
     "name": "stderr",
     "output_type": "stream",
     "text": [
      " 96%|█████████▌| 766/802 [30:55<01:34,  2.63s/it]"
     ]
    },
    {
     "name": "stdout",
     "output_type": "stream",
     "text": [
      "An image depicting a Transsphenoidal pituitary adenoma resection surgery shows a suction tube operating to remove blood, while a navigation probe is employed to sense the tissue.\n",
      "[['injector', 'inject', 'glue']]\n"
     ]
    },
    {
     "name": "stderr",
     "output_type": "stream",
     "text": [
      " 96%|█████████▌| 767/802 [30:59<01:42,  2.94s/it]"
     ]
    },
    {
     "name": "stdout",
     "output_type": "stream",
     "text": [
      "The injector is being used to inject glue during the transsphenoidal pituitary adenoma resection surgery.\n",
      "[['suction tube', 'suction', 'blood'], ['cutting forcep', 'remove', 'bone']]\n"
     ]
    },
    {
     "name": "stderr",
     "output_type": "stream",
     "text": [
      " 96%|█████████▌| 768/802 [31:02<01:39,  2.92s/it]"
     ]
    },
    {
     "name": "stdout",
     "output_type": "stream",
     "text": [
      "<class 'KeyError'> 'content'\n",
      "None\n",
      "[['bipolar electrode', 'manipulate', 'tissue']]\n"
     ]
    },
    {
     "name": "stderr",
     "output_type": "stream",
     "text": [
      " 96%|█████████▌| 769/802 [31:03<01:19,  2.41s/it]"
     ]
    },
    {
     "name": "stdout",
     "output_type": "stream",
     "text": [
      "The image depicts a bipolar electrode being used to manipulate tissue during a Transsphenoidal pituitary adenoma resection surgery.\n",
      "[['navigation probe', 'sense', 'tissue'], ['suction tube', 'suction', 'blood']]\n"
     ]
    },
    {
     "name": "stderr",
     "output_type": "stream",
     "text": [
      " 96%|█████████▌| 770/802 [31:05<01:09,  2.18s/it]"
     ]
    },
    {
     "name": "stdout",
     "output_type": "stream",
     "text": [
      "The image demonstrates a navigation probe being utilized to sense the tissue during a transsphenoidal pituitary adenoma resection surgery. In addition, a suction tube is visible, removing blood from the operational area.\n",
      "[['injector', 'inject', 'glue']]\n"
     ]
    },
    {
     "name": "stderr",
     "output_type": "stream",
     "text": [
      " 96%|█████████▌| 771/802 [31:07<01:04,  2.09s/it]"
     ]
    },
    {
     "name": "stdout",
     "output_type": "stream",
     "text": [
      "The image shows an injector being used to inject glue during a Transsphenoidal pituitary adenoma resection surgery.\n",
      "[['ultrasound probe', 'sense', 'vessel'], ['suction tube', 'suction', 'blood'], ['rongeur', 'remove', 'bone']]\n"
     ]
    },
    {
     "name": "stderr",
     "output_type": "stream",
     "text": [
      " 96%|█████████▋| 772/802 [31:10<01:15,  2.53s/it]"
     ]
    },
    {
     "name": "stdout",
     "output_type": "stream",
     "text": [
      "An ultrasound probe is sensing a vessel, a suction tube is being used to suction blood, and a rongeur is employed to remove bone during a Transsphenoidal pituitary adenoma resection surgery.\n",
      "[['suction tube', 'suction', 'blood'], ['ultrasound probe', 'sense', 'vessel']]\n"
     ]
    },
    {
     "name": "stderr",
     "output_type": "stream",
     "text": [
      " 96%|█████████▋| 773/802 [31:13<01:13,  2.52s/it]"
     ]
    },
    {
     "name": "stdout",
     "output_type": "stream",
     "text": [
      "The image shows a suction tube being used to suction blood during a Transsphenoidal pituitary adenoma resection surgery. Additionally, an ultrasound probe is being utilized to sense vessels in the same surgical scenario.\n",
      "[['scalpel', 'cut', 'tumor']]\n"
     ]
    },
    {
     "name": "stderr",
     "output_type": "stream",
     "text": [
      " 97%|█████████▋| 774/802 [31:14<01:01,  2.20s/it]"
     ]
    },
    {
     "name": "stdout",
     "output_type": "stream",
     "text": [
      "The image depicts a scalpel being used to cut a tumor during a Transsphenoidal pituitary adenoma resection surgery.\n",
      "[['monopolar electrode', 'suction', 'blood'], ['monopolar electrode', 'manipulate', 'packing material']]\n"
     ]
    },
    {
     "name": "stderr",
     "output_type": "stream",
     "text": [
      " 97%|█████████▋| 775/802 [31:16<00:55,  2.07s/it]"
     ]
    },
    {
     "name": "stdout",
     "output_type": "stream",
     "text": [
      "The image showcases a monopolar electrode being used to suction blood. Additionally, the monopolar electrode is also seen manipulating a packing material.\n",
      "[['ultrasound probe', 'sense', 'vessel']]\n"
     ]
    },
    {
     "name": "stderr",
     "output_type": "stream",
     "text": [
      " 97%|█████████▋| 776/802 [31:19<01:06,  2.56s/it]"
     ]
    },
    {
     "name": "stdout",
     "output_type": "stream",
     "text": [
      "The image depicts an ultrasound probe sensing a vessel during a Transsphenoidal pituitary adenoma resection surgery.\n",
      "[['cup forcep', 'scoop', 'tumor'], ['curette', 'scoop', 'tumor']]\n"
     ]
    },
    {
     "name": "stderr",
     "output_type": "stream",
     "text": [
      " 97%|█████████▋| 777/802 [31:22<01:04,  2.57s/it]"
     ]
    },
    {
     "name": "stdout",
     "output_type": "stream",
     "text": [
      "A cup forcep is being used to scoop out the tumor in a transsphenoidal pituitary adenoma resection surgery. Simultaneously, a curette is also employed to extract the tumor.\n",
      "[['scalpel', 'cut', 'tumor']]\n"
     ]
    },
    {
     "name": "stderr",
     "output_type": "stream",
     "text": [
      " 97%|█████████▋| 778/802 [31:24<01:00,  2.52s/it]"
     ]
    },
    {
     "name": "stdout",
     "output_type": "stream",
     "text": [
      "The image depicts a scalpel being used to cut a tumor during a Transsphenoidal pituitary adenoma resection surgery.\n",
      "[['ultrasound probe', 'sense', 'vessel']]\n"
     ]
    },
    {
     "name": "stderr",
     "output_type": "stream",
     "text": [
      " 97%|█████████▋| 779/802 [31:26<00:51,  2.24s/it]"
     ]
    },
    {
     "name": "stdout",
     "output_type": "stream",
     "text": [
      "An ultrasound probe is being used to sense a vessel during a Transsphenoidal pituitary adenoma resection surgery.\n",
      "[['monopolar electrode', 'cauterize', 'tissue'], ['suction tube', 'suction', 'blood']]\n"
     ]
    },
    {
     "name": "stderr",
     "output_type": "stream",
     "text": [
      " 97%|█████████▋| 780/802 [31:29<00:54,  2.46s/it]"
     ]
    },
    {
     "name": "stdout",
     "output_type": "stream",
     "text": [
      "The image shows a monopolar electrode being used to cauterize tissue during a transsphenoidal pituitary adenoma resection surgery. Additionally, a suction tube is also shown, being used to suction out blood in the surgical area.\n",
      "[['scalpel', 'cut', 'tumor']]\n"
     ]
    },
    {
     "name": "stderr",
     "output_type": "stream",
     "text": [
      " 97%|█████████▋| 781/802 [31:31<00:48,  2.30s/it]"
     ]
    },
    {
     "name": "stdout",
     "output_type": "stream",
     "text": [
      "The image shows a scalpel cutting a tumor during a Transsphenoidal pituitary adenoma resection surgery.\n",
      "[['suction tube', 'manipulate', 'tissue'], ['monopolar electrode', 'idle', 'tissue']]\n"
     ]
    },
    {
     "name": "stderr",
     "output_type": "stream",
     "text": [
      " 98%|█████████▊| 782/802 [31:33<00:46,  2.30s/it]"
     ]
    },
    {
     "name": "stdout",
     "output_type": "stream",
     "text": [
      "The image depicts the usage of a suction tube to manipulate tissue during Transsphenoidal pituitary adenoma resection surgery. Meanwhile, a monopolar electrode is being idle, not engaged with the tissue at the moment.\n",
      "[['cutting forcep', 'remove', 'bone'], ['rongeur', 'remove', 'bone']]\n"
     ]
    },
    {
     "name": "stderr",
     "output_type": "stream",
     "text": [
      " 98%|█████████▊| 783/802 [31:40<01:07,  3.56s/it]"
     ]
    },
    {
     "name": "stdout",
     "output_type": "stream",
     "text": [
      "The image shows a pair of cutting forceps being used to remove a bone during a Transsphenoidal pituitary adenoma resection surgery. Additionally, a rongeur is also portrayed in the process of excising another bone.\n",
      "[['suction tube', 'manipulate', 'tissue'], ['bipolar electrode', 'cauterize', 'tissue']]\n"
     ]
    },
    {
     "name": "stderr",
     "output_type": "stream",
     "text": [
      " 98%|█████████▊| 784/802 [31:43<01:02,  3.45s/it]"
     ]
    },
    {
     "name": "stdout",
     "output_type": "stream",
     "text": [
      "The image showcases a suction tube being used to manipulate tissue during a Transsphenoidal pituitary adenoma resection surgery, as well as a bipolar electrode being employed to cauterize the tissue.\n",
      "[['suction tube', 'suction', 'blood'], ['navigation probe', 'sense', 'tissue']]\n"
     ]
    },
    {
     "name": "stderr",
     "output_type": "stream",
     "text": [
      " 98%|█████████▊| 785/802 [31:47<01:00,  3.56s/it]"
     ]
    },
    {
     "name": "stdout",
     "output_type": "stream",
     "text": [
      "A suction tube is being employed to aspirate blood in the image. Additionally, a navigation probe is displayed sensing tissue during the Transsphenoidal pituitary adenoma resection surgery.\n",
      "[['curette', 'scoop', 'tumor'], ['suction tube', 'suction', 'tumor'], ['scissor', 'cut', 'tumor']]\n"
     ]
    },
    {
     "name": "stderr",
     "output_type": "stream",
     "text": [
      " 98%|█████████▊| 786/802 [31:50<00:54,  3.38s/it]"
     ]
    },
    {
     "name": "stdout",
     "output_type": "stream",
     "text": [
      "A curette is used to scoop out the tumor in a transsphenoidal pituitary adenoma resection surgery. Simultaneously, a suction tube is applied to suction the tumor. Lastly, a scissor is employed to cut the tumor.\n",
      "[['scissor', 'cut', 'tissue'], ['suction tube', 'suction', 'blood']]\n"
     ]
    },
    {
     "name": "stderr",
     "output_type": "stream",
     "text": [
      " 98%|█████████▊| 787/802 [31:53<00:51,  3.46s/it]"
     ]
    },
    {
     "name": "stdout",
     "output_type": "stream",
     "text": [
      "The image depicts the use of a scissor to cut the tissue during a Transsphenoidal pituitary adenoma resection surgery. Meanwhile, a suction tube is utilized to remove blood from the surgical area.\n",
      "[['cutting forcep', 'remove', 'tissue']]\n"
     ]
    },
    {
     "name": "stderr",
     "output_type": "stream",
     "text": [
      " 98%|█████████▊| 788/802 [31:55<00:42,  3.05s/it]"
     ]
    },
    {
     "name": "stdout",
     "output_type": "stream",
     "text": [
      "The image depicts a cutting forcep being utilized to remove tissue during a Transsphenoidal pituitary adenoma resection surgery.\n",
      "[['suction tube', 'manipulate', 'tissue'], ['monopolar electrode', 'idle', 'tissue']]\n"
     ]
    },
    {
     "name": "stderr",
     "output_type": "stream",
     "text": [
      " 98%|█████████▊| 789/802 [31:58<00:38,  2.94s/it]"
     ]
    },
    {
     "name": "stdout",
     "output_type": "stream",
     "text": [
      "An image showing a suction tube being utilized to manipulate tissue during a transsphenoidal pituitary adenoma resection surgery. Additionally, a monopolar electrode is visible in the image, but it's currently idle and not interacting with the tissue.\n",
      "[['bipolar electrode', 'cauterize', 'tissue'], ['suction tube', 'manipulate', 'tissue']]\n"
     ]
    },
    {
     "name": "stderr",
     "output_type": "stream",
     "text": [
      " 99%|█████████▊| 790/802 [32:01<00:33,  2.78s/it]"
     ]
    },
    {
     "name": "stdout",
     "output_type": "stream",
     "text": [
      "The image shows a bipolar electrode being used to cauterize the tissue during the transsphenoidal pituitary adenoma resection surgery. Furthermore, it also illustrates a suction tube manipulating the same tissue.\n",
      "[['suction tube', 'manipulate', 'tissue'], ['cup forcep', 'remove', 'tumor'], ['scissor', 'idle', 'idle']]\n"
     ]
    },
    {
     "name": "stderr",
     "output_type": "stream",
     "text": [
      " 99%|█████████▊| 791/802 [32:04<00:32,  2.95s/it]"
     ]
    },
    {
     "name": "stdout",
     "output_type": "stream",
     "text": [
      "The image depicts a suction tube being used to manipulate tissue within the patient's body. Adjacent to this, a cup forcep is evident, utilised to remove a tumor. Also, a pair of scissors can be seen in the scene, however, they remain idle and unused in the current operation.\n",
      "[['navigation probe', 'sense', 'tissue']]\n"
     ]
    },
    {
     "name": "stderr",
     "output_type": "stream",
     "text": [
      " 99%|█████████▉| 792/802 [32:06<00:25,  2.58s/it]"
     ]
    },
    {
     "name": "stdout",
     "output_type": "stream",
     "text": [
      "The image depicts the utilization of a navigation probe, being used to sense the tissue during a Transsphenoidal pituitary adenoma resection surgery.\n",
      "[['ultrasound probe', 'sense', 'vessel']]\n"
     ]
    },
    {
     "name": "stderr",
     "output_type": "stream",
     "text": [
      " 99%|█████████▉| 793/802 [32:08<00:21,  2.40s/it]"
     ]
    },
    {
     "name": "stdout",
     "output_type": "stream",
     "text": [
      "The ultrasound probe is being utilized to sense a vessel during the Transsphenoidal pituitary adenoma resection surgery.\n",
      "[['navigation probe', 'sense', 'tissue']]\n"
     ]
    },
    {
     "name": "stderr",
     "output_type": "stream",
     "text": [
      " 99%|█████████▉| 794/802 [32:09<00:16,  2.12s/it]"
     ]
    },
    {
     "name": "stdout",
     "output_type": "stream",
     "text": [
      "The navigation probe is being used to sense the tissue during a Transsphenoidal pituitary adenoma resection surgery.\n",
      "[['cutting forcep', 'remove', 'tissue']]\n"
     ]
    },
    {
     "name": "stderr",
     "output_type": "stream",
     "text": [
      " 99%|█████████▉| 795/802 [32:11<00:14,  2.01s/it]"
     ]
    },
    {
     "name": "stdout",
     "output_type": "stream",
     "text": [
      "The image depicts a cutting forcep being used to remove tissue during a Transsphenoidal pituitary adenoma resection surgery.\n",
      "[['rongeur', 'remove', 'bone'], ['suction tube', 'suction', 'blood']]\n"
     ]
    },
    {
     "name": "stderr",
     "output_type": "stream",
     "text": [
      " 99%|█████████▉| 796/802 [32:13<00:12,  2.14s/it]"
     ]
    },
    {
     "name": "stdout",
     "output_type": "stream",
     "text": [
      "The image shows a rongeur being utilized to remove bone during a Transsphenoidal pituitary adenoma resection surgery. In the same visualization, a suction tube is applied to remove blood.\n",
      "[['monopolar electrode', 'manipulate', 'tissue'], ['scalpel', 'cut', 'tumor']]\n"
     ]
    },
    {
     "name": "stderr",
     "output_type": "stream",
     "text": [
      " 99%|█████████▉| 797/802 [32:17<00:12,  2.59s/it]"
     ]
    },
    {
     "name": "stdout",
     "output_type": "stream",
     "text": [
      "A monopolar electrode is utilized to manipulate the tissue in a transsphenoidal pituitary adenoma resection surgery. Additionally, a scalpel is employed to cut the tumor.\n",
      "[['suction tube', 'manipulate', 'tissue'], ['monopolar electrode', 'cauterize', 'tissue']]\n"
     ]
    },
    {
     "name": "stderr",
     "output_type": "stream",
     "text": [
      "100%|█████████▉| 798/802 [32:19<00:09,  2.43s/it]"
     ]
    },
    {
     "name": "stdout",
     "output_type": "stream",
     "text": [
      "The image showcases a suction tube manipulating the tissue during a Transsphenoidal pituitary adenoma resection surgery. In another phase of the same procedure, a monopolar electrode is utilized to cauterize the tissue.\n",
      "[['freer', 'manipulate', 'packing material']]\n"
     ]
    },
    {
     "name": "stderr",
     "output_type": "stream",
     "text": [
      "100%|█████████▉| 799/802 [32:21<00:07,  2.39s/it]"
     ]
    },
    {
     "name": "stdout",
     "output_type": "stream",
     "text": [
      "The image shows the use of a freer to manipulate the packing material during a Transsphenoidal pituitary adenoma resection surgery.\n",
      "[['ultrasound probe', 'sense', 'vessel']]\n"
     ]
    },
    {
     "name": "stderr",
     "output_type": "stream",
     "text": [
      "100%|█████████▉| 800/802 [32:24<00:04,  2.39s/it]"
     ]
    },
    {
     "name": "stdout",
     "output_type": "stream",
     "text": [
      "The image depicts an ultrasound probe being used to sense a vessel during a Transsphenoidal pituitary adenoma resection surgery.\n",
      "[['scissor', 'cut', 'tissue'], ['suction tube', 'suction', 'blood']]\n"
     ]
    },
    {
     "name": "stderr",
     "output_type": "stream",
     "text": [
      "100%|█████████▉| 801/802 [32:26<00:02,  2.36s/it]"
     ]
    },
    {
     "name": "stdout",
     "output_type": "stream",
     "text": [
      "The image depicts a scissor being used to cut tissue during a Transsphenoidal pituitary adenoma resection surgery. Furthermore, a suction tube is seen handling the removal of blood.\n",
      "[['monopolar electrode', 'manipulate', 'tissue'], ['scalpel', 'cut', 'tumor']]\n"
     ]
    },
    {
     "name": "stderr",
     "output_type": "stream",
     "text": [
      "100%|██████████| 802/802 [32:31<00:00,  2.43s/it]"
     ]
    },
    {
     "name": "stdout",
     "output_type": "stream",
     "text": [
      "The image depicts a monopolar electrode being used to manipulate the tissue during a Transsphenoidal pituitary adenoma resection surgery. In another scene of the procedure, a scalpel can be observed making a cut into the tumor.\n"
     ]
    },
    {
     "name": "stderr",
     "output_type": "stream",
     "text": [
      "\n"
     ]
    }
   ],
   "source": [
    "answer_list = []\n",
    "img_folder = \"/home/lxj/dataset/Wales_anno_4604/train/input\"\n",
    "for img in tqdm(img_with_anno):\n",
    "    question_promt = np.random.choice(example_questions)\n",
    "    thought = np.random.choice(thought_list)\n",
    "    t_dict = {}\n",
    "    unique_id = \"_\".join(img.split(\".\")[0].split(\"_\")[:-1])\n",
    "    t_dict[\"id\"] = unique_id\n",
    "    t_dict[\"image\"] = img\n",
    "    t_dict[\"data_source\"] = \"wales\"\n",
    "    t_dict[\"unique_id\"] = unique_id\n",
    "    selected_row = dataset[dataset[\"unique_id_1\"]==unique_id]\n",
    "    caption = get_caption(selected_row)\n",
    "    print(caption)\n",
    "    t_dict[\"conversations\"] = [\n",
    "        {\n",
    "        \"from\": \"human\",\n",
    "        \"value\": \"<image>\\n{q}\".format(q=question_promt)\n",
    "      },\n",
    "      {\n",
    "        \"from\": \"gpt\",\n",
    "        \"value\": caption,\n",
    "        \"thoughts\": thought,\n",
    "        \"actions\": []\n",
    "      },\n",
    "    ]\n",
    "    answer_list.append(t_dict)\n"
   ]
  },
  {
   "cell_type": "code",
   "execution_count": null,
   "metadata": {},
   "outputs": [],
   "source": [
    "#be careful, some will return null due to network error in openai"
   ]
  },
  {
   "cell_type": "code",
   "execution_count": 78,
   "metadata": {},
   "outputs": [],
   "source": [
    "with open(\"wales_caption.json\",\"w\") as f:\n",
    "    f.write(json.dumps(answer_list,indent=2))"
   ]
  },
  {
   "cell_type": "code",
   "execution_count": null,
   "metadata": {},
   "outputs": [],
   "source": []
  },
  {
   "cell_type": "code",
   "execution_count": 92,
   "metadata": {},
   "outputs": [
    {
     "name": "stderr",
     "output_type": "stream",
     "text": [
      "  0%|          | 0/379 [00:00<?, ?it/s]"
     ]
    },
    {
     "name": "stdout",
     "output_type": "stream",
     "text": [
      "[['curette', 'scoop', 'tumor']]\n"
     ]
    },
    {
     "name": "stderr",
     "output_type": "stream",
     "text": [
      "  0%|          | 1/379 [00:01<11:49,  1.88s/it]"
     ]
    },
    {
     "name": "stdout",
     "output_type": "stream",
     "text": [
      "The curette is being used to scoop out the tumor in a Transsphenoidal pituitary adenoma resection surgery.\n",
      "[['suction tube', 'suction', 'blood'], ['rongeur', 'remove', 'bone']]\n"
     ]
    },
    {
     "name": "stderr",
     "output_type": "stream",
     "text": [
      "  1%|          | 2/379 [00:04<14:25,  2.29s/it]"
     ]
    },
    {
     "name": "stdout",
     "output_type": "stream",
     "text": [
      "The image portrays a suction tube being utilized to suction blood, and a rongeur instrument is being employed to remove bone during a Transsphenoidal pituitary adenoma resection surgery.\n",
      "[['rongeur', 'remove', 'bone'], ['suction tube', 'suction', 'blood']]\n"
     ]
    },
    {
     "name": "stderr",
     "output_type": "stream",
     "text": [
      "  1%|          | 3/379 [00:06<13:28,  2.15s/it]"
     ]
    },
    {
     "name": "stdout",
     "output_type": "stream",
     "text": [
      "The image depicts the use of a rongeur to remove bone matter during a transsphenoidal pituitary adenoma resection surgery. It also shows a suction tube being employed to suction off blood.\n",
      "[['scalpel', 'cut', 'tumor']]\n"
     ]
    },
    {
     "name": "stderr",
     "output_type": "stream",
     "text": [
      "  1%|          | 4/379 [00:07<11:39,  1.87s/it]"
     ]
    },
    {
     "name": "stdout",
     "output_type": "stream",
     "text": [
      "The scalpel is being used to cut the tumor in the Transsphenoidal pituitary adenoma resection surgery.\n",
      "[['crescent knife', 'cut', 'tissue'], ['freer', 'cut', 'tissue']]\n"
     ]
    },
    {
     "name": "stderr",
     "output_type": "stream",
     "text": [
      "  1%|▏         | 5/379 [00:09<11:48,  1.89s/it]"
     ]
    },
    {
     "name": "stdout",
     "output_type": "stream",
     "text": [
      "The image illustrates the use of a crescent knife to delicately cut through the tissue during the transsphenoidal pituitary adenoma resection surgery. It also showcases the use of a freer, which is similarly engaged in cutting tissue.\n",
      "[['suction tube', 'suction', 'tumor']]\n"
     ]
    },
    {
     "name": "stderr",
     "output_type": "stream",
     "text": [
      "  2%|▏         | 6/379 [00:12<14:15,  2.29s/it]"
     ]
    },
    {
     "name": "stdout",
     "output_type": "stream",
     "text": [
      "A suction tube is being used to suction a tumor in a Transsphenoidal pituitary adenoma resection surgery.\n",
      "[['suction tube', 'suction', 'blood'], ['cutting forcep', 'remove', 'bone']]\n"
     ]
    },
    {
     "name": "stderr",
     "output_type": "stream",
     "text": [
      "  2%|▏         | 7/379 [00:20<17:44,  2.86s/it]"
     ]
    },
    {
     "name": "stdout",
     "output_type": "stream",
     "text": [
      "The image showcases a suction tube being used to aspirate blood during a transsphenoidal pituitary adenoma resection surgery. Additionally, the image depicts a cutting forcep being utilized to remove bone.\n"
     ]
    },
    {
     "name": "stderr",
     "output_type": "stream",
     "text": [
      "\n"
     ]
    },
    {
     "ename": "ValueError",
     "evalue": "The truth value of an array with more than one element is ambiguous. Use a.any() or a.all()",
     "output_type": "error",
     "traceback": [
      "\u001b[0;31m---------------------------------------------------------------------------\u001b[0m",
      "\u001b[0;31mValueError\u001b[0m                                Traceback (most recent call last)",
      "Cell \u001b[0;32mIn[92], line 13\u001b[0m\n\u001b[1;32m     11\u001b[0m t_dict[\u001b[38;5;124m\"\u001b[39m\u001b[38;5;124munique_id\u001b[39m\u001b[38;5;124m\"\u001b[39m] \u001b[38;5;241m=\u001b[39m unique_id\n\u001b[1;32m     12\u001b[0m selected_row \u001b[38;5;241m=\u001b[39m dataset[dataset[\u001b[38;5;124m\"\u001b[39m\u001b[38;5;124munique_id_2\u001b[39m\u001b[38;5;124m\"\u001b[39m]\u001b[38;5;241m==\u001b[39munique_id]\n\u001b[0;32m---> 13\u001b[0m caption \u001b[38;5;241m=\u001b[39m \u001b[43mget_caption\u001b[49m\u001b[43m(\u001b[49m\u001b[43mselected_row\u001b[49m\u001b[43m)\u001b[49m\n\u001b[1;32m     14\u001b[0m \u001b[38;5;28mprint\u001b[39m(caption)\n\u001b[1;32m     15\u001b[0m t_dict[\u001b[38;5;124m\"\u001b[39m\u001b[38;5;124mconversations\u001b[39m\u001b[38;5;124m\"\u001b[39m] \u001b[38;5;241m=\u001b[39m [\n\u001b[1;32m     16\u001b[0m     {\n\u001b[1;32m     17\u001b[0m     \u001b[38;5;124m\"\u001b[39m\u001b[38;5;124mfrom\u001b[39m\u001b[38;5;124m\"\u001b[39m: \u001b[38;5;124m\"\u001b[39m\u001b[38;5;124mhuman\u001b[39m\u001b[38;5;124m\"\u001b[39m,\n\u001b[0;32m   (...)\u001b[0m\n\u001b[1;32m     25\u001b[0m   },\n\u001b[1;32m     26\u001b[0m ]\n",
      "Cell \u001b[0;32mIn[91], line 11\u001b[0m, in \u001b[0;36mget_caption\u001b[0;34m(row)\u001b[0m\n\u001b[1;32m      9\u001b[0m \u001b[38;5;28;01mif\u001b[39;00m \u001b[38;5;129;01mnot\u001b[39;00m (pd\u001b[38;5;241m.\u001b[39misnull(row[tool]\u001b[38;5;241m.\u001b[39mvalues))\u001b[38;5;241m.\u001b[39mall():\n\u001b[1;32m     10\u001b[0m     single_tuple\u001b[38;5;241m.\u001b[39mappend(row[tool]\u001b[38;5;241m.\u001b[39mvalues[\u001b[38;5;241m0\u001b[39m])\n\u001b[0;32m---> 11\u001b[0m \u001b[38;5;28;01mif\u001b[39;00m \u001b[38;5;129;01mnot\u001b[39;00m pd\u001b[38;5;241m.\u001b[39misnull(row[action]\u001b[38;5;241m.\u001b[39mvalues):\n\u001b[1;32m     12\u001b[0m     single_tuple\u001b[38;5;241m.\u001b[39mappend(row[action]\u001b[38;5;241m.\u001b[39mvalues[\u001b[38;5;241m0\u001b[39m])\n\u001b[1;32m     13\u001b[0m \u001b[38;5;28;01mif\u001b[39;00m \u001b[38;5;129;01mnot\u001b[39;00m pd\u001b[38;5;241m.\u001b[39misnull(row[tissue]\u001b[38;5;241m.\u001b[39mvalues):\n",
      "\u001b[0;31mValueError\u001b[0m: The truth value of an array with more than one element is ambiguous. Use a.any() or a.all()"
     ]
    }
   ],
   "source": [
    "answer_list_2 = []\n",
    "img_folder = \"/home/lxj/dataset/Wales_anno_4604/train/input\"\n",
    "for img in tqdm(img_with_anno_2):\n",
    "    question_promt = np.random.choice(example_questions)\n",
    "    thought = np.random.choice(thought_list)\n",
    "    t_dict = {}\n",
    "    unique_id = \"_\".join(img.split(\".\")[0].split(\"_\")[:-1])\n",
    "    t_dict[\"id\"] = unique_id\n",
    "    t_dict[\"image\"] = img\n",
    "    t_dict[\"data_source\"] = \"wales\"\n",
    "    t_dict[\"unique_id\"] = unique_id\n",
    "    selected_row = dataset[dataset[\"unique_id_2\"]==unique_id]\n",
    "    caption = get_caption(selected_row)\n",
    "    print(caption)\n",
    "    t_dict[\"conversations\"] = [\n",
    "        {\n",
    "        \"from\": \"human\",\n",
    "        \"value\": \"<image>\\n{q}\".format(q=question_promt)\n",
    "      },\n",
    "      {\n",
    "        \"from\": \"gpt\",\n",
    "        \"value\": caption,\n",
    "        \"thoughts\": thought,\n",
    "        \"actions\": []\n",
    "      },\n",
    "    ]\n",
    "    answer_list_2.append(t_dict)"
   ]
  },
  {
   "cell_type": "code",
   "execution_count": null,
   "metadata": {},
   "outputs": [],
   "source": [
    "with open(\"wales_caption_2.json\",\"w\") as f:\n",
    "    f.write(json.dumps(answer_list_2,indent=2))"
   ]
  },
  {
   "cell_type": "code",
   "execution_count": 98,
   "metadata": {},
   "outputs": [],
   "source": [
    "import shutil"
   ]
  },
  {
   "cell_type": "code",
   "execution_count": 100,
   "metadata": {},
   "outputs": [],
   "source": [
    "for img in img_with_anno:\n",
    "    img_path = os.path.join(img_folder,img)\n",
    "    des_path = os.path.join(\"/home/lxj/dataset/wales_caption_img\",img)\n",
    "    shutil.copyfile(img_path,des_path)"
   ]
  },
  {
   "cell_type": "code",
   "execution_count": null,
   "metadata": {},
   "outputs": [],
   "source": []
  },
  {
   "cell_type": "code",
   "execution_count": null,
   "metadata": {},
   "outputs": [],
   "source": [
    "#将掩码转换成boundingbox\n",
    "from PIL import Image\n",
    "import numpy as np\n",
    "\n",
    "def extract_bounding_boxes(mask_path, num_classes):\n",
    "    # 读取掩码图像\n",
    "    mask = Image.open(mask_path)\n",
    "    mask_array = np.array(mask)\n",
    "\n",
    "    # 确保掩码有三个颜色通道\n",
    "    if mask_array.shape[2] != 3:\n",
    "        raise ValueError(\"Mask does not have 3 color channels.\")\n",
    "\n",
    "    # 初始化每个类别的边界值\n",
    "    bounding_boxes = {cls: [np.inf, np.inf, -np.inf, -np.inf] for cls in range(num_classes)}\n",
    "\n",
    "    # 获取图像尺寸\n",
    "    height, width, _ = mask_array.shape\n",
    "\n",
    "    # 遍历每个像素\n",
    "    for y in range(height):\n",
    "        for x in range(width):\n",
    "            # 获取像素值（类别）\n",
    "            class_idx = mask_array[y, x, 0]  # 假设类别信息存储在第一个通道\n",
    "\n",
    "            # 更新类别的 bounding box\n",
    "            if class_idx in bounding_boxes:\n",
    "                xmin, ymin, xmax, ymax = bounding_boxes[class_idx]\n",
    "                xmin = min(xmin, x)\n",
    "                ymin = min(ymin, y)\n",
    "                xmax = max(xmax, x)\n",
    "                ymax = max(ymax, y)\n",
    "                bounding_boxes[class_idx] = [xmin, ymin, xmax, ymax]\n",
    "\n",
    "    # 清除无效的 bounding box（即那些没有找到像素的类别）\n",
    "    for cls, bbox in list(bounding_boxes.items()):\n",
    "        if bbox[0] == np.inf:\n",
    "            del bounding_boxes[cls]\n",
    "\n",
    "    # 返回所有有效的 bounding boxes\n",
    "    return bounding_boxes\n",
    "\n",
    "# 使用函数提取 bounding boxes\n",
    "mask_path = 'path_to_your_mask.png'\n",
    "num_classes = 3  # 根据你的分割类别数量这里可能需要更改\n",
    "bounding_boxes = extract_bounding_boxes(mask_path, num_classes)\n",
    "\n",
    "# 打印结果\n",
    "for cls, bbox in bounding_boxes.items():\n",
    "    print(f\"Class {cls}: Bounding Box: {bbox}\")"
   ]
  }
 ],
 "metadata": {
  "kernelspec": {
   "display_name": "llava_plus",
   "language": "python",
   "name": "python3"
  },
  "language_info": {
   "codemirror_mode": {
    "name": "ipython",
    "version": 3
   },
   "file_extension": ".py",
   "mimetype": "text/x-python",
   "name": "python",
   "nbconvert_exporter": "python",
   "pygments_lexer": "ipython3",
   "version": "3.10.0"
  }
 },
 "nbformat": 4,
 "nbformat_minor": 2
}
